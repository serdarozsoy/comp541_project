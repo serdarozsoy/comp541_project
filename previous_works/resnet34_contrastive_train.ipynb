{
 "cells": [
  {
   "cell_type": "code",
   "execution_count": 1,
   "metadata": {},
   "outputs": [],
   "source": [
    "#ENV[\"JULIA_CUDA_MEMORY_LIMIT\"] = 10^10 "
   ]
  },
  {
   "cell_type": "code",
   "execution_count": 2,
   "metadata": {},
   "outputs": [
    {
     "data": {
      "text/plain": [
       "ResNet34 (generic function with 1 method)"
      ]
     },
     "execution_count": 2,
     "metadata": {},
     "output_type": "execute_result"
    }
   ],
   "source": [
    "using CUDA; \n",
    "using Knet\n",
    "using MLDatasets\n",
    "using LinearAlgebra\n",
    "using PyPlot\n",
    "include(\"resnet34_new.jl\")"
   ]
  },
  {
   "cell_type": "code",
   "execution_count": 3,
   "metadata": {},
   "outputs": [
    {
     "data": {
      "text/plain": [
       "loss_contrastive (generic function with 1 method)"
      ]
     },
     "execution_count": 3,
     "metadata": {},
     "output_type": "execute_result"
    }
   ],
   "source": [
    "function loss_contrastive(model, x)\n",
    "    \n",
    "    LARGE_NUM = 1e9\n",
    "    temperature = 1.0\n",
    "    weights = 1.0\n",
    "    \n",
    "    z = model(x)\n",
    "    \n",
    "    z = transpose(z)\n",
    "    \n",
    "    _atype = KnetArray{Float32}\n",
    "    \n",
    "    norm_z = sqrt.(sum(abs2,z,dims=2))\n",
    "    \n",
    "    zx = z ./ norm_z\n",
    "\n",
    "    \n",
    "    bs = size(zx)[1]÷2\n",
    "    z1 = zx[1:bs,:]\n",
    "    z2 = zx[bs+1:bs*2,:]\n",
    "    \n",
    "    n = size(z1)[1]\n",
    "    \n",
    "    #labels = Array{Float64}(I, n, n*2)\n",
    "    #mask = Array{Float64}(I, n, n)*LARGE_NUM\n",
    "    labels = convert(_atype, Array{Float64}(I, n, n*2))\n",
    "    mask = convert(_atype, Array{Float64}(I, n, n)*LARGE_NUM)\n",
    "\n",
    "    logits_aa = z1*transpose(z1) - mask\n",
    "    logits_bb = z2*transpose(z2) - mask\n",
    "    logits_ab = z1*transpose(z2)\n",
    "    logits_ba = z2*transpose(z1)\n",
    "    \n",
    "    loss_a = sum(-labels.*logsoftmax([logits_ab logits_aa], dims=2))/n\n",
    "    loss_b = sum(-labels.*logsoftmax([logits_ba logits_bb], dims=2))/n\n",
    "    \n",
    "    loss = loss_a + loss_b\n",
    "    \n",
    "    loss\n",
    "end"
   ]
  },
  {
   "cell_type": "code",
   "execution_count": 4,
   "metadata": {},
   "outputs": [
    {
     "data": {
      "text/plain": [
       "3×6 Array{Float64,2}:\n",
       " 1.0  0.0  0.0  0.0  0.0  0.0\n",
       " 0.0  1.0  0.0  0.0  0.0  0.0\n",
       " 0.0  0.0  1.0  0.0  0.0  0.0"
      ]
     },
     "execution_count": 4,
     "metadata": {},
     "output_type": "execute_result"
    }
   ],
   "source": [
    "Array{Float64}(I, 3, 3*2)"
   ]
  },
  {
   "cell_type": "code",
   "execution_count": 5,
   "metadata": {},
   "outputs": [
    {
     "data": {
      "text/plain": [
       "load_cifar_dataset (generic function with 1 method)"
      ]
     },
     "execution_count": 5,
     "metadata": {},
     "output_type": "execute_result"
    }
   ],
   "source": [
    "function load_cifar_dataset(bsize)\n",
    "    xtrn,ytrn = CIFAR10.traindata(Float32);\n",
    "    xtrn = permutedims(xtrn, (2, 1, 3, 4));\n",
    "    xtst,ytst = CIFAR10.testdata(Float32);\n",
    "    xtst = permutedims(xtst, (2, 1, 3, 4));\n",
    "    println(\"Loaded CIFAR Data:\")\n",
    "    println.(summary.((xtrn,ytrn,xtst,ytst)))\n",
    "    dtrn = minibatch(xtrn, (ytrn .+ 1), bsize, xsize=(size(xtrn)[1], size(xtrn)[2], 3, bsize))\n",
    "    dtst = minibatch(xtst, (ytst .+ 1), bsize, xsize=(size(xtrn)[1], size(xtrn)[2], 3, bsize*4))\n",
    "    println(\"Generated minibatches\")\n",
    "    println.(summary.((dtrn, ytrn)))\n",
    "    dtrn, dtst\n",
    "end"
   ]
  },
  {
   "cell_type": "code",
   "execution_count": 6,
   "metadata": {},
   "outputs": [
    {
     "name": "stdout",
     "output_type": "stream",
     "text": [
      "Loaded CIFAR Data:\n",
      "32×32×3×50000 Array{Float32,4}\n",
      "50000-element Array{Int64,1}\n",
      "32×32×3×10000 Array{Float32,4}\n",
      "10000-element Array{Int64,1}\n",
      "Generated minibatches\n",
      "3125-element Knet.Train20.Data{Tuple{KnetArray{Float32,N} where N,Array{Int64,N} where N}}\n",
      "50000-element Array{Int64,1}\n"
     ]
    }
   ],
   "source": [
    "bsize = 16\n",
    "dtrn, dtst = load_cifar_dataset(bsize);\n",
    "#model = ResNet34(pretrained=false, in_channels=3, out_channels=10)"
   ]
  },
  {
   "cell_type": "code",
   "execution_count": 7,
   "metadata": {},
   "outputs": [
    {
     "data": {
      "text/plain": [
       "SequentialModule(Any[ConvLayer(P(KnetArray{Float32,4}(7,7,3,64)), nothing, 3, 2, identity), BNormLayer2d(Knet.Ops20.BNMoments(0.1, nothing, nothing, zeros, ones), K32(128)[1.0⋯]), var\"#9#12\"(), PoolLayer(3, 2, 1, 0), SequentialModule(Any[BasicBlock(SequentialModule(Any[ConvLayer(P(KnetArray{Float32,4}(3,3,64,64)), nothing, 1, 1, identity), BNormLayer2d(Knet.Ops20.BNMoments(0.1, nothing, nothing, zeros, ones), K32(128)[1.0⋯]), var\"#6#7\"(), ConvLayer(P(KnetArray{Float32,4}(3,3,64,64)), nothing, 1, 1, identity), BNormLayer2d(Knet.Ops20.BNMoments(0.1, nothing, nothing, zeros, ones), K32(128)[1.0⋯])]), identity), BasicBlock(SequentialModule(Any[ConvLayer(P(KnetArray{Float32,4}(3,3,64,64)), nothing, 1, 1, identity), BNormLayer2d(Knet.Ops20.BNMoments(0.1, nothing, nothing, zeros, ones), K32(128)[1.0⋯]), var\"#6#7\"(), ConvLayer(P(KnetArray{Float32,4}(3,3,64,64)), nothing, 1, 1, identity), BNormLayer2d(Knet.Ops20.BNMoments(0.1, nothing, nothing, zeros, ones), K32(128)[1.0⋯])]), identity), BasicBlock(SequentialModule(Any[ConvLayer(P(KnetArray{Float32,4}(3,3,64,64)), nothing, 1, 1, identity), BNormLayer2d(Knet.Ops20.BNMoments(0.1, nothing, nothing, zeros, ones), K32(128)[1.0⋯]), var\"#6#7\"(), ConvLayer(P(KnetArray{Float32,4}(3,3,64,64)), nothing, 1, 1, identity), BNormLayer2d(Knet.Ops20.BNMoments(0.1, nothing, nothing, zeros, ones), K32(128)[1.0⋯])]), identity)]), SequentialModule(Any[BasicBlock(SequentialModule(Any[ConvLayer(P(KnetArray{Float32,4}(3,3,64,128)), nothing, 1, 2, identity), BNormLayer2d(Knet.Ops20.BNMoments(0.1, nothing, nothing, zeros, ones), K32(256)[1.0⋯]), var\"#6#7\"(), ConvLayer(P(KnetArray{Float32,4}(3,3,128,128)), nothing, 1, 1, identity), BNormLayer2d(Knet.Ops20.BNMoments(0.1, nothing, nothing, zeros, ones), K32(256)[1.0⋯])]), SequentialModule(Any[ConvLayer(P(KnetArray{Float32,4}(1,1,64,128)), nothing, 0, 2, identity), BNormLayer2d(Knet.Ops20.BNMoments(0.1, nothing, nothing, zeros, ones), K32(256)[1.0⋯])])), BasicBlock(SequentialModule(Any[ConvLayer(P(KnetArray{Float32,4}(3,3,128,128)), nothing, 1, 1, identity), BNormLayer2d(Knet.Ops20.BNMoments(0.1, nothing, nothing, zeros, ones), K32(256)[1.0⋯]), var\"#6#7\"(), ConvLayer(P(KnetArray{Float32,4}(3,3,128,128)), nothing, 1, 1, identity), BNormLayer2d(Knet.Ops20.BNMoments(0.1, nothing, nothing, zeros, ones), K32(256)[1.0⋯])]), identity), BasicBlock(SequentialModule(Any[ConvLayer(P(KnetArray{Float32,4}(3,3,128,128)), nothing, 1, 1, identity), BNormLayer2d(Knet.Ops20.BNMoments(0.1, nothing, nothing, zeros, ones), K32(256)[1.0⋯]), var\"#6#7\"(), ConvLayer(P(KnetArray{Float32,4}(3,3,128,128)), nothing, 1, 1, identity), BNormLayer2d(Knet.Ops20.BNMoments(0.1, nothing, nothing, zeros, ones), K32(256)[1.0⋯])]), identity), BasicBlock(SequentialModule(Any[ConvLayer(P(KnetArray{Float32,4}(3,3,128,128)), nothing, 1, 1, identity), BNormLayer2d(Knet.Ops20.BNMoments(0.1, nothing, nothing, zeros, ones), K32(256)[1.0⋯]), var\"#6#7\"(), ConvLayer(P(KnetArray{Float32,4}(3,3,128,128)), nothing, 1, 1, identity), BNormLayer2d(Knet.Ops20.BNMoments(0.1, nothing, nothing, zeros, ones), K32(256)[1.0⋯])]), identity)]), SequentialModule(Any[BasicBlock(SequentialModule(Any[ConvLayer(P(KnetArray{Float32,4}(3,3,128,256)), nothing, 1, 2, identity), BNormLayer2d(Knet.Ops20.BNMoments(0.1, nothing, nothing, zeros, ones), K32(512)[1.0⋯]), var\"#6#7\"(), ConvLayer(P(KnetArray{Float32,4}(3,3,256,256)), nothing, 1, 1, identity), BNormLayer2d(Knet.Ops20.BNMoments(0.1, nothing, nothing, zeros, ones), K32(512)[1.0⋯])]), SequentialModule(Any[ConvLayer(P(KnetArray{Float32,4}(1,1,128,256)), nothing, 0, 2, identity), BNormLayer2d(Knet.Ops20.BNMoments(0.1, nothing, nothing, zeros, ones), K32(512)[1.0⋯])])), BasicBlock(SequentialModule(Any[ConvLayer(P(KnetArray{Float32,4}(3,3,256,256)), nothing, 1, 1, identity), BNormLayer2d(Knet.Ops20.BNMoments(0.1, nothing, nothing, zeros, ones), K32(512)[1.0⋯]), var\"#6#7\"(), ConvLayer(P(KnetArray{Float32,4}(3,3,256,256)), nothing, 1, 1, identity), BNormLayer2d(Knet.Ops20.BNMoments(0.1, nothing, nothing, zeros, ones), K32(512)[1.0⋯])]), identity), BasicBlock(SequentialModule(Any[ConvLayer(P(KnetArray{Float32,4}(3,3,256,256)), nothing, 1, 1, identity), BNormLayer2d(Knet.Ops20.BNMoments(0.1, nothing, nothing, zeros, ones), K32(512)[1.0⋯]), var\"#6#7\"(), ConvLayer(P(KnetArray{Float32,4}(3,3,256,256)), nothing, 1, 1, identity), BNormLayer2d(Knet.Ops20.BNMoments(0.1, nothing, nothing, zeros, ones), K32(512)[1.0⋯])]), identity), BasicBlock(SequentialModule(Any[ConvLayer(P(KnetArray{Float32,4}(3,3,256,256)), nothing, 1, 1, identity), BNormLayer2d(Knet.Ops20.BNMoments(0.1, nothing, nothing, zeros, ones), K32(512)[1.0⋯]), var\"#6#7\"(), ConvLayer(P(KnetArray{Float32,4}(3,3,256,256)), nothing, 1, 1, identity), BNormLayer2d(Knet.Ops20.BNMoments(0.1, nothing, nothing, zeros, ones), K32(512)[1.0⋯])]), identity), BasicBlock(SequentialModule(Any[ConvLayer(P(KnetArray{Float32,4}(3,3,256,256)), nothing, 1, 1, identity), BNormLayer2d(Knet.Ops20.BNMoments(0.1, nothing, nothing, zeros, ones), K32(512)[1.0⋯]), var\"#6#7\"(), ConvLayer(P(KnetArray{Float32,4}(3,3,256,256)), nothing, 1, 1, identity), BNormLayer2d(Knet.Ops20.BNMoments(0.1, nothing, nothing, zeros, ones), K32(512)[1.0⋯])]), identity), BasicBlock(SequentialModule(Any[ConvLayer(P(KnetArray{Float32,4}(3,3,256,256)), nothing, 1, 1, identity), BNormLayer2d(Knet.Ops20.BNMoments(0.1, nothing, nothing, zeros, ones), K32(512)[1.0⋯]), var\"#6#7\"(), ConvLayer(P(KnetArray{Float32,4}(3,3,256,256)), nothing, 1, 1, identity), BNormLayer2d(Knet.Ops20.BNMoments(0.1, nothing, nothing, zeros, ones), K32(512)[1.0⋯])]), identity)]), SequentialModule(Any[BasicBlock(SequentialModule(Any[ConvLayer(P(KnetArray{Float32,4}(3,3,256,512)), nothing, 1, 2, identity), BNormLayer2d(Knet.Ops20.BNMoments(0.1, nothing, nothing, zeros, ones), K32(1024)[1.0⋯]), var\"#6#7\"(), ConvLayer(P(KnetArray{Float32,4}(3,3,512,512)), nothing, 1, 1, identity), BNormLayer2d(Knet.Ops20.BNMoments(0.1, nothing, nothing, zeros, ones), K32(1024)[1.0⋯])]), SequentialModule(Any[ConvLayer(P(KnetArray{Float32,4}(1,1,256,512)), nothing, 0, 2, identity), BNormLayer2d(Knet.Ops20.BNMoments(0.1, nothing, nothing, zeros, ones), K32(1024)[1.0⋯])])), BasicBlock(SequentialModule(Any[ConvLayer(P(KnetArray{Float32,4}(3,3,512,512)), nothing, 1, 1, identity), BNormLayer2d(Knet.Ops20.BNMoments(0.1, nothing, nothing, zeros, ones), K32(1024)[1.0⋯]), var\"#6#7\"(), ConvLayer(P(KnetArray{Float32,4}(3,3,512,512)), nothing, 1, 1, identity), BNormLayer2d(Knet.Ops20.BNMoments(0.1, nothing, nothing, zeros, ones), K32(1024)[1.0⋯])]), identity), BasicBlock(SequentialModule(Any[ConvLayer(P(KnetArray{Float32,4}(3,3,512,512)), nothing, 1, 1, identity), BNormLayer2d(Knet.Ops20.BNMoments(0.1, nothing, nothing, zeros, ones), K32(1024)[1.0⋯]), var\"#6#7\"(), ConvLayer(P(KnetArray{Float32,4}(3,3,512,512)), nothing, 1, 1, identity), BNormLayer2d(Knet.Ops20.BNMoments(0.1, nothing, nothing, zeros, ones), K32(1024)[1.0⋯])]), identity)]), var\"#10#13\"(), var\"#11#14\"()])"
      ]
     },
     "execution_count": 7,
     "metadata": {},
     "output_type": "execute_result"
    }
   ],
   "source": [
    "model = ResNet34(pretrained=false, in_channels=3, out_channels=10)"
   ]
  },
  {
   "cell_type": "code",
   "execution_count": 8,
   "metadata": {},
   "outputs": [],
   "source": [
    "for p in params(model)\n",
    "    p.opt = Adam(lr=0.001)\n",
    "end"
   ]
  },
  {
   "cell_type": "code",
   "execution_count": 9,
   "metadata": {},
   "outputs": [],
   "source": [
    "epochs = 10\n",
    "train_loss = zeros(epochs);"
   ]
  },
  {
   "cell_type": "code",
   "execution_count": 10,
   "metadata": {},
   "outputs": [
    {
     "name": "stdout",
     "output_type": "stream",
     "text": [
      "Epoch 1\n",
      "Train epoch loss: 5.432197832489014\n",
      "Epoch 2\n",
      "Train epoch loss: 5.423302403259277\n",
      "Epoch 3\n",
      "Train epoch loss: 5.420123283081055\n",
      "Epoch 4\n",
      "Train epoch loss: 5.4193838665771485\n",
      "Epoch 5\n",
      "Train epoch loss: 5.418172606506348\n",
      "Epoch 6\n",
      "Train epoch loss: 5.417690656280517\n",
      "Epoch 7\n",
      "Train epoch loss: 5.417479390869141\n",
      "Epoch 8\n",
      "Train epoch loss: 5.417600724334717\n",
      "Epoch 9\n",
      "Train epoch loss: 5.4176634886169435\n",
      "Epoch 10\n",
      "Train epoch loss: 5.417056162567139\n"
     ]
    }
   ],
   "source": [
    "for i in 1:epochs\n",
    "    println(\"Epoch \", i)\n",
    "    train_loss[i] = 0.0\n",
    "    batch_count = 0\n",
    "    for (x, y) in dtrn\n",
    "        loss = @diff loss_contrastive(model, x)\n",
    "        train_loss[i] += value(loss)\n",
    "        batch_count += 1\n",
    "        for p in params(model)\n",
    "            g = grad(loss, p)\n",
    "            update!(value(p), g, p.opt)\n",
    "        end\n",
    "    end\n",
    "    train_loss[i] /= batch_count\n",
    "    println(\"Train epoch loss: \", train_loss[i])\n",
    "    #GC.gc()\n",
    "end"
   ]
  },
  {
   "cell_type": "code",
   "execution_count": 11,
   "metadata": {},
   "outputs": [],
   "source": [
    "GC.gc()"
   ]
  },
  {
   "cell_type": "code",
   "execution_count": 12,
   "metadata": {},
   "outputs": [
    {
     "name": "stdout",
     "output_type": "stream",
     "text": [
      "Effective GPU memory usage: 87.35% (13.888 GiB/15.899 GiB)\n",
      "CUDA allocator usage: 13.077 GiB\n",
      "binned usage: 13.077 GiB (431.286 MiB allocated, 12.656 GiB cached)\n"
     ]
    }
   ],
   "source": [
    "CUDA.memory_status()"
   ]
  },
  {
   "cell_type": "code",
   "execution_count": 13,
   "metadata": {},
   "outputs": [
    {
     "data": {
      "text/plain": [
       "Any[]"
      ]
     },
     "execution_count": 13,
     "metadata": {},
     "output_type": "execute_result"
    }
   ],
   "source": [
    "image = []"
   ]
  },
  {
   "cell_type": "code",
   "execution_count": 14,
   "metadata": {},
   "outputs": [],
   "source": [
    "for (x, y) in dtrn\n",
    "    image = x\n",
    "    break\n",
    "    return image\n",
    "end"
   ]
  },
  {
   "cell_type": "code",
   "execution_count": 15,
   "metadata": {},
   "outputs": [],
   "source": [
    "image1 = convert(Array, image[:,:,:,5]);"
   ]
  },
  {
   "cell_type": "code",
   "execution_count": 16,
   "metadata": {},
   "outputs": [],
   "source": [
    "#image1 = convert(Array, image[:,:,:,5]);\n",
    "#image1 = permutedims(image1, (2, 1, 3));"
   ]
  },
  {
   "cell_type": "code",
   "execution_count": 17,
   "metadata": {},
   "outputs": [
    {
     "data": {
      "image/png": "[encoded data removed]",
      "text/plain": [
       "Figure(PyObject <Figure size 100x100 with 1 Axes>)"
      ]
     },
     "metadata": {},
     "output_type": "display_data"
    },
    {
     "data": {
      "text/plain": [
       "PyObject <matplotlib.image.AxesImage object at 0x7f10d83c0c10>"
      ]
     },
     "execution_count": 17,
     "metadata": {},
     "output_type": "execute_result"
    }
   ],
   "source": [
    "plt.figure(figsize=(1,1))\n",
    "plt.imshow(image1)"
   ]
  },
  {
   "cell_type": "code",
   "execution_count": null,
   "metadata": {},
   "outputs": [],
   "source": []
  },
  {
   "cell_type": "code",
   "execution_count": null,
   "metadata": {},
   "outputs": [],
   "source": []
  }
 ],
 "metadata": {
  "kernelspec": {
   "display_name": "Julia 1.5.2",
   "language": "julia",
   "name": "julia-1.5"
  },
  "language_info": {
   "file_extension": ".jl",
   "mimetype": "application/julia",
   "name": "julia",
   "version": "1.5.2"
  }
 },
 "nbformat": 4,
 "nbformat_minor": 4
}
