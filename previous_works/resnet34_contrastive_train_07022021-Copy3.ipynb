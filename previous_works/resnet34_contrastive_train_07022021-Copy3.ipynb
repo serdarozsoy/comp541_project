{
 "cells": [
  {
   "cell_type": "code",
   "execution_count": 1,
   "metadata": {},
   "outputs": [],
   "source": [
    "#ENV[\"JULIA_CUDA_MEMORY_LIMIT\"] = 10^10"
   ]
  },
  {
   "cell_type": "code",
   "execution_count": 2,
   "metadata": {},
   "outputs": [
    {
     "data": {
      "text/plain": [
       "ResNet34 (generic function with 1 method)"
      ]
     },
     "execution_count": 2,
     "metadata": {},
     "output_type": "execute_result"
    }
   ],
   "source": [
    "using CUDA; \n",
    "using Knet\n",
    "using MLDatasets\n",
    "using LinearAlgebra\n",
    "using PyPlot\n",
    "using JLD\n",
    "include(\"resnet34_new.jl\")"
   ]
  },
  {
   "cell_type": "code",
   "execution_count": 3,
   "metadata": {},
   "outputs": [],
   "source": [
    "#X = load(\"preprocessed_train.jld\")"
   ]
  },
  {
   "cell_type": "code",
   "execution_count": 4,
   "metadata": {},
   "outputs": [],
   "source": [
    "#X = X[\"data\"]"
   ]
  },
  {
   "cell_type": "code",
   "execution_count": 5,
   "metadata": {},
   "outputs": [
    {
     "data": {
      "text/plain": [
       "loss_contrastive (generic function with 1 method)"
      ]
     },
     "execution_count": 5,
     "metadata": {},
     "output_type": "execute_result"
    }
   ],
   "source": [
    "function loss_contrastive(model, x)\n",
    "    \n",
    "    LARGE_NUM = 1e9\n",
    "    temperature = 1.0\n",
    "    weights = 1.0\n",
    "    \n",
    "    z = model(x)\n",
    "    \n",
    "    z = transpose(z)\n",
    "    \n",
    "    _atype = KnetArray{Float32}\n",
    "    \n",
    "    norm_z = sqrt.(sum(abs2,z,dims=2))\n",
    "    \n",
    "    zx = z ./ norm_z\n",
    "\n",
    "    \n",
    "    bs = size(zx)[1]÷2\n",
    "    z1 = zx[1:bs,:]\n",
    "    z2 = zx[bs+1:bs*2,:]\n",
    "    \n",
    "    n = size(z1)[1]\n",
    "    \n",
    "    labels = convert(_atype, Array{Float64}(I, n, n*2))\n",
    "    mask = convert(_atype, Array{Float64}(I, n, n)*LARGE_NUM)\n",
    "\n",
    "    logits_aa = z1*transpose(z1) - mask\n",
    "    logits_bb = z2*transpose(z2) - mask\n",
    "    logits_ab = z1*transpose(z2)\n",
    "    logits_ba = z2*transpose(z1)\n",
    "    \n",
    "    loss_a = sum(-labels.*logsoftmax([logits_ab logits_aa], dims=2))/n\n",
    "    loss_b = sum(-labels.*logsoftmax([logits_ba logits_bb], dims=2))/n\n",
    "    \n",
    "    loss = loss_a + loss_b\n",
    "    \n",
    "    loss\n",
    "end"
   ]
  },
  {
   "cell_type": "code",
   "execution_count": 6,
   "metadata": {},
   "outputs": [
    {
     "data": {
      "text/plain": [
       "loss_contrastive (generic function with 1 method)"
      ]
     },
     "execution_count": 6,
     "metadata": {},
     "output_type": "execute_result"
    }
   ],
   "source": [
    "function loss_contrastive(model, x)\n",
    "    \n",
    "    LARGE_NUM = 1e9\n",
    "    temperature = 0.5\n",
    "    weights = 1.0\n",
    "    \n",
    "    z = model(x)\n",
    "    \n",
    "    z = transpose(z)\n",
    "    \n",
    "    _atype = KnetArray{Float32}\n",
    "    \n",
    "    norm_z = sqrt.(sum(abs2,z,dims=2))\n",
    "    \n",
    "    zx = z ./ norm_z\n",
    "\n",
    "    \n",
    "    bs = size(zx)[1]÷2\n",
    "    z1 = zx[1:bs,:]\n",
    "    z2 = zx[bs+1:bs*2,:]\n",
    "    \n",
    "    n = size(z1)[1]\n",
    "    \n",
    "    labels = convert(_atype, Array{Float64}(I, n, n*2))\n",
    "    mask = convert(_atype, Array{Float64}(I, n, n)*LARGE_NUM)\n",
    "\n",
    "    logits_aa = z1*transpose(z1)/temperature - mask \n",
    "    logits_bb = z2*transpose(z2)/temperature - mask \n",
    "    logits_ab = z1*transpose(z2)/temperature\n",
    "    logits_ba = z2*transpose(z1)/temperature\n",
    "    \n",
    "    loss_a = sum(-labels.*logsoftmax([logits_ab logits_aa], dims=2))/n\n",
    "    loss_b = sum(-labels.*logsoftmax([logits_ba logits_bb], dims=2))/n\n",
    "    \n",
    "    loss = loss_a + loss_b\n",
    "    \n",
    "    loss\n",
    "end"
   ]
  },
  {
   "cell_type": "code",
   "execution_count": 7,
   "metadata": {},
   "outputs": [
    {
     "data": {
      "text/plain": [
       "3×6 Array{Float64,2}:\n",
       " 1.0  0.0  0.0  0.0  0.0  0.0\n",
       " 0.0  1.0  0.0  0.0  0.0  0.0\n",
       " 0.0  0.0  1.0  0.0  0.0  0.0"
      ]
     },
     "execution_count": 7,
     "metadata": {},
     "output_type": "execute_result"
    }
   ],
   "source": [
    "Array{Float64}(I, 3, 3*2)"
   ]
  },
  {
   "cell_type": "code",
   "execution_count": 27,
   "metadata": {},
   "outputs": [
    {
     "data": {
      "text/plain": [
       "load_cifar_dataset (generic function with 1 method)"
      ]
     },
     "execution_count": 27,
     "metadata": {},
     "output_type": "execute_result"
    }
   ],
   "source": [
    "function load_cifar_dataset(bsize)\n",
    "    xtrn,ytrn = CIFAR10.traindata(Float32);\n",
    "    #xtrn = permutedims(xtrn, (2, 1, 3, 4));\n",
    "    xtst,ytst = CIFAR10.testdata(Float32);\n",
    "    #xtst = permutedims(xtst, (2, 1, 3, 4));\n",
    "    println(\"Loaded CIFAR Data:\")\n",
    "    println.(summary.((xtrn,ytrn,xtst,ytst)))\n",
    "    dtrn = minibatch(xtrn, ytrn, bsize, xsize=(size(xtrn)[1], size(xtrn)[2], 3, bsize))\n",
    "    dtst = minibatch(xtst, ytst, bsize, xsize=(size(xtrn)[1], size(xtrn)[2], 3, bsize))\n",
    "    println(\"Generated minibatches\")\n",
    "    println.(summary.((dtrn, ytrn)))\n",
    "    dtrn, dtst\n",
    "end"
   ]
  },
  {
   "cell_type": "code",
   "execution_count": 12,
   "metadata": {},
   "outputs": [
    {
     "data": {
      "text/plain": [
       "load_preprocess_cifar_dataset (generic function with 1 method)"
      ]
     },
     "execution_count": 12,
     "metadata": {},
     "output_type": "execute_result"
    }
   ],
   "source": [
    "function load_preprocess_cifar_dataset(bsize)\n",
    "    xtrn,ytrn = CIFAR10.traindata(Float32);\n",
    "    X = load(\"preprocessed_train.jld\")\n",
    "    X = X[\"data\"]\n",
    "    #println(\"Loaded CIFAR Data:\")\n",
    "    #println.(summary.((X,ytrn)))\n",
    "    dtrn = minibatch(X, ytrn, bsize, xsize=(size(xtrn)[1], size(xtrn)[2], 6, bsize),shuffle=true )\n",
    "    #println(\"Generated minibatches\")\n",
    "    #println.(summary.((dtrn, ytrn)))\n",
    "    dtrn\n",
    "end"
   ]
  },
  {
   "cell_type": "code",
   "execution_count": null,
   "metadata": {},
   "outputs": [],
   "source": []
  },
  {
   "cell_type": "code",
   "execution_count": 13,
   "metadata": {},
   "outputs": [],
   "source": [
    "bsize = 512\n",
    "#dtrn = load_preprocess_cifar_dataset(bsize);\n",
    "#model = ResNet34(pretrained=false, in_channels=3, out_channels=10)"
   ]
  },
  {
   "cell_type": "code",
   "execution_count": 14,
   "metadata": {},
   "outputs": [
    {
     "data": {
      "text/plain": [
       "SequentialModule((SequentialModule(Any[ConvLayer(P(KnetArray{Float32,4}(7,7,3,64)), nothing, 3, 2, identity), BNormLayer2d(Knet.Ops20.BNMoments(0.1, nothing, nothing, zeros, ones), K32(128)[1.0⋯]), var\"#9#12\"(), PoolLayer(3, 2, 1, 0), SequentialModule(Any[BasicBlock(SequentialModule(Any[ConvLayer(P(KnetArray{Float32,4}(3,3,64,64)), nothing, 1, 1, identity), BNormLayer2d(Knet.Ops20.BNMoments(0.1, nothing, nothing, zeros, ones), K32(128)[1.0⋯]), var\"#6#7\"(), ConvLayer(P(KnetArray{Float32,4}(3,3,64,64)), nothing, 1, 1, identity), BNormLayer2d(Knet.Ops20.BNMoments(0.1, nothing, nothing, zeros, ones), K32(128)[1.0⋯])]), identity), BasicBlock(SequentialModule(Any[ConvLayer(P(KnetArray{Float32,4}(3,3,64,64)), nothing, 1, 1, identity), BNormLayer2d(Knet.Ops20.BNMoments(0.1, nothing, nothing, zeros, ones), K32(128)[1.0⋯]), var\"#6#7\"(), ConvLayer(P(KnetArray{Float32,4}(3,3,64,64)), nothing, 1, 1, identity), BNormLayer2d(Knet.Ops20.BNMoments(0.1, nothing, nothing, zeros, ones), K32(128)[1.0⋯])]), identity), BasicBlock(SequentialModule(Any[ConvLayer(P(KnetArray{Float32,4}(3,3,64,64)), nothing, 1, 1, identity), BNormLayer2d(Knet.Ops20.BNMoments(0.1, nothing, nothing, zeros, ones), K32(128)[1.0⋯]), var\"#6#7\"(), ConvLayer(P(KnetArray{Float32,4}(3,3,64,64)), nothing, 1, 1, identity), BNormLayer2d(Knet.Ops20.BNMoments(0.1, nothing, nothing, zeros, ones), K32(128)[1.0⋯])]), identity)]), SequentialModule(Any[BasicBlock(SequentialModule(Any[ConvLayer(P(KnetArray{Float32,4}(3,3,64,128)), nothing, 1, 2, identity), BNormLayer2d(Knet.Ops20.BNMoments(0.1, nothing, nothing, zeros, ones), K32(256)[1.0⋯]), var\"#6#7\"(), ConvLayer(P(KnetArray{Float32,4}(3,3,128,128)), nothing, 1, 1, identity), BNormLayer2d(Knet.Ops20.BNMoments(0.1, nothing, nothing, zeros, ones), K32(256)[1.0⋯])]), SequentialModule(Any[ConvLayer(P(KnetArray{Float32,4}(1,1,64,128)), nothing, 0, 2, identity), BNormLayer2d(Knet.Ops20.BNMoments(0.1, nothing, nothing, zeros, ones), K32(256)[1.0⋯])])), BasicBlock(SequentialModule(Any[ConvLayer(P(KnetArray{Float32,4}(3,3,128,128)), nothing, 1, 1, identity), BNormLayer2d(Knet.Ops20.BNMoments(0.1, nothing, nothing, zeros, ones), K32(256)[1.0⋯]), var\"#6#7\"(), ConvLayer(P(KnetArray{Float32,4}(3,3,128,128)), nothing, 1, 1, identity), BNormLayer2d(Knet.Ops20.BNMoments(0.1, nothing, nothing, zeros, ones), K32(256)[1.0⋯])]), identity), BasicBlock(SequentialModule(Any[ConvLayer(P(KnetArray{Float32,4}(3,3,128,128)), nothing, 1, 1, identity), BNormLayer2d(Knet.Ops20.BNMoments(0.1, nothing, nothing, zeros, ones), K32(256)[1.0⋯]), var\"#6#7\"(), ConvLayer(P(KnetArray{Float32,4}(3,3,128,128)), nothing, 1, 1, identity), BNormLayer2d(Knet.Ops20.BNMoments(0.1, nothing, nothing, zeros, ones), K32(256)[1.0⋯])]), identity), BasicBlock(SequentialModule(Any[ConvLayer(P(KnetArray{Float32,4}(3,3,128,128)), nothing, 1, 1, identity), BNormLayer2d(Knet.Ops20.BNMoments(0.1, nothing, nothing, zeros, ones), K32(256)[1.0⋯]), var\"#6#7\"(), ConvLayer(P(KnetArray{Float32,4}(3,3,128,128)), nothing, 1, 1, identity), BNormLayer2d(Knet.Ops20.BNMoments(0.1, nothing, nothing, zeros, ones), K32(256)[1.0⋯])]), identity)]), SequentialModule(Any[BasicBlock(SequentialModule(Any[ConvLayer(P(KnetArray{Float32,4}(3,3,128,256)), nothing, 1, 2, identity), BNormLayer2d(Knet.Ops20.BNMoments(0.1, nothing, nothing, zeros, ones), K32(512)[1.0⋯]), var\"#6#7\"(), ConvLayer(P(KnetArray{Float32,4}(3,3,256,256)), nothing, 1, 1, identity), BNormLayer2d(Knet.Ops20.BNMoments(0.1, nothing, nothing, zeros, ones), K32(512)[1.0⋯])]), SequentialModule(Any[ConvLayer(P(KnetArray{Float32,4}(1,1,128,256)), nothing, 0, 2, identity), BNormLayer2d(Knet.Ops20.BNMoments(0.1, nothing, nothing, zeros, ones), K32(512)[1.0⋯])])), BasicBlock(SequentialModule(Any[ConvLayer(P(KnetArray{Float32,4}(3,3,256,256)), nothing, 1, 1, identity), BNormLayer2d(Knet.Ops20.BNMoments(0.1, nothing, nothing, zeros, ones), K32(512)[1.0⋯]), var\"#6#7\"(), ConvLayer(P(KnetArray{Float32,4}(3,3,256,256)), nothing, 1, 1, identity), BNormLayer2d(Knet.Ops20.BNMoments(0.1, nothing, nothing, zeros, ones), K32(512)[1.0⋯])]), identity), BasicBlock(SequentialModule(Any[ConvLayer(P(KnetArray{Float32,4}(3,3,256,256)), nothing, 1, 1, identity), BNormLayer2d(Knet.Ops20.BNMoments(0.1, nothing, nothing, zeros, ones), K32(512)[1.0⋯]), var\"#6#7\"(), ConvLayer(P(KnetArray{Float32,4}(3,3,256,256)), nothing, 1, 1, identity), BNormLayer2d(Knet.Ops20.BNMoments(0.1, nothing, nothing, zeros, ones), K32(512)[1.0⋯])]), identity), BasicBlock(SequentialModule(Any[ConvLayer(P(KnetArray{Float32,4}(3,3,256,256)), nothing, 1, 1, identity), BNormLayer2d(Knet.Ops20.BNMoments(0.1, nothing, nothing, zeros, ones), K32(512)[1.0⋯]), var\"#6#7\"(), ConvLayer(P(KnetArray{Float32,4}(3,3,256,256)), nothing, 1, 1, identity), BNormLayer2d(Knet.Ops20.BNMoments(0.1, nothing, nothing, zeros, ones), K32(512)[1.0⋯])]), identity), BasicBlock(SequentialModule(Any[ConvLayer(P(KnetArray{Float32,4}(3,3,256,256)), nothing, 1, 1, identity), BNormLayer2d(Knet.Ops20.BNMoments(0.1, nothing, nothing, zeros, ones), K32(512)[1.0⋯]), var\"#6#7\"(), ConvLayer(P(KnetArray{Float32,4}(3,3,256,256)), nothing, 1, 1, identity), BNormLayer2d(Knet.Ops20.BNMoments(0.1, nothing, nothing, zeros, ones), K32(512)[1.0⋯])]), identity), BasicBlock(SequentialModule(Any[ConvLayer(P(KnetArray{Float32,4}(3,3,256,256)), nothing, 1, 1, identity), BNormLayer2d(Knet.Ops20.BNMoments(0.1, nothing, nothing, zeros, ones), K32(512)[1.0⋯]), var\"#6#7\"(), ConvLayer(P(KnetArray{Float32,4}(3,3,256,256)), nothing, 1, 1, identity), BNormLayer2d(Knet.Ops20.BNMoments(0.1, nothing, nothing, zeros, ones), K32(512)[1.0⋯])]), identity)]), SequentialModule(Any[BasicBlock(SequentialModule(Any[ConvLayer(P(KnetArray{Float32,4}(3,3,256,512)), nothing, 1, 2, identity), BNormLayer2d(Knet.Ops20.BNMoments(0.1, nothing, nothing, zeros, ones), K32(1024)[1.0⋯]), var\"#6#7\"(), ConvLayer(P(KnetArray{Float32,4}(3,3,512,512)), nothing, 1, 1, identity), BNormLayer2d(Knet.Ops20.BNMoments(0.1, nothing, nothing, zeros, ones), K32(1024)[1.0⋯])]), SequentialModule(Any[ConvLayer(P(KnetArray{Float32,4}(1,1,256,512)), nothing, 0, 2, identity), BNormLayer2d(Knet.Ops20.BNMoments(0.1, nothing, nothing, zeros, ones), K32(1024)[1.0⋯])])), BasicBlock(SequentialModule(Any[ConvLayer(P(KnetArray{Float32,4}(3,3,512,512)), nothing, 1, 1, identity), BNormLayer2d(Knet.Ops20.BNMoments(0.1, nothing, nothing, zeros, ones), K32(1024)[1.0⋯]), var\"#6#7\"(), ConvLayer(P(KnetArray{Float32,4}(3,3,512,512)), nothing, 1, 1, identity), BNormLayer2d(Knet.Ops20.BNMoments(0.1, nothing, nothing, zeros, ones), K32(1024)[1.0⋯])]), identity), BasicBlock(SequentialModule(Any[ConvLayer(P(KnetArray{Float32,4}(3,3,512,512)), nothing, 1, 1, identity), BNormLayer2d(Knet.Ops20.BNMoments(0.1, nothing, nothing, zeros, ones), K32(1024)[1.0⋯]), var\"#6#7\"(), ConvLayer(P(KnetArray{Float32,4}(3,3,512,512)), nothing, 1, 1, identity), BNormLayer2d(Knet.Ops20.BNMoments(0.1, nothing, nothing, zeros, ones), K32(1024)[1.0⋯])]), identity)]), var\"#10#13\"(), var\"#11#14\"()]), DenseLayer(P(KnetArray{Float32,2}(128,512)), P(KnetArray{Float32,2}(128,1)), identity)))"
      ]
     },
     "execution_count": 14,
     "metadata": {},
     "output_type": "execute_result"
    }
   ],
   "source": [
    "model = SequentialModule(ResNet34(pretrained=false, in_channels=3, out_channels=512),DenseLayer(512,128))"
   ]
  },
  {
   "cell_type": "code",
   "execution_count": 15,
   "metadata": {},
   "outputs": [],
   "source": [
    "#model = ResNet34(pretrained=false, in_channels=3, out_channels=10)"
   ]
  },
  {
   "cell_type": "code",
   "execution_count": 16,
   "metadata": {},
   "outputs": [],
   "source": [
    "for p in params(model)\n",
    "    p.opt = Adam(lr=0.001)\n",
    "end"
   ]
  },
  {
   "cell_type": "code",
   "execution_count": 17,
   "metadata": {},
   "outputs": [],
   "source": [
    "epochs = 100\n",
    "train_loss = zeros(epochs);"
   ]
  },
  {
   "cell_type": "code",
   "execution_count": 18,
   "metadata": {},
   "outputs": [
    {
     "name": "stdout",
     "output_type": "stream",
     "text": [
      "Epoch 1\n",
      "Train epoch loss: 12.782479590976362\n",
      "Epoch 2\n",
      "Train epoch loss: 12.433364278262424\n",
      "Epoch 3\n",
      "Train epoch loss: 12.244722287679457\n",
      "Epoch 4\n",
      "Train epoch loss: 12.10271937576766\n",
      "Epoch 5\n",
      "Train epoch loss: 11.997863445085349\n",
      "Epoch 6\n",
      "Train epoch loss: 11.918950955892347\n",
      "Epoch 7\n",
      "Train epoch loss: 11.855942893274051\n",
      "Epoch 8\n",
      "Train epoch loss: 11.790615838827547\n",
      "Epoch 9\n",
      "Train epoch loss: 11.739861557164144\n",
      "Epoch 10\n",
      "Train epoch loss: 11.667324951014567\n",
      "Epoch 11\n",
      "Train epoch loss: 11.606750871717315\n",
      "Epoch 12\n",
      "Train epoch loss: 11.553510597071696\n",
      "Epoch 13\n",
      "Train epoch loss: 11.49084907217124\n",
      "Epoch 14\n",
      "Train epoch loss: 11.423863951692876\n",
      "Epoch 15\n",
      "Train epoch loss: 11.358541616459483\n",
      "Epoch 16\n",
      "Train epoch loss: 11.296825379440465\n",
      "Epoch 17\n",
      "Train epoch loss: 11.243261111151313\n",
      "Epoch 18\n",
      "Train epoch loss: 11.170319006615077\n",
      "Epoch 19\n",
      "Train epoch loss: 11.107947408538504\n",
      "Epoch 20\n",
      "Train epoch loss: 11.055206377481676\n",
      "Epoch 21\n",
      "Train epoch loss: 11.009346617865809\n",
      "Epoch 22\n",
      "Train epoch loss: 10.95302341893776\n",
      "Epoch 23\n",
      "Train epoch loss: 10.909655315359844\n",
      "Epoch 24\n",
      "Train epoch loss: 10.864694841129264\n",
      "Epoch 25\n",
      "Train epoch loss: 10.820021629333496\n",
      "Epoch 26\n",
      "Train epoch loss: 10.797113153123364\n",
      "Epoch 27\n",
      "Train epoch loss: 10.750055588397784\n",
      "Epoch 28\n",
      "Train epoch loss: 10.729322895561296\n",
      "Epoch 29\n",
      "Train epoch loss: 10.702628578107381\n",
      "Epoch 30\n",
      "Train epoch loss: 10.66532923511623\n",
      "Epoch 31\n",
      "Train epoch loss: 10.651409611259538\n",
      "Epoch 32\n",
      "Train epoch loss: 10.624763223313794\n",
      "Epoch 33\n",
      "Train epoch loss: 10.605538132264442\n",
      "Epoch 34\n",
      "Train epoch loss: 10.59221827123583\n",
      "Epoch 35\n",
      "Train epoch loss: 10.574087467390237\n",
      "Epoch 36\n",
      "Train epoch loss: 10.558198230782734\n",
      "Epoch 37\n",
      "Train epoch loss: 10.547382551370207\n",
      "Epoch 38\n",
      "Train epoch loss: 10.545603122907815\n",
      "Epoch 39\n",
      "Train epoch loss: 10.528204219857441\n",
      "Epoch 40\n",
      "Train epoch loss: 10.505863504311472\n",
      "Epoch 41\n",
      "Train epoch loss: 10.490585651594339\n",
      "Epoch 42\n",
      "Train epoch loss: 10.49346570870311\n",
      "Epoch 43\n",
      "Train epoch loss: 10.47367847088686\n",
      "Epoch 44\n",
      "Train epoch loss: 10.465550638965725\n",
      "Epoch 45\n",
      "Train epoch loss: 10.457222800893883\n",
      "Epoch 46\n",
      "Train epoch loss: 10.449911550148245\n",
      "Epoch 47\n",
      "Train epoch loss: 10.441749140159372\n",
      "Epoch 48\n",
      "Train epoch loss: 10.429564584161817\n",
      "Epoch 49\n",
      "Train epoch loss: 10.413139018815817\n",
      "Epoch 50\n",
      "Train epoch loss: 10.418158501693883\n",
      "Epoch 51\n",
      "Train epoch loss: 10.421172279672524\n",
      "Epoch 52\n",
      "Train epoch loss: 10.41888171127162\n",
      "Epoch 53\n",
      "Train epoch loss: 10.408431141646867\n",
      "Epoch 54\n",
      "Train epoch loss: 10.40207944457064\n",
      "Epoch 55\n",
      "Train epoch loss: 10.39806452485704\n",
      "Epoch 56\n",
      "Train epoch loss: 10.389535658138314\n",
      "Epoch 57\n",
      "Train epoch loss: 10.391270912799639\n",
      "Epoch 58\n",
      "Train epoch loss: 10.378054982608127\n",
      "Epoch 59\n",
      "Train epoch loss: 10.36177958655603\n",
      "Epoch 60\n",
      "Train epoch loss: 10.367824603601829\n",
      "Epoch 61\n",
      "Train epoch loss: 10.37408027452292\n",
      "Epoch 62\n",
      "Train epoch loss: 10.362091231591922\n",
      "Epoch 63\n",
      "Train epoch loss: 10.363929365099091\n",
      "Epoch 64\n",
      "Train epoch loss: 10.356723156171975\n",
      "Epoch 65\n",
      "Train epoch loss: 10.360743040891037\n",
      "Epoch 66\n",
      "Train epoch loss: 10.359469030321259\n",
      "Epoch 67\n",
      "Train epoch loss: 10.381867585722933\n",
      "Epoch 68\n",
      "Train epoch loss: 10.362295298232246\n",
      "Epoch 69\n",
      "Train epoch loss: 10.34629689049475\n",
      "Epoch 70\n",
      "Train epoch loss: 10.353168861153199\n",
      "Epoch 71\n",
      "Train epoch loss: 10.347264614301858\n",
      "Epoch 72\n",
      "Train epoch loss: 10.354374158013727\n",
      "Epoch 73\n",
      "Train epoch loss: 10.34565924614975\n",
      "Epoch 74\n",
      "Train epoch loss: 10.333108587363332\n",
      "Epoch 75\n",
      "Train epoch loss: 10.337306111129289\n",
      "Epoch 76\n",
      "Train epoch loss: 10.342438786300187\n",
      "Epoch 77\n",
      "Train epoch loss: 10.342881527143655\n",
      "Epoch 78\n",
      "Train epoch loss: 10.33401552180654\n",
      "Epoch 79\n",
      "Train epoch loss: 10.321323620904352\n",
      "Epoch 80\n",
      "Train epoch loss: 10.3308791819307\n",
      "Epoch 81\n",
      "Train epoch loss: 10.316875546248918\n",
      "Epoch 82\n",
      "Train epoch loss: 10.323663160972988\n",
      "Epoch 83\n",
      "Train epoch loss: 10.342142980123304\n",
      "Epoch 84\n",
      "Train epoch loss: 10.328829775151519\n",
      "Epoch 85\n",
      "Train epoch loss: 10.3260998086831\n",
      "Epoch 86\n",
      "Train epoch loss: 10.341200081343503\n",
      "Epoch 87\n",
      "Train epoch loss: 10.332422944688306\n",
      "Epoch 88\n",
      "Train epoch loss: 10.313869319011255\n",
      "Epoch 89\n",
      "Train epoch loss: 10.299461089458662\n",
      "Epoch 90\n",
      "Train epoch loss: 10.29736870834508\n",
      "Epoch 91\n",
      "Train epoch loss: 10.292632565055925\n",
      "Epoch 92\n",
      "Train epoch loss: 10.290402933494333\n",
      "Epoch 93\n",
      "Train epoch loss: 10.296689318627426\n",
      "Epoch 94\n",
      "Train epoch loss: 10.307982002336955\n",
      "Epoch 95\n",
      "Train epoch loss: 10.310484414248123\n",
      "Epoch 96\n",
      "Train epoch loss: 10.304609269210973\n",
      "Epoch 97\n",
      "Train epoch loss: 10.303695963830062\n",
      "Epoch 98\n",
      "Train epoch loss: 10.287988593897868\n",
      "Epoch 99\n",
      "Train epoch loss: 10.287706493102398\n",
      "Epoch 100\n",
      "Train epoch loss: 10.299750278905496\n"
     ]
    }
   ],
   "source": [
    "for i in 1:epochs\n",
    "    println(\"Epoch \", i)\n",
    "    train_loss[i] = 0.0\n",
    "    batch_count = 0\n",
    "    dtrn = load_preprocess_cifar_dataset(bsize);\n",
    "    for (x, y) in dtrn\n",
    "        x2 = cat(x[:,:,1:3,:], x[:,:,4:6,:], dims=4)\n",
    "        loss = @diff loss_contrastive(model, x2)\n",
    "        train_loss[i] += value(loss)\n",
    "        batch_count += 1\n",
    "        for p in params(model)\n",
    "            g = grad(loss, p)\n",
    "            update!(value(p), g, p.opt)\n",
    "        end\n",
    "    end\n",
    "    train_loss[i] /= batch_count\n",
    "    println(\"Train epoch loss: \", train_loss[i])\n",
    "    #GC.gc()\n",
    "end"
   ]
  },
  {
   "cell_type": "code",
   "execution_count": 19,
   "metadata": {},
   "outputs": [
    {
     "data": {
      "image/png": "[encoded data removed]",
      "text/plain": [
       "Figure(PyObject <Figure size 640x480 with 1 Axes>)"
      ]
     },
     "metadata": {},
     "output_type": "display_data"
    }
   ],
   "source": [
    "plt.plot(train_loss);\n",
    "plt.ylabel(\"contrastive loss\");\n",
    "plt.xlabel(\"iterations\");"
   ]
  },
  {
   "cell_type": "code",
   "execution_count": null,
   "metadata": {},
   "outputs": [],
   "source": []
  },
  {
   "cell_type": "code",
   "execution_count": null,
   "metadata": {},
   "outputs": [],
   "source": []
  },
  {
   "cell_type": "code",
   "execution_count": null,
   "metadata": {},
   "outputs": [],
   "source": []
  },
  {
   "cell_type": "code",
   "execution_count": 11,
   "metadata": {},
   "outputs": [],
   "source": [
    "GC.gc()"
   ]
  },
  {
   "cell_type": "code",
   "execution_count": 12,
   "metadata": {},
   "outputs": [
    {
     "name": "stdout",
     "output_type": "stream",
     "text": [
      "Effective GPU memory usage: 87.35% (13.888 GiB/15.899 GiB)\n",
      "CUDA allocator usage: 13.077 GiB\n",
      "binned usage: 13.077 GiB (431.286 MiB allocated, 12.656 GiB cached)\n"
     ]
    }
   ],
   "source": [
    "CUDA.memory_status()"
   ]
  },
  {
   "cell_type": "code",
   "execution_count": 13,
   "metadata": {},
   "outputs": [
    {
     "data": {
      "text/plain": [
       "Any[]"
      ]
     },
     "execution_count": 13,
     "metadata": {},
     "output_type": "execute_result"
    }
   ],
   "source": [
    "image = []"
   ]
  },
  {
   "cell_type": "code",
   "execution_count": 14,
   "metadata": {},
   "outputs": [],
   "source": [
    "for (x, y) in dtrn\n",
    "    image = x\n",
    "    break\n",
    "    return image\n",
    "end"
   ]
  },
  {
   "cell_type": "code",
   "execution_count": 15,
   "metadata": {},
   "outputs": [],
   "source": [
    "image1 = convert(Array, image[:,:,:,5]);"
   ]
  },
  {
   "cell_type": "code",
   "execution_count": 16,
   "metadata": {},
   "outputs": [],
   "source": [
    "#image1 = convert(Array, image[:,:,:,5]);\n",
    "#image1 = permutedims(image1, (2, 1, 3));"
   ]
  },
  {
   "cell_type": "code",
   "execution_count": 17,
   "metadata": {},
   "outputs": [
    {
     "data": {
      "image/png": "[encoded data removed]",
      "text/plain": [
       "Figure(PyObject <Figure size 100x100 with 1 Axes>)"
      ]
     },
     "metadata": {},
     "output_type": "display_data"
    },
    {
     "data": {
      "text/plain": [
       "PyObject <matplotlib.image.AxesImage object at 0x7f10d83c0c10>"
      ]
     },
     "execution_count": 17,
     "metadata": {},
     "output_type": "execute_result"
    }
   ],
   "source": [
    "plt.figure(figsize=(1,1))\n",
    "plt.imshow(image1)"
   ]
  },
  {
   "cell_type": "code",
   "execution_count": 21,
   "metadata": {},
   "outputs": [
    {
     "ename": "LoadError",
     "evalue": "UndefVarError: dtrn2 not defined",
     "output_type": "error",
     "traceback": [
      "UndefVarError: dtrn2 not defined",
      "",
      "Stacktrace:",
      " [1] top-level scope at ./In[21]:3",
      " [2] include_string(::Function, ::Module, ::String, ::String) at ./loading.jl:1091",
      " [3] execute_code(::String, ::String) at /home/admin2/.julia/packages/IJulia/rWZ9e/src/execute_request.jl:27",
      " [4] execute_request(::ZMQ.Socket, ::IJulia.Msg) at /home/admin2/.julia/packages/IJulia/rWZ9e/src/execute_request.jl:86",
      " [5] #invokelatest#1 at ./essentials.jl:710 [inlined]",
      " [6] invokelatest at ./essentials.jl:709 [inlined]",
      " [7] eventloop(::ZMQ.Socket) at /home/admin2/.julia/packages/IJulia/rWZ9e/src/eventloop.jl:8",
      " [8] (::IJulia.var\"#15#18\")() at ./task.jl:356"
     ]
    }
   ],
   "source": [
    "x2 = 0\n",
    "t = 0\n",
    "for (x, y) in dtrn\n",
    "    x2 = cat(x[:,:,1:3,:], x[:,:,4:6,:], dims=4)\n",
    "    print(x)\n",
    "    t = model(x2)\n",
    "    return t, x2\n",
    "    break\n",
    "end"
   ]
  },
  {
   "cell_type": "code",
   "execution_count": 25,
   "metadata": {},
   "outputs": [
    {
     "data": {
      "text/plain": [
       "128×1024 KnetArray{Float32,2}:\n",
       "  -2.85216    -2.95785    12.2142    …   27.5789     -2.60477    3.43572\n",
       "   7.42897     6.91762    14.8215       -15.3952     19.2737     8.01797\n",
       "   0.316655  -13.3806      0.412821      -0.576625  -19.1573    -3.74969\n",
       "  11.0052      9.62619     1.20577      -12.4841     22.7617     2.16661\n",
       "  39.7565     15.3725      0.243594     -17.846      17.5322    -0.139197\n",
       "  30.1567      9.81891   -13.1902    …   -2.62621    21.2321    -5.36322\n",
       "   2.96002   -10.4261      9.11182        3.84038    -5.51499    4.35404\n",
       " -29.2636     14.4203    -14.3174         3.78205    13.3685    -5.81779\n",
       "  -3.13056     9.99212    -0.197821       3.52942     7.74225   -1.48241\n",
       "  12.8278      5.91052   -10.1779        -2.93488    -7.84852   -3.91903\n",
       "  -6.59326    -7.3961     11.7607    …   11.8251    -10.4103     4.32857\n",
       " -41.2285     21.3048     -2.71645       -2.87748    12.0551    -1.71179\n",
       "  10.6193     -3.08018    12.1394        -0.341751    1.67346    5.91068\n",
       "   ⋮                                 ⋱                          \n",
       " -33.055      21.6659      2.11549      -18.7621     29.0567    -1.61396\n",
       " -39.843      12.3598      0.493675      -5.88771     9.64184    0.353389\n",
       "  32.4139     11.2251      3.66751        7.27191    10.9978    -0.153592\n",
       "  -1.6222      1.21656     3.97337      -20.3814    -16.5743     1.32924\n",
       "  19.748      11.5793    -13.112     …   -4.90443    18.4155    -6.7848\n",
       "  -9.29312    -0.633859  -13.3792         1.01255   -21.811     -5.02343\n",
       " -21.6951      4.94234    11.5187       -18.4098    -13.1343     2.73162\n",
       "   6.70736    19.6668      4.38111        3.43881    27.4158     4.78248\n",
       "   5.91101     3.61006     3.14465        3.52755     0.776709  -1.34725\n",
       "   4.03389    -9.92877   -11.5595    …   -1.25742   -20.2084    -7.12388\n",
       "  57.0523    -13.6213     -8.32384      -15.3072    -23.1632    -4.48854\n",
       " -26.1808      6.27022     6.4426         0.685036   15.0374    -0.219473"
      ]
     },
     "execution_count": 25,
     "metadata": {},
     "output_type": "execute_result"
    }
   ],
   "source": [
    "t"
   ]
  },
  {
   "cell_type": "code",
   "execution_count": 26,
   "metadata": {},
   "outputs": [
    {
     "data": {
      "text/plain": [
       "1024×128 KnetArray{Float32,2}:\n",
       "  -2.85216    7.42897     0.316655   11.0052    …   57.0523     -26.1808\n",
       "  -2.95785    6.91762   -13.3806      9.62619      -13.6213       6.27022\n",
       "  12.2142    14.8215      0.412821    1.20577       -8.32384      6.4426\n",
       "   6.67348   -3.20266     3.02765    18.7517         1.86174     -8.78794\n",
       "   6.87834   -0.711923  -12.7944    -10.8475        -3.25338    -12.0064\n",
       " -10.4553     0.608125    4.60305     4.53174   …   18.8467       6.35275\n",
       "  18.6832    32.9666    -10.3301      2.75558      -14.4122       6.00793\n",
       " -11.4923     0.371234    0.702922   -1.72474        0.92667     -3.43903\n",
       "  50.63     -74.6891     -6.53508   -41.0363       -52.0295      22.0012\n",
       " -14.2705     8.13766    -3.80199    -2.29445       12.7348     -12.4242\n",
       "   3.95495    3.67079    20.323     -14.2266    …  -10.231      -10.1975\n",
       " -14.42       2.31062     2.24199    -3.12092        1.24343     -4.16985\n",
       " -14.6092     1.5375      2.73908    -3.15209        1.48838     -4.21472\n",
       "   ⋮                                            ⋱               \n",
       "  -3.20897    8.72551    -7.95644     4.10533        0.0732542   -9.84241\n",
       "   4.4368     1.4624      2.96037    -0.302464      -3.29573      3.85037\n",
       "  -3.8434     9.335     -12.8        12.8869       -14.8195       8.84811\n",
       "  -1.55264   -5.8135     -7.39546    -0.667751  …  -14.8222       0.515199\n",
       "  -1.74117   21.9894     15.9686      2.69848       11.5102      11.3856\n",
       "  37.3556   -14.5103      1.14691   -22.3401       -11.5209      -6.89276\n",
       "   8.77415   -1.65525    -0.135577   -5.98284       -1.29286     -2.85547\n",
       "  -1.91613    0.585762   -1.1858     -2.31895        0.417596     1.38125\n",
       " -20.0318    11.7794     -5.02016    -1.21017   …   18.904      -18.7799\n",
       "  27.5789   -15.3952     -0.576625  -12.4841       -15.3072       0.685036\n",
       "  -2.60477   19.2737    -19.1573     22.7617       -23.1632      15.0374\n",
       "   3.43572    8.01797    -3.74969     2.16661       -4.48854     -0.219473"
      ]
     },
     "execution_count": 26,
     "metadata": {},
     "output_type": "execute_result"
    }
   ],
   "source": [
    "t = t'"
   ]
  },
  {
   "cell_type": "code",
   "execution_count": 29,
   "metadata": {},
   "outputs": [
    {
     "data": {
      "text/plain": [
       "128-element KnetArray{Float32,1}:\n",
       "  -6.2932043\n",
       "   7.2528634\n",
       "   2.1773136\n",
       "   9.319871\n",
       "  37.794758\n",
       "  33.318207\n",
       "  -0.16029884\n",
       " -33.379566\n",
       "  -5.5468154\n",
       "  10.535665\n",
       "  -7.0201597\n",
       " -37.680534\n",
       "  11.865298\n",
       "   ⋮\n",
       " -32.270332\n",
       " -35.770363\n",
       "  29.853855\n",
       "  -0.25638938\n",
       "  23.68201\n",
       "  -8.147982\n",
       " -17.756739\n",
       "   7.351357\n",
       "   4.5611596\n",
       "   4.337354\n",
       "  58.249493\n",
       " -20.644213"
      ]
     },
     "execution_count": 29,
     "metadata": {},
     "output_type": "execute_result"
    }
   ],
   "source": [
    "t[513,:]"
   ]
  },
  {
   "cell_type": "code",
   "execution_count": 36,
   "metadata": {},
   "outputs": [
    {
     "data": {
      "text/plain": [
       "128-element KnetArray{Float32,1}:\n",
       "  -2.8521569\n",
       "   7.428967\n",
       "   0.31665513\n",
       "  11.005243\n",
       "  39.75653\n",
       "  30.156702\n",
       "   2.9600208\n",
       " -29.26362\n",
       "  -3.1305568\n",
       "  12.827771\n",
       "  -6.593259\n",
       " -41.22847\n",
       "  10.619343\n",
       "   ⋮\n",
       " -33.05504\n",
       " -39.842995\n",
       "  32.4139\n",
       "  -1.622196\n",
       "  19.748003\n",
       "  -9.2931185\n",
       " -21.695059\n",
       "   6.7073565\n",
       "   5.911008\n",
       "   4.033893\n",
       "  57.052322\n",
       " -26.180803"
      ]
     },
     "execution_count": 36,
     "metadata": {},
     "output_type": "execute_result"
    }
   ],
   "source": [
    "t[1,:]"
   ]
  },
  {
   "cell_type": "code",
   "execution_count": 34,
   "metadata": {},
   "outputs": [
    {
     "data": {
      "image/png": "[encoded data removed]",
      "text/plain": [
       "Figure(PyObject <Figure size 100x100 with 1 Axes>)"
      ]
     },
     "metadata": {},
     "output_type": "display_data"
    },
    {
     "data": {
      "text/plain": [
       "PyObject <matplotlib.image.AxesImage object at 0x7f45ee159a10>"
      ]
     },
     "execution_count": 34,
     "metadata": {},
     "output_type": "execute_result"
    }
   ],
   "source": [
    "plt.figure(figsize=(1,1))\n",
    "plt.imshow(Array(x2[:,:,:,1]))"
   ]
  },
  {
   "cell_type": "code",
   "execution_count": 33,
   "metadata": {},
   "outputs": [
    {
     "data": {
      "image/png": "[encoded data removed]",
      "text/plain": [
       "Figure(PyObject <Figure size 100x100 with 1 Axes>)"
      ]
     },
     "metadata": {},
     "output_type": "display_data"
    },
    {
     "data": {
      "text/plain": [
       "PyObject <matplotlib.image.AxesImage object at 0x7f45eb2e9f90>"
      ]
     },
     "execution_count": 33,
     "metadata": {},
     "output_type": "execute_result"
    }
   ],
   "source": [
    "plt.figure(figsize=(1,1))\n",
    "plt.imshow(Array(x2[:,:,:,513]))"
   ]
  },
  {
   "cell_type": "code",
   "execution_count": 22,
   "metadata": {},
   "outputs": [
    {
     "data": {
      "text/plain": [
       "SequentialModule((SequentialModule(Any[ConvLayer(P(KnetArray{Float32,4}(7,7,3,64)), nothing, 3, 2, identity), BNormLayer2d(Knet.Ops20.BNMoments(0.1f0, K32(1,1,64,1)[0.5400142⋯], K32(1,1,64,1)[0.30828255⋯], zeros, ones), K32(128)[1.0⋯]), var\"#9#12\"(), PoolLayer(3, 2, 1, 0), SequentialModule(Any[BasicBlock(SequentialModule(Any[ConvLayer(P(KnetArray{Float32,4}(3,3,64,64)), nothing, 1, 1, identity), BNormLayer2d(Knet.Ops20.BNMoments(0.1f0, K32(1,1,64,1)[-3.4562461⋯], K32(1,1,64,1)[16.160778⋯], zeros, ones), K32(128)[1.0⋯]), var\"#6#7\"(), ConvLayer(P(KnetArray{Float32,4}(3,3,64,64)), nothing, 1, 1, identity), BNormLayer2d(Knet.Ops20.BNMoments(0.1f0, K32(1,1,64,1)[-1.9875795⋯], K32(1,1,64,1)[4.810969⋯], zeros, ones), K32(128)[1.0⋯])]), identity), BasicBlock(SequentialModule(Any[ConvLayer(P(KnetArray{Float32,4}(3,3,64,64)), nothing, 1, 1, identity), BNormLayer2d(Knet.Ops20.BNMoments(0.1f0, K32(1,1,64,1)[-2.9737866⋯], K32(1,1,64,1)[19.586277⋯], zeros, ones), K32(128)[1.0⋯]), var\"#6#7\"(), ConvLayer(P(KnetArray{Float32,4}(3,3,64,64)), nothing, 1, 1, identity), BNormLayer2d(Knet.Ops20.BNMoments(0.1f0, K32(1,1,64,1)[0.37062952⋯], K32(1,1,64,1)[2.5630577⋯], zeros, ones), K32(128)[1.0⋯])]), identity), BasicBlock(SequentialModule(Any[ConvLayer(P(KnetArray{Float32,4}(3,3,64,64)), nothing, 1, 1, identity), BNormLayer2d(Knet.Ops20.BNMoments(0.1f0, K32(1,1,64,1)[2.515504⋯], K32(1,1,64,1)[26.297106⋯], zeros, ones), K32(128)[1.0⋯]), var\"#6#7\"(), ConvLayer(P(KnetArray{Float32,4}(3,3,64,64)), nothing, 1, 1, identity), BNormLayer2d(Knet.Ops20.BNMoments(0.1f0, K32(1,1,64,1)[-1.9914671⋯], K32(1,1,64,1)[3.9354396⋯], zeros, ones), K32(128)[1.0⋯])]), identity)]), SequentialModule(Any[BasicBlock(SequentialModule(Any[ConvLayer(P(KnetArray{Float32,4}(3,3,64,128)), nothing, 1, 2, identity), BNormLayer2d(Knet.Ops20.BNMoments(0.1f0, K32(1,1,128,1)[-1.5319508⋯], K32(1,1,128,1)[14.691589⋯], zeros, ones), K32(256)[1.0⋯]), var\"#6#7\"(), ConvLayer(P(KnetArray{Float32,4}(3,3,128,128)), nothing, 1, 1, identity), BNormLayer2d(Knet.Ops20.BNMoments(0.1f0, K32(1,1,128,1)[-0.20483577⋯], K32(1,1,128,1)[5.94631⋯], zeros, ones), K32(256)[1.0⋯])]), SequentialModule(Any[ConvLayer(P(KnetArray{Float32,4}(1,1,64,128)), nothing, 0, 2, identity), BNormLayer2d(Knet.Ops20.BNMoments(0.1f0, K32(1,1,128,1)[-2.1806698⋯], K32(1,1,128,1)[2.7711127⋯], zeros, ones), K32(256)[1.0⋯])])), BasicBlock(SequentialModule(Any[ConvLayer(P(KnetArray{Float32,4}(3,3,128,128)), nothing, 1, 1, identity), BNormLayer2d(Knet.Ops20.BNMoments(0.1f0, K32(1,1,128,1)[-1.175761⋯], K32(1,1,128,1)[9.73374⋯], zeros, ones), K32(256)[1.0⋯]), var\"#6#7\"(), ConvLayer(P(KnetArray{Float32,4}(3,3,128,128)), nothing, 1, 1, identity), BNormLayer2d(Knet.Ops20.BNMoments(0.1f0, K32(1,1,128,1)[-0.9960119⋯], K32(1,1,128,1)[4.317178⋯], zeros, ones), K32(256)[1.0⋯])]), identity), BasicBlock(SequentialModule(Any[ConvLayer(P(KnetArray{Float32,4}(3,3,128,128)), nothing, 1, 1, identity), BNormLayer2d(Knet.Ops20.BNMoments(0.1f0, K32(1,1,128,1)[-3.4845695⋯], K32(1,1,128,1)[14.960843⋯], zeros, ones), K32(256)[1.0⋯]), var\"#6#7\"(), ConvLayer(P(KnetArray{Float32,4}(3,3,128,128)), nothing, 1, 1, identity), BNormLayer2d(Knet.Ops20.BNMoments(0.1f0, K32(1,1,128,1)[-2.7909732⋯], K32(1,1,128,1)[7.4460483⋯], zeros, ones), K32(256)[1.0⋯])]), identity), BasicBlock(SequentialModule(Any[ConvLayer(P(KnetArray{Float32,4}(3,3,128,128)), nothing, 1, 1, identity), BNormLayer2d(Knet.Ops20.BNMoments(0.1f0, K32(1,1,128,1)[-1.2747107⋯], K32(1,1,128,1)[31.147587⋯], zeros, ones), K32(256)[1.0⋯]), var\"#6#7\"(), ConvLayer(P(KnetArray{Float32,4}(3,3,128,128)), nothing, 1, 1, identity), BNormLayer2d(Knet.Ops20.BNMoments(0.1f0, K32(1,1,128,1)[0.8057337⋯], K32(1,1,128,1)[17.451996⋯], zeros, ones), K32(256)[1.0⋯])]), identity)]), SequentialModule(Any[BasicBlock(SequentialModule(Any[ConvLayer(P(KnetArray{Float32,4}(3,3,128,256)), nothing, 1, 2, identity), BNormLayer2d(Knet.Ops20.BNMoments(0.1f0, K32(1,1,256,1)[-4.2046432⋯], K32(1,1,256,1)[77.699875⋯], zeros, ones), K32(512)[1.0⋯]), var\"#6#7\"(), ConvLayer(P(KnetArray{Float32,4}(3,3,256,256)), nothing, 1, 1, identity), BNormLayer2d(Knet.Ops20.BNMoments(0.1f0, K32(1,1,256,1)[-1.9360197⋯], K32(1,1,256,1)[75.77219⋯], zeros, ones), K32(512)[1.0⋯])]), SequentialModule(Any[ConvLayer(P(KnetArray{Float32,4}(1,1,128,256)), nothing, 0, 2, identity), BNormLayer2d(Knet.Ops20.BNMoments(0.1f0, K32(1,1,256,1)[0.3877122⋯], K32(1,1,256,1)[2.609279⋯], zeros, ones), K32(512)[1.0⋯])])), BasicBlock(SequentialModule(Any[ConvLayer(P(KnetArray{Float32,4}(3,3,256,256)), nothing, 1, 1, identity), BNormLayer2d(Knet.Ops20.BNMoments(0.1f0, K32(1,1,256,1)[-8.117739⋯], K32(1,1,256,1)[279.58224⋯], zeros, ones), K32(512)[1.0⋯]), var\"#6#7\"(), ConvLayer(P(KnetArray{Float32,4}(3,3,256,256)), nothing, 1, 1, identity), BNormLayer2d(Knet.Ops20.BNMoments(0.1f0, K32(1,1,256,1)[-5.252909⋯], K32(1,1,256,1)[486.61066⋯], zeros, ones), K32(512)[1.0⋯])]), identity), BasicBlock(SequentialModule(Any[ConvLayer(P(KnetArray{Float32,4}(3,3,256,256)), nothing, 1, 1, identity), BNormLayer2d(Knet.Ops20.BNMoments(0.1f0, K32(1,1,256,1)[-21.907627⋯], K32(1,1,256,1)[351.22205⋯], zeros, ones), K32(512)[1.0⋯]), var\"#6#7\"(), ConvLayer(P(KnetArray{Float32,4}(3,3,256,256)), nothing, 1, 1, identity), BNormLayer2d(Knet.Ops20.BNMoments(0.1f0, K32(1,1,256,1)[-6.5052176⋯], K32(1,1,256,1)[454.07404⋯], zeros, ones), K32(512)[1.0⋯])]), identity), BasicBlock(SequentialModule(Any[ConvLayer(P(KnetArray{Float32,4}(3,3,256,256)), nothing, 1, 1, identity), BNormLayer2d(Knet.Ops20.BNMoments(0.1f0, K32(1,1,256,1)[-32.5751⋯], K32(1,1,256,1)[1407.1738⋯], zeros, ones), K32(512)[1.0⋯]), var\"#6#7\"(), ConvLayer(P(KnetArray{Float32,4}(3,3,256,256)), nothing, 1, 1, identity), BNormLayer2d(Knet.Ops20.BNMoments(0.1f0, K32(1,1,256,1)[-8.842744⋯], K32(1,1,256,1)[528.2715⋯], zeros, ones), K32(512)[1.0⋯])]), identity), BasicBlock(SequentialModule(Any[ConvLayer(P(KnetArray{Float32,4}(3,3,256,256)), nothing, 1, 1, identity), BNormLayer2d(Knet.Ops20.BNMoments(0.1f0, K32(1,1,256,1)[-39.413933⋯], K32(1,1,256,1)[2290.072⋯], zeros, ones), K32(512)[1.0⋯]), var\"#6#7\"(), ConvLayer(P(KnetArray{Float32,4}(3,3,256,256)), nothing, 1, 1, identity), BNormLayer2d(Knet.Ops20.BNMoments(0.1f0, K32(1,1,256,1)[-5.6861367⋯], K32(1,1,256,1)[337.49896⋯], zeros, ones), K32(512)[1.0⋯])]), identity), BasicBlock(SequentialModule(Any[ConvLayer(P(KnetArray{Float32,4}(3,3,256,256)), nothing, 1, 1, identity), BNormLayer2d(Knet.Ops20.BNMoments(0.1f0, K32(1,1,256,1)[-38.23332⋯], K32(1,1,256,1)[1167.8455⋯], zeros, ones), K32(512)[1.0⋯]), var\"#6#7\"(), ConvLayer(P(KnetArray{Float32,4}(3,3,256,256)), nothing, 1, 1, identity), BNormLayer2d(Knet.Ops20.BNMoments(0.1f0, K32(1,1,256,1)[-1.3996601⋯], K32(1,1,256,1)[249.54865⋯], zeros, ones), K32(512)[1.0⋯])]), identity)]), SequentialModule(Any[BasicBlock(SequentialModule(Any[ConvLayer(P(KnetArray{Float32,4}(3,3,256,512)), nothing, 1, 2, identity), BNormLayer2d(Knet.Ops20.BNMoments(0.1f0, K32(1,1,512,1)[2.467584⋯], K32(1,1,512,1)[6.734843⋯], zeros, ones), K32(1024)[1.0⋯]), var\"#6#7\"(), ConvLayer(P(KnetArray{Float32,4}(3,3,512,512)), nothing, 1, 1, identity), BNormLayer2d(Knet.Ops20.BNMoments(0.1f0, K32(1,1,512,1)[-2.4660435⋯], K32(1,1,512,1)[14.878869⋯], zeros, ones), K32(1024)[1.0⋯])]), SequentialModule(Any[ConvLayer(P(KnetArray{Float32,4}(1,1,256,512)), nothing, 0, 2, identity), BNormLayer2d(Knet.Ops20.BNMoments(0.1f0, K32(1,1,512,1)[-16.748022⋯], K32(1,1,512,1)[7.724476⋯], zeros, ones), K32(1024)[1.0⋯])])), BasicBlock(SequentialModule(Any[ConvLayer(P(KnetArray{Float32,4}(3,3,512,512)), nothing, 1, 1, identity), BNormLayer2d(Knet.Ops20.BNMoments(0.1f0, K32(1,1,512,1)[-3.1777143⋯], K32(1,1,512,1)[21.261679⋯], zeros, ones), K32(1024)[1.0⋯]), var\"#6#7\"(), ConvLayer(P(KnetArray{Float32,4}(3,3,512,512)), nothing, 1, 1, identity), BNormLayer2d(Knet.Ops20.BNMoments(0.1f0, K32(1,1,512,1)[0.26621783⋯], K32(1,1,512,1)[4.9864593⋯], zeros, ones), K32(1024)[1.0⋯])]), identity), BasicBlock(SequentialModule(Any[ConvLayer(P(KnetArray{Float32,4}(3,3,512,512)), nothing, 1, 1, identity), BNormLayer2d(Knet.Ops20.BNMoments(0.1f0, K32(1,1,512,1)[-1.6573594⋯], K32(1,1,512,1)[63.631374⋯], zeros, ones), K32(1024)[1.0⋯]), var\"#6#7\"(), ConvLayer(P(KnetArray{Float32,4}(3,3,512,512)), nothing, 1, 1, identity), BNormLayer2d(Knet.Ops20.BNMoments(0.1f0, K32(1,1,512,1)[2.570996⋯], K32(1,1,512,1)[1.7683618⋯], zeros, ones), K32(1024)[1.0⋯])]), identity)]), var\"#10#13\"(), var\"#11#14\"()]), DenseLayer(P(KnetArray{Float32,2}(128,512)), P(KnetArray{Float32,2}(128,1)), identity)))"
      ]
     },
     "execution_count": 22,
     "metadata": {},
     "output_type": "execute_result"
    }
   ],
   "source": [
    "model"
   ]
  },
  {
   "cell_type": "code",
   "execution_count": 23,
   "metadata": {},
   "outputs": [
    {
     "name": "stdout",
     "output_type": "stream",
     "text": [
      "Adam(0.001, 0.9, 0.999, 1.0e-8, 9700, 0.0, K32(7,7,3,64)[0.0005466068⋯], K32(7,7,3,64)[4.0407736e-5⋯])Adam(0.001, 0.9, 0.999, 1.0e-8, 9700, 0.0, K32(3,3,64,64)[-5.289264e-5⋯], K32(3,3,64,64)[1.1565395e-6⋯])Adam(0.001, 0.9, 0.999, 1.0e-8, 9700, 0.0, K32(3,3,64,64)[-0.0007243066⋯], K32(3,3,64,64)[2.6463686e-6⋯])Adam(0.001, 0.9, 0.999, 1.0e-8, 9700, 0.0, K32(3,3,64,64)[0.0002502142⋯], K32(3,3,64,64)[7.2810064e-7⋯])Adam(0.001, 0.9, 0.999, 1.0e-8, 9700, 0.0, K32(3,3,64,64)[-7.8995174e-5⋯], K32(3,3,64,64)[2.068249e-6⋯])Adam(0.001, 0.9, 0.999, 1.0e-8, 9700, 0.0, K32(3,3,64,64)[-0.00026203867⋯], K32(3,3,64,64)[1.2260718e-6⋯])Adam(0.001, 0.9, 0.999, 1.0e-8, 9700, 0.0, K32(3,3,64,64)[0.00039418644⋯], K32(3,3,64,64)[1.8638874e-6⋯])Adam(0.001, 0.9, 0.999, 1.0e-8, 9700, 0.0, K32(3,3,64,128)[0.00011386624⋯], K32(3,3,64,128)[1.6726427e-6⋯])Adam(0.001, 0.9, 0.999, 1.0e-8, 9700, 0.0, K32(3,3,128,128)[0.0006077764⋯], K32(3,3,128,128)[1.2894836e-6⋯])Adam(0.001, 0.9, 0.999, 1.0e-8, 9700, 0.0, K32(1,1,64,128)[5.132402e-5⋯], K32(1,1,64,128)[7.748221e-6⋯])Adam(0.001, 0.9, 0.999, 1.0e-8, 9700, 0.0, K32(3,3,128,128)[0.0002547226⋯], K32(3,3,128,128)[6.691994e-7⋯])Adam(0.001, 0.9, 0.999, 1.0e-8, 9700, 0.0, K32(3,3,128,128)[0.00047431095⋯], K32(3,3,128,128)[8.1677274e-7⋯])Adam(0.001, 0.9, 0.999, 1.0e-8, 9700, 0.0, K32(3,3,128,128)[-0.00012645712⋯], K32(3,3,128,128)[3.9342737e-7⋯])Adam(0.001, 0.9, 0.999, 1.0e-8, 9700, 0.0, K32(3,3,128,128)[-0.00013620034⋯], K32(3,3,128,128)[2.6374008e-7⋯])Adam(0.001, 0.9, 0.999, 1.0e-8, 9700, 0.0, K32(3,3,128,128)[6.0878698e-5⋯], K32(3,3,128,128)[4.1103917e-8⋯])Adam(0.001, 0.9, 0.999, 1.0e-8, 9700, 0.0, K32(3,3,128,128)[-0.00011407988⋯], K32(3,3,128,128)[1.1259682e-7⋯])Adam(0.001, 0.9, 0.999, 1.0e-8, 9700, 0.0, K32(3,3,128,256)[1.1068076e-6⋯], K32(3,3,128,256)[2.8604643e-9⋯])Adam(0.001, 0.9, 0.999, 1.0e-8, 9700, 0.0, K32(3,3,256,256)[-6.752513e-7⋯], K32(3,3,256,256)[5.340008e-11⋯])Adam(0.001, 0.9, 0.999, 1.0e-8, 9700, 0.0, K32(1,1,128,256)[-0.0006815384⋯], K32(1,1,128,256)[2.4619897e-6⋯])Adam(0.001, 0.9, 0.999, 1.0e-8, 9700, 0.0, K32(3,3,256,256)[3.1311256e-8⋯], K32(3,3,256,256)[1.007409e-11⋯])Adam(0.001, 0.9, 0.999, 1.0e-8, 9700, 0.0, K32(3,3,256,256)[-1.5852803e-6⋯], K32(3,3,256,256)[3.560643e-11⋯])Adam(0.001, 0.9, 0.999, 1.0e-8, 9700, 0.0, K32(3,3,256,256)[4.9803417e-10⋯], K32(3,3,256,256)[1.3586964e-13⋯])Adam(0.001, 0.9, 0.999, 1.0e-8, 9700, 0.0, K32(3,3,256,256)[-2.3291283e-7⋯], K32(3,3,256,256)[1.6570167e-11⋯])Adam(0.001, 0.9, 0.999, 1.0e-8, 9700, 0.0, K32(3,3,256,256)[8.8212354e-11⋯], K32(3,3,256,256)[5.4441425e-15⋯])Adam(0.001, 0.9, 0.999, 1.0e-8, 9700, 0.0, K32(3,3,256,256)[-1.2379447e-11⋯], K32(3,3,256,256)[6.5569684e-15⋯])Adam(0.001, 0.9, 0.999, 1.0e-8, 9700, 0.0, K32(3,3,256,256)[2.458951e-9⋯], K32(3,3,256,256)[1.6915361e-14⋯])Adam(0.001, 0.9, 0.999, 1.0e-8, 9700, 0.0, K32(3,3,256,256)[-3.2355402e-8⋯], K32(3,3,256,256)[1.5351945e-12⋯])Adam(0.001, 0.9, 0.999, 1.0e-8, 9700, 0.0, K32(3,3,256,256)[1.0571389e-9⋯], K32(3,3,256,256)[1.54085e-13⋯])Adam(0.001, 0.9, 0.999, 1.0e-8, 9700, 0.0, K32(3,3,256,256)[2.9727495e-8⋯], K32(3,3,256,256)[3.5997303e-12⋯])Adam(0.001, 0.9, 0.999, 1.0e-8, 9700, 0.0, K32(3,3,256,512)[4.9201615e-5⋯], K32(3,3,256,512)[3.961881e-8⋯])Adam(0.001, 0.9, 0.999, 1.0e-8, 9700, 0.0, K32(3,3,512,512)[0.0⋯], K32(3,3,512,512)[0.0⋯])Adam(0.001, 0.9, 0.999, 1.0e-8, 9700, 0.0, K32(1,1,256,512)[6.641794e-6⋯], K32(1,1,256,512)[4.9839293e-9⋯])Adam(0.001, 0.9, 0.999, 1.0e-8, 9700, 0.0, K32(3,3,512,512)[0.0⋯], K32(3,3,512,512)[0.0⋯])Adam(0.001, 0.9, 0.999, 1.0e-8, 9700, 0.0, K32(3,3,512,512)[0.0⋯], K32(3,3,512,512)[0.0⋯])Adam(0.001, 0.9, 0.999, 1.0e-8, 9700, 0.0, K32(3,3,512,512)[0.0⋯], K32(3,3,512,512)[0.0⋯])Adam(0.001, 0.9, 0.999, 1.0e-8, 9700, 0.0, K32(3,3,512,512)[0.0⋯], K32(3,3,512,512)[0.0⋯])Adam(0.001, 0.9, 0.999, 1.0e-8, 9700, 0.0, K32(128,512)[2.8332744e-5⋯], K32(128,512)[1.7982174e-8⋯])Adam(0.001, 0.9, 0.999, 1.0e-8, 9700, 0.0, K32(128,1)[2.7935148e-5⋯], K32(128,1)[1.6405638e-8⋯])"
     ]
    }
   ],
   "source": [
    "for p in params(model)\n",
    "    print(p.opt)\n",
    "end"
   ]
  },
  {
   "cell_type": "code",
   "execution_count": 24,
   "metadata": {},
   "outputs": [
    {
     "data": {
      "text/plain": [
       "SequentialModule(Any[ConvLayer(P(KnetArray{Float32,4}(7,7,3,64)), nothing, 3, 2, identity), BNormLayer2d(Knet.Ops20.BNMoments(0.1f0, K32(1,1,64,1)[0.5400142⋯], K32(1,1,64,1)[0.30828255⋯], zeros, ones), K32(128)[1.0⋯]), var\"#9#12\"(), PoolLayer(3, 2, 1, 0), SequentialModule(Any[BasicBlock(SequentialModule(Any[ConvLayer(P(KnetArray{Float32,4}(3,3,64,64)), nothing, 1, 1, identity), BNormLayer2d(Knet.Ops20.BNMoments(0.1f0, K32(1,1,64,1)[-3.4562461⋯], K32(1,1,64,1)[16.160778⋯], zeros, ones), K32(128)[1.0⋯]), var\"#6#7\"(), ConvLayer(P(KnetArray{Float32,4}(3,3,64,64)), nothing, 1, 1, identity), BNormLayer2d(Knet.Ops20.BNMoments(0.1f0, K32(1,1,64,1)[-1.9875795⋯], K32(1,1,64,1)[4.810969⋯], zeros, ones), K32(128)[1.0⋯])]), identity), BasicBlock(SequentialModule(Any[ConvLayer(P(KnetArray{Float32,4}(3,3,64,64)), nothing, 1, 1, identity), BNormLayer2d(Knet.Ops20.BNMoments(0.1f0, K32(1,1,64,1)[-2.9737866⋯], K32(1,1,64,1)[19.586277⋯], zeros, ones), K32(128)[1.0⋯]), var\"#6#7\"(), ConvLayer(P(KnetArray{Float32,4}(3,3,64,64)), nothing, 1, 1, identity), BNormLayer2d(Knet.Ops20.BNMoments(0.1f0, K32(1,1,64,1)[0.37062952⋯], K32(1,1,64,1)[2.5630577⋯], zeros, ones), K32(128)[1.0⋯])]), identity), BasicBlock(SequentialModule(Any[ConvLayer(P(KnetArray{Float32,4}(3,3,64,64)), nothing, 1, 1, identity), BNormLayer2d(Knet.Ops20.BNMoments(0.1f0, K32(1,1,64,1)[2.515504⋯], K32(1,1,64,1)[26.297106⋯], zeros, ones), K32(128)[1.0⋯]), var\"#6#7\"(), ConvLayer(P(KnetArray{Float32,4}(3,3,64,64)), nothing, 1, 1, identity), BNormLayer2d(Knet.Ops20.BNMoments(0.1f0, K32(1,1,64,1)[-1.9914671⋯], K32(1,1,64,1)[3.9354396⋯], zeros, ones), K32(128)[1.0⋯])]), identity)]), SequentialModule(Any[BasicBlock(SequentialModule(Any[ConvLayer(P(KnetArray{Float32,4}(3,3,64,128)), nothing, 1, 2, identity), BNormLayer2d(Knet.Ops20.BNMoments(0.1f0, K32(1,1,128,1)[-1.5319508⋯], K32(1,1,128,1)[14.691589⋯], zeros, ones), K32(256)[1.0⋯]), var\"#6#7\"(), ConvLayer(P(KnetArray{Float32,4}(3,3,128,128)), nothing, 1, 1, identity), BNormLayer2d(Knet.Ops20.BNMoments(0.1f0, K32(1,1,128,1)[-0.20483577⋯], K32(1,1,128,1)[5.94631⋯], zeros, ones), K32(256)[1.0⋯])]), SequentialModule(Any[ConvLayer(P(KnetArray{Float32,4}(1,1,64,128)), nothing, 0, 2, identity), BNormLayer2d(Knet.Ops20.BNMoments(0.1f0, K32(1,1,128,1)[-2.1806698⋯], K32(1,1,128,1)[2.7711127⋯], zeros, ones), K32(256)[1.0⋯])])), BasicBlock(SequentialModule(Any[ConvLayer(P(KnetArray{Float32,4}(3,3,128,128)), nothing, 1, 1, identity), BNormLayer2d(Knet.Ops20.BNMoments(0.1f0, K32(1,1,128,1)[-1.175761⋯], K32(1,1,128,1)[9.73374⋯], zeros, ones), K32(256)[1.0⋯]), var\"#6#7\"(), ConvLayer(P(KnetArray{Float32,4}(3,3,128,128)), nothing, 1, 1, identity), BNormLayer2d(Knet.Ops20.BNMoments(0.1f0, K32(1,1,128,1)[-0.9960119⋯], K32(1,1,128,1)[4.317178⋯], zeros, ones), K32(256)[1.0⋯])]), identity), BasicBlock(SequentialModule(Any[ConvLayer(P(KnetArray{Float32,4}(3,3,128,128)), nothing, 1, 1, identity), BNormLayer2d(Knet.Ops20.BNMoments(0.1f0, K32(1,1,128,1)[-3.4845695⋯], K32(1,1,128,1)[14.960843⋯], zeros, ones), K32(256)[1.0⋯]), var\"#6#7\"(), ConvLayer(P(KnetArray{Float32,4}(3,3,128,128)), nothing, 1, 1, identity), BNormLayer2d(Knet.Ops20.BNMoments(0.1f0, K32(1,1,128,1)[-2.7909732⋯], K32(1,1,128,1)[7.4460483⋯], zeros, ones), K32(256)[1.0⋯])]), identity), BasicBlock(SequentialModule(Any[ConvLayer(P(KnetArray{Float32,4}(3,3,128,128)), nothing, 1, 1, identity), BNormLayer2d(Knet.Ops20.BNMoments(0.1f0, K32(1,1,128,1)[-1.2747107⋯], K32(1,1,128,1)[31.147587⋯], zeros, ones), K32(256)[1.0⋯]), var\"#6#7\"(), ConvLayer(P(KnetArray{Float32,4}(3,3,128,128)), nothing, 1, 1, identity), BNormLayer2d(Knet.Ops20.BNMoments(0.1f0, K32(1,1,128,1)[0.8057337⋯], K32(1,1,128,1)[17.451996⋯], zeros, ones), K32(256)[1.0⋯])]), identity)]), SequentialModule(Any[BasicBlock(SequentialModule(Any[ConvLayer(P(KnetArray{Float32,4}(3,3,128,256)), nothing, 1, 2, identity), BNormLayer2d(Knet.Ops20.BNMoments(0.1f0, K32(1,1,256,1)[-4.2046432⋯], K32(1,1,256,1)[77.699875⋯], zeros, ones), K32(512)[1.0⋯]), var\"#6#7\"(), ConvLayer(P(KnetArray{Float32,4}(3,3,256,256)), nothing, 1, 1, identity), BNormLayer2d(Knet.Ops20.BNMoments(0.1f0, K32(1,1,256,1)[-1.9360197⋯], K32(1,1,256,1)[75.77219⋯], zeros, ones), K32(512)[1.0⋯])]), SequentialModule(Any[ConvLayer(P(KnetArray{Float32,4}(1,1,128,256)), nothing, 0, 2, identity), BNormLayer2d(Knet.Ops20.BNMoments(0.1f0, K32(1,1,256,1)[0.3877122⋯], K32(1,1,256,1)[2.609279⋯], zeros, ones), K32(512)[1.0⋯])])), BasicBlock(SequentialModule(Any[ConvLayer(P(KnetArray{Float32,4}(3,3,256,256)), nothing, 1, 1, identity), BNormLayer2d(Knet.Ops20.BNMoments(0.1f0, K32(1,1,256,1)[-8.117739⋯], K32(1,1,256,1)[279.58224⋯], zeros, ones), K32(512)[1.0⋯]), var\"#6#7\"(), ConvLayer(P(KnetArray{Float32,4}(3,3,256,256)), nothing, 1, 1, identity), BNormLayer2d(Knet.Ops20.BNMoments(0.1f0, K32(1,1,256,1)[-5.252909⋯], K32(1,1,256,1)[486.61066⋯], zeros, ones), K32(512)[1.0⋯])]), identity), BasicBlock(SequentialModule(Any[ConvLayer(P(KnetArray{Float32,4}(3,3,256,256)), nothing, 1, 1, identity), BNormLayer2d(Knet.Ops20.BNMoments(0.1f0, K32(1,1,256,1)[-21.907627⋯], K32(1,1,256,1)[351.22205⋯], zeros, ones), K32(512)[1.0⋯]), var\"#6#7\"(), ConvLayer(P(KnetArray{Float32,4}(3,3,256,256)), nothing, 1, 1, identity), BNormLayer2d(Knet.Ops20.BNMoments(0.1f0, K32(1,1,256,1)[-6.5052176⋯], K32(1,1,256,1)[454.07404⋯], zeros, ones), K32(512)[1.0⋯])]), identity), BasicBlock(SequentialModule(Any[ConvLayer(P(KnetArray{Float32,4}(3,3,256,256)), nothing, 1, 1, identity), BNormLayer2d(Knet.Ops20.BNMoments(0.1f0, K32(1,1,256,1)[-32.5751⋯], K32(1,1,256,1)[1407.1738⋯], zeros, ones), K32(512)[1.0⋯]), var\"#6#7\"(), ConvLayer(P(KnetArray{Float32,4}(3,3,256,256)), nothing, 1, 1, identity), BNormLayer2d(Knet.Ops20.BNMoments(0.1f0, K32(1,1,256,1)[-8.842744⋯], K32(1,1,256,1)[528.2715⋯], zeros, ones), K32(512)[1.0⋯])]), identity), BasicBlock(SequentialModule(Any[ConvLayer(P(KnetArray{Float32,4}(3,3,256,256)), nothing, 1, 1, identity), BNormLayer2d(Knet.Ops20.BNMoments(0.1f0, K32(1,1,256,1)[-39.413933⋯], K32(1,1,256,1)[2290.072⋯], zeros, ones), K32(512)[1.0⋯]), var\"#6#7\"(), ConvLayer(P(KnetArray{Float32,4}(3,3,256,256)), nothing, 1, 1, identity), BNormLayer2d(Knet.Ops20.BNMoments(0.1f0, K32(1,1,256,1)[-5.6861367⋯], K32(1,1,256,1)[337.49896⋯], zeros, ones), K32(512)[1.0⋯])]), identity), BasicBlock(SequentialModule(Any[ConvLayer(P(KnetArray{Float32,4}(3,3,256,256)), nothing, 1, 1, identity), BNormLayer2d(Knet.Ops20.BNMoments(0.1f0, K32(1,1,256,1)[-38.23332⋯], K32(1,1,256,1)[1167.8455⋯], zeros, ones), K32(512)[1.0⋯]), var\"#6#7\"(), ConvLayer(P(KnetArray{Float32,4}(3,3,256,256)), nothing, 1, 1, identity), BNormLayer2d(Knet.Ops20.BNMoments(0.1f0, K32(1,1,256,1)[-1.3996601⋯], K32(1,1,256,1)[249.54865⋯], zeros, ones), K32(512)[1.0⋯])]), identity)]), SequentialModule(Any[BasicBlock(SequentialModule(Any[ConvLayer(P(KnetArray{Float32,4}(3,3,256,512)), nothing, 1, 2, identity), BNormLayer2d(Knet.Ops20.BNMoments(0.1f0, K32(1,1,512,1)[2.467584⋯], K32(1,1,512,1)[6.734843⋯], zeros, ones), K32(1024)[1.0⋯]), var\"#6#7\"(), ConvLayer(P(KnetArray{Float32,4}(3,3,512,512)), nothing, 1, 1, identity), BNormLayer2d(Knet.Ops20.BNMoments(0.1f0, K32(1,1,512,1)[-2.4660435⋯], K32(1,1,512,1)[14.878869⋯], zeros, ones), K32(1024)[1.0⋯])]), SequentialModule(Any[ConvLayer(P(KnetArray{Float32,4}(1,1,256,512)), nothing, 0, 2, identity), BNormLayer2d(Knet.Ops20.BNMoments(0.1f0, K32(1,1,512,1)[-16.748022⋯], K32(1,1,512,1)[7.724476⋯], zeros, ones), K32(1024)[1.0⋯])])), BasicBlock(SequentialModule(Any[ConvLayer(P(KnetArray{Float32,4}(3,3,512,512)), nothing, 1, 1, identity), BNormLayer2d(Knet.Ops20.BNMoments(0.1f0, K32(1,1,512,1)[-3.1777143⋯], K32(1,1,512,1)[21.261679⋯], zeros, ones), K32(1024)[1.0⋯]), var\"#6#7\"(), ConvLayer(P(KnetArray{Float32,4}(3,3,512,512)), nothing, 1, 1, identity), BNormLayer2d(Knet.Ops20.BNMoments(0.1f0, K32(1,1,512,1)[0.26621783⋯], K32(1,1,512,1)[4.9864593⋯], zeros, ones), K32(1024)[1.0⋯])]), identity), BasicBlock(SequentialModule(Any[ConvLayer(P(KnetArray{Float32,4}(3,3,512,512)), nothing, 1, 1, identity), BNormLayer2d(Knet.Ops20.BNMoments(0.1f0, K32(1,1,512,1)[-1.6573594⋯], K32(1,1,512,1)[63.631374⋯], zeros, ones), K32(1024)[1.0⋯]), var\"#6#7\"(), ConvLayer(P(KnetArray{Float32,4}(3,3,512,512)), nothing, 1, 1, identity), BNormLayer2d(Knet.Ops20.BNMoments(0.1f0, K32(1,1,512,1)[2.570996⋯], K32(1,1,512,1)[1.7683618⋯], zeros, ones), K32(1024)[1.0⋯])]), identity)]), var\"#10#13\"(), var\"#11#14\"()])"
      ]
     },
     "execution_count": 24,
     "metadata": {},
     "output_type": "execute_result"
    }
   ],
   "source": [
    "model_base = model.layers[1]"
   ]
  },
  {
   "cell_type": "code",
   "execution_count": 25,
   "metadata": {
    "scrolled": true
   },
   "outputs": [
    {
     "data": {
      "text/plain": [
       "SequentialModule((SequentialModule(Any[ConvLayer(P(KnetArray{Float32,4}(7,7,3,64)), nothing, 3, 2, identity), BNormLayer2d(Knet.Ops20.BNMoments(0.1f0, K32(1,1,64,1)[0.5400142⋯], K32(1,1,64,1)[0.30828255⋯], zeros, ones), K32(128)[1.0⋯]), var\"#9#12\"(), PoolLayer(3, 2, 1, 0), SequentialModule(Any[BasicBlock(SequentialModule(Any[ConvLayer(P(KnetArray{Float32,4}(3,3,64,64)), nothing, 1, 1, identity), BNormLayer2d(Knet.Ops20.BNMoments(0.1f0, K32(1,1,64,1)[-3.4562461⋯], K32(1,1,64,1)[16.160778⋯], zeros, ones), K32(128)[1.0⋯]), var\"#6#7\"(), ConvLayer(P(KnetArray{Float32,4}(3,3,64,64)), nothing, 1, 1, identity), BNormLayer2d(Knet.Ops20.BNMoments(0.1f0, K32(1,1,64,1)[-1.9875795⋯], K32(1,1,64,1)[4.810969⋯], zeros, ones), K32(128)[1.0⋯])]), identity), BasicBlock(SequentialModule(Any[ConvLayer(P(KnetArray{Float32,4}(3,3,64,64)), nothing, 1, 1, identity), BNormLayer2d(Knet.Ops20.BNMoments(0.1f0, K32(1,1,64,1)[-2.9737866⋯], K32(1,1,64,1)[19.586277⋯], zeros, ones), K32(128)[1.0⋯]), var\"#6#7\"(), ConvLayer(P(KnetArray{Float32,4}(3,3,64,64)), nothing, 1, 1, identity), BNormLayer2d(Knet.Ops20.BNMoments(0.1f0, K32(1,1,64,1)[0.37062952⋯], K32(1,1,64,1)[2.5630577⋯], zeros, ones), K32(128)[1.0⋯])]), identity), BasicBlock(SequentialModule(Any[ConvLayer(P(KnetArray{Float32,4}(3,3,64,64)), nothing, 1, 1, identity), BNormLayer2d(Knet.Ops20.BNMoments(0.1f0, K32(1,1,64,1)[2.515504⋯], K32(1,1,64,1)[26.297106⋯], zeros, ones), K32(128)[1.0⋯]), var\"#6#7\"(), ConvLayer(P(KnetArray{Float32,4}(3,3,64,64)), nothing, 1, 1, identity), BNormLayer2d(Knet.Ops20.BNMoments(0.1f0, K32(1,1,64,1)[-1.9914671⋯], K32(1,1,64,1)[3.9354396⋯], zeros, ones), K32(128)[1.0⋯])]), identity)]), SequentialModule(Any[BasicBlock(SequentialModule(Any[ConvLayer(P(KnetArray{Float32,4}(3,3,64,128)), nothing, 1, 2, identity), BNormLayer2d(Knet.Ops20.BNMoments(0.1f0, K32(1,1,128,1)[-1.5319508⋯], K32(1,1,128,1)[14.691589⋯], zeros, ones), K32(256)[1.0⋯]), var\"#6#7\"(), ConvLayer(P(KnetArray{Float32,4}(3,3,128,128)), nothing, 1, 1, identity), BNormLayer2d(Knet.Ops20.BNMoments(0.1f0, K32(1,1,128,1)[-0.20483577⋯], K32(1,1,128,1)[5.94631⋯], zeros, ones), K32(256)[1.0⋯])]), SequentialModule(Any[ConvLayer(P(KnetArray{Float32,4}(1,1,64,128)), nothing, 0, 2, identity), BNormLayer2d(Knet.Ops20.BNMoments(0.1f0, K32(1,1,128,1)[-2.1806698⋯], K32(1,1,128,1)[2.7711127⋯], zeros, ones), K32(256)[1.0⋯])])), BasicBlock(SequentialModule(Any[ConvLayer(P(KnetArray{Float32,4}(3,3,128,128)), nothing, 1, 1, identity), BNormLayer2d(Knet.Ops20.BNMoments(0.1f0, K32(1,1,128,1)[-1.175761⋯], K32(1,1,128,1)[9.73374⋯], zeros, ones), K32(256)[1.0⋯]), var\"#6#7\"(), ConvLayer(P(KnetArray{Float32,4}(3,3,128,128)), nothing, 1, 1, identity), BNormLayer2d(Knet.Ops20.BNMoments(0.1f0, K32(1,1,128,1)[-0.9960119⋯], K32(1,1,128,1)[4.317178⋯], zeros, ones), K32(256)[1.0⋯])]), identity), BasicBlock(SequentialModule(Any[ConvLayer(P(KnetArray{Float32,4}(3,3,128,128)), nothing, 1, 1, identity), BNormLayer2d(Knet.Ops20.BNMoments(0.1f0, K32(1,1,128,1)[-3.4845695⋯], K32(1,1,128,1)[14.960843⋯], zeros, ones), K32(256)[1.0⋯]), var\"#6#7\"(), ConvLayer(P(KnetArray{Float32,4}(3,3,128,128)), nothing, 1, 1, identity), BNormLayer2d(Knet.Ops20.BNMoments(0.1f0, K32(1,1,128,1)[-2.7909732⋯], K32(1,1,128,1)[7.4460483⋯], zeros, ones), K32(256)[1.0⋯])]), identity), BasicBlock(SequentialModule(Any[ConvLayer(P(KnetArray{Float32,4}(3,3,128,128)), nothing, 1, 1, identity), BNormLayer2d(Knet.Ops20.BNMoments(0.1f0, K32(1,1,128,1)[-1.2747107⋯], K32(1,1,128,1)[31.147587⋯], zeros, ones), K32(256)[1.0⋯]), var\"#6#7\"(), ConvLayer(P(KnetArray{Float32,4}(3,3,128,128)), nothing, 1, 1, identity), BNormLayer2d(Knet.Ops20.BNMoments(0.1f0, K32(1,1,128,1)[0.8057337⋯], K32(1,1,128,1)[17.451996⋯], zeros, ones), K32(256)[1.0⋯])]), identity)]), SequentialModule(Any[BasicBlock(SequentialModule(Any[ConvLayer(P(KnetArray{Float32,4}(3,3,128,256)), nothing, 1, 2, identity), BNormLayer2d(Knet.Ops20.BNMoments(0.1f0, K32(1,1,256,1)[-4.2046432⋯], K32(1,1,256,1)[77.699875⋯], zeros, ones), K32(512)[1.0⋯]), var\"#6#7\"(), ConvLayer(P(KnetArray{Float32,4}(3,3,256,256)), nothing, 1, 1, identity), BNormLayer2d(Knet.Ops20.BNMoments(0.1f0, K32(1,1,256,1)[-1.9360197⋯], K32(1,1,256,1)[75.77219⋯], zeros, ones), K32(512)[1.0⋯])]), SequentialModule(Any[ConvLayer(P(KnetArray{Float32,4}(1,1,128,256)), nothing, 0, 2, identity), BNormLayer2d(Knet.Ops20.BNMoments(0.1f0, K32(1,1,256,1)[0.3877122⋯], K32(1,1,256,1)[2.609279⋯], zeros, ones), K32(512)[1.0⋯])])), BasicBlock(SequentialModule(Any[ConvLayer(P(KnetArray{Float32,4}(3,3,256,256)), nothing, 1, 1, identity), BNormLayer2d(Knet.Ops20.BNMoments(0.1f0, K32(1,1,256,1)[-8.117739⋯], K32(1,1,256,1)[279.58224⋯], zeros, ones), K32(512)[1.0⋯]), var\"#6#7\"(), ConvLayer(P(KnetArray{Float32,4}(3,3,256,256)), nothing, 1, 1, identity), BNormLayer2d(Knet.Ops20.BNMoments(0.1f0, K32(1,1,256,1)[-5.252909⋯], K32(1,1,256,1)[486.61066⋯], zeros, ones), K32(512)[1.0⋯])]), identity), BasicBlock(SequentialModule(Any[ConvLayer(P(KnetArray{Float32,4}(3,3,256,256)), nothing, 1, 1, identity), BNormLayer2d(Knet.Ops20.BNMoments(0.1f0, K32(1,1,256,1)[-21.907627⋯], K32(1,1,256,1)[351.22205⋯], zeros, ones), K32(512)[1.0⋯]), var\"#6#7\"(), ConvLayer(P(KnetArray{Float32,4}(3,3,256,256)), nothing, 1, 1, identity), BNormLayer2d(Knet.Ops20.BNMoments(0.1f0, K32(1,1,256,1)[-6.5052176⋯], K32(1,1,256,1)[454.07404⋯], zeros, ones), K32(512)[1.0⋯])]), identity), BasicBlock(SequentialModule(Any[ConvLayer(P(KnetArray{Float32,4}(3,3,256,256)), nothing, 1, 1, identity), BNormLayer2d(Knet.Ops20.BNMoments(0.1f0, K32(1,1,256,1)[-32.5751⋯], K32(1,1,256,1)[1407.1738⋯], zeros, ones), K32(512)[1.0⋯]), var\"#6#7\"(), ConvLayer(P(KnetArray{Float32,4}(3,3,256,256)), nothing, 1, 1, identity), BNormLayer2d(Knet.Ops20.BNMoments(0.1f0, K32(1,1,256,1)[-8.842744⋯], K32(1,1,256,1)[528.2715⋯], zeros, ones), K32(512)[1.0⋯])]), identity), BasicBlock(SequentialModule(Any[ConvLayer(P(KnetArray{Float32,4}(3,3,256,256)), nothing, 1, 1, identity), BNormLayer2d(Knet.Ops20.BNMoments(0.1f0, K32(1,1,256,1)[-39.413933⋯], K32(1,1,256,1)[2290.072⋯], zeros, ones), K32(512)[1.0⋯]), var\"#6#7\"(), ConvLayer(P(KnetArray{Float32,4}(3,3,256,256)), nothing, 1, 1, identity), BNormLayer2d(Knet.Ops20.BNMoments(0.1f0, K32(1,1,256,1)[-5.6861367⋯], K32(1,1,256,1)[337.49896⋯], zeros, ones), K32(512)[1.0⋯])]), identity), BasicBlock(SequentialModule(Any[ConvLayer(P(KnetArray{Float32,4}(3,3,256,256)), nothing, 1, 1, identity), BNormLayer2d(Knet.Ops20.BNMoments(0.1f0, K32(1,1,256,1)[-38.23332⋯], K32(1,1,256,1)[1167.8455⋯], zeros, ones), K32(512)[1.0⋯]), var\"#6#7\"(), ConvLayer(P(KnetArray{Float32,4}(3,3,256,256)), nothing, 1, 1, identity), BNormLayer2d(Knet.Ops20.BNMoments(0.1f0, K32(1,1,256,1)[-1.3996601⋯], K32(1,1,256,1)[249.54865⋯], zeros, ones), K32(512)[1.0⋯])]), identity)]), SequentialModule(Any[BasicBlock(SequentialModule(Any[ConvLayer(P(KnetArray{Float32,4}(3,3,256,512)), nothing, 1, 2, identity), BNormLayer2d(Knet.Ops20.BNMoments(0.1f0, K32(1,1,512,1)[2.467584⋯], K32(1,1,512,1)[6.734843⋯], zeros, ones), K32(1024)[1.0⋯]), var\"#6#7\"(), ConvLayer(P(KnetArray{Float32,4}(3,3,512,512)), nothing, 1, 1, identity), BNormLayer2d(Knet.Ops20.BNMoments(0.1f0, K32(1,1,512,1)[-2.4660435⋯], K32(1,1,512,1)[14.878869⋯], zeros, ones), K32(1024)[1.0⋯])]), SequentialModule(Any[ConvLayer(P(KnetArray{Float32,4}(1,1,256,512)), nothing, 0, 2, identity), BNormLayer2d(Knet.Ops20.BNMoments(0.1f0, K32(1,1,512,1)[-16.748022⋯], K32(1,1,512,1)[7.724476⋯], zeros, ones), K32(1024)[1.0⋯])])), BasicBlock(SequentialModule(Any[ConvLayer(P(KnetArray{Float32,4}(3,3,512,512)), nothing, 1, 1, identity), BNormLayer2d(Knet.Ops20.BNMoments(0.1f0, K32(1,1,512,1)[-3.1777143⋯], K32(1,1,512,1)[21.261679⋯], zeros, ones), K32(1024)[1.0⋯]), var\"#6#7\"(), ConvLayer(P(KnetArray{Float32,4}(3,3,512,512)), nothing, 1, 1, identity), BNormLayer2d(Knet.Ops20.BNMoments(0.1f0, K32(1,1,512,1)[0.26621783⋯], K32(1,1,512,1)[4.9864593⋯], zeros, ones), K32(1024)[1.0⋯])]), identity), BasicBlock(SequentialModule(Any[ConvLayer(P(KnetArray{Float32,4}(3,3,512,512)), nothing, 1, 1, identity), BNormLayer2d(Knet.Ops20.BNMoments(0.1f0, K32(1,1,512,1)[-1.6573594⋯], K32(1,1,512,1)[63.631374⋯], zeros, ones), K32(1024)[1.0⋯]), var\"#6#7\"(), ConvLayer(P(KnetArray{Float32,4}(3,3,512,512)), nothing, 1, 1, identity), BNormLayer2d(Knet.Ops20.BNMoments(0.1f0, K32(1,1,512,1)[2.570996⋯], K32(1,1,512,1)[1.7683618⋯], zeros, ones), K32(1024)[1.0⋯])]), identity)]), var\"#10#13\"(), var\"#11#14\"()]), DenseLayer(P(KnetArray{Float32,2}(10,512)), P(KnetArray{Float32,2}(10,1)), identity)))"
      ]
     },
     "execution_count": 25,
     "metadata": {},
     "output_type": "execute_result"
    }
   ],
   "source": [
    "model_ftune = SequentialModule(model_base, DenseLayer(512,10))"
   ]
  },
  {
   "cell_type": "code",
   "execution_count": 28,
   "metadata": {},
   "outputs": [
    {
     "name": "stdout",
     "output_type": "stream",
     "text": [
      "Loaded CIFAR Data:\n",
      "32×32×3×50000 Array{Float32,4}\n",
      "50000-element Array{Int64,1}\n",
      "32×32×3×10000 Array{Float32,4}\n",
      "10000-element Array{Int64,1}\n",
      "Generated minibatches\n",
      "97-element Knet.Train20.Data{Tuple{KnetArray{Float32,N} where N,Array{Int64,N} where N}}\n",
      "50000-element Array{Int64,1}\n"
     ]
    },
    {
     "data": {
      "text/plain": [
       "(97-element Knet.Train20.Data{Tuple{KnetArray{Float32,N} where N,Array{Int64,N} where N}}, 19-element Knet.Train20.Data{Tuple{KnetArray{Float32,N} where N,Array{Int64,N} where N}})"
      ]
     },
     "execution_count": 28,
     "metadata": {},
     "output_type": "execute_result"
    }
   ],
   "source": [
    "dtrn2,dtst2 = load_cifar_dataset(bsize)"
   ]
  },
  {
   "cell_type": "code",
   "execution_count": 29,
   "metadata": {},
   "outputs": [],
   "source": [
    "for p2 in params(model_ftune.layers[2])\n",
    "    p2.opt = Adam(lr=0.001)\n",
    "end"
   ]
  },
  {
   "cell_type": "code",
   "execution_count": 30,
   "metadata": {},
   "outputs": [],
   "source": [
    "epochs = 100\n",
    "train_loss2 = zeros(epochs);\n",
    "test_loss2 = zeros(epochs);\n",
    "train_acc2 = zeros(epochs);\n",
    "test_acc2 = zeros(epochs);"
   ]
  },
  {
   "cell_type": "code",
   "execution_count": 31,
   "metadata": {},
   "outputs": [
    {
     "data": {
      "text/plain": [
       "nll_loss (generic function with 1 method)"
      ]
     },
     "execution_count": 31,
     "metadata": {},
     "output_type": "execute_result"
    }
   ],
   "source": [
    "function nll_loss(model, x, y)\n",
    "    scores = model(x)\n",
    "    loss = nll(scores, y)\n",
    "    return loss\n",
    "end"
   ]
  },
  {
   "cell_type": "code",
   "execution_count": 32,
   "metadata": {},
   "outputs": [
    {
     "name": "stdout",
     "output_type": "stream",
     "text": [
      "Epoch 1\n",
      "Train epoch loss: 2.1895205396966837\n",
      "Test epoch accuracy: 0.2704593112815554\n",
      "Epoch 2\n",
      "Train epoch loss: 1.929072828636956\n",
      "Test epoch accuracy: 0.28827469828728414\n",
      "Epoch 3\n",
      "Train epoch loss: 1.8915589470224283\n",
      "Test epoch accuracy: 0.30322123862618044\n",
      "Epoch 4\n",
      "Train epoch loss: 1.8653824009846167\n",
      "Test epoch accuracy: 0.31157302928188824\n",
      "Epoch 5\n",
      "Train epoch loss: 1.8457155645508128\n",
      "Test epoch accuracy: 0.3178573746746855\n",
      "Epoch 6\n",
      "Train epoch loss: 1.8302078443704193\n",
      "Test epoch accuracy: 0.323415681540321\n",
      "Epoch 7\n",
      "Train epoch loss: 1.8175520208693041\n",
      "Test epoch accuracy: 0.3284043176195701\n",
      "Epoch 8\n",
      "Train epoch loss: 1.8069520058091153\n",
      "Test epoch accuracy: 0.3332993875507771\n",
      "Epoch 9\n",
      "Train epoch loss: 1.7978912149507975\n",
      "Test epoch accuracy: 0.3364950531650177\n",
      "Epoch 10\n",
      "Train epoch loss: 1.7900181726082085\n",
      "Test epoch accuracy: 0.3393445644089462\n",
      "Epoch 11\n",
      "Train epoch loss: 1.7830847047038914\n",
      "Test epoch accuracy: 0.34298490055472236\n",
      "Epoch 12\n",
      "Train epoch loss: 1.7769102263696415\n",
      "Test epoch accuracy: 0.3451529815492486\n",
      "Epoch 13\n",
      "Train epoch loss: 1.771359925417556\n",
      "Test epoch accuracy: 0.34526804525079574\n",
      "Epoch 14\n",
      "Train epoch loss: 1.7663308382034302\n",
      "Test epoch accuracy: 0.3467408366812391\n",
      "Epoch 15\n",
      "Train epoch loss: 1.7617428425661068\n",
      "Test epoch accuracy: 0.34888628256706533\n",
      "Epoch 16\n",
      "Train epoch loss: 1.757532493355348\n",
      "Test epoch accuracy: 0.3497946406003846\n",
      "Epoch 17\n",
      "Train epoch loss: 1.7536487333553354\n",
      "Test epoch accuracy: 0.35104184148469564\n",
      "Epoch 18\n",
      "Train epoch loss: 1.7500499290289337\n",
      "Test epoch accuracy: 0.3530913327896088\n",
      "Epoch 19\n",
      "Train epoch loss: 1.7467017235215176\n",
      "Test epoch accuracy: 0.35435888932283743\n",
      "Epoch 20\n",
      "Train epoch loss: 1.7435754365527754\n",
      "Test epoch accuracy: 0.35550410772395036\n",
      "Epoch 21\n",
      "Train epoch loss: 1.7406469300850151\n",
      "Test epoch accuracy: 0.3543648854438916\n",
      "Epoch 22\n",
      "Train epoch loss: 1.7378956644805437\n",
      "Test epoch accuracy: 0.35460515438834705\n",
      "Epoch 23\n",
      "Train epoch loss: 1.735304052067786\n",
      "Test epoch accuracy: 0.3551801947717906\n",
      "Epoch 24\n",
      "Train epoch loss: 1.7328569065664232\n",
      "Test epoch accuracy: 0.3560885978729856\n",
      "Epoch 25\n",
      "Train epoch loss: 1.7305410449037846\n",
      "Test epoch accuracy: 0.35710107109875217\n",
      "Epoch 26\n",
      "Train epoch loss: 1.7283449836612976\n",
      "Test epoch accuracy: 0.3580115013529629\n",
      "Epoch 27\n",
      "Train epoch loss: 1.726258592507274\n",
      "Test epoch accuracy: 0.3584572928923142\n",
      "Epoch 28\n",
      "Train epoch loss: 1.7242729872772373\n",
      "Test epoch accuracy: 0.35879248325625807\n",
      "Epoch 29\n",
      "Train epoch loss: 1.7223802141307556\n",
      "Test epoch accuracy: 0.3585667215149843\n",
      "Epoch 30\n",
      "Train epoch loss: 1.7205732421776683\n",
      "Test epoch accuracy: 0.35923993566934215\n",
      "Epoch 31\n",
      "Train epoch loss: 1.7188457889655202\n",
      "Test epoch accuracy: 0.3596914544958575\n",
      "Epoch 32\n",
      "Train epoch loss: 1.7171921742331122\n",
      "Test epoch accuracy: 0.35992018915534035\n",
      "Epoch 33\n",
      "Train epoch loss: 1.7156073371159661\n",
      "Test epoch accuracy: 0.3598246704856572\n",
      "Epoch 34\n",
      "Train epoch loss: 1.714086680068183\n",
      "Test epoch accuracy: 0.3614069678185537\n",
      "Epoch 35\n",
      "Train epoch loss: 1.7126260074143558\n",
      "Test epoch accuracy: 0.36302084289221187\n",
      "Epoch 36\n",
      "Train epoch loss: 1.7112215560736115\n",
      "Test epoch accuracy: 0.3635817119044931\n",
      "Epoch 37\n",
      "Train epoch loss: 1.7098698763503242\n",
      "Test epoch accuracy: 0.36358513589627206\n",
      "Epoch 38\n",
      "Train epoch loss: 1.70856781595761\n",
      "Test epoch accuracy: 0.3639278441325867\n",
      "Epoch 39\n",
      "Train epoch loss: 1.7073124499665093\n",
      "Test epoch accuracy: 0.36325261118597557\n",
      "Epoch 40\n",
      "Train epoch loss: 1.706101187725657\n",
      "Test epoch accuracy: 0.3635944807575454\n",
      "Epoch 41\n",
      "Train epoch loss: 1.7049315565640164\n",
      "Test epoch accuracy: 0.3634808428714415\n",
      "Epoch 42\n",
      "Train epoch loss: 1.7038012939630096\n",
      "Test epoch accuracy: 0.3632520779691634\n",
      "Epoch 43\n",
      "Train epoch loss: 1.7027083672199053\n",
      "Test epoch accuracy: 0.36325572921843136\n",
      "Epoch 44\n",
      "Train epoch loss: 1.7016507977062894\n",
      "Test epoch accuracy: 0.36360713918650583\n",
      "Epoch 45\n",
      "Train epoch loss: 1.7006268243199771\n",
      "Test epoch accuracy: 0.36315573264135736\n",
      "Epoch 46\n",
      "Train epoch loss: 1.6996347855046852\n",
      "Test epoch accuracy: 0.36315893191999377\n",
      "Epoch 47\n",
      "Train epoch loss: 1.6986731659505785\n",
      "Test epoch accuracy: 0.36316077176086575\n",
      "Epoch 48\n",
      "Train epoch loss: 1.697740501964215\n",
      "Test epoch accuracy: 0.36315895573607704\n",
      "Epoch 49\n",
      "Train epoch loss: 1.6968354416876723\n",
      "Test epoch accuracy: 0.36294106339752474\n",
      "Epoch 50\n",
      "Train epoch loss: 1.6959567561592024\n",
      "Test epoch accuracy: 0.36293858399209844\n",
      "Epoch 51\n",
      "Train epoch loss: 1.6951032631176035\n",
      "Test epoch accuracy: 0.3634942063448784\n",
      "Epoch 52\n",
      "Train epoch loss: 1.6942738528104173\n",
      "Test epoch accuracy: 0.3638457581175923\n",
      "Epoch 53\n",
      "Train epoch loss: 1.6934675027414696\n",
      "Test epoch accuracy: 0.36304998132916194\n",
      "Epoch 54\n",
      "Train epoch loss: 1.6926832297413619\n",
      "Test epoch accuracy: 0.36316595862290535\n",
      "Epoch 55\n",
      "Train epoch loss: 1.6919201403549038\n",
      "Test epoch accuracy: 0.36430813040923515\n",
      "Epoch 56\n",
      "Train epoch loss: 1.6911773521875597\n",
      "Test epoch accuracy: 0.3643134982824336\n",
      "Epoch 57\n",
      "Train epoch loss: 1.6904540737879645\n",
      "Test epoch accuracy: 0.36499132463732353\n",
      "Epoch 58\n",
      "Train epoch loss: 1.6897495063309818\n",
      "Test epoch accuracy: 0.36477282396016614\n",
      "Epoch 59\n",
      "Train epoch loss: 1.6890629775745352\n",
      "Test epoch accuracy: 0.3647823435340258\n",
      "Epoch 60\n",
      "Train epoch loss: 1.6883937452257294\n",
      "Test epoch accuracy: 0.3652405936252823\n",
      "Epoch 61\n",
      "Train epoch loss: 1.6877411984905755\n",
      "Test epoch accuracy: 0.365699904744481\n",
      "Epoch 62\n",
      "Train epoch loss: 1.6871047351778168\n",
      "Test epoch accuracy: 0.3660407322730928\n",
      "Epoch 63\n",
      "Train epoch loss: 1.6864837395776178\n",
      "Test epoch accuracy: 0.3669517327550615\n",
      "Epoch 64\n",
      "Train epoch loss: 1.6858776549703067\n",
      "Test epoch accuracy: 0.36695152674937487\n",
      "Epoch 65\n",
      "Train epoch loss: 1.6852859922291077\n",
      "Test epoch accuracy: 0.3667273750658248\n",
      "Epoch 66\n",
      "Train epoch loss: 1.6847082032370813\n",
      "Test epoch accuracy: 0.3664918041796649\n",
      "Epoch 67\n",
      "Train epoch loss: 1.6841438738341183\n",
      "Test epoch accuracy: 0.36672014074776643\n",
      "Epoch 68\n",
      "Train epoch loss: 1.6835924767956292\n",
      "Test epoch accuracy: 0.36694998283170144\n",
      "Epoch 69\n",
      "Train epoch loss: 1.6830536409751655\n",
      "Test epoch accuracy: 0.36683698539328574\n",
      "Epoch 70\n",
      "Train epoch loss: 1.6825269448388482\n",
      "Test epoch accuracy: 0.36729222405513023\n",
      "Epoch 71\n",
      "Train epoch loss: 1.682011950876295\n",
      "Test epoch accuracy: 0.3671685916763441\n",
      "Epoch 72\n",
      "Train epoch loss: 1.6815083407864129\n",
      "Test epoch accuracy: 0.36694202110810387\n",
      "Epoch 73\n",
      "Train epoch loss: 1.681015728675213\n",
      "Test epoch accuracy: 0.36671609362755075\n",
      "Epoch 74\n",
      "Train epoch loss: 1.6805337606017123\n",
      "Test epoch accuracy: 0.36682806080757097\n",
      "Epoch 75\n",
      "Train epoch loss: 1.680062112120009\n",
      "Test epoch accuracy: 0.36717746076167734\n",
      "Epoch 76\n",
      "Train epoch loss: 1.6796005030268246\n",
      "Test epoch accuracy: 0.3669543337235907\n",
      "Epoch 77\n",
      "Train epoch loss: 1.679148587983908\n",
      "Test epoch accuracy: 0.3670700208900046\n",
      "Epoch 78\n",
      "Train epoch loss: 1.6787061027644836\n",
      "Test epoch accuracy: 0.36718881196657893\n",
      "Epoch 79\n",
      "Train epoch loss: 1.678272754875655\n",
      "Test epoch accuracy: 0.36730583790971266\n",
      "Epoch 80\n",
      "Train epoch loss: 1.6778482862354553\n",
      "Test epoch accuracy: 0.36753283802503595\n",
      "Epoch 81\n",
      "Train epoch loss: 1.6774324522804969\n",
      "Test epoch accuracy: 0.3674097698258187\n",
      "Epoch 82\n",
      "Train epoch loss: 1.67702498632608\n",
      "Test epoch accuracy: 0.36740926133986934\n",
      "Epoch 83\n",
      "Train epoch loss: 1.6766256597853197\n",
      "Test epoch accuracy: 0.36740950845736725\n",
      "Epoch 84\n",
      "Train epoch loss: 1.6762342674216044\n",
      "Test epoch accuracy: 0.3672997458876052\n",
      "Epoch 85\n",
      "Train epoch loss: 1.6758505708163547\n",
      "Test epoch accuracy: 0.36740489305175267\n",
      "Epoch 86\n",
      "Train epoch loss: 1.6754743413826854\n",
      "Test epoch accuracy: 0.36774992151398983\n",
      "Epoch 87\n",
      "Train epoch loss: 1.6751054107528371\n",
      "Test epoch accuracy: 0.36775932898726077\n",
      "Epoch 88\n",
      "Train epoch loss: 1.6747435638585042\n",
      "Test epoch accuracy: 0.36799258814711\n",
      "Epoch 89\n",
      "Train epoch loss: 1.6743886237291945\n",
      "Test epoch accuracy: 0.3684566761101166\n",
      "Epoch 90\n",
      "Train epoch loss: 1.6740404146233785\n",
      "Test epoch accuracy: 0.3686858359723843\n",
      "Epoch 91\n",
      "Train epoch loss: 1.673698746051985\n",
      "Test epoch accuracy: 0.3685719148058315\n",
      "Epoch 92\n",
      "Train epoch loss: 1.673363457021025\n",
      "Test epoch accuracy: 0.3686866653751519\n",
      "Epoch 93\n",
      "Train epoch loss: 1.6730343668731218\n",
      "Test epoch accuracy: 0.3690304703503013\n",
      "Epoch 94\n",
      "Train epoch loss: 1.672711363772756\n",
      "Test epoch accuracy: 0.36868928997589984\n",
      "Epoch 95\n",
      "Train epoch loss: 1.672394247399163\n",
      "Test epoch accuracy: 0.36857308341184286\n",
      "Epoch 96\n",
      "Train epoch loss: 1.6720829022299384\n",
      "Test epoch accuracy: 0.36822756752802355\n",
      "Epoch 97\n",
      "Train epoch loss: 1.6717771660421312\n",
      "Test epoch accuracy: 0.3685669883283429\n",
      "Epoch 98\n",
      "Train epoch loss: 1.6714769183974905\n",
      "Test epoch accuracy: 0.36856521253133984\n",
      "Epoch 99\n",
      "Train epoch loss: 1.6711820105916446\n",
      "Test epoch accuracy: 0.3691307586358391\n",
      "Epoch 100\n",
      "Train epoch loss: 1.6708923344759596\n",
      "Test epoch accuracy: 0.3693617884882437\n"
     ]
    }
   ],
   "source": [
    "for i in 1:epochs\n",
    "    println(\"Epoch \", i)\n",
    "    train_loss2[i] = 0.0\n",
    "    test_loss2[i] = 0.0\n",
    "    train_loss2[i] = 0.0\n",
    "    test_loss2[i] = 0.0\n",
    "    train_acc2[i] = 0.0\n",
    "    test_acc2[i] = 0.0\n",
    "    batch_count = 0\n",
    "    batch_count2 = 0\n",
    "    for (x2, y2) in dtrn2\n",
    "        #x2 = cat(x[:,:,1:3,:], x[:,:,4:6,:], dims=4)\n",
    "        loss2 = @diff nll_loss(model_ftune, x2, y2)\n",
    "        train_loss2[i] += value(loss2)\n",
    "        batch_count += 1\n",
    "        for p2 in params(model_ftune.layers[2])\n",
    "            g2 = grad(loss2, p2)\n",
    "            update!(value(p2), g2, p2.opt)\n",
    "        end\n",
    "    end\n",
    "    for (x2_test, y2_test) in dtst2\n",
    "        scores2 =  model_ftune(x2_test)\n",
    "        test_acc2[i] += accuracy(scores2, y2_test)\n",
    "        batch_count2 += 1\n",
    "    end\n",
    "    train_loss2[i] /= batch_count\n",
    "    test_acc2[i] /= batch_count2\n",
    "    println(\"Train epoch loss: \", train_loss2[i])\n",
    "    println(\"Test epoch accuracy: \", test_acc2[i])\n",
    "    #GC.gc()\n",
    "end"
   ]
  },
  {
   "cell_type": "code",
   "execution_count": null,
   "metadata": {},
   "outputs": [],
   "source": []
  },
  {
   "cell_type": "code",
   "execution_count": 101,
   "metadata": {},
   "outputs": [
    {
     "name": "stdout",
     "output_type": "stream",
     "text": [
      "[3, 8, 8, 0, 6, 6, 1, 6, 3, 1, 0, 9, 5, 7, 9, 8, 5, 7, 8, 6, 7, 0, 4, 9, 5, 2, 4, 0, 9, 6, 6, 5, 4, 5, 9, 2, 4, 1, 9, 5, 4, 6, 5, 6, 0, 9, 3, 9, 7, 6, 9, 8, 0, 3, 8, 8, 7, 7, 4, 6, 7, 3, 6, 3, 6, 2, 1, 2, 3, 7, 2, 6, 8, 8, 0, 2, 9, 3, 3, 8, 8, 1, 1, 7, 2, 5, 2, 7, 8, 9, 0, 3, 8, 6, 4, 6, 6, 0, 0, 7, 4, 5, 6, 3, 1, 1, 3, 6, 8, 7, 4, 0, 6, 2, 1, 3, 0, 4, 2, 7, 8, 3, 1, 2, 8, 0, 8, 3, 5, 2, 4, 1, 8, 9, 1, 2, 9, 7, 2, 9, 6, 5, 6, 3, 8, 7, 6, 2, 5, 2, 8, 9, 6, 0, 0, 5, 2, 9, 5, 4, 2, 1, 6, 6, 8, 4, 8, 4, 5, 0, 9, 9, 9, 8, 9, 9, 3, 7, 5, 0, 0, 5, 2, 2, 3, 8, 6, 3, 4, 0, 5, 8, 0, 1, 7, 2, 8, 8, 7, 8, 5, 1, 8, 7, 1, 3, 0, 5, 7, 9, 7, 4, 5, 9, 8, 0, 7, 9, 8, 2, 7, 6, 9, 4, 3, 9, 6, 4, 7, 6, 5, 1, 5, 8, 8, 0, 4, 0, 5, 5, 1, 1, 8, 9, 0, 3, 1, 9, 2, 2, 5, 3, 9, 9, 4, 0, 3, 0, 0, 9, 8, 1, 5, 7, 0, 8, 2, 4, 7, 0, 2, 3, 6, 3, 8, 5, 0, 3, 4, 3, 9, 0, 6, 1, 0, 9, 1, 0, 7, 9, 1, 2, 6, 9, 3, 4, 6, 0, 0, 6, 6, 6, 3, 2, 6, 1, 8, 2, 1, 6, 8, 6, 8, 0, 4, 0, 7, 7, 5, 5, 3, 5, 2, 3, 4, 1, 7, 5, 4, 6, 1, 9, 3, 6, 6, 9, 3, 8, 0, 7, 2, 6, 2, 5, 8, 5, 4, 6, 8, 9, 9, 1, 0, 2, 2, 7, 3, 2, 8, 0, 9, 5, 8, 1, 9, 4, 1, 3, 8, 1, 4, 7, 9, 4, 2, 7, 0, 7, 0, 6, 6, 9, 0, 9, 2, 8, 7, 2, 2, 5, 1, 2, 6, 2, 9, 6, 2, 3, 0, 3, 9, 8, 7, 8, 8, 4, 0, 1, 8, 2, 7, 9, 3, 6, 1, 9, 0, 7, 3, 7, 4, 5, 0, 0, 2, 9, 3, 4, 0, 6, 2, 5, 3, 7, 3, 7, 2, 5, 3, 1, 1, 4, 9, 9, 5, 7, 5, 0, 2, 2, 2, 9, 7, 3, 9, 4, 3, 5, 4, 6, 5, 6, 1, 4, 3, 4, 4, 3, 7, 8, 3, 7, 8, 0, 5, 7, 6, 0, 5, 4, 8, 6, 8, 5, 5, 9, 9, 9, 5, 0, 1, 0, 8, 1, 1, 8, 0, 2, 2, 0, 4, 6, 5, 4, 9, 4, 7, 9, 9, 4, 5, 6]\n",
      "[5 9 8 8 6 4 1 3 4 2 8 9 1 5 9 4 5 3 9 6 7 2 8 1 4 2 7 9 1 6 4 4 8 3 9 7 2 9 9 1 9 6 3 3 8 9 5 9 4 6 9 8 8 6 8 8 5 1 3 1 6 4 3 7 6 6 1 8 5 1 2 4 8 8 8 2 9 5 4 8 8 5 1 7 3 9 2 8 7 1 9 5 8 9 2 5 6 8 5 6 8 7 5 3 1 8 8 6 3 5 6 8 2 8 7 4 8 9 5 3 8 7 1 2 9 2 8 5 7 9 4 3 8 7 1 3 9 9 2 8 7 5 6 8 1 3 5 5 7 3 8 3 6 9 8 5 2 1 7 8 2 8 3 6 8 7 8 4 7 8 1 7 1 8 7 9 8 6 9 9 5 3 3 4 6 8 6 3 2 8 3 9 5 1 4 2 9 2 7 8 6 8 8 1 1 4 8 6 4 8 3 3 8 7 9 3 6 7 8 4 7 5 7 5 9 9 6 2 7 3 3 9 3 1 8 8 4 8 1 6 1 7 1 3 8 7 4 8 1 8 7 3 6 2 4 7 6 8 9 7 6 1 9 1 8 8 2 4 7 2 4 3 6 3 8 9 1 5 4 3 9 7 4 9 8 7 8 8 8 9 1 4 6 1 3 2 6 2 8 6 6 6 2 5 2 8 9 9 1 2 8 6 8 2 3 5 7 9 6 3 2 3 3 2 6 8 5 9 8 6 8 9 4 7 6 6 3 8 2 5 6 6 2 1 8 3 5 6 8 1 7 9 8 8 2 3 2 7 9 8 7 5 8 8 7 8 4 8 8 9 4 8 9 3 1 1 8 3 2 6 6 9 8 8 2 8 9 2 5 7 1 8 6 3 7 4 5 9 8 9 6 1 6 8 8 2 8 8 8 8 5 8 4 4 9 3 6 3 7 7 3 3 8 8 4 8 5 2 8 6 5 6 6 1 9 1 3 6 5 6 3 2 3 8 3 5 3 2 2 2 3 9 9 9 9 2 2 3 3 3 5 3 9 6 3 4 3 9 7 1 2 9 8 4 3 7 6 8 4 2 9 6 2 3 1 2 1 9 5 8 1 6 8 1 8 8 1 2 8 8 4 4 4 6 9 4 5 7 3 4 5 6]"
     ]
    }
   ],
   "source": [
    "for (x2_test, y2_test) in dtst2\n",
    "    scores2 =  model_ftune(x2_test)\n",
    "    print(y2_test,\"\\n\")\n",
    "    print(map( y -> y[1], argmax(scores2, dims=1)))\n",
    "    break\n",
    "end"
   ]
  },
  {
   "cell_type": "code",
   "execution_count": null,
   "metadata": {},
   "outputs": [],
   "source": []
  },
  {
   "cell_type": "code",
   "execution_count": 97,
   "metadata": {},
   "outputs": [
    {
     "name": "stdout",
     "output_type": "stream",
     "text": [
      "search: \u001b[0m\u001b[1ma\u001b[22m\u001b[0m\u001b[1mr\u001b[22m\u001b[0m\u001b[1mg\u001b[22m\u001b[0m\u001b[1mm\u001b[22m\u001b[0m\u001b[1ma\u001b[22m\u001b[0m\u001b[1mx\u001b[22m\n",
      "\n"
     ]
    },
    {
     "data": {
      "text/latex": [
       "\\begin{verbatim}\n",
       "argmax(itr) -> Integer\n",
       "\\end{verbatim}\n",
       "Return the index of the maximum element in a collection. If there are multiple maximal elements, then the first one will be returned.\n",
       "\n",
       "The collection must not be empty.\n",
       "\n",
       "\\section{Examples}\n",
       "\\begin{verbatim}\n",
       "julia> argmax([8,0.1,-9,pi])\n",
       "1\n",
       "\n",
       "julia> argmax([1,7,7,6])\n",
       "2\n",
       "\n",
       "julia> argmax([1,7,7,NaN])\n",
       "4\n",
       "\\end{verbatim}\n",
       "\\rule{\\textwidth}{1pt}\n",
       "\\begin{verbatim}\n",
       "argmax(A; dims) -> indices\n",
       "\\end{verbatim}\n",
       "For an array input, return the indices of the maximum elements over the given dimensions. \\texttt{NaN} is treated as greater than all other values.\n",
       "\n",
       "\\section{Examples}\n",
       "\\begin{verbatim}\n",
       "julia> A = [1.0 2; 3 4]\n",
       "2×2 Array{Float64,2}:\n",
       " 1.0  2.0\n",
       " 3.0  4.0\n",
       "\n",
       "julia> argmax(A, dims=1)\n",
       "1×2 Array{CartesianIndex{2},2}:\n",
       " CartesianIndex(2, 1)  CartesianIndex(2, 2)\n",
       "\n",
       "julia> argmax(A, dims=2)\n",
       "2×1 Array{CartesianIndex{2},2}:\n",
       " CartesianIndex(1, 2)\n",
       " CartesianIndex(2, 2)\n",
       "\\end{verbatim}\n"
      ],
      "text/markdown": [
       "```\n",
       "argmax(itr) -> Integer\n",
       "```\n",
       "\n",
       "Return the index of the maximum element in a collection. If there are multiple maximal elements, then the first one will be returned.\n",
       "\n",
       "The collection must not be empty.\n",
       "\n",
       "# Examples\n",
       "\n",
       "```jldoctest\n",
       "julia> argmax([8,0.1,-9,pi])\n",
       "1\n",
       "\n",
       "julia> argmax([1,7,7,6])\n",
       "2\n",
       "\n",
       "julia> argmax([1,7,7,NaN])\n",
       "4\n",
       "```\n",
       "\n",
       "---\n",
       "\n",
       "```\n",
       "argmax(A; dims) -> indices\n",
       "```\n",
       "\n",
       "For an array input, return the indices of the maximum elements over the given dimensions. `NaN` is treated as greater than all other values.\n",
       "\n",
       "# Examples\n",
       "\n",
       "```jldoctest\n",
       "julia> A = [1.0 2; 3 4]\n",
       "2×2 Array{Float64,2}:\n",
       " 1.0  2.0\n",
       " 3.0  4.0\n",
       "\n",
       "julia> argmax(A, dims=1)\n",
       "1×2 Array{CartesianIndex{2},2}:\n",
       " CartesianIndex(2, 1)  CartesianIndex(2, 2)\n",
       "\n",
       "julia> argmax(A, dims=2)\n",
       "2×1 Array{CartesianIndex{2},2}:\n",
       " CartesianIndex(1, 2)\n",
       " CartesianIndex(2, 2)\n",
       "```\n"
      ],
      "text/plain": [
       "\u001b[36m  argmax(itr) -> Integer\u001b[39m\n",
       "\n",
       "  Return the index of the maximum element in a collection. If there are\n",
       "  multiple maximal elements, then the first one will be returned.\n",
       "\n",
       "  The collection must not be empty.\n",
       "\n",
       "\u001b[1m  Examples\u001b[22m\n",
       "\u001b[1m  ≡≡≡≡≡≡≡≡≡≡\u001b[22m\n",
       "\n",
       "\u001b[36m  julia> argmax([8,0.1,-9,pi])\u001b[39m\n",
       "\u001b[36m  1\u001b[39m\n",
       "\u001b[36m  \u001b[39m\n",
       "\u001b[36m  julia> argmax([1,7,7,6])\u001b[39m\n",
       "\u001b[36m  2\u001b[39m\n",
       "\u001b[36m  \u001b[39m\n",
       "\u001b[36m  julia> argmax([1,7,7,NaN])\u001b[39m\n",
       "\u001b[36m  4\u001b[39m\n",
       "\n",
       "  ────────────────────────────────────────────────────────────────────────────\n",
       "\n",
       "\u001b[36m  argmax(A; dims) -> indices\u001b[39m\n",
       "\n",
       "  For an array input, return the indices of the maximum elements over the\n",
       "  given dimensions. \u001b[36mNaN\u001b[39m is treated as greater than all other values.\n",
       "\n",
       "\u001b[1m  Examples\u001b[22m\n",
       "\u001b[1m  ≡≡≡≡≡≡≡≡≡≡\u001b[22m\n",
       "\n",
       "\u001b[36m  julia> A = [1.0 2; 3 4]\u001b[39m\n",
       "\u001b[36m  2×2 Array{Float64,2}:\u001b[39m\n",
       "\u001b[36m   1.0  2.0\u001b[39m\n",
       "\u001b[36m   3.0  4.0\u001b[39m\n",
       "\u001b[36m  \u001b[39m\n",
       "\u001b[36m  julia> argmax(A, dims=1)\u001b[39m\n",
       "\u001b[36m  1×2 Array{CartesianIndex{2},2}:\u001b[39m\n",
       "\u001b[36m   CartesianIndex(2, 1)  CartesianIndex(2, 2)\u001b[39m\n",
       "\u001b[36m  \u001b[39m\n",
       "\u001b[36m  julia> argmax(A, dims=2)\u001b[39m\n",
       "\u001b[36m  2×1 Array{CartesianIndex{2},2}:\u001b[39m\n",
       "\u001b[36m   CartesianIndex(1, 2)\u001b[39m\n",
       "\u001b[36m   CartesianIndex(2, 2)\u001b[39m"
      ]
     },
     "execution_count": 97,
     "metadata": {},
     "output_type": "execute_result"
    }
   ],
   "source": [
    "? argmax()"
   ]
  },
  {
   "cell_type": "code",
   "execution_count": null,
   "metadata": {},
   "outputs": [],
   "source": [
    "accuracy()"
   ]
  },
  {
   "cell_type": "code",
   "execution_count": 102,
   "metadata": {},
   "outputs": [
    {
     "data": {
      "text/plain": [
       "SequentialModule((SequentialModule(Any[ConvLayer(P(KnetArray{Float32,4}(7,7,3,64)), nothing, 3, 2, identity), BNormLayer2d(Knet.Ops20.BNMoments(0.1f0, K32(1,1,64,1)[-2.2766654⋯], K32(1,1,64,1)[1.3879902⋯], zeros, ones), K32(128)[1.0⋯]), var\"#9#12\"(), PoolLayer(3, 2, 1, 0), SequentialModule(Any[BasicBlock(SequentialModule(Any[ConvLayer(P(KnetArray{Float32,4}(3,3,64,64)), nothing, 1, 1, identity), BNormLayer2d(Knet.Ops20.BNMoments(0.1f0, K32(1,1,64,1)[-11.530143⋯], K32(1,1,64,1)[50.851994⋯], zeros, ones), K32(128)[1.0⋯]), var\"#6#7\"(), ConvLayer(P(KnetArray{Float32,4}(3,3,64,64)), nothing, 1, 1, identity), BNormLayer2d(Knet.Ops20.BNMoments(0.1f0, K32(1,1,64,1)[-0.86312014⋯], K32(1,1,64,1)[5.838348⋯], zeros, ones), K32(128)[1.0⋯])]), identity), BasicBlock(SequentialModule(Any[ConvLayer(P(KnetArray{Float32,4}(3,3,64,64)), nothing, 1, 1, identity), BNormLayer2d(Knet.Ops20.BNMoments(0.1f0, K32(1,1,64,1)[-9.07706⋯], K32(1,1,64,1)[31.679686⋯], zeros, ones), K32(128)[1.0⋯]), var\"#6#7\"(), ConvLayer(P(KnetArray{Float32,4}(3,3,64,64)), nothing, 1, 1, identity), BNormLayer2d(Knet.Ops20.BNMoments(0.1f0, K32(1,1,64,1)[-1.4460369⋯], K32(1,1,64,1)[7.6750617⋯], zeros, ones), K32(128)[1.0⋯])]), identity), BasicBlock(SequentialModule(Any[ConvLayer(P(KnetArray{Float32,4}(3,3,64,64)), nothing, 1, 1, identity), BNormLayer2d(Knet.Ops20.BNMoments(0.1f0, K32(1,1,64,1)[2.3593843⋯], K32(1,1,64,1)[26.258282⋯], zeros, ones), K32(128)[1.0⋯]), var\"#6#7\"(), ConvLayer(P(KnetArray{Float32,4}(3,3,64,64)), nothing, 1, 1, identity), BNormLayer2d(Knet.Ops20.BNMoments(0.1f0, K32(1,1,64,1)[-0.35812435⋯], K32(1,1,64,1)[4.8037796⋯], zeros, ones), K32(128)[1.0⋯])]), identity)]), SequentialModule(Any[BasicBlock(SequentialModule(Any[ConvLayer(P(KnetArray{Float32,4}(3,3,64,128)), nothing, 1, 2, identity), BNormLayer2d(Knet.Ops20.BNMoments(0.1f0, K32(1,1,128,1)[-1.0565526⋯], K32(1,1,128,1)[24.028269⋯], zeros, ones), K32(256)[1.0⋯]), var\"#6#7\"(), ConvLayer(P(KnetArray{Float32,4}(3,3,128,128)), nothing, 1, 1, identity), BNormLayer2d(Knet.Ops20.BNMoments(0.1f0, K32(1,1,128,1)[-0.074484706⋯], K32(1,1,128,1)[6.3113422⋯], zeros, ones), K32(256)[1.0⋯])]), SequentialModule(Any[ConvLayer(P(KnetArray{Float32,4}(1,1,64,128)), nothing, 0, 2, identity), BNormLayer2d(Knet.Ops20.BNMoments(0.1f0, K32(1,1,128,1)[2.613968⋯], K32(1,1,128,1)[3.079884⋯], zeros, ones), K32(256)[1.0⋯])])), BasicBlock(SequentialModule(Any[ConvLayer(P(KnetArray{Float32,4}(3,3,128,128)), nothing, 1, 1, identity), BNormLayer2d(Knet.Ops20.BNMoments(0.1f0, K32(1,1,128,1)[-0.61591655⋯], K32(1,1,128,1)[11.037326⋯], zeros, ones), K32(256)[1.0⋯]), var\"#6#7\"(), ConvLayer(P(KnetArray{Float32,4}(3,3,128,128)), nothing, 1, 1, identity), BNormLayer2d(Knet.Ops20.BNMoments(0.1f0, K32(1,1,128,1)[-1.5663747⋯], K32(1,1,128,1)[4.3320193⋯], zeros, ones), K32(256)[1.0⋯])]), identity), BasicBlock(SequentialModule(Any[ConvLayer(P(KnetArray{Float32,4}(3,3,128,128)), nothing, 1, 1, identity), BNormLayer2d(Knet.Ops20.BNMoments(0.1f0, K32(1,1,128,1)[0.8083028⋯], K32(1,1,128,1)[17.567886⋯], zeros, ones), K32(256)[1.0⋯]), var\"#6#7\"(), ConvLayer(P(KnetArray{Float32,4}(3,3,128,128)), nothing, 1, 1, identity), BNormLayer2d(Knet.Ops20.BNMoments(0.1f0, K32(1,1,128,1)[-0.9019535⋯], K32(1,1,128,1)[7.9710693⋯], zeros, ones), K32(256)[1.0⋯])]), identity), BasicBlock(SequentialModule(Any[ConvLayer(P(KnetArray{Float32,4}(3,3,128,128)), nothing, 1, 1, identity), BNormLayer2d(Knet.Ops20.BNMoments(0.1f0, K32(1,1,128,1)[0.9569197⋯], K32(1,1,128,1)[24.570633⋯], zeros, ones), K32(256)[1.0⋯]), var\"#6#7\"(), ConvLayer(P(KnetArray{Float32,4}(3,3,128,128)), nothing, 1, 1, identity), BNormLayer2d(Knet.Ops20.BNMoments(0.1f0, K32(1,1,128,1)[0.8475945⋯], K32(1,1,128,1)[8.280184⋯], zeros, ones), K32(256)[1.0⋯])]), identity)]), SequentialModule(Any[BasicBlock(SequentialModule(Any[ConvLayer(P(KnetArray{Float32,4}(3,3,128,256)), nothing, 1, 2, identity), BNormLayer2d(Knet.Ops20.BNMoments(0.1f0, K32(1,1,256,1)[-0.72977173⋯], K32(1,1,256,1)[31.97913⋯], zeros, ones), K32(512)[1.0⋯]), var\"#6#7\"(), ConvLayer(P(KnetArray{Float32,4}(3,3,256,256)), nothing, 1, 1, identity), BNormLayer2d(Knet.Ops20.BNMoments(0.1f0, K32(1,1,256,1)[-4.8248997⋯], K32(1,1,256,1)[12.682312⋯], zeros, ones), K32(512)[1.0⋯])]), SequentialModule(Any[ConvLayer(P(KnetArray{Float32,4}(1,1,128,256)), nothing, 0, 2, identity), BNormLayer2d(Knet.Ops20.BNMoments(0.1f0, K32(1,1,256,1)[0.9767192⋯], K32(1,1,256,1)[5.5516815⋯], zeros, ones), K32(512)[1.0⋯])])), BasicBlock(SequentialModule(Any[ConvLayer(P(KnetArray{Float32,4}(3,3,256,256)), nothing, 1, 1, identity), BNormLayer2d(Knet.Ops20.BNMoments(0.1f0, K32(1,1,256,1)[-12.994356⋯], K32(1,1,256,1)[341.17902⋯], zeros, ones), K32(512)[1.0⋯]), var\"#6#7\"(), ConvLayer(P(KnetArray{Float32,4}(3,3,256,256)), nothing, 1, 1, identity), BNormLayer2d(Knet.Ops20.BNMoments(0.1f0, K32(1,1,256,1)[-7.250234⋯], K32(1,1,256,1)[670.0844⋯], zeros, ones), K32(512)[1.0⋯])]), identity), BasicBlock(SequentialModule(Any[ConvLayer(P(KnetArray{Float32,4}(3,3,256,256)), nothing, 1, 1, identity), BNormLayer2d(Knet.Ops20.BNMoments(0.1f0, K32(1,1,256,1)[-18.797783⋯], K32(1,1,256,1)[667.2717⋯], zeros, ones), K32(512)[1.0⋯]), var\"#6#7\"(), ConvLayer(P(KnetArray{Float32,4}(3,3,256,256)), nothing, 1, 1, identity), BNormLayer2d(Knet.Ops20.BNMoments(0.1f0, K32(1,1,256,1)[-2.6345224⋯], K32(1,1,256,1)[409.52252⋯], zeros, ones), K32(512)[1.0⋯])]), identity), BasicBlock(SequentialModule(Any[ConvLayer(P(KnetArray{Float32,4}(3,3,256,256)), nothing, 1, 1, identity), BNormLayer2d(Knet.Ops20.BNMoments(0.1f0, K32(1,1,256,1)[-31.461372⋯], K32(1,1,256,1)[1368.1525⋯], zeros, ones), K32(512)[1.0⋯]), var\"#6#7\"(), ConvLayer(P(KnetArray{Float32,4}(3,3,256,256)), nothing, 1, 1, identity), BNormLayer2d(Knet.Ops20.BNMoments(0.1f0, K32(1,1,256,1)[-4.7135816⋯], K32(1,1,256,1)[356.9359⋯], zeros, ones), K32(512)[1.0⋯])]), identity), BasicBlock(SequentialModule(Any[ConvLayer(P(KnetArray{Float32,4}(3,3,256,256)), nothing, 1, 1, identity), BNormLayer2d(Knet.Ops20.BNMoments(0.1f0, K32(1,1,256,1)[-41.045937⋯], K32(1,1,256,1)[2385.053⋯], zeros, ones), K32(512)[1.0⋯]), var\"#6#7\"(), ConvLayer(P(KnetArray{Float32,4}(3,3,256,256)), nothing, 1, 1, identity), BNormLayer2d(Knet.Ops20.BNMoments(0.1f0, K32(1,1,256,1)[-4.6959085⋯], K32(1,1,256,1)[294.90604⋯], zeros, ones), K32(512)[1.0⋯])]), identity), BasicBlock(SequentialModule(Any[ConvLayer(P(KnetArray{Float32,4}(3,3,256,256)), nothing, 1, 1, identity), BNormLayer2d(Knet.Ops20.BNMoments(0.1f0, K32(1,1,256,1)[-46.264507⋯], K32(1,1,256,1)[3229.2927⋯], zeros, ones), K32(512)[1.0⋯]), var\"#6#7\"(), ConvLayer(P(KnetArray{Float32,4}(3,3,256,256)), nothing, 1, 1, identity), BNormLayer2d(Knet.Ops20.BNMoments(0.1f0, K32(1,1,256,1)[-8.103794⋯], K32(1,1,256,1)[408.17227⋯], zeros, ones), K32(512)[1.0⋯])]), identity)]), SequentialModule(Any[BasicBlock(SequentialModule(Any[ConvLayer(P(KnetArray{Float32,4}(3,3,256,512)), nothing, 1, 2, identity), BNormLayer2d(Knet.Ops20.BNMoments(0.1f0, K32(1,1,512,1)[-43.340557⋯], K32(1,1,512,1)[22.960192⋯], zeros, ones), K32(1024)[1.0⋯]), var\"#6#7\"(), ConvLayer(P(KnetArray{Float32,4}(3,3,512,512)), nothing, 1, 1, identity), BNormLayer2d(Knet.Ops20.BNMoments(0.1f0, K32(1,1,512,1)[0.91079104⋯], K32(1,1,512,1)[27.373417⋯], zeros, ones), K32(1024)[1.0⋯])]), SequentialModule(Any[ConvLayer(P(KnetArray{Float32,4}(1,1,256,512)), nothing, 0, 2, identity), BNormLayer2d(Knet.Ops20.BNMoments(0.1f0, K32(1,1,512,1)[10.217637⋯], K32(1,1,512,1)[9.002348⋯], zeros, ones), K32(1024)[1.0⋯])])), BasicBlock(SequentialModule(Any[ConvLayer(P(KnetArray{Float32,4}(3,3,512,512)), nothing, 1, 1, identity), BNormLayer2d(Knet.Ops20.BNMoments(0.1f0, K32(1,1,512,1)[-1.9342852⋯], K32(1,1,512,1)[16.925816⋯], zeros, ones), K32(1024)[1.0⋯]), var\"#6#7\"(), ConvLayer(P(KnetArray{Float32,4}(3,3,512,512)), nothing, 1, 1, identity), BNormLayer2d(Knet.Ops20.BNMoments(0.1f0, K32(1,1,512,1)[3.467374⋯], K32(1,1,512,1)[22.217117⋯], zeros, ones), K32(1024)[1.0⋯])]), identity), BasicBlock(SequentialModule(Any[ConvLayer(P(KnetArray{Float32,4}(3,3,512,512)), nothing, 1, 1, identity), BNormLayer2d(Knet.Ops20.BNMoments(0.1f0, K32(1,1,512,1)[0.007488663⋯], K32(1,1,512,1)[75.90802⋯], zeros, ones), K32(1024)[1.0⋯]), var\"#6#7\"(), ConvLayer(P(KnetArray{Float32,4}(3,3,512,512)), nothing, 1, 1, identity), BNormLayer2d(Knet.Ops20.BNMoments(0.1f0, K32(1,1,512,1)[2.4539025⋯], K32(1,1,512,1)[11.402887⋯], zeros, ones), K32(1024)[1.0⋯])]), identity)]), var\"#10#13\"(), var\"#11#14\"()]), DenseLayer(P(KnetArray{Float32,2}(10,512)), P(KnetArray{Float32,2}(10,1)), identity)))"
      ]
     },
     "execution_count": 102,
     "metadata": {},
     "output_type": "execute_result"
    }
   ],
   "source": [
    "model_ftune"
   ]
  },
  {
   "cell_type": "code",
   "execution_count": 108,
   "metadata": {},
   "outputs": [
    {
     "data": {
      "text/plain": [
       "P(KnetArray{Float32,2}(10,512))"
      ]
     },
     "execution_count": 108,
     "metadata": {},
     "output_type": "execute_result"
    }
   ],
   "source": [
    "model_ftune.layers[2].w"
   ]
  },
  {
   "cell_type": "code",
   "execution_count": null,
   "metadata": {},
   "outputs": [],
   "source": []
  }
 ],
 "metadata": {
  "kernelspec": {
   "display_name": "Julia 1.5.2",
   "language": "julia",
   "name": "julia-1.5"
  },
  "language_info": {
   "file_extension": ".jl",
   "mimetype": "application/julia",
   "name": "julia",
   "version": "1.5.2"
  }
 },
 "nbformat": 4,
 "nbformat_minor": 4
}
