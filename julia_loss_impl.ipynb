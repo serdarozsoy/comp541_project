{
 "cells": [
  {
   "cell_type": "code",
   "execution_count": 1,
   "metadata": {},
   "outputs": [],
   "source": [
    "using LinearAlgebra\n",
    "using CUDA\n",
    "using Knet"
   ]
  },
  {
   "cell_type": "code",
   "execution_count": 2,
   "metadata": {},
   "outputs": [
    {
     "data": {
      "text/plain": [
       "1.0"
      ]
     },
     "execution_count": 2,
     "metadata": {},
     "output_type": "execute_result"
    }
   ],
   "source": [
    "LARGE_NUM = 1e9\n",
    "temperature = 1.0\n",
    "weights = 1.0"
   ]
  },
  {
   "cell_type": "code",
   "execution_count": 3,
   "metadata": {},
   "outputs": [
    {
     "data": {
      "text/plain": [
       "KnetArray{Float32,N} where N"
      ]
     },
     "execution_count": 3,
     "metadata": {},
     "output_type": "execute_result"
    }
   ],
   "source": [
    "_atype = CUDA.functional() ? KnetArray{Float32} : Array{Float32}"
   ]
  },
  {
   "cell_type": "code",
   "execution_count": 21,
   "metadata": {},
   "outputs": [
    {
     "data": {
      "text/plain": [
       "6×2 Array{Float64,2}:\n",
       " 1.0   2.0\n",
       " 3.0  -2.0\n",
       " 1.0   5.0\n",
       " 1.0   0.75\n",
       " 2.8  -1.75\n",
       " 1.0   4.7"
      ]
     },
     "execution_count": 21,
     "metadata": {},
     "output_type": "execute_result"
    }
   ],
   "source": [
    "z = Array([1.0 2.0\n",
    "        3.0 -2.0\n",
    "        1.0 5.0\n",
    "        1.0 0.75\n",
    "        2.8 -1.75\n",
    "        1.0 4.7])"
   ]
  },
  {
   "cell_type": "code",
   "execution_count": 13,
   "metadata": {},
   "outputs": [
    {
     "data": {
      "text/plain": [
       "6×2 Array{Float64,2}:\n",
       " 1.0   2.0\n",
       " 3.0  -2.0\n",
       " 1.0   5.0\n",
       " 1.0   0.75\n",
       " 2.8  -1.75\n",
       " 1.0   4.7"
      ]
     },
     "execution_count": 13,
     "metadata": {},
     "output_type": "execute_result"
    }
   ],
   "source": [
    "z"
   ]
  },
  {
   "cell_type": "code",
   "execution_count": 14,
   "metadata": {},
   "outputs": [
    {
     "data": {
      "text/plain": [
       "6×1 KnetArray{Float32,2}:\n",
       " 2.236068\n",
       " 3.6055512\n",
       " 5.0990195\n",
       " 1.25\n",
       " 3.3018935\n",
       " 4.8052053"
      ]
     },
     "execution_count": 14,
     "metadata": {},
     "output_type": "execute_result"
    }
   ],
   "source": [
    "norm_z = convert(_atype, mapslices(norm, Array(z), dims=[2]))"
   ]
  },
  {
   "cell_type": "code",
   "execution_count": 15,
   "metadata": {},
   "outputs": [
    {
     "data": {
      "text/plain": [
       "6-element Array{Float64,1}:\n",
       " 2.23606797749979\n",
       " 3.605551275463989\n",
       " 5.0990195135927845\n",
       " 1.25\n",
       " 3.3018933962198114\n",
       " 4.805205510693586"
      ]
     },
     "execution_count": 15,
     "metadata": {},
     "output_type": "execute_result"
    }
   ],
   "source": [
    "norm_z = zeros(size(z)[1])\n",
    "for i in 1:size(z)[1]\n",
    "    v =norm(getindex(z,i,:))\n",
    "    setindex!(norm_z, v, i)\n",
    "end\n",
    "norm_z"
   ]
  },
  {
   "cell_type": "code",
   "execution_count": 16,
   "metadata": {},
   "outputs": [
    {
     "data": {
      "text/plain": [
       "6×1 Array{Float64,2}:\n",
       " 2.23606797749979\n",
       " 3.605551275463989\n",
       " 5.0990195135927845\n",
       " 1.25\n",
       " 3.3018933962198114\n",
       " 4.805205510693586"
      ]
     },
     "execution_count": 16,
     "metadata": {},
     "output_type": "execute_result"
    }
   ],
   "source": [
    "norm_z = sqrt.(sum(abs2,z,dims=2))\n",
    "norm_z"
   ]
  },
  {
   "cell_type": "code",
   "execution_count": 35,
   "metadata": {},
   "outputs": [
    {
     "data": {
      "text/plain": [
       "6×2 KnetArray{Float32,2}:\n",
       " 1.0   2.0\n",
       " 3.0  -2.0\n",
       " 1.0   5.0\n",
       " 1.0   0.75\n",
       " 2.8  -1.75\n",
       " 1.0   4.7"
      ]
     },
     "execution_count": 35,
     "metadata": {},
     "output_type": "execute_result"
    }
   ],
   "source": [
    "norm_z = convert(_atype,norm_z)\n",
    "z = convert(_atype,z)"
   ]
  },
  {
   "cell_type": "code",
   "execution_count": 36,
   "metadata": {},
   "outputs": [
    {
     "data": {
      "text/plain": [
       "6×2 KnetArray{Float32,2}:\n",
       " 0.447214   0.894427\n",
       " 0.83205   -0.5547\n",
       " 0.196116   0.980581\n",
       " 0.8        0.6\n",
       " 0.847998  -0.529999\n",
       " 0.208108   0.978106"
      ]
     },
     "execution_count": 36,
     "metadata": {},
     "output_type": "execute_result"
    }
   ],
   "source": [
    "zx = z ./ norm_z"
   ]
  },
  {
   "cell_type": "code",
   "execution_count": 24,
   "metadata": {},
   "outputs": [
    {
     "data": {
      "text/plain": [
       "3"
      ]
     },
     "execution_count": 24,
     "metadata": {},
     "output_type": "execute_result"
    }
   ],
   "source": [
    "bs = size(zx)[1]÷2"
   ]
  },
  {
   "cell_type": "code",
   "execution_count": 38,
   "metadata": {},
   "outputs": [
    {
     "data": {
      "text/plain": [
       "3×2 KnetArray{Float32,2}:\n",
       " 0.447214   0.894427\n",
       " 0.83205   -0.5547\n",
       " 0.196116   0.980581"
      ]
     },
     "execution_count": 38,
     "metadata": {},
     "output_type": "execute_result"
    }
   ],
   "source": [
    "z1 = zx[1:bs,:]"
   ]
  },
  {
   "cell_type": "code",
   "execution_count": 39,
   "metadata": {},
   "outputs": [
    {
     "data": {
      "text/plain": [
       "3×2 KnetArray{Float32,2}:\n",
       " 0.8        0.6\n",
       " 0.847998  -0.529999\n",
       " 0.208108   0.978106"
      ]
     },
     "execution_count": 39,
     "metadata": {},
     "output_type": "execute_result"
    }
   ],
   "source": [
    "z2 = zx[bs+1:bs*2,:]"
   ]
  },
  {
   "cell_type": "code",
   "execution_count": 40,
   "metadata": {},
   "outputs": [
    {
     "data": {
      "text/plain": [
       "3×6 KnetArray{Float32,2}:\n",
       " 1.0  0.0  0.0  0.0  0.0  0.0\n",
       " 0.0  1.0  0.0  0.0  0.0  0.0\n",
       " 0.0  0.0  1.0  0.0  0.0  0.0"
      ]
     },
     "execution_count": 40,
     "metadata": {},
     "output_type": "execute_result"
    }
   ],
   "source": [
    "labels = convert(_atype, Array{Float64}(I, bs, bs*2))"
   ]
  },
  {
   "cell_type": "code",
   "execution_count": 41,
   "metadata": {},
   "outputs": [
    {
     "data": {
      "text/plain": [
       "3×3 KnetArray{Float32,2}:\n",
       " 1.0f9  0.0    0.0\n",
       " 0.0    1.0f9  0.0\n",
       " 0.0    0.0    1.0f9"
      ]
     },
     "execution_count": 41,
     "metadata": {},
     "output_type": "execute_result"
    }
   ],
   "source": [
    "mask = convert(_atype, Array{Float64}(I, bs, bs)*LARGE_NUM)"
   ]
  },
  {
   "cell_type": "code",
   "execution_count": 42,
   "metadata": {},
   "outputs": [
    {
     "data": {
      "text/plain": [
       "3×3 KnetArray{Float32,2}:\n",
       " -1.0f9     -0.124035   0.964764\n",
       " -0.124035  -1.0f9     -0.38075\n",
       "  0.964764  -0.38075   -1.0f9"
      ]
     },
     "execution_count": 42,
     "metadata": {},
     "output_type": "execute_result"
    }
   ],
   "source": [
    "logits_aa = z1*transpose(z1)-mask"
   ]
  },
  {
   "cell_type": "code",
   "execution_count": 43,
   "metadata": {},
   "outputs": [
    {
     "data": {
      "text/plain": [
       "3×3 KnetArray{Float32,2}:\n",
       " -1.0f9      0.360399   0.75335\n",
       "  0.360399  -1.0f9     -0.34192\n",
       "  0.75335   -0.34192   -1.0f9"
      ]
     },
     "execution_count": 43,
     "metadata": {},
     "output_type": "execute_result"
    }
   ],
   "source": [
    "logits_bb = z2*transpose(z2)-mask"
   ]
  },
  {
   "cell_type": "code",
   "execution_count": 44,
   "metadata": {},
   "outputs": [
    {
     "data": {
      "text/plain": [
       "3×3 KnetArray{Float32,2}:\n",
       " 0.894427  -0.0948091   0.967913\n",
       " 0.33282    0.999568   -0.369399\n",
       " 0.745241  -0.353401    0.999925"
      ]
     },
     "execution_count": 44,
     "metadata": {},
     "output_type": "execute_result"
    }
   ],
   "source": [
    "logits_ab = z1*transpose(z2)"
   ]
  },
  {
   "cell_type": "code",
   "execution_count": 45,
   "metadata": {},
   "outputs": [
    {
     "data": {
      "text/plain": [
       "3×3 KnetArray{Float32,2}:\n",
       "  0.894427    0.33282    0.745241\n",
       " -0.0948091   0.999568  -0.353401\n",
       "  0.967913   -0.369399   0.999925"
      ]
     },
     "execution_count": 45,
     "metadata": {},
     "output_type": "execute_result"
    }
   ],
   "source": [
    "logits_ba = z2*transpose(z1)"
   ]
  },
  {
   "cell_type": "code",
   "execution_count": 46,
   "metadata": {},
   "outputs": [
    {
     "data": {
      "text/plain": [
       "3×6 KnetArray{Float32,2}:\n",
       " 0.894427  -0.0948091   0.967913  -1.0f9     -0.124035   0.964764\n",
       " 0.33282    0.999568   -0.369399  -0.124035  -1.0f9     -0.38075\n",
       " 0.745241  -0.353401    0.999925   0.964764  -0.38075   -1.0f9"
      ]
     },
     "execution_count": 46,
     "metadata": {},
     "output_type": "execute_result"
    }
   ],
   "source": [
    "[logits_ab logits_aa]"
   ]
  },
  {
   "cell_type": "code",
   "execution_count": 47,
   "metadata": {},
   "outputs": [
    {
     "data": {
      "text/plain": [
       "3×6 KnetArray{Float32,2}:\n",
       " 0.25759   0.0957877  0.277232  0.0       0.0930287  0.276361\n",
       " 0.218984  0.426557   0.108503  0.138677  0.0        0.107279\n",
       " 0.238482  0.0794916  0.307654  0.297025  0.077347   0.0"
      ]
     },
     "execution_count": 47,
     "metadata": {},
     "output_type": "execute_result"
    }
   ],
   "source": [
    "softmax([logits_ab logits_aa], dims=2)"
   ]
  },
  {
   "cell_type": "code",
   "execution_count": 48,
   "metadata": {},
   "outputs": [
    {
     "data": {
      "text/plain": [
       "3×6 KnetArray{Float32,2}:\n",
       " -1.35638  -2.34562   -1.2829   -1.0f9    -2.37485  -1.28605\n",
       " -1.51876  -0.852008  -2.22098  -1.97561  -1.0f9    -2.23233\n",
       " -1.43346  -2.5321    -1.17878  -1.21394  -2.55945  -1.0f9"
      ]
     },
     "execution_count": 48,
     "metadata": {},
     "output_type": "execute_result"
    }
   ],
   "source": [
    "logsoftmax([logits_ab logits_aa], dims=2)"
   ]
  },
  {
   "cell_type": "code",
   "execution_count": 49,
   "metadata": {},
   "outputs": [
    {
     "data": {
      "text/plain": [
       "3×6 KnetArray{Float32,2}:\n",
       " 1.35638  0.0       0.0      0.0  0.0  0.0\n",
       " 0.0      0.852008  0.0      0.0  0.0  0.0\n",
       " 0.0      0.0       1.17878  0.0  0.0  0.0"
      ]
     },
     "execution_count": 49,
     "metadata": {},
     "output_type": "execute_result"
    }
   ],
   "source": [
    "-labels.*logsoftmax([logits_ab logits_aa], dims=2)"
   ]
  },
  {
   "cell_type": "code",
   "execution_count": 51,
   "metadata": {},
   "outputs": [
    {
     "data": {
      "text/plain": [
       "1.129057f0"
      ]
     },
     "execution_count": 51,
     "metadata": {},
     "output_type": "execute_result"
    }
   ],
   "source": [
    "loss_a = sum(-labels.*logsoftmax([logits_ab logits_aa], dims=2))/bs"
   ]
  },
  {
   "cell_type": "code",
   "execution_count": 52,
   "metadata": {},
   "outputs": [
    {
     "data": {
      "text/plain": [
       "1.1363438f0"
      ]
     },
     "execution_count": 52,
     "metadata": {},
     "output_type": "execute_result"
    }
   ],
   "source": [
    "loss_b = sum(-labels.*logsoftmax([logits_ba logits_bb], dims=2))/bs"
   ]
  },
  {
   "cell_type": "code",
   "execution_count": 53,
   "metadata": {},
   "outputs": [
    {
     "data": {
      "text/plain": [
       "2.265401f0"
      ]
     },
     "execution_count": 53,
     "metadata": {},
     "output_type": "execute_result"
    }
   ],
   "source": [
    "loss = loss_a + loss_b"
   ]
  },
  {
   "cell_type": "code",
   "execution_count": null,
   "metadata": {},
   "outputs": [],
   "source": []
  }
 ],
 "metadata": {
  "kernelspec": {
   "display_name": "Julia 1.5.2",
   "language": "julia",
   "name": "julia-1.5"
  },
  "language_info": {
   "file_extension": ".jl",
   "mimetype": "application/julia",
   "name": "julia",
   "version": "1.5.2"
  }
 },
 "nbformat": 4,
 "nbformat_minor": 4
}
