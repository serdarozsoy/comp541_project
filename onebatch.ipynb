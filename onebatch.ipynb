{
 "cells": [
  {
   "cell_type": "code",
   "execution_count": 1,
   "metadata": {},
   "outputs": [
    {
     "data": {
      "text/plain": [
       "\"/home/admin2/miniconda3/bin/python\""
      ]
     },
     "execution_count": 1,
     "metadata": {},
     "output_type": "execute_result"
    }
   ],
   "source": [
    "ENV[\"PYTHON\"] =\"/home/admin2/miniconda3/bin/python\""
   ]
  },
  {
   "cell_type": "code",
   "execution_count": 2,
   "metadata": {},
   "outputs": [],
   "source": [
    "using MLDatasets\n",
    "using PyPlot\n",
    "using PyCall\n",
    "using LinearAlgebra"
   ]
  },
  {
   "cell_type": "code",
   "execution_count": 3,
   "metadata": {},
   "outputs": [],
   "source": [
    "#To supress dozens of Tensorflow logs.\n",
    "py\"\"\"\n",
    "import os\n",
    "os.environ['TF_CPP_MIN_LOG_LEVEL'] = '2'\n",
    "\"\"\""
   ]
  },
  {
   "cell_type": "code",
   "execution_count": 4,
   "metadata": {},
   "outputs": [
    {
     "data": {
      "text/plain": [
       "PyObject <module 'matplotlib.pyplot' from '/home/admin2/miniconda3/lib/python3.7/site-packages/matplotlib/pyplot.py'>"
      ]
     },
     "execution_count": 4,
     "metadata": {},
     "output_type": "execute_result"
    }
   ],
   "source": [
    "tf = pyimport(\"tensorflow\")\n",
    "tfds = pyimport(\"tensorflow_datasets\")\n",
    "np = pyimport(\"numpy\")\n",
    "plt = pyimport(\"matplotlib.pyplot\")"
   ]
  },
  {
   "cell_type": "markdown",
   "metadata": {},
   "source": [
    "It is need to use python file as module in the same directory:"
   ]
  },
  {
   "cell_type": "code",
   "execution_count": 5,
   "metadata": {},
   "outputs": [
    {
     "data": {
      "text/plain": [
       "PyObject ['', '/home/admin2/miniconda3/lib/python37.zip', '/home/admin2/miniconda3/lib/python3.7', '/home/admin2/miniconda3/lib/python3.7/lib-dynload', '/home/admin2/miniconda3/lib/python3.7/site-packages', '/home/admin2/miniconda3/lib/python3.7/site-packages/IPython/extensions']"
      ]
     },
     "execution_count": 5,
     "metadata": {},
     "output_type": "execute_result"
    }
   ],
   "source": [
    "pushfirst!(PyVector(pyimport(\"sys\").\"path\"), \"\")"
   ]
  },
  {
   "cell_type": "code",
   "execution_count": 6,
   "metadata": {},
   "outputs": [
    {
     "data": {
      "text/plain": [
       "6-element PyVector{PyAny}:\n",
       " \"\"\n",
       " \"/home/admin2/miniconda3/lib/python37.zip\"\n",
       " \"/home/admin2/miniconda3/lib/python3.7\"\n",
       " \"/home/admin2/miniconda3/lib/python3.7/lib-dynload\"\n",
       " \"/home/admin2/miniconda3/lib/python3.7/site-packages\"\n",
       " \"/home/admin2/miniconda3/lib/python3.7/site-packages/IPython/extensions\""
      ]
     },
     "execution_count": 6,
     "metadata": {},
     "output_type": "execute_result"
    }
   ],
   "source": [
    "PyVector(pyimport(\"sys\").\"path\")"
   ]
  },
  {
   "cell_type": "markdown",
   "metadata": {},
   "source": [
    "###  Preprocessing"
   ]
  },
  {
   "cell_type": "code",
   "execution_count": 7,
   "metadata": {},
   "outputs": [
    {
     "data": {
      "text/plain": [
       "PyObject <module 'data_util2' from '/home/admin2/workspace/ku/comp541_project/data_util2.py'>"
      ]
     },
     "execution_count": 7,
     "metadata": {},
     "output_type": "execute_result"
    }
   ],
   "source": [
    "data_util = pyimport(\"data_util2\")\n",
    "#function_name = pyimport(\"data_util2\")[\"function_name\"]"
   ]
  },
  {
   "cell_type": "code",
   "execution_count": 8,
   "metadata": {
    "scrolled": true
   },
   "outputs": [],
   "source": [
    "# load full training set\n",
    "train_x, train_y = CIFAR10.traindata();\n",
    "\n",
    "# load full test set\n",
    "test_x,  test_y  = CIFAR10.testdata();"
   ]
  },
  {
   "cell_type": "code",
   "execution_count": 9,
   "metadata": {},
   "outputs": [],
   "source": [
    "# [height,weight,channel] --> [weight,height]\n",
    "train_x2 = permutedims(train_x, (2, 1, 3, 4));"
   ]
  },
  {
   "cell_type": "code",
   "execution_count": 10,
   "metadata": {},
   "outputs": [],
   "source": [
    "image2 = train_x2[:,:,:,17];"
   ]
  },
  {
   "cell_type": "markdown",
   "metadata": {},
   "source": [
    "#### Original image"
   ]
  },
  {
   "cell_type": "code",
   "execution_count": 11,
   "metadata": {},
   "outputs": [
    {
     "data": {
      "image/png": "[encoded data removed]",
      "text/plain": [
       "Figure(PyObject <Figure size 100x100 with 1 Axes>)"
      ]
     },
     "metadata": {},
     "output_type": "display_data"
    },
    {
     "data": {
      "text/plain": [
       "PyObject <matplotlib.image.AxesImage object at 0x7ff07b43a690>"
      ]
     },
     "execution_count": 11,
     "metadata": {},
     "output_type": "execute_result"
    }
   ],
   "source": [
    "plt.figure(figsize=(1,1))\n",
    "plt.imshow(image2)"
   ]
  },
  {
   "cell_type": "markdown",
   "metadata": {},
   "source": [
    "#### Transformed images "
   ]
  },
  {
   "cell_type": "code",
   "execution_count": 12,
   "metadata": {
    "scrolled": true
   },
   "outputs": [
    {
     "name": "stdout",
     "output_type": "stream",
     "text": [
      "WARNING:tensorflow:From /home/admin2/miniconda3/lib/python3.7/site-packages/tensorflow/python/util/dispatch.py:201: sample_distorted_bounding_box (from tensorflow.python.ops.image_ops_impl) is deprecated and will be removed in a future version.\n",
      "Instructions for updating:\n",
      "`seed2` arg is deprecated.Use sample_distorted_bounding_box_v2 instead.\n"
     ]
    }
   ],
   "source": [
    "image2_edit_a = data_util[:preprocess_image](image2, 32, 32,is_training=true).numpy();"
   ]
  },
  {
   "cell_type": "code",
   "execution_count": 13,
   "metadata": {},
   "outputs": [
    {
     "data": {
      "image/png": "[encoded data removed]",
      "text/plain": [
       "Figure(PyObject <Figure size 100x100 with 1 Axes>)"
      ]
     },
     "metadata": {},
     "output_type": "display_data"
    },
    {
     "data": {
      "text/plain": [
       "PyObject <matplotlib.image.AxesImage object at 0x7ff076f9dd10>"
      ]
     },
     "execution_count": 13,
     "metadata": {},
     "output_type": "execute_result"
    }
   ],
   "source": [
    "plt.figure(figsize=(1,1))\n",
    "plt.imshow(image2_edit_a)"
   ]
  },
  {
   "cell_type": "code",
   "execution_count": 14,
   "metadata": {},
   "outputs": [],
   "source": [
    "image2_edit_b = data_util[:preprocess_image](image2, 32, 32,is_training=true).numpy();"
   ]
  },
  {
   "cell_type": "code",
   "execution_count": 15,
   "metadata": {
    "scrolled": true
   },
   "outputs": [
    {
     "data": {
      "image/png": "[encoded data removed]",
      "text/plain": [
       "Figure(PyObject <Figure size 100x100 with 1 Axes>)"
      ]
     },
     "metadata": {},
     "output_type": "display_data"
    },
    {
     "data": {
      "text/plain": [
       "PyObject <matplotlib.image.AxesImage object at 0x7ff0501016d0>"
      ]
     },
     "execution_count": 15,
     "metadata": {},
     "output_type": "execute_result"
    }
   ],
   "source": [
    "plt.figure(figsize=(1,1))\n",
    "plt.imshow(image2_edit_b)"
   ]
  },
  {
   "cell_type": "markdown",
   "metadata": {},
   "source": [
    "Alternative way"
   ]
  },
  {
   "cell_type": "code",
   "execution_count": 16,
   "metadata": {
    "scrolled": true
   },
   "outputs": [],
   "source": [
    "#py\"\"\"\n",
    "#from data_util2 import preprocess_image\n",
    "#image2_edit = preprocess_image($image2, 32, 32,is_training=True)\n",
    "#\"\"\""
   ]
  },
  {
   "cell_type": "markdown",
   "metadata": {},
   "source": [
    "### Create a batch"
   ]
  },
  {
   "cell_type": "code",
   "execution_count": 17,
   "metadata": {},
   "outputs": [
    {
     "data": {
      "text/plain": [
       "(32, 32, 3, 50000)"
      ]
     },
     "execution_count": 17,
     "metadata": {},
     "output_type": "execute_result"
    }
   ],
   "source": [
    "size(train_x2)"
   ]
  },
  {
   "cell_type": "code",
   "execution_count": 18,
   "metadata": {},
   "outputs": [
    {
     "data": {
      "text/plain": [
       "(32, 32, 3, 256)"
      ]
     },
     "execution_count": 18,
     "metadata": {},
     "output_type": "execute_result"
    }
   ],
   "source": [
    "size(train_x2[:,:,:,1:256])"
   ]
  },
  {
   "cell_type": "code",
   "execution_count": 19,
   "metadata": {},
   "outputs": [],
   "source": [
    "n = size(train_x2)[end]\n",
    "bsize = min(32, n)\n",
    "cur, next = train_x2[:,:,:,1:bsize] , train_x2[:,:,:,bsize+1:end];"
   ]
  },
  {
   "cell_type": "code",
   "execution_count": 20,
   "metadata": {},
   "outputs": [
    {
     "data": {
      "text/plain": [
       "(32, 32, 3, 49968)"
      ]
     },
     "execution_count": 20,
     "metadata": {},
     "output_type": "execute_result"
    }
   ],
   "source": [
    "size(next)"
   ]
  },
  {
   "cell_type": "code",
   "execution_count": 21,
   "metadata": {},
   "outputs": [
    {
     "data": {
      "text/plain": [
       "(32, 32, 3, 32)"
      ]
     },
     "execution_count": 21,
     "metadata": {},
     "output_type": "execute_result"
    }
   ],
   "source": [
    "size(cur)"
   ]
  },
  {
   "cell_type": "code",
   "execution_count": 22,
   "metadata": {},
   "outputs": [],
   "source": [
    "#data_util[:preprocess_image](cur[:,:,:,32], 32, 32,is_training=true).numpy();"
   ]
  },
  {
   "cell_type": "markdown",
   "metadata": {
    "scrolled": true
   },
   "source": [
    "new1 = cat( zeros(size(cur)), zeros(size(cur)); dims=4)\n",
    "for i in (1:bsize)\n",
    "    #print(i,\"\\n\")\n",
    "    image = cur[:,:,:,i]\n",
    "    for k in (1:2)\n",
    "        new1[:,:,:,2i+k-2] = data_util[:preprocess_image](image, 32, 32, is_training=true).numpy();\n",
    "        #new1[:,:,:,2i] = data_util[:preprocess_image](image, 32, 32, is_training=true).numpy();\n",
    "        #print(k,\"-\",2i+k-2,\".\",\"\\n\")\n",
    "    end\n",
    "end"
   ]
  },
  {
   "cell_type": "code",
   "execution_count": 23,
   "metadata": {},
   "outputs": [],
   "source": [
    "newx1 = cat( zeros(size(cur)); dims=4)\n",
    "for i in (1:bsize)\n",
    "    image = cur[:,:,:,i]\n",
    "    newx1[:,:,:,i] = data_util[:preprocess_image](image, 32, 32, is_training=true).numpy();\n",
    "end"
   ]
  },
  {
   "cell_type": "code",
   "execution_count": 24,
   "metadata": {},
   "outputs": [],
   "source": [
    "newx2 = cat( zeros(size(cur)); dims=4)\n",
    "for i in (1:bsize)\n",
    "    image = cur[:,:,:,i]\n",
    "    newx2[:,:,:,i] = data_util[:preprocess_image](image, 32, 32, is_training=true).numpy();\n",
    "end"
   ]
  },
  {
   "cell_type": "code",
   "execution_count": 25,
   "metadata": {},
   "outputs": [
    {
     "data": {
      "text/plain": [
       "\"32×32×3×32 Array{Float64,4}\""
      ]
     },
     "execution_count": 25,
     "metadata": {},
     "output_type": "execute_result"
    }
   ],
   "source": [
    "summary(newx1)"
   ]
  },
  {
   "cell_type": "code",
   "execution_count": 26,
   "metadata": {
    "scrolled": true
   },
   "outputs": [
    {
     "data": {
      "text/plain": [
       "\"32×32×3×32 Array{Float64,4}\""
      ]
     },
     "execution_count": 26,
     "metadata": {},
     "output_type": "execute_result"
    }
   ],
   "source": [
    "summary(newx2)"
   ]
  },
  {
   "cell_type": "code",
   "execution_count": 27,
   "metadata": {},
   "outputs": [
    {
     "data": {
      "text/plain": [
       "\"32×32×3×64 Array{Float64,4}\""
      ]
     },
     "execution_count": 27,
     "metadata": {},
     "output_type": "execute_result"
    }
   ],
   "source": [
    "newx = cat(newx1,newx2, dims=4);\n",
    "summary(newx)"
   ]
  },
  {
   "cell_type": "code",
   "execution_count": 28,
   "metadata": {},
   "outputs": [],
   "source": [
    "#py\"\"\"\n",
    "#import tensorflow as tf \n",
    "#xs = []\n",
    "#xs.append($newx1)\n",
    "#xs.append($newx2)\n",
    "#xt = xs\n",
    "#image10 = tf.concat(xs, -1)\n",
    "#\"\"\"\n"
   ]
  },
  {
   "cell_type": "code",
   "execution_count": 29,
   "metadata": {},
   "outputs": [],
   "source": [
    "#py\"image10\""
   ]
  },
  {
   "cell_type": "code",
   "execution_count": 30,
   "metadata": {},
   "outputs": [
    {
     "data": {
      "image/png": "[encoded data removed]",
      "text/plain": [
       "Figure(PyObject <Figure size 100x100 with 1 Axes>)"
      ]
     },
     "metadata": {},
     "output_type": "display_data"
    },
    {
     "data": {
      "text/plain": [
       "PyObject <matplotlib.image.AxesImage object at 0x7fef8c7c7590>"
      ]
     },
     "execution_count": 30,
     "metadata": {},
     "output_type": "execute_result"
    }
   ],
   "source": [
    "plt.figure(figsize=(1,1))\n",
    "plt.imshow(newx1[:,:,:,27])"
   ]
  },
  {
   "cell_type": "code",
   "execution_count": 31,
   "metadata": {},
   "outputs": [
    {
     "data": {
      "image/png": "[encoded data removed]",
      "text/plain": [
       "Figure(PyObject <Figure size 100x100 with 1 Axes>)"
      ]
     },
     "metadata": {},
     "output_type": "display_data"
    },
    {
     "data": {
      "text/plain": [
       "PyObject <matplotlib.image.AxesImage object at 0x7fef8c794f90>"
      ]
     },
     "execution_count": 31,
     "metadata": {},
     "output_type": "execute_result"
    }
   ],
   "source": [
    "plt.figure(figsize=(1,1))\n",
    "plt.imshow(newx2[:,:,:,27])"
   ]
  },
  {
   "cell_type": "markdown",
   "metadata": {},
   "source": [
    "function preproces(cur, bsize)\n",
    "    for i in (1:bsize)\n",
    "        image = cur[:,:,:,i]\n",
    "        new1[:,:,:,i] = data_util[:preprocess_image](image, bsize, bsize, is_training=true).numpy();\n",
    "    end\n",
    "end"
   ]
  },
  {
   "cell_type": "code",
   "execution_count": 32,
   "metadata": {},
   "outputs": [],
   "source": [
    "#plt.figure(figsize=(1,1))\n",
    "#plt.imshow(new1[:,:,:,15])"
   ]
  },
  {
   "cell_type": "code",
   "execution_count": 33,
   "metadata": {},
   "outputs": [],
   "source": [
    "#plt.figure(figsize=(1,1))\n",
    "#plt.imshow(new1[:,:,:,16])"
   ]
  },
  {
   "cell_type": "markdown",
   "metadata": {},
   "source": [
    "### ResNet "
   ]
  },
  {
   "cell_type": "code",
   "execution_count": 34,
   "metadata": {},
   "outputs": [
    {
     "data": {
      "text/plain": [
       "Main.ResNetLib"
      ]
     },
     "execution_count": 34,
     "metadata": {},
     "output_type": "execute_result"
    }
   ],
   "source": [
    "include(\"resnetlib.jl\")"
   ]
  },
  {
   "cell_type": "code",
   "execution_count": 35,
   "metadata": {},
   "outputs": [],
   "source": [
    "#using Pkg; for p in [\"IterTools\", \"Knet\",\"ArgParse\", \"CUDA\"]; Pkg.add(p); end\n",
    "using Printf, Dates, Random, CUDA, Knet, ArgParse, Test, Base.Iterators, IterTools\n",
    "ENV[\"COLUMNS\"]=72\n",
    "using Base.Iterators: flatten\n",
    "using IterTools: ncycle, takenth\n",
    "using Statistics: mean\n",
    "using MLDatasets: MNIST\n",
    "import CUDA\n",
    "import Knet\n",
    "using Knet: conv4, pool, mat, KnetArray, nll, zeroone, accuracy, progress, sgd, adam, rmsprop, param, param0, dropout, relu, minibatch, Data, sigm "
   ]
  },
  {
   "cell_type": "code",
   "execution_count": 36,
   "metadata": {},
   "outputs": [],
   "source": [
    "#w, m = ResNetLib.resnetcifarinit(50; nclasses=10)"
   ]
  },
  {
   "cell_type": "code",
   "execution_count": 37,
   "metadata": {},
   "outputs": [
    {
     "data": {
      "text/plain": [
       "(KnetArray{Float32,N} where N[K32(3,3,3,256)[-0.03163931⋯], K32(512)[1.0⋯], K32(1,1,256,256)[0.030466212⋯], K32(512)[1.0⋯], K32(1,1,256,64)[-0.08112068⋯], K32(128)[1.0⋯], K32(3,3,64,64)[0.105838194⋯], K32(128)[1.0⋯], K32(1,1,64,256)[-0.03791607⋯], K32(512)[1.0⋯]  …  K32(1,1,512,2048)[0.08264599⋯], K32(4096)[1.0⋯], K32(1,1,2048,512)[-0.04473181⋯], K32(1024)[1.0⋯], K32(3,3,512,512)[0.0008913504⋯], K32(1024)[1.0⋯], K32(1,1,512,2048)[-0.042270713⋯], K32(4096)[1.0⋯], K32(10,2048)[-0.03785151⋯], K32(10,1)[0.0⋯]], Any[Knet.Ops20.BNMoments(0.1, nothing, nothing, zeros, ones), Knet.Ops20.BNMoments(0.1, nothing, nothing, zeros, ones), Knet.Ops20.BNMoments(0.1, nothing, nothing, zeros, ones), Knet.Ops20.BNMoments(0.1, nothing, nothing, zeros, ones), Knet.Ops20.BNMoments(0.1, nothing, nothing, zeros, ones), Knet.Ops20.BNMoments(0.1, nothing, nothing, zeros, ones), Knet.Ops20.BNMoments(0.1, nothing, nothing, zeros, ones), Knet.Ops20.BNMoments(0.1, nothing, nothing, zeros, ones), Knet.Ops20.BNMoments(0.1, nothing, nothing, zeros, ones), Knet.Ops20.BNMoments(0.1, nothing, nothing, zeros, ones)  …  Knet.Ops20.BNMoments(0.1, nothing, nothing, zeros, ones), Knet.Ops20.BNMoments(0.1, nothing, nothing, zeros, ones), Knet.Ops20.BNMoments(0.1, nothing, nothing, zeros, ones), Knet.Ops20.BNMoments(0.1, nothing, nothing, zeros, ones), Knet.Ops20.BNMoments(0.1, nothing, nothing, zeros, ones), Knet.Ops20.BNMoments(0.1, nothing, nothing, zeros, ones), Knet.Ops20.BNMoments(0.1, nothing, nothing, zeros, ones), Knet.Ops20.BNMoments(0.1, nothing, nothing, zeros, ones), Knet.Ops20.BNMoments(0.1, nothing, nothing, zeros, ones), Knet.Ops20.BNMoments(0.1, nothing, nothing, zeros, ones)], nothing)"
      ]
     },
     "execution_count": 37,
     "metadata": {},
     "output_type": "execute_result"
    }
   ],
   "source": [
    "w, m, _ = ResNetLib.resnet50init(;trained=false,dataset=:cifar10)"
   ]
  },
  {
   "cell_type": "code",
   "execution_count": 38,
   "metadata": {},
   "outputs": [],
   "source": [
    "#img = new1[:,:,:,1:32]"
   ]
  },
  {
   "cell_type": "code",
   "execution_count": 39,
   "metadata": {},
   "outputs": [
    {
     "data": {
      "text/plain": [
       "KnetArray{Float32,N} where N"
      ]
     },
     "execution_count": 39,
     "metadata": {},
     "output_type": "execute_result"
    }
   ],
   "source": [
    "_atype = CUDA.functional() ? KnetArray{Float32} : Array{Float32}"
   ]
  },
  {
   "cell_type": "code",
   "execution_count": 40,
   "metadata": {
    "scrolled": false
   },
   "outputs": [],
   "source": [
    "#img = convert(_atype, img)\n",
    "#img1 = convert(_atype, newx1)\n",
    "#img2 = convert(_atype, newx2)\n",
    "img = convert(_atype, newx);"
   ]
  },
  {
   "cell_type": "code",
   "execution_count": 41,
   "metadata": {},
   "outputs": [],
   "source": [
    "h = ResNetLib.resnet50(w ,m, img, dataset=:cifar10, stage=5);"
   ]
  },
  {
   "cell_type": "code",
   "execution_count": 42,
   "metadata": {},
   "outputs": [
    {
     "data": {
      "text/plain": [
       "(1, 1, 2048, 64)"
      ]
     },
     "execution_count": 42,
     "metadata": {},
     "output_type": "execute_result"
    }
   ],
   "source": [
    "size(h)"
   ]
  },
  {
   "cell_type": "code",
   "execution_count": 43,
   "metadata": {},
   "outputs": [],
   "source": [
    "#h1 = ResNetLib.resnet50(w ,m, img1, dataset=:cifar10, stage=5)"
   ]
  },
  {
   "cell_type": "code",
   "execution_count": 44,
   "metadata": {
    "scrolled": true
   },
   "outputs": [],
   "source": [
    "#h2 = ResNetLib.resnet50(w ,m, img2, dataset=:cifar10, stage=5)"
   ]
  },
  {
   "cell_type": "code",
   "execution_count": 45,
   "metadata": {},
   "outputs": [
    {
     "data": {
      "text/plain": [
       "2048×64 KnetArray{Float32,2}:\n",
       " 0.0681654   0.0617965  0.0190501  …  0.0        0.119478   0.121666\n",
       " 0.094949    0.38478    0.365642      0.693605   0.290473   0.132875\n",
       " 0.0         0.0        0.0           0.0        0.0        0.0\n",
       " 7.72091     9.56064    4.69454       4.47697    7.15235   11.7766\n",
       " 5.19578     7.05565    3.88734       3.3533     4.83286    8.57486\n",
       " 0.995855    1.46127    0.455962   …  0.613869   0.793275   1.84726\n",
       " 8.16281    12.0574     6.33576       6.91383    8.9465    14.6456\n",
       " 1.3479      1.07321    0.512661      0.61748    1.30626    1.76243\n",
       " 7.36208    10.035      4.91112       5.1135     7.30569   12.6694\n",
       " 6.13764     9.47227    4.85643       5.48351    6.27798   10.6147\n",
       " 0.279947    0.577252   0.165852   …  0.0177409  0.434781   1.03012\n",
       " 1.4069      1.72252    1.44205       2.25986    1.14725    1.96781\n",
       " 4.03313     4.78683    2.40094       3.46986    3.90365    6.16345\n",
       " ⋮                                 ⋱                       \n",
       " 0.0         0.0        0.0           0.0        0.0        0.0\n",
       " 2.96678     4.93277    2.71083       2.22828    3.79139    6.04948\n",
       " 0.04948     0.174248   0.0668371     0.0        0.11518    0.210446\n",
       " 1.80273     2.50419    1.54285       1.23114    1.63761    2.88273\n",
       " 0.296982    0.333818   0.143918   …  0.0831201  0.229224   0.533074\n",
       " 5.18031     8.03603    3.69701       3.89107    5.03409    8.79799\n",
       " 5.66309     7.75941    4.12048       3.93475    5.54527   10.045\n",
       " 5.98584     8.53664    4.20448       4.17257    6.1123    10.3235\n",
       " 0.521147    1.09773    0.461282      0.397278   0.656998   1.21379\n",
       " 6.84523     9.41751    4.70728    …  3.38154    7.14709   12.2608\n",
       " 0.824409    1.38606    0.552741      0.370858   1.03027    1.96829\n",
       " 0.382391    0.386706   0.168736      0.181402   0.209905   0.626565"
      ]
     },
     "execution_count": 45,
     "metadata": {},
     "output_type": "execute_result"
    }
   ],
   "source": [
    "h = mat(h)"
   ]
  },
  {
   "cell_type": "code",
   "execution_count": 46,
   "metadata": {},
   "outputs": [],
   "source": [
    "#h1 = mat(h1)\n",
    "#h2 = mat(h2)"
   ]
  },
  {
   "cell_type": "code",
   "execution_count": 47,
   "metadata": {},
   "outputs": [],
   "source": [
    "#hh_1 = Array(h1)\n",
    "#hh_2 = Array(h2)\n",
    "#py\"\"\"\n",
    "\n",
    "#import tensorflow as tf \n",
    "\n",
    "#xs = []\n",
    "#xs.append($hh_1)\n",
    "#xs.append($hh_2)\n",
    "#xt = xs\n",
    "#image = tf.concat(xs, -1)\n",
    "#\"\"\"\n"
   ]
  },
  {
   "cell_type": "code",
   "execution_count": 48,
   "metadata": {},
   "outputs": [],
   "source": [
    "#py\"image\""
   ]
  },
  {
   "cell_type": "code",
   "execution_count": 49,
   "metadata": {},
   "outputs": [],
   "source": [
    "#xs = []\n",
    "#xs.append(h_1)\n",
    "#xs.append(h_2)\n",
    "#tf[:concat]([Array(h_1), Array(h_2)], -1).numpy()"
   ]
  },
  {
   "cell_type": "code",
   "execution_count": 50,
   "metadata": {},
   "outputs": [
    {
     "data": {
      "text/plain": [
       "2048×64 KnetArray{Float32,2}:\n",
       " 0.0681654   0.0617965  0.0190501  …  0.0        0.119478   0.121666\n",
       " 0.094949    0.38478    0.365642      0.693605   0.290473   0.132875\n",
       " 0.0         0.0        0.0           0.0        0.0        0.0\n",
       " 7.72091     9.56064    4.69454       4.47697    7.15235   11.7766\n",
       " 5.19578     7.05565    3.88734       3.3533     4.83286    8.57486\n",
       " 0.995855    1.46127    0.455962   …  0.613869   0.793275   1.84726\n",
       " 8.16281    12.0574     6.33576       6.91383    8.9465    14.6456\n",
       " 1.3479      1.07321    0.512661      0.61748    1.30626    1.76243\n",
       " 7.36208    10.035      4.91112       5.1135     7.30569   12.6694\n",
       " 6.13764     9.47227    4.85643       5.48351    6.27798   10.6147\n",
       " 0.279947    0.577252   0.165852   …  0.0177409  0.434781   1.03012\n",
       " 1.4069      1.72252    1.44205       2.25986    1.14725    1.96781\n",
       " 4.03313     4.78683    2.40094       3.46986    3.90365    6.16345\n",
       " ⋮                                 ⋱                       \n",
       " 0.0         0.0        0.0           0.0        0.0        0.0\n",
       " 2.96678     4.93277    2.71083       2.22828    3.79139    6.04948\n",
       " 0.04948     0.174248   0.0668371     0.0        0.11518    0.210446\n",
       " 1.80273     2.50419    1.54285       1.23114    1.63761    2.88273\n",
       " 0.296982    0.333818   0.143918   …  0.0831201  0.229224   0.533074\n",
       " 5.18031     8.03603    3.69701       3.89107    5.03409    8.79799\n",
       " 5.66309     7.75941    4.12048       3.93475    5.54527   10.045\n",
       " 5.98584     8.53664    4.20448       4.17257    6.1123    10.3235\n",
       " 0.521147    1.09773    0.461282      0.397278   0.656998   1.21379\n",
       " 6.84523     9.41751    4.70728    …  3.38154    7.14709   12.2608\n",
       " 0.824409    1.38606    0.552741      0.370858   1.03027    1.96829\n",
       " 0.382391    0.386706   0.168736      0.181402   0.209905   0.626565"
      ]
     },
     "execution_count": 50,
     "metadata": {},
     "output_type": "execute_result"
    }
   ],
   "source": [
    "mat_h = mat(h)"
   ]
  },
  {
   "cell_type": "markdown",
   "metadata": {},
   "source": [
    "###  Projection"
   ]
  },
  {
   "cell_type": "code",
   "execution_count": 51,
   "metadata": {},
   "outputs": [
    {
     "data": {
      "text/plain": [
       "Dense"
      ]
     },
     "execution_count": 51,
     "metadata": {},
     "output_type": "execute_result"
    }
   ],
   "source": [
    "# dense layer:\n",
    "struct Dense; w; b; f; end\n",
    "(d::Dense)(x) = d.f.(d.w * mat(x) .+ d.b)\n",
    "Dense(i::Int,o::Int,f=Knet.relu) = Dense(param(o,i), param0(o), f)"
   ]
  },
  {
   "cell_type": "code",
   "execution_count": 52,
   "metadata": {},
   "outputs": [
    {
     "data": {
      "text/plain": [
       "Dense(P(KnetArray{Float32,2}(128,2048)), P(KnetArray{Float32,1}(128)), Knet.Ops20.relu)"
      ]
     },
     "execution_count": 52,
     "metadata": {},
     "output_type": "execute_result"
    }
   ],
   "source": [
    "projection = Dense(2048,128)"
   ]
  },
  {
   "cell_type": "code",
   "execution_count": 53,
   "metadata": {},
   "outputs": [
    {
     "data": {
      "text/plain": [
       "64×128 KnetArray{Float32,2}:\n",
       " 0.767758  2.10666    2.32063    …  0.0  0.467024     6.91848\n",
       " 2.49083   2.42055    1.39446       0.0  0.448247    11.1558\n",
       " 1.72694   2.16937    0.53309       0.0  0.0          5.60984\n",
       " 1.60252   1.96025    2.64115       0.0  0.65106      9.23041\n",
       " 1.35538   1.93666    1.82761       0.0  0.0          7.58443\n",
       " 0.23534   1.57044    1.03387    …  0.0  0.0          5.16349\n",
       " 1.29856   2.87637    2.106         0.0  0.470974     9.00149\n",
       " 0.92459   1.81768    1.53624       0.0  0.547997     8.00793\n",
       " 1.79815   2.01148    2.51103       0.0  0.473232    11.1988\n",
       " 0.0       0.0149513  0.0115202     0.0  0.0          0.0241925\n",
       " 1.69701   1.64947    1.66957    …  0.0  0.438464     8.05716\n",
       " 1.77332   2.87846    2.80425       0.0  0.567141    12.4613\n",
       " 2.15195   2.69347    1.30131       0.0  0.381554    10.6107\n",
       " ⋮                               ⋱  ⋮                \n",
       " 0.171151  1.91355    1.77648       0.0  0.0          4.15757\n",
       " 0.488714  2.56836    2.54969       0.0  0.412979     9.20951\n",
       " 0.270998  0.623347   0.404761      0.0  0.0          1.48381\n",
       " 0.847017  1.67056    0.809546   …  0.0  0.00378823   4.39\n",
       " 2.48826   1.99806    2.11524       0.0  0.64916     10.1809\n",
       " 2.35122   3.2106     1.58676       0.0  0.478963    11.2339\n",
       " 0.420937  0.733354   0.279877      0.0  0.0          2.07961\n",
       " 0.319337  1.18081    0.839581      0.0  0.0133235    2.85887\n",
       " 0.885955  1.08002    1.22299    …  0.0  0.0808218    4.38795\n",
       " 1.23397   2.51879    2.13987       0.0  0.0          5.13408\n",
       " 1.60006   1.8416     2.00947       0.0  0.330617     7.23046\n",
       " 2.14788   2.4468     2.74703       0.0  0.956025    13.635"
      ]
     },
     "execution_count": 53,
     "metadata": {},
     "output_type": "execute_result"
    }
   ],
   "source": [
    "z = projection(mat_h)'"
   ]
  },
  {
   "cell_type": "markdown",
   "metadata": {},
   "source": [
    "### Contrastive Loss"
   ]
  },
  {
   "cell_type": "markdown",
   "metadata": {},
   "source": [
    "First way"
   ]
  },
  {
   "cell_type": "code",
   "execution_count": 54,
   "metadata": {},
   "outputs": [
    {
     "data": {
      "text/plain": [
       "64×128 Array{Float32,2}:\n",
       " 0.767758  2.10666    2.32063    …  0.0  0.467024     6.91848\n",
       " 2.49083   2.42055    1.39446       0.0  0.448247    11.1558\n",
       " 1.72694   2.16937    0.53309       0.0  0.0          5.60984\n",
       " 1.60252   1.96025    2.64115       0.0  0.65106      9.23041\n",
       " 1.35538   1.93666    1.82761       0.0  0.0          7.58443\n",
       " 0.23534   1.57044    1.03387    …  0.0  0.0          5.16349\n",
       " 1.29856   2.87637    2.106         0.0  0.470974     9.00149\n",
       " 0.92459   1.81768    1.53624       0.0  0.547997     8.00793\n",
       " 1.79815   2.01148    2.51103       0.0  0.473232    11.1988\n",
       " 0.0       0.0149513  0.0115202     0.0  0.0          0.0241925\n",
       " 1.69701   1.64947    1.66957    …  0.0  0.438464     8.05716\n",
       " 1.77332   2.87846    2.80425       0.0  0.567141    12.4613\n",
       " 2.15195   2.69347    1.30131       0.0  0.381554    10.6107\n",
       " ⋮                               ⋱  ⋮                \n",
       " 0.171151  1.91355    1.77648       0.0  0.0          4.15757\n",
       " 0.488714  2.56836    2.54969       0.0  0.412979     9.20951\n",
       " 0.270998  0.623347   0.404761      0.0  0.0          1.48381\n",
       " 0.847017  1.67056    0.809546   …  0.0  0.00378823   4.39\n",
       " 2.48826   1.99806    2.11524       0.0  0.64916     10.1809\n",
       " 2.35122   3.2106     1.58676       0.0  0.478963    11.2339\n",
       " 0.420937  0.733354   0.279877      0.0  0.0          2.07961\n",
       " 0.319337  1.18081    0.839581      0.0  0.0133235    2.85887\n",
       " 0.885955  1.08002    1.22299    …  0.0  0.0808218    4.38795\n",
       " 1.23397   2.51879    2.13987       0.0  0.0          5.13408\n",
       " 1.60006   1.8416     2.00947       0.0  0.330617     7.23046\n",
       " 2.14788   2.4468     2.74703       0.0  0.956025    13.635"
      ]
     },
     "execution_count": 54,
     "metadata": {},
     "output_type": "execute_result"
    }
   ],
   "source": [
    "z_a = Array(z)"
   ]
  },
  {
   "cell_type": "code",
   "execution_count": 55,
   "metadata": {},
   "outputs": [],
   "source": [
    "py\"\"\"\n",
    "import torch\n",
    "import torch.nn.functional as F\n",
    "zz = torch.tensor($z_a)\n",
    "cos_z = F.cosine_similarity( torch.unsqueeze(zz, 1), torch.unsqueeze(zz, 0), 2).numpy()\n",
    "\n",
    "\"\"\""
   ]
  },
  {
   "cell_type": "code",
   "execution_count": 56,
   "metadata": {},
   "outputs": [
    {
     "data": {
      "text/plain": [
       "64×64 Array{Float32,2}:\n",
       " 1.0       0.996259  0.992206  …  0.986819  0.9983    0.997592\n",
       " 0.996259  1.0       0.996613     0.986508  0.998106  0.998858\n",
       " 0.992206  0.996613  1.0          0.987533  0.994414  0.994115\n",
       " 0.99862   0.997095  0.99194      0.987846  0.999177  0.998554\n",
       " 0.996823  0.998639  0.996269     0.989431  0.998383  0.998415\n",
       " 0.995573  0.996418  0.996282  …  0.988451  0.996211  0.996061\n",
       " 0.997962  0.998126  0.99489      0.988635  0.999007  0.998578\n",
       " 0.996641  0.998889  0.995628     0.984856  0.997576  0.998859\n",
       " 0.997327  0.998301  0.993549     0.987744  0.999125  0.999257\n",
       " 0.957     0.948944  0.951036     0.975964  0.953264  0.947545\n",
       " 0.997514  0.998932  0.994366  …  0.987656  0.999299  0.999426\n",
       " 0.996693  0.999302  0.995275     0.987801  0.998379  0.999115\n",
       " 0.994671  0.999096  0.997653     0.986772  0.996666  0.997584\n",
       " ⋮                             ⋱                      \n",
       " 0.995927  0.989513  0.987284     0.989336  0.993457  0.990853\n",
       " 0.997432  0.998032  0.995098     0.989687  0.998143  0.998149\n",
       " 0.996571  0.995528  0.995265     0.987284  0.995288  0.994762\n",
       " 0.994557  0.998119  0.998514  …  0.98858   0.996179  0.996326\n",
       " 0.996706  0.999338  0.99567      0.986448  0.998713  0.999302\n",
       " 0.996847  0.999215  0.996775     0.986992  0.998721  0.998958\n",
       " 0.995011  0.997672  0.997255     0.987181  0.995645  0.9964\n",
       " 0.99635   0.993533  0.99108      0.985301  0.994906  0.994611\n",
       " 0.99744   0.998843  0.996104  …  0.988391  0.998522  0.998338\n",
       " 0.986819  0.986508  0.987533     1.0       0.988235  0.985197\n",
       " 0.9983    0.998106  0.994414     0.988235  1.0       0.998886\n",
       " 0.997592  0.998858  0.994115     0.985197  0.998886  1.0"
      ]
     },
     "execution_count": 56,
     "metadata": {},
     "output_type": "execute_result"
    }
   ],
   "source": [
    "cos_z1 = py\"cos_z\""
   ]
  },
  {
   "cell_type": "code",
   "execution_count": 57,
   "metadata": {},
   "outputs": [
    {
     "data": {
      "text/plain": [
       "0.99881506f0"
      ]
     },
     "execution_count": 57,
     "metadata": {},
     "output_type": "execute_result"
    }
   ],
   "source": [
    "cos_z1[1,33]"
   ]
  },
  {
   "cell_type": "code",
   "execution_count": 58,
   "metadata": {},
   "outputs": [
    {
     "data": {
      "text/plain": [
       "64×128 KnetArray{Float32,2}:\n",
       " 0.767758  2.10666    2.32063    …  0.0  0.467024     6.91848\n",
       " 2.49083   2.42055    1.39446       0.0  0.448247    11.1558\n",
       " 1.72694   2.16937    0.53309       0.0  0.0          5.60984\n",
       " 1.60252   1.96025    2.64115       0.0  0.65106      9.23041\n",
       " 1.35538   1.93666    1.82761       0.0  0.0          7.58443\n",
       " 0.23534   1.57044    1.03387    …  0.0  0.0          5.16349\n",
       " 1.29856   2.87637    2.106         0.0  0.470974     9.00149\n",
       " 0.92459   1.81768    1.53624       0.0  0.547997     8.00793\n",
       " 1.79815   2.01148    2.51103       0.0  0.473232    11.1988\n",
       " 0.0       0.0149513  0.0115202     0.0  0.0          0.0241925\n",
       " 1.69701   1.64947    1.66957    …  0.0  0.438464     8.05716\n",
       " 1.77332   2.87846    2.80425       0.0  0.567141    12.4613\n",
       " 2.15195   2.69347    1.30131       0.0  0.381554    10.6107\n",
       " ⋮                               ⋱  ⋮                \n",
       " 0.171151  1.91355    1.77648       0.0  0.0          4.15757\n",
       " 0.488714  2.56836    2.54969       0.0  0.412979     9.20951\n",
       " 0.270998  0.623347   0.404761      0.0  0.0          1.48381\n",
       " 0.847017  1.67056    0.809546   …  0.0  0.00378823   4.39\n",
       " 2.48826   1.99806    2.11524       0.0  0.64916     10.1809\n",
       " 2.35122   3.2106     1.58676       0.0  0.478963    11.2339\n",
       " 0.420937  0.733354   0.279877      0.0  0.0          2.07961\n",
       " 0.319337  1.18081    0.839581      0.0  0.0133235    2.85887\n",
       " 0.885955  1.08002    1.22299    …  0.0  0.0808218    4.38795\n",
       " 1.23397   2.51879    2.13987       0.0  0.0          5.13408\n",
       " 1.60006   1.8416     2.00947       0.0  0.330617     7.23046\n",
       " 2.14788   2.4468     2.74703       0.0  0.956025    13.635"
      ]
     },
     "execution_count": 58,
     "metadata": {},
     "output_type": "execute_result"
    }
   ],
   "source": [
    "z = convert(_atype, z)"
   ]
  },
  {
   "cell_type": "code",
   "execution_count": null,
   "metadata": {},
   "outputs": [],
   "source": []
  },
  {
   "cell_type": "markdown",
   "metadata": {},
   "source": [
    "Second way"
   ]
  },
  {
   "cell_type": "code",
   "execution_count": 59,
   "metadata": {},
   "outputs": [
    {
     "data": {
      "text/plain": [
       "32×128 KnetArray{Float32,2}:\n",
       " 0.767758  2.10666    2.32063    …  0.0  0.467024     6.91848\n",
       " 2.49083   2.42055    1.39446       0.0  0.448247    11.1558\n",
       " 1.72694   2.16937    0.53309       0.0  0.0          5.60984\n",
       " 1.60252   1.96025    2.64115       0.0  0.65106      9.23041\n",
       " 1.35538   1.93666    1.82761       0.0  0.0          7.58443\n",
       " 0.23534   1.57044    1.03387    …  0.0  0.0          5.16349\n",
       " 1.29856   2.87637    2.106         0.0  0.470974     9.00149\n",
       " 0.92459   1.81768    1.53624       0.0  0.547997     8.00793\n",
       " 1.79815   2.01148    2.51103       0.0  0.473232    11.1988\n",
       " 0.0       0.0149513  0.0115202     0.0  0.0          0.0241925\n",
       " 1.69701   1.64947    1.66957    …  0.0  0.438464     8.05716\n",
       " 1.77332   2.87846    2.80425       0.0  0.567141    12.4613\n",
       " 2.15195   2.69347    1.30131       0.0  0.381554    10.6107\n",
       " ⋮                               ⋱  ⋮                \n",
       " 2.2369    2.35943    2.59253    …  0.0  0.655415    11.6543\n",
       " 0.533842  1.98997    1.87868       0.0  0.215955     7.76688\n",
       " 0.0       0.555453   0.501549      0.0  0.00448212   1.26461\n",
       " 0.31669   0.621691   0.680353      0.0  0.0          1.50031\n",
       " 0.362087  1.13938    1.05104       0.0  0.139042     3.31556\n",
       " 1.5553    1.85215    1.74645    …  0.0  0.286568     8.30215\n",
       " 0.396944  1.15172    0.160861      0.0  0.144367     2.62929\n",
       " 0.735534  1.16402    1.42302       0.0  0.0          4.26419\n",
       " 2.23856   2.68631    2.41192       0.0  0.802842    11.6501\n",
       " 0.683611  1.63471    1.17168       0.0  0.0          3.71219\n",
       " 1.75605   1.70625    1.77603    …  0.0  0.35152      6.9295\n",
       " 0.397367  1.04457    0.160394      0.0  0.163697     3.06934"
      ]
     },
     "execution_count": 59,
     "metadata": {},
     "output_type": "execute_result"
    }
   ],
   "source": [
    "z1 = z[1:32,:]"
   ]
  },
  {
   "cell_type": "code",
   "execution_count": 60,
   "metadata": {},
   "outputs": [
    {
     "data": {
      "text/plain": [
       "32×128 KnetArray{Float32,2}:\n",
       " 1.41258   2.72433   2.45849   2.31028   …  0.0  0.015317     9.45793\n",
       " 1.73264   2.70974   2.82772   2.64247      0.0  0.0         10.1937\n",
       " 1.30958   1.55937   1.21394   1.20308      0.0  0.328438     6.73427\n",
       " 0.742861  1.40152   1.16778   1.20635      0.0  0.0          3.42887\n",
       " 1.25257   2.51925   2.27607   2.00778      0.0  0.0240655    7.084\n",
       " 0.199529  1.22481   1.2848    1.22922   …  0.0  0.419503     5.32067\n",
       " 0.996582  1.9239    1.14521   1.6473       0.0  0.0988255    5.71956\n",
       " 0.0       1.50058   1.51569   1.63474      0.0  0.0          5.69057\n",
       " 1.9463    1.48995   1.96134   2.18705      0.0  0.296616     9.58694\n",
       " 2.22574   2.72069   1.13903   2.12776      0.0  0.0542319    9.22398\n",
       " 0.396139  0.570671  0.68827   0.608356  …  0.0  0.0951995    2.57589\n",
       " 1.60822   3.37232   1.15241   1.47104      0.0  0.265285     9.28207\n",
       " 1.393     1.86653   1.8254    2.05906      0.0  0.504294     9.1003\n",
       " ⋮                                       ⋱  ⋮                \n",
       " 0.171151  1.91355   1.77648   1.14013   …  0.0  0.0          4.15757\n",
       " 0.488714  2.56836   2.54969   2.16081      0.0  0.412979     9.20951\n",
       " 0.270998  0.623347  0.404761  0.48621      0.0  0.0          1.48381\n",
       " 0.847017  1.67056   0.809546  0.983475     0.0  0.00378823   4.39\n",
       " 2.48826   1.99806   2.11524   2.24927      0.0  0.64916     10.1809\n",
       " 2.35122   3.2106    1.58676   2.1327    …  0.0  0.478963    11.2339\n",
       " 0.420937  0.733354  0.279877  0.684221     0.0  0.0          2.07961\n",
       " 0.319337  1.18081   0.839581  0.851016     0.0  0.0133235    2.85887\n",
       " 0.885955  1.08002   1.22299   1.08981      0.0  0.0808218    4.38795\n",
       " 1.23397   2.51879   2.13987   2.21026      0.0  0.0          5.13408\n",
       " 1.60006   1.8416    2.00947   1.44079   …  0.0  0.330617     7.23046\n",
       " 2.14788   2.4468    2.74703   2.45467      0.0  0.956025    13.635"
      ]
     },
     "execution_count": 60,
     "metadata": {},
     "output_type": "execute_result"
    }
   ],
   "source": [
    "z2 = z[33:64,:]"
   ]
  },
  {
   "cell_type": "code",
   "execution_count": 61,
   "metadata": {},
   "outputs": [
    {
     "data": {
      "text/plain": [
       "0.9988151f0"
      ]
     },
     "execution_count": 61,
     "metadata": {},
     "output_type": "execute_result"
    }
   ],
   "source": [
    "sim_l1_2 =  z1[1,:]'*z2[1,:] / (norm(z1[1,:])*norm(z2[1,:]))"
   ]
  },
  {
   "cell_type": "code",
   "execution_count": 62,
   "metadata": {},
   "outputs": [
    {
     "data": {
      "text/plain": [
       "true"
      ]
     },
     "execution_count": 62,
     "metadata": {},
     "output_type": "execute_result"
    }
   ],
   "source": [
    "cos_z1[1,33] ≈ sim_l1_2"
   ]
  },
  {
   "cell_type": "code",
   "execution_count": null,
   "metadata": {},
   "outputs": [],
   "source": []
  },
  {
   "cell_type": "code",
   "execution_count": 63,
   "metadata": {},
   "outputs": [],
   "source": [
    "sim_one = zeros(32)\n",
    "for k in 1:32\n",
    "    #print(k,\"\\n\")\n",
    "    sim_one[k] = exp( z1[k,:]'*z2[k,:] / (norm(z1[k,:])*norm(z2[k,:])))\n",
    "end"
   ]
  },
  {
   "cell_type": "code",
   "execution_count": 64,
   "metadata": {},
   "outputs": [
    {
     "data": {
      "text/plain": [
       "64-element Array{Float64,1}:\n",
       " 2.7150628566741943\n",
       " 2.7093141078948975\n",
       " 2.7119157314300537\n",
       " 2.7051196098327637\n",
       " 2.7114315032958984\n",
       " 2.712904214859009\n",
       " 2.7151782512664795\n",
       " 2.709169626235962\n",
       " 2.7173657417297363\n",
       " 2.586040496826172\n",
       " 2.71622896194458\n",
       " 2.7108302116394043\n",
       " 2.7146191596984863\n",
       " ⋮\n",
       " 2.696890354156494\n",
       " 2.7148633003234863\n",
       " 2.684014320373535\n",
       " 2.682433843612671\n",
       " 2.7034096717834473\n",
       " 2.7146646976470947\n",
       " 2.7080414295196533\n",
       " 2.6982221603393555\n",
       " 2.7151882648468018\n",
       " 2.7085981369018555\n",
       " 2.7170138359069824\n",
       " 2.6973111629486084"
      ]
     },
     "execution_count": 64,
     "metadata": {},
     "output_type": "execute_result"
    }
   ],
   "source": [
    "sim_one_all = [sim_one; sim_one]"
   ]
  },
  {
   "cell_type": "code",
   "execution_count": 65,
   "metadata": {},
   "outputs": [],
   "source": [
    "sum_all = zeros(64)\n",
    "for k in 1:64\n",
    "    for i in 1:64\n",
    "        if i!=k\n",
    "            #print(k,\"-\",i,\"\\n\")\n",
    "            sum_all[k] += exp(z[k,:]'*z[i,:] / (norm(z[k,:])*norm(z[i,:])))\n",
    "        end\n",
    "    end\n",
    "end"
   ]
  },
  {
   "cell_type": "code",
   "execution_count": 66,
   "metadata": {},
   "outputs": [
    {
     "data": {
      "text/plain": [
       "64-element Array{Float64,1}:\n",
       " 170.35447239875793\n",
       " 170.44579601287842\n",
       " 170.07170248031616\n",
       " 170.36492657661438\n",
       " 170.5226171016693\n",
       " 170.3324236869812\n",
       " 170.51332092285156\n",
       " 170.39233946800232\n",
       " 170.44555139541626\n",
       " 163.804190158844\n",
       " 170.47560930252075\n",
       " 170.48369550704956\n",
       " 170.36185932159424\n",
       "   ⋮\n",
       " 169.7170054912567\n",
       " 170.51766705513\n",
       " 170.20640230178833\n",
       " 170.3432834148407\n",
       " 170.4552083015442\n",
       " 170.48638343811035\n",
       " 170.30843257904053\n",
       " 170.0030643939972\n",
       " 170.48960137367249\n",
       " 169.17034006118774\n",
       " 170.4846649169922\n",
       " 170.42452263832092"
      ]
     },
     "execution_count": 66,
     "metadata": {},
     "output_type": "execute_result"
    }
   ],
   "source": [
    "sum_all"
   ]
  },
  {
   "cell_type": "code",
   "execution_count": 67,
   "metadata": {},
   "outputs": [
    {
     "data": {
      "text/plain": [
       "64-element Array{Float64,1}:\n",
       " 0.01593772572239195\n",
       " 0.015895458681129272\n",
       " 0.01594571990448515\n",
       " 0.01587838332801588\n",
       " 0.01590071481062998\n",
       " 0.015927115672612607\n",
       " 0.01592355504292217\n",
       " 0.015899597568144852\n",
       " 0.015942720238122998\n",
       " 0.01578738916457778\n",
       " 0.01593324096659742\n",
       " 0.01590081798483369\n",
       " 0.01593443022110991\n",
       " ⋮\n",
       " 0.015890513424687013\n",
       " 0.015921302157187883\n",
       " 0.01576917368604374\n",
       " 0.015747224016341644\n",
       " 0.01585994173320286\n",
       " 0.01592305873877938\n",
       " 0.015900806486859334\n",
       " 0.01587160896162428\n",
       " 0.015925829158904288\n",
       " 0.016011069883303267\n",
       " 0.015936998422877963\n",
       " 0.015827013162142797"
      ]
     },
     "execution_count": 67,
     "metadata": {},
     "output_type": "execute_result"
    }
   ],
   "source": [
    "sim_one_all ./ sum_all"
   ]
  },
  {
   "cell_type": "code",
   "execution_count": 68,
   "metadata": {},
   "outputs": [
    {
     "data": {
      "text/plain": [
       "0.015889278838766396"
      ]
     },
     "execution_count": 68,
     "metadata": {},
     "output_type": "execute_result"
    }
   ],
   "source": [
    "sum(sim_one_all ./ sum_all)/64"
   ]
  },
  {
   "cell_type": "code",
   "execution_count": 69,
   "metadata": {},
   "outputs": [
    {
     "data": {
      "text/plain": [
       "4.142110684059624"
      ]
     },
     "execution_count": 69,
     "metadata": {},
     "output_type": "execute_result"
    }
   ],
   "source": [
    "-log(sum(sim_one_all ./ sum_all)/64)"
   ]
  },
  {
   "cell_type": "code",
   "execution_count": 70,
   "metadata": {},
   "outputs": [],
   "source": [
    "#l1_2 = -log(sim_l1_2/sum1)"
   ]
  },
  {
   "cell_type": "code",
   "execution_count": null,
   "metadata": {},
   "outputs": [],
   "source": []
  },
  {
   "cell_type": "code",
   "execution_count": null,
   "metadata": {},
   "outputs": [],
   "source": []
  },
  {
   "cell_type": "markdown",
   "metadata": {},
   "source": [
    "### Contrastive Loss (vectorized)"
   ]
  },
  {
   "cell_type": "code",
   "execution_count": 71,
   "metadata": {},
   "outputs": [
    {
     "data": {
      "text/plain": [
       "64×1 KnetArray{Float32,2}:\n",
       " 53.245144\n",
       " 74.47934\n",
       " 37.708797\n",
       " 67.42915\n",
       " 52.426975\n",
       " 32.77823\n",
       " 65.534584\n",
       " 53.52691\n",
       " 75.46441\n",
       "  0.20492613\n",
       " 56.377193\n",
       " 83.401886\n",
       " 71.340996\n",
       "  ⋮\n",
       " 33.124302\n",
       " 63.35314\n",
       " 10.660766\n",
       " 29.351032\n",
       " 69.89931\n",
       " 76.149315\n",
       " 13.926477\n",
       " 19.887281\n",
       " 31.759327\n",
       " 37.995815\n",
       " 54.367493\n",
       " 91.56539"
      ]
     },
     "execution_count": 71,
     "metadata": {},
     "output_type": "execute_result"
    }
   ],
   "source": [
    "norm_z = convert(_atype, mapslices(norm, Array(z), dims=[2]))"
   ]
  },
  {
   "cell_type": "code",
   "execution_count": 72,
   "metadata": {},
   "outputs": [],
   "source": [
    "#norm_z = convert(_atype,clamp.(mapslices(norm, Array(z), dims=[1]), 1e-12, Inf))"
   ]
  },
  {
   "cell_type": "code",
   "execution_count": 73,
   "metadata": {},
   "outputs": [
    {
     "data": {
      "text/plain": [
       "64×128 KnetArray{Float32,2}:\n",
       " 0.767758  2.10666    2.32063    …  0.0  0.467024     6.91848\n",
       " 2.49083   2.42055    1.39446       0.0  0.448247    11.1558\n",
       " 1.72694   2.16937    0.53309       0.0  0.0          5.60984\n",
       " 1.60252   1.96025    2.64115       0.0  0.65106      9.23041\n",
       " 1.35538   1.93666    1.82761       0.0  0.0          7.58443\n",
       " 0.23534   1.57044    1.03387    …  0.0  0.0          5.16349\n",
       " 1.29856   2.87637    2.106         0.0  0.470974     9.00149\n",
       " 0.92459   1.81768    1.53624       0.0  0.547997     8.00793\n",
       " 1.79815   2.01148    2.51103       0.0  0.473232    11.1988\n",
       " 0.0       0.0149513  0.0115202     0.0  0.0          0.0241925\n",
       " 1.69701   1.64947    1.66957    …  0.0  0.438464     8.05716\n",
       " 1.77332   2.87846    2.80425       0.0  0.567141    12.4613\n",
       " 2.15195   2.69347    1.30131       0.0  0.381554    10.6107\n",
       " ⋮                               ⋱  ⋮                \n",
       " 0.171151  1.91355    1.77648       0.0  0.0          4.15757\n",
       " 0.488714  2.56836    2.54969       0.0  0.412979     9.20951\n",
       " 0.270998  0.623347   0.404761      0.0  0.0          1.48381\n",
       " 0.847017  1.67056    0.809546   …  0.0  0.00378823   4.39\n",
       " 2.48826   1.99806    2.11524       0.0  0.64916     10.1809\n",
       " 2.35122   3.2106     1.58676       0.0  0.478963    11.2339\n",
       " 0.420937  0.733354   0.279877      0.0  0.0          2.07961\n",
       " 0.319337  1.18081    0.839581      0.0  0.0133235    2.85887\n",
       " 0.885955  1.08002    1.22299    …  0.0  0.0808218    4.38795\n",
       " 1.23397   2.51879    2.13987       0.0  0.0          5.13408\n",
       " 1.60006   1.8416     2.00947       0.0  0.330617     7.23046\n",
       " 2.14788   2.4468     2.74703       0.0  0.956025    13.635"
      ]
     },
     "execution_count": 73,
     "metadata": {},
     "output_type": "execute_result"
    }
   ],
   "source": [
    "z"
   ]
  },
  {
   "cell_type": "code",
   "execution_count": 74,
   "metadata": {},
   "outputs": [
    {
     "data": {
      "text/plain": [
       "64×128 KnetArray{Float32,2}:\n",
       " 0.0144193   0.0395654  0.0435838  …  0.0  0.0087712    0.129936\n",
       " 0.0334432   0.0324996  0.0187227     0.0  0.00601841   0.149784\n",
       " 0.0457966   0.0575295  0.014137      0.0  0.0          0.148767\n",
       " 0.023766    0.0290712  0.0391693     0.0  0.00965547   0.136891\n",
       " 0.0258528   0.0369401  0.0348601     0.0  0.0          0.144666\n",
       " 0.00717978  0.047911   0.0315413  …  0.0  0.0          0.157528\n",
       " 0.0198149   0.0438909  0.0321358     0.0  0.00718665   0.137355\n",
       " 0.0172734   0.0339582  0.0287003     0.0  0.0102378    0.149606\n",
       " 0.0238278   0.0266546  0.0332743     0.0  0.00627093   0.148399\n",
       " 0.0         0.0729594  0.0562163     0.0  0.0          0.118055\n",
       " 0.0301011   0.0292577  0.0296143  …  0.0  0.00777733   0.142915\n",
       " 0.0212623   0.0345131  0.0336234     0.0  0.00680009   0.149412\n",
       " 0.0301642   0.0377549  0.0182407     0.0  0.00534831   0.148732\n",
       " ⋮                                 ⋱  ⋮                 \n",
       " 0.00516693  0.0577689  0.0536306     0.0  0.0          0.125514\n",
       " 0.00771413  0.0405403  0.0402457     0.0  0.00651869   0.145368\n",
       " 0.0254201   0.0584711  0.0379674     0.0  0.0          0.139184\n",
       " 0.0288582   0.0569166  0.0275815  …  0.0  0.000129066  0.149569\n",
       " 0.0355978   0.0285849  0.0302613     0.0  0.00928708   0.145651\n",
       " 0.0308764   0.0421619  0.0208375     0.0  0.00628979   0.147525\n",
       " 0.0302257   0.0526589  0.0200967     0.0  0.0          0.149328\n",
       " 0.0160574   0.0593752  0.042217      0.0  0.000669953  0.143754\n",
       " 0.0278959   0.0340063  0.038508   …  0.0  0.00254482   0.138162\n",
       " 0.0324765   0.0662912  0.0563185     0.0  0.0          0.135122\n",
       " 0.0294304   0.0338731  0.0369608     0.0  0.00608116   0.132992\n",
       " 0.0234574   0.0267219  0.0300008     0.0  0.0104409    0.14891"
      ]
     },
     "execution_count": 74,
     "metadata": {},
     "output_type": "execute_result"
    }
   ],
   "source": [
    "zx = z ./ norm_z"
   ]
  },
  {
   "cell_type": "code",
   "execution_count": 75,
   "metadata": {},
   "outputs": [
    {
     "data": {
      "text/plain": [
       "32×128 KnetArray{Float32,2}:\n",
       " 0.0144193   0.0395654  0.0435838   …  0.0  0.0087712    0.129936\n",
       " 0.0334432   0.0324996  0.0187227      0.0  0.00601841   0.149784\n",
       " 0.0457966   0.0575295  0.014137       0.0  0.0          0.148767\n",
       " 0.023766    0.0290712  0.0391693      0.0  0.00965547   0.136891\n",
       " 0.0258528   0.0369401  0.0348601      0.0  0.0          0.144666\n",
       " 0.00717978  0.047911   0.0315413   …  0.0  0.0          0.157528\n",
       " 0.0198149   0.0438909  0.0321358      0.0  0.00718665   0.137355\n",
       " 0.0172734   0.0339582  0.0287003      0.0  0.0102378    0.149606\n",
       " 0.0238278   0.0266546  0.0332743      0.0  0.00627093   0.148399\n",
       " 0.0         0.0729594  0.0562163      0.0  0.0          0.118055\n",
       " 0.0301011   0.0292577  0.0296143   …  0.0  0.00777733   0.142915\n",
       " 0.0212623   0.0345131  0.0336234      0.0  0.00680009   0.149412\n",
       " 0.0301642   0.0377549  0.0182407      0.0  0.00534831   0.148732\n",
       " ⋮                                  ⋱  ⋮                 \n",
       " 0.0273897   0.0288901  0.0317443   …  0.0  0.00802523   0.142701\n",
       " 0.01053     0.0392519  0.0370568      0.0  0.0042597    0.153201\n",
       " 0.0         0.0540832  0.0488348      0.0  0.000436414  0.123132\n",
       " 0.0265877   0.052194   0.0571191      0.0  0.0          0.125959\n",
       " 0.0153599   0.0483331  0.0445854      0.0  0.00589821   0.140648\n",
       " 0.0277469   0.0330428  0.0311571   …  0.0  0.00511244   0.148112\n",
       " 0.0236232   0.0685421  0.00957325     0.0  0.00859166   0.156476\n",
       " 0.022068    0.0349238  0.0426944      0.0  0.0          0.127937\n",
       " 0.0276073   0.0331292  0.0297453      0.0  0.00990112   0.143675\n",
       " 0.0282094   0.0674569  0.0483497      0.0  0.0          0.153185\n",
       " 0.0324508   0.0315306  0.03282     …  0.0  0.00649591   0.128053\n",
       " 0.0203007   0.0533652  0.00819418     0.0  0.00836293   0.156806"
      ]
     },
     "execution_count": 75,
     "metadata": {},
     "output_type": "execute_result"
    }
   ],
   "source": [
    "z1 = zx[1:32,:]"
   ]
  },
  {
   "cell_type": "code",
   "execution_count": 76,
   "metadata": {},
   "outputs": [
    {
     "data": {
      "text/plain": [
       "32×128 KnetArray{Float32,2}:\n",
       " 0.0202158   0.0389885  0.0351839  …  0.0  0.000219204  0.135355\n",
       " 0.0245579   0.0384071  0.0400794     0.0  0.0          0.144483\n",
       " 0.0297888   0.0354708  0.0276134     0.0  0.00747092   0.153183\n",
       " 0.0275403   0.051959   0.0432935     0.0  0.0          0.12712\n",
       " 0.0220983   0.0444455  0.0401553     0.0  0.000424573  0.124979\n",
       " 0.00581164  0.0356747  0.0374221  …  0.0  0.0122188    0.154974\n",
       " 0.0234101   0.0451932  0.0269015     0.0  0.00232145   0.134355\n",
       " 0.0         0.0403192  0.040725      0.0  0.0          0.1529\n",
       " 0.0304225   0.0232894  0.0306576     0.0  0.00463639   0.149853\n",
       " 0.0363789   0.0444687  0.018617      0.0  0.0008864    0.150763\n",
       " 0.0205352   0.0295826  0.0356787  …  0.0  0.00493497   0.13353\n",
       " 0.026131    0.0547949  0.0187249     0.0  0.00431045   0.150819\n",
       " 0.0241465   0.0323548  0.0316419     0.0  0.00874154   0.157747\n",
       " ⋮                                 ⋱  ⋮                 \n",
       " 0.00516693  0.0577689  0.0536306  …  0.0  0.0          0.125514\n",
       " 0.00771413  0.0405403  0.0402457     0.0  0.00651869   0.145368\n",
       " 0.0254201   0.0584711  0.0379674     0.0  0.0          0.139184\n",
       " 0.0288582   0.0569166  0.0275815     0.0  0.000129066  0.149569\n",
       " 0.0355978   0.0285849  0.0302613     0.0  0.00928708   0.145651\n",
       " 0.0308764   0.0421619  0.0208375  …  0.0  0.00628979   0.147525\n",
       " 0.0302257   0.0526589  0.0200967     0.0  0.0          0.149328\n",
       " 0.0160574   0.0593752  0.042217      0.0  0.000669953  0.143754\n",
       " 0.0278959   0.0340063  0.038508      0.0  0.00254482   0.138162\n",
       " 0.0324765   0.0662912  0.0563185     0.0  0.0          0.135122\n",
       " 0.0294304   0.0338731  0.0369608  …  0.0  0.00608116   0.132992\n",
       " 0.0234574   0.0267219  0.0300008     0.0  0.0104409    0.14891"
      ]
     },
     "execution_count": 76,
     "metadata": {},
     "output_type": "execute_result"
    }
   ],
   "source": [
    "z2 = zx[33:64,:]"
   ]
  },
  {
   "cell_type": "code",
   "execution_count": 77,
   "metadata": {},
   "outputs": [
    {
     "data": {
      "text/plain": [
       "32"
      ]
     },
     "execution_count": 77,
     "metadata": {},
     "output_type": "execute_result"
    }
   ],
   "source": [
    "n = size(z1)[1]"
   ]
  },
  {
   "cell_type": "code",
   "execution_count": 78,
   "metadata": {
    "scrolled": false
   },
   "outputs": [
    {
     "data": {
      "text/plain": [
       "32×64 KnetArray{Float32,2}:\n",
       " 1.0  0.0  0.0  0.0  0.0  0.0  0.0  …  0.0  0.0  0.0  0.0  0.0  0.0\n",
       " 0.0  1.0  0.0  0.0  0.0  0.0  0.0     0.0  0.0  0.0  0.0  0.0  0.0\n",
       " 0.0  0.0  1.0  0.0  0.0  0.0  0.0     0.0  0.0  0.0  0.0  0.0  0.0\n",
       " 0.0  0.0  0.0  1.0  0.0  0.0  0.0     0.0  0.0  0.0  0.0  0.0  0.0\n",
       " 0.0  0.0  0.0  0.0  1.0  0.0  0.0     0.0  0.0  0.0  0.0  0.0  0.0\n",
       " 0.0  0.0  0.0  0.0  0.0  1.0  0.0  …  0.0  0.0  0.0  0.0  0.0  0.0\n",
       " 0.0  0.0  0.0  0.0  0.0  0.0  1.0     0.0  0.0  0.0  0.0  0.0  0.0\n",
       " 0.0  0.0  0.0  0.0  0.0  0.0  0.0     0.0  0.0  0.0  0.0  0.0  0.0\n",
       " 0.0  0.0  0.0  0.0  0.0  0.0  0.0     0.0  0.0  0.0  0.0  0.0  0.0\n",
       " 0.0  0.0  0.0  0.0  0.0  0.0  0.0     0.0  0.0  0.0  0.0  0.0  0.0\n",
       " 0.0  0.0  0.0  0.0  0.0  0.0  0.0  …  0.0  0.0  0.0  0.0  0.0  0.0\n",
       " 0.0  0.0  0.0  0.0  0.0  0.0  0.0     0.0  0.0  0.0  0.0  0.0  0.0\n",
       " 0.0  0.0  0.0  0.0  0.0  0.0  0.0     0.0  0.0  0.0  0.0  0.0  0.0\n",
       " ⋮                        ⋮         ⋱            ⋮              \n",
       " 0.0  0.0  0.0  0.0  0.0  0.0  0.0  …  0.0  0.0  0.0  0.0  0.0  0.0\n",
       " 0.0  0.0  0.0  0.0  0.0  0.0  0.0     0.0  0.0  0.0  0.0  0.0  0.0\n",
       " 0.0  0.0  0.0  0.0  0.0  0.0  0.0     0.0  0.0  0.0  0.0  0.0  0.0\n",
       " 0.0  0.0  0.0  0.0  0.0  0.0  0.0     0.0  0.0  0.0  0.0  0.0  0.0\n",
       " 0.0  0.0  0.0  0.0  0.0  0.0  0.0     0.0  0.0  0.0  0.0  0.0  0.0\n",
       " 0.0  0.0  0.0  0.0  0.0  0.0  0.0  …  0.0  0.0  0.0  0.0  0.0  0.0\n",
       " 0.0  0.0  0.0  0.0  0.0  0.0  0.0     0.0  0.0  0.0  0.0  0.0  0.0\n",
       " 0.0  0.0  0.0  0.0  0.0  0.0  0.0     0.0  0.0  0.0  0.0  0.0  0.0\n",
       " 0.0  0.0  0.0  0.0  0.0  0.0  0.0     0.0  0.0  0.0  0.0  0.0  0.0\n",
       " 0.0  0.0  0.0  0.0  0.0  0.0  0.0     0.0  0.0  0.0  0.0  0.0  0.0\n",
       " 0.0  0.0  0.0  0.0  0.0  0.0  0.0  …  0.0  0.0  0.0  0.0  0.0  0.0\n",
       " 0.0  0.0  0.0  0.0  0.0  0.0  0.0     0.0  0.0  0.0  0.0  0.0  0.0"
      ]
     },
     "execution_count": 78,
     "metadata": {},
     "output_type": "execute_result"
    }
   ],
   "source": [
    "labels = convert(_atype, Matrix{Float64}(I, 32, 64))"
   ]
  },
  {
   "cell_type": "code",
   "execution_count": 79,
   "metadata": {},
   "outputs": [
    {
     "data": {
      "text/plain": [
       "32×32 KnetArray{Float32,2}:\n",
       " 1.0f9  0.0    0.0    0.0    0.0    …  0.0    0.0    0.0    0.0\n",
       " 0.0    1.0f9  0.0    0.0    0.0       0.0    0.0    0.0    0.0\n",
       " 0.0    0.0    1.0f9  0.0    0.0       0.0    0.0    0.0    0.0\n",
       " 0.0    0.0    0.0    1.0f9  0.0       0.0    0.0    0.0    0.0\n",
       " 0.0    0.0    0.0    0.0    1.0f9     0.0    0.0    0.0    0.0\n",
       " 0.0    0.0    0.0    0.0    0.0    …  0.0    0.0    0.0    0.0\n",
       " 0.0    0.0    0.0    0.0    0.0       0.0    0.0    0.0    0.0\n",
       " 0.0    0.0    0.0    0.0    0.0       0.0    0.0    0.0    0.0\n",
       " 0.0    0.0    0.0    0.0    0.0       0.0    0.0    0.0    0.0\n",
       " 0.0    0.0    0.0    0.0    0.0       0.0    0.0    0.0    0.0\n",
       " 0.0    0.0    0.0    0.0    0.0    …  0.0    0.0    0.0    0.0\n",
       " 0.0    0.0    0.0    0.0    0.0       0.0    0.0    0.0    0.0\n",
       " 0.0    0.0    0.0    0.0    0.0       0.0    0.0    0.0    0.0\n",
       " ⋮                                  ⋱                ⋮      \n",
       " 0.0    0.0    0.0    0.0    0.0    …  0.0    0.0    0.0    0.0\n",
       " 0.0    0.0    0.0    0.0    0.0       0.0    0.0    0.0    0.0\n",
       " 0.0    0.0    0.0    0.0    0.0       0.0    0.0    0.0    0.0\n",
       " 0.0    0.0    0.0    0.0    0.0       0.0    0.0    0.0    0.0\n",
       " 0.0    0.0    0.0    0.0    0.0       0.0    0.0    0.0    0.0\n",
       " 0.0    0.0    0.0    0.0    0.0    …  0.0    0.0    0.0    0.0\n",
       " 0.0    0.0    0.0    0.0    0.0       0.0    0.0    0.0    0.0\n",
       " 0.0    0.0    0.0    0.0    0.0       0.0    0.0    0.0    0.0\n",
       " 0.0    0.0    0.0    0.0    0.0       1.0f9  0.0    0.0    0.0\n",
       " 0.0    0.0    0.0    0.0    0.0       0.0    1.0f9  0.0    0.0\n",
       " 0.0    0.0    0.0    0.0    0.0    …  0.0    0.0    1.0f9  0.0\n",
       " 0.0    0.0    0.0    0.0    0.0       0.0    0.0    0.0    1.0f9"
      ]
     },
     "execution_count": 79,
     "metadata": {},
     "output_type": "execute_result"
    }
   ],
   "source": [
    "mask = convert(_atype, Matrix{Float64}(I, 32, 32)*1e9)"
   ]
  },
  {
   "cell_type": "code",
   "execution_count": 80,
   "metadata": {},
   "outputs": [
    {
     "data": {
      "text/plain": [
       "32×32 KnetArray{Float32,2}:\n",
       " -1.0f9      0.996259   0.992207  …   0.988475   0.998109   0.989741\n",
       "  0.996259  -1.0f9      0.996613      0.989943   0.998696   0.994224\n",
       "  0.992207   0.996613  -1.0f9         0.992454   0.994988   0.997245\n",
       "  0.998621   0.997095   0.99194       0.988185   0.998868   0.988346\n",
       "  0.996823   0.998639   0.996269      0.991177   0.998751   0.99394\n",
       "  0.995573   0.996418   0.996282  …   0.992017   0.996389   0.995423\n",
       "  0.997962   0.998126   0.99489       0.990287   0.998837   0.992741\n",
       "  0.996641   0.998889   0.995628      0.988828   0.998188   0.995261\n",
       "  0.997327   0.998301   0.993549      0.988633   0.999016   0.991014\n",
       "  0.957      0.948944   0.951036      0.968429   0.951398   0.950724\n",
       "  0.997514   0.998932   0.994366  …   0.989424   0.999482   0.991554\n",
       "  0.996693   0.999302   0.995275      0.990474   0.998672   0.99312\n",
       "  0.994671   0.999096   0.997653      0.990941   0.997521   0.996363\n",
       "  ⋮                               ⋱              ⋮         \n",
       "  0.998129   0.998533   0.993691  …   0.988053   0.999304   0.990962\n",
       "  0.995849   0.996814   0.995923      0.993842   0.996706   0.994473\n",
       "  0.990534   0.982597   0.979907      0.985541   0.986391   0.976564\n",
       "  0.991331   0.987024   0.984895      0.992282   0.989671   0.97999\n",
       "  0.997167   0.994256   0.990348      0.98915    0.996093   0.988395\n",
       "  0.99748    0.998733   0.995179  …   0.990273   0.999169   0.992356\n",
       "  0.989619   0.993315   0.996821      0.989315   0.991531   0.998205\n",
       "  0.996344   0.99683    0.993272      0.99219    0.997837   0.98982\n",
       "  0.997247   0.998937   0.994841      0.989815   0.998909   0.992389\n",
       "  0.988475   0.989943   0.992454     -1.0f9      0.989393   0.989336\n",
       "  0.998109   0.998696   0.994988  …   0.989393  -1.0f9      0.992186\n",
       "  0.989741   0.994224   0.997245      0.989336   0.992186  -1.0f9"
      ]
     },
     "execution_count": 80,
     "metadata": {},
     "output_type": "execute_result"
    }
   ],
   "source": [
    "logits_aa = z1*transpose(z1)-mask"
   ]
  },
  {
   "cell_type": "code",
   "execution_count": 81,
   "metadata": {},
   "outputs": [
    {
     "data": {
      "text/plain": [
       "32×32 KnetArray{Float32,2}:\n",
       " -1.0f9      0.998331   0.994748  …   0.987663   0.999425   0.998928\n",
       "  0.998331  -1.0f9      0.992646      0.990974   0.998481   0.997324\n",
       "  0.994748   0.992646  -1.0f9         0.986243   0.994841   0.996105\n",
       "  0.996889   0.9966     0.992074      0.989088   0.995905   0.994647\n",
       "  0.998503   0.9989     0.9925        0.990499   0.998465   0.996887\n",
       "  0.998477   0.996481   0.995377  …   0.985767   0.997833   0.99829\n",
       "  0.998479   0.997229   0.997131      0.988917   0.998382   0.998279\n",
       "  0.998083   0.998432   0.994352      0.990764   0.997464   0.997133\n",
       "  0.998537   0.998368   0.99561       0.988053   0.998983   0.999153\n",
       "  0.995573   0.99385    0.999075      0.986294   0.995449   0.99656\n",
       "  0.99939    0.99787    0.995601  …   0.987117   0.999456   0.999219\n",
       "  0.995793   0.993786   0.998403      0.98707    0.995827   0.996203\n",
       "  0.99616    0.995394   0.998355      0.988768   0.996401   0.997365\n",
       "  ⋮                               ⋱              ⋮         \n",
       "  0.993884   0.995121   0.986801  …   0.989336   0.993457   0.990853\n",
       "  0.998165   0.997461   0.996327      0.989688   0.998143   0.998149\n",
       "  0.996181   0.995253   0.994328      0.987284   0.995288   0.994762\n",
       "  0.996023   0.994954   0.998182      0.988581   0.996179   0.996326\n",
       "  0.998345   0.996807   0.997347      0.986448   0.998713   0.999302\n",
       "  0.998658   0.996615   0.997242  …   0.986992   0.998721   0.998958\n",
       "  0.996572   0.994494   0.997223      0.987182   0.995645   0.996401\n",
       "  0.996492   0.995207   0.991013      0.985301   0.994906   0.994612\n",
       "  0.998338   0.997115   0.996856      0.988391   0.998522   0.998338\n",
       "  0.987663   0.990974   0.986243     -1.0f9      0.988235   0.985197\n",
       "  0.999425   0.998481   0.994841  …   0.988235  -1.0f9      0.998886\n",
       "  0.998928   0.997324   0.996105      0.985197   0.998886  -1.0f9"
      ]
     },
     "execution_count": 81,
     "metadata": {},
     "output_type": "execute_result"
    }
   ],
   "source": [
    "logits_bb = z2*transpose(z2)-mask"
   ]
  },
  {
   "cell_type": "code",
   "execution_count": 82,
   "metadata": {},
   "outputs": [
    {
     "data": {
      "text/plain": [
       "32×32 KnetArray{Float32,2}:\n",
       " 0.998815  0.997769  0.992977  …  0.986819  0.9983    0.997592\n",
       " 0.998043  0.996695  0.997699     0.986508  0.998106  0.998858\n",
       " 0.994048  0.992594  0.997655     0.987533  0.994414  0.994115\n",
       " 0.998866  0.998536  0.993083     0.987846  0.999177  0.998554\n",
       " 0.998272  0.997641  0.997003     0.989431  0.998383  0.998415\n",
       " 0.996841  0.995256  0.996202  …  0.988451  0.996211  0.996061\n",
       " 0.999149  0.99821   0.99553      0.988635  0.999007  0.998578\n",
       " 0.997829  0.995521  0.997696     0.984856  0.997576  0.998859\n",
       " 0.998833  0.998537  0.99517      0.987744  0.999125  0.999257\n",
       " 0.953185  0.958176  0.950315     0.975964  0.953264  0.947545\n",
       " 0.999026  0.998067  0.995652  …  0.987656  0.999299  0.999426\n",
       " 0.998354  0.997121  0.997198     0.987801  0.998379  0.999115\n",
       " 0.996537  0.99471   0.998867     0.986772  0.996666  0.997584\n",
       " ⋮                             ⋱            ⋮         \n",
       " 0.999212  0.997959  0.995171  …  0.986213  0.999313  0.999648\n",
       " 0.996759  0.996276  0.99694      0.990874  0.996621  0.996342\n",
       " 0.988046  0.990589  0.979208     0.988542  0.987573  0.984298\n",
       " 0.990394  0.993944  0.984185     0.995649  0.990734  0.987256\n",
       " 0.99705   0.997735  0.991147     0.988857  0.996431  0.995252\n",
       " 0.998784  0.998269  0.996299  …  0.988422  0.999099  0.999321\n",
       " 0.990974  0.988246  0.996098     0.982112  0.990593  0.991584\n",
       " 0.997544  0.99819   0.994168     0.992244  0.998152  0.996878\n",
       " 0.998567  0.997513  0.996794     0.987868  0.998798  0.999261\n",
       " 0.989278  0.990999  0.990999     0.996431  0.989558  0.987618\n",
       " 0.999276  0.998055  0.995566  …  0.987696  0.999533  0.999092\n",
       " 0.991624  0.988669  0.997218     0.983882  0.991081  0.992256"
      ]
     },
     "execution_count": 82,
     "metadata": {},
     "output_type": "execute_result"
    }
   ],
   "source": [
    "logits_ab = z1*transpose(z2)"
   ]
  },
  {
   "cell_type": "code",
   "execution_count": 83,
   "metadata": {},
   "outputs": [
    {
     "data": {
      "text/plain": [
       "32×32 KnetArray{Float32,2}:\n",
       " 0.998815  0.998043  0.994048  …  0.989278  0.999276  0.991624\n",
       " 0.997769  0.996695  0.992594     0.990999  0.998055  0.988669\n",
       " 0.992977  0.997699  0.997655     0.990999  0.995566  0.997218\n",
       " 0.997157  0.994492  0.992866     0.989802  0.996069  0.990907\n",
       " 0.997795  0.996134  0.99269      0.990568  0.998058  0.989749\n",
       " 0.997351  0.997081  0.993963  …  0.988827  0.997761  0.992951\n",
       " 0.997334  0.998768  0.996543     0.991152  0.998838  0.99481\n",
       " 0.997672  0.99679   0.993282     0.992202  0.997309  0.991073\n",
       " 0.996981  0.998666  0.994339     0.989188  0.999086  0.991456\n",
       " 0.993869  0.998372  0.99822      0.991067  0.996524  0.99728\n",
       " 0.998444  0.99855   0.994503  …  0.988783  0.999419  0.992063\n",
       " 0.993736  0.997658  0.998174     0.991706  0.996099  0.997567\n",
       " 0.994196  0.99828   0.996076     0.991778  0.997019  0.994883\n",
       " ⋮                             ⋱            ⋮         \n",
       " 0.995927  0.989513  0.987284  …  0.988685  0.992419  0.984298\n",
       " 0.997432  0.998032  0.995098     0.992084  0.998237  0.992853\n",
       " 0.996571  0.995528  0.995265     0.990646  0.995625  0.994066\n",
       " 0.994557  0.998119  0.998514     0.992958  0.996844  0.996401\n",
       " 0.996706  0.999338  0.99567      0.989171  0.999081  0.993495\n",
       " 0.996847  0.999215  0.996775  …  0.990019  0.998803  0.994931\n",
       " 0.995011  0.997672  0.997255     0.991029  0.996706  0.997252\n",
       " 0.99635   0.993533  0.99108      0.987839  0.994861  0.99109\n",
       " 0.99744   0.998843  0.996104     0.99076   0.998994  0.993273\n",
       " 0.986819  0.986508  0.987533     0.996431  0.987696  0.983882\n",
       " 0.9983    0.998106  0.994414  …  0.989558  0.999533  0.991081\n",
       " 0.997592  0.998858  0.994115     0.987618  0.999092  0.992256"
      ]
     },
     "execution_count": 83,
     "metadata": {},
     "output_type": "execute_result"
    }
   ],
   "source": [
    "logits_ba = z2*transpose(z1)"
   ]
  },
  {
   "cell_type": "code",
   "execution_count": 84,
   "metadata": {},
   "outputs": [],
   "source": [
    "logits_aa1 = Array(logits_aa)\n",
    "logits_ab1 = Array(logits_ab)\n",
    "logits_bb1 = Array(logits_bb)\n",
    "logits_ba1 = Array(logits_ba)\n",
    "labels1 = Array(labels)\n",
    "py\"\"\"\n",
    "import tensorflow as tf\n",
    "\n",
    "loss_a = tf.losses.categorical_crossentropy(\n",
    "      $labels1, tf.concat([$logits_ab1, $logits_aa1], 1), from_logits=True).numpy()\n",
    "\n",
    "loss_b = tf.losses.categorical_crossentropy(\n",
    "      $labels1, tf.concat([$logits_ba1, $logits_bb1], 1), from_logits=True).numpy()\n",
    "\"\"\""
   ]
  },
  {
   "cell_type": "code",
   "execution_count": 85,
   "metadata": {},
   "outputs": [],
   "source": [
    "#KERNEL DIED WHEN RUNNING THIS PART\n",
    "#logits_aa1 = Array(logits_aa)\n",
    "#logits_ab1 = Array(logits_ab)\n",
    "#logits_bb1 = Array(logits_bb)\n",
    "#logits_ba1 = Array(logits_ba)\n",
    "#labels1 = Array(labels)\n",
    "#py\"\"\"\n",
    "#import tensorflow.compat.v1 as tf\n",
    "\n",
    "\n",
    "#loss_a = tf.losses.softmax_cross_entropy(\n",
    "#      $labels1, tf.concat([$logits_ab1, $logits_aa1], 1)).numpy()\n",
    "\n",
    "#loss_b = tf.losses.softmax_cross_entropy(\n",
    "#      $labels1, tf.concat([$logits_ba1, $logits_bb1], 1)).numpy()\n",
    "\n",
    "#print(loss_a, loss_b)\n",
    "#\"\"\""
   ]
  },
  {
   "cell_type": "code",
   "execution_count": 86,
   "metadata": {},
   "outputs": [
    {
     "data": {
      "text/plain": [
       "32-element Array{Float32,1}:\n",
       " 0.9548188\n",
       " 0.9254902\n",
       " 0.9411765\n",
       " 0.92941177\n",
       " 0.9411765\n",
       " 0.9372549\n",
       " 0.9411765\n",
       " 0.9529412\n",
       " 0.94509804\n",
       " 0.94509804\n",
       " 0.95686275\n",
       " 0.9529412\n",
       " 0.9607843\n",
       " ⋮\n",
       " 0.9764706\n",
       " 1.0\n",
       " 0.9882353\n",
       " 0.99215686\n",
       " 1.0\n",
       " 0.99215686\n",
       " 0.99607843\n",
       " 0.94509804\n",
       " 0.94509804\n",
       " 0.94509804\n",
       " 0.84313726\n",
       " 0.84313726"
      ]
     },
     "execution_count": 86,
     "metadata": {},
     "output_type": "execute_result"
    }
   ],
   "source": [
    "py\"loss_a\""
   ]
  },
  {
   "cell_type": "code",
   "execution_count": 87,
   "metadata": {},
   "outputs": [
    {
     "data": {
      "text/plain": [
       "32-element Array{Float32,1}:\n",
       " 0.9548188\n",
       " 0.9254902\n",
       " 0.9411765\n",
       " 0.92941177\n",
       " 0.9411765\n",
       " 0.9372549\n",
       " 0.9411765\n",
       " 0.9529412\n",
       " 0.94509804\n",
       " 0.94509804\n",
       " 0.95686275\n",
       " 0.9529412\n",
       " 0.9607843\n",
       " ⋮\n",
       " 0.9764706\n",
       " 1.0\n",
       " 0.9882353\n",
       " 0.99215686\n",
       " 1.0\n",
       " 0.99215686\n",
       " 0.99607843\n",
       " 0.94509804\n",
       " 0.94509804\n",
       " 0.94509804\n",
       " 0.84313726\n",
       " 0.84313726"
      ]
     },
     "execution_count": 87,
     "metadata": {},
     "output_type": "execute_result"
    }
   ],
   "source": [
    "py\"loss_b\""
   ]
  },
  {
   "cell_type": "code",
   "execution_count": 88,
   "metadata": {},
   "outputs": [
    {
     "data": {
      "text/plain": [
       "32-element Array{Float32,1}:\n",
       " 1.9096376\n",
       " 1.8509804\n",
       " 1.882353\n",
       " 1.8588235\n",
       " 1.882353\n",
       " 1.8745098\n",
       " 1.882353\n",
       " 1.9058824\n",
       " 1.8901961\n",
       " 1.8901961\n",
       " 1.9137255\n",
       " 1.9058824\n",
       " 1.9215686\n",
       " ⋮\n",
       " 1.9529412\n",
       " 2.0\n",
       " 1.9764706\n",
       " 1.9843137\n",
       " 2.0\n",
       " 1.9843137\n",
       " 1.9921569\n",
       " 1.8901961\n",
       " 1.8901961\n",
       " 1.8901961\n",
       " 1.6862745\n",
       " 1.6862745"
      ]
     },
     "execution_count": 88,
     "metadata": {},
     "output_type": "execute_result"
    }
   ],
   "source": [
    "loss = py\"loss_a\"+py\"loss_b\""
   ]
  },
  {
   "cell_type": "code",
   "execution_count": 89,
   "metadata": {},
   "outputs": [
    {
     "data": {
      "text/plain": [
       "30.558744f0"
      ]
     },
     "execution_count": 89,
     "metadata": {},
     "output_type": "execute_result"
    }
   ],
   "source": [
    "sum(py\"loss_a\")"
   ]
  },
  {
   "cell_type": "code",
   "execution_count": 90,
   "metadata": {},
   "outputs": [
    {
     "data": {
      "text/plain": [
       "30.558744f0"
      ]
     },
     "execution_count": 90,
     "metadata": {},
     "output_type": "execute_result"
    }
   ],
   "source": [
    "sum(py\"loss_b\")"
   ]
  },
  {
   "cell_type": "code",
   "execution_count": 91,
   "metadata": {},
   "outputs": [],
   "source": [
    "#labels3 = round.(Int, labels1)"
   ]
  },
  {
   "cell_type": "code",
   "execution_count": 92,
   "metadata": {},
   "outputs": [
    {
     "data": {
      "text/plain": [
       "32×64 KnetArray{Float32,2}:\n",
       " 0.998815  0.997769  0.992977  …   0.988475   0.998109   0.989741\n",
       " 0.998043  0.996695  0.997699      0.989943   0.998696   0.994224\n",
       " 0.994048  0.992594  0.997655      0.992454   0.994988   0.997245\n",
       " 0.998866  0.998536  0.993083      0.988185   0.998868   0.988346\n",
       " 0.998272  0.997641  0.997003      0.991177   0.998751   0.99394\n",
       " 0.996841  0.995256  0.996202  …   0.992017   0.996389   0.995423\n",
       " 0.999149  0.99821   0.99553       0.990287   0.998837   0.992741\n",
       " 0.997829  0.995521  0.997696      0.988828   0.998188   0.995261\n",
       " 0.998833  0.998537  0.99517       0.988633   0.999016   0.991014\n",
       " 0.953185  0.958176  0.950315      0.968429   0.951398   0.950724\n",
       " 0.999026  0.998067  0.995652  …   0.989424   0.999482   0.991554\n",
       " 0.998354  0.997121  0.997198      0.990474   0.998672   0.99312\n",
       " 0.996537  0.99471   0.998867      0.990941   0.997521   0.996363\n",
       " ⋮                             ⋱                        \n",
       " 0.999212  0.997959  0.995171  …   0.988053   0.999304   0.990962\n",
       " 0.996759  0.996276  0.99694       0.993842   0.996706   0.994473\n",
       " 0.988046  0.990589  0.979208      0.985541   0.986391   0.976564\n",
       " 0.990394  0.993944  0.984185      0.992282   0.989671   0.97999\n",
       " 0.99705   0.997735  0.991147      0.98915    0.996093   0.988395\n",
       " 0.998784  0.998269  0.996299  …   0.990273   0.999169   0.992356\n",
       " 0.990974  0.988246  0.996098      0.989315   0.991531   0.998205\n",
       " 0.997544  0.99819   0.994168      0.99219    0.997837   0.98982\n",
       " 0.998567  0.997513  0.996794      0.989815   0.998909   0.992389\n",
       " 0.989278  0.990999  0.990999     -1.0f9      0.989393   0.989336\n",
       " 0.999276  0.998055  0.995566  …   0.989393  -1.0f9      0.992186\n",
       " 0.991624  0.988669  0.997218      0.989336   0.992186  -1.0f9"
      ]
     },
     "execution_count": 92,
     "metadata": {},
     "output_type": "execute_result"
    }
   ],
   "source": [
    "kk1 = convert(_atype, [logits_ab1 logits_aa1])"
   ]
  },
  {
   "cell_type": "code",
   "execution_count": 93,
   "metadata": {},
   "outputs": [
    {
     "data": {
      "text/plain": [
       "32×64 KnetArray{Float32,2}:\n",
       " 0.998815  0.998043  0.994048  …   0.987663   0.999425   0.998928\n",
       " 0.997769  0.996695  0.992594      0.990974   0.998481   0.997324\n",
       " 0.992977  0.997699  0.997655      0.986243   0.994841   0.996105\n",
       " 0.997157  0.994492  0.992866      0.989088   0.995905   0.994647\n",
       " 0.997795  0.996134  0.99269       0.990499   0.998465   0.996887\n",
       " 0.997351  0.997081  0.993963  …   0.985767   0.997833   0.99829\n",
       " 0.997334  0.998768  0.996543      0.988917   0.998382   0.998279\n",
       " 0.997672  0.99679   0.993282      0.990764   0.997464   0.997133\n",
       " 0.996981  0.998666  0.994339      0.988053   0.998983   0.999153\n",
       " 0.993869  0.998372  0.99822       0.986294   0.995449   0.99656\n",
       " 0.998444  0.99855   0.994503  …   0.987117   0.999456   0.999219\n",
       " 0.993736  0.997658  0.998174      0.98707    0.995827   0.996203\n",
       " 0.994196  0.99828   0.996076      0.988768   0.996401   0.997365\n",
       " ⋮                             ⋱                        \n",
       " 0.995927  0.989513  0.987284  …   0.989336   0.993457   0.990853\n",
       " 0.997432  0.998032  0.995098      0.989688   0.998143   0.998149\n",
       " 0.996571  0.995528  0.995265      0.987284   0.995288   0.994762\n",
       " 0.994557  0.998119  0.998514      0.988581   0.996179   0.996326\n",
       " 0.996706  0.999338  0.99567       0.986448   0.998713   0.999302\n",
       " 0.996847  0.999215  0.996775  …   0.986992   0.998721   0.998958\n",
       " 0.995011  0.997672  0.997255      0.987182   0.995645   0.996401\n",
       " 0.99635   0.993533  0.99108       0.985301   0.994906   0.994612\n",
       " 0.99744   0.998843  0.996104      0.988391   0.998522   0.998338\n",
       " 0.986819  0.986508  0.987533     -1.0f9      0.988235   0.985197\n",
       " 0.9983    0.998106  0.994414  …   0.988235  -1.0f9      0.998886\n",
       " 0.997592  0.998858  0.994115      0.985197   0.998886  -1.0f9"
      ]
     },
     "execution_count": 93,
     "metadata": {},
     "output_type": "execute_result"
    }
   ],
   "source": [
    "kk2 = convert(_atype, [logits_ba1 logits_bb1])"
   ]
  },
  {
   "cell_type": "code",
   "execution_count": 94,
   "metadata": {},
   "outputs": [
    {
     "data": {
      "text/plain": [
       "32×64 KnetArray{Float32,2}:\n",
       " -3.46232  -3.46277  -3.46621  …  -3.43471  -3.43117  -3.43471\n",
       " -3.4631   -3.46384  -3.46149     -3.43324  -3.43058  -3.43023\n",
       " -3.46709  -3.46795  -3.46154     -3.43073  -3.43429  -3.4272\n",
       " -3.46227  -3.462    -3.46611     -3.435    -3.43041  -3.4361\n",
       " -3.46287  -3.4629   -3.46219     -3.43201  -3.43052  -3.43051\n",
       " -3.4643   -3.46528  -3.46299  …  -3.43117  -3.43289  -3.42903\n",
       " -3.46199  -3.46233  -3.46366     -3.4329   -3.43044  -3.43171\n",
       " -3.46331  -3.46502  -3.4615      -3.43436  -3.43109  -3.42919\n",
       " -3.46231  -3.462    -3.46402     -3.43455  -3.43026  -3.43344\n",
       " -3.50795  -3.50236  -3.50888     -3.45476  -3.47788  -3.47372\n",
       " -3.46211  -3.46247  -3.46354  …  -3.43376  -3.42979  -3.4329\n",
       " -3.46278  -3.46342  -3.46199     -3.43271  -3.4306   -3.43133\n",
       " -3.4646   -3.46583  -3.46032     -3.43225  -3.43175  -3.42809\n",
       "  ⋮                            ⋱                      \n",
       " -3.46193  -3.46258  -3.46402  …  -3.43513  -3.42997  -3.43349\n",
       " -3.46438  -3.46426  -3.46225     -3.42935  -3.43257  -3.42998\n",
       " -3.47309  -3.46995  -3.47998     -3.43765  -3.44288  -3.44789\n",
       " -3.47074  -3.46659  -3.47501     -3.43091  -3.4396   -3.44446\n",
       " -3.46409  -3.4628   -3.46804     -3.43404  -3.43318  -3.43605\n",
       " -3.46235  -3.46227  -3.46289  …  -3.43291  -3.43011  -3.43209\n",
       " -3.47016  -3.47229  -3.46309     -3.43387  -3.43774  -3.42624\n",
       " -3.46359  -3.46235  -3.46502     -3.431    -3.43144  -3.43463\n",
       " -3.46257  -3.46303  -3.4624      -3.43337  -3.43037  -3.43206\n",
       " -3.47186  -3.46954  -3.46819     -1.0f9    -3.43988  -3.43511\n",
       " -3.46186  -3.46248  -3.46363  …  -3.43379  -1.0f9    -3.43226\n",
       " -3.46951  -3.47187  -3.46197     -3.43385  -3.43709  -1.0f9"
      ]
     },
     "execution_count": 94,
     "metadata": {},
     "output_type": "execute_result"
    }
   ],
   "source": [
    "kk_s1 = logsoftmax(kk1, dims=1)"
   ]
  },
  {
   "cell_type": "code",
   "execution_count": 95,
   "metadata": {},
   "outputs": [
    {
     "data": {
      "text/plain": [
       "32×64 KnetArray{Float32,2}:\n",
       " -3.46195  -3.46335  -3.46531  …  -3.4342   -3.4302   -3.43033\n",
       " -3.463    -3.4647   -3.46677     -3.43089  -3.43114  -3.43193\n",
       " -3.46779  -3.46369  -3.46171     -3.43562  -3.43478  -3.43315\n",
       " -3.46361  -3.4669   -3.4665      -3.43278  -3.43372  -3.43461\n",
       " -3.46297  -3.46526  -3.46667     -3.43137  -3.43116  -3.43237\n",
       " -3.46341  -3.46431  -3.4654   …  -3.4361   -3.43179  -3.43096\n",
       " -3.46343  -3.46262  -3.46282     -3.43295  -3.43124  -3.43097\n",
       " -3.46309  -3.4646   -3.46608     -3.4311   -3.43216  -3.43212\n",
       " -3.46378  -3.46273  -3.46502     -3.43381  -3.43064  -3.4301\n",
       " -3.4669   -3.46302  -3.46114     -3.43557  -3.43418  -3.43269\n",
       " -3.46232  -3.46284  -3.46486  …  -3.43475  -3.43017  -3.43003\n",
       " -3.46703  -3.46373  -3.46119     -3.43479  -3.4338   -3.43305\n",
       " -3.46657  -3.46311  -3.46329     -3.4331   -3.43322  -3.43189\n",
       "  ⋮                            ⋱                      \n",
       " -3.46484  -3.47188  -3.47208  …  -3.43253  -3.43617  -3.4384\n",
       " -3.46333  -3.46336  -3.46426     -3.43218  -3.43148  -3.4311\n",
       " -3.46419  -3.46586  -3.4641      -3.43458  -3.43434  -3.43449\n",
       " -3.46621  -3.46327  -3.46085     -3.43328  -3.43345  -3.43293\n",
       " -3.46406  -3.46205  -3.46369     -3.43542  -3.43091  -3.42995\n",
       " -3.46392  -3.46218  -3.46259  …  -3.43487  -3.4309   -3.4303\n",
       " -3.46575  -3.46372  -3.46211     -3.43468  -3.43398  -3.43285\n",
       " -3.46441  -3.46786  -3.46828     -3.43656  -3.43472  -3.43464\n",
       " -3.46332  -3.46255  -3.46326     -3.43347  -3.4311   -3.43092\n",
       " -3.47395  -3.47488  -3.47183     -1.0f9    -3.44139  -3.44406\n",
       " -3.46246  -3.46329  -3.46495  …  -3.43363  -1.0f9    -3.43037\n",
       " -3.46317  -3.46253  -3.46525     -3.43667  -3.43074  -1.0f9"
      ]
     },
     "execution_count": 95,
     "metadata": {},
     "output_type": "execute_result"
    }
   ],
   "source": [
    "kk_s2 = logsoftmax(kk2, dims=1)"
   ]
  },
  {
   "cell_type": "code",
   "execution_count": 96,
   "metadata": {},
   "outputs": [
    {
     "data": {
      "text/plain": [
       "32×64 KnetArray{Float32,2}:\n",
       " -3.46232  -0.0      -0.0      …  -0.0  -0.0  -0.0  -0.0  -0.0\n",
       " -0.0      -3.46384  -0.0         -0.0  -0.0  -0.0  -0.0  -0.0\n",
       " -0.0      -0.0      -3.46154     -0.0  -0.0  -0.0  -0.0  -0.0\n",
       " -0.0      -0.0      -0.0         -0.0  -0.0  -0.0  -0.0  -0.0\n",
       " -0.0      -0.0      -0.0         -0.0  -0.0  -0.0  -0.0  -0.0\n",
       " -0.0      -0.0      -0.0      …  -0.0  -0.0  -0.0  -0.0  -0.0\n",
       " -0.0      -0.0      -0.0         -0.0  -0.0  -0.0  -0.0  -0.0\n",
       " -0.0      -0.0      -0.0         -0.0  -0.0  -0.0  -0.0  -0.0\n",
       " -0.0      -0.0      -0.0         -0.0  -0.0  -0.0  -0.0  -0.0\n",
       " -0.0      -0.0      -0.0         -0.0  -0.0  -0.0  -0.0  -0.0\n",
       " -0.0      -0.0      -0.0      …  -0.0  -0.0  -0.0  -0.0  -0.0\n",
       " -0.0      -0.0      -0.0         -0.0  -0.0  -0.0  -0.0  -0.0\n",
       " -0.0      -0.0      -0.0         -0.0  -0.0  -0.0  -0.0  -0.0\n",
       "  ⋮                            ⋱         ⋮                \n",
       " -0.0      -0.0      -0.0      …  -0.0  -0.0  -0.0  -0.0  -0.0\n",
       " -0.0      -0.0      -0.0         -0.0  -0.0  -0.0  -0.0  -0.0\n",
       " -0.0      -0.0      -0.0         -0.0  -0.0  -0.0  -0.0  -0.0\n",
       " -0.0      -0.0      -0.0         -0.0  -0.0  -0.0  -0.0  -0.0\n",
       " -0.0      -0.0      -0.0         -0.0  -0.0  -0.0  -0.0  -0.0\n",
       " -0.0      -0.0      -0.0      …  -0.0  -0.0  -0.0  -0.0  -0.0\n",
       " -0.0      -0.0      -0.0         -0.0  -0.0  -0.0  -0.0  -0.0\n",
       " -0.0      -0.0      -0.0         -0.0  -0.0  -0.0  -0.0  -0.0\n",
       " -0.0      -0.0      -0.0         -0.0  -0.0  -0.0  -0.0  -0.0\n",
       " -0.0      -0.0      -0.0         -0.0  -0.0  -0.0  -0.0  -0.0\n",
       " -0.0      -0.0      -0.0      …  -0.0  -0.0  -0.0  -0.0  -0.0\n",
       " -0.0      -0.0      -0.0         -0.0  -0.0  -0.0  -0.0  -0.0"
      ]
     },
     "execution_count": 96,
     "metadata": {},
     "output_type": "execute_result"
    }
   ],
   "source": [
    "labels.*kk_s1"
   ]
  },
  {
   "cell_type": "code",
   "execution_count": 97,
   "metadata": {},
   "outputs": [
    {
     "data": {
      "text/plain": [
       "3.4648137f0"
      ]
     },
     "execution_count": 97,
     "metadata": {},
     "output_type": "execute_result"
    }
   ],
   "source": [
    "-sum(sum(labels.*kk_s1, dims=1)[1:32])/32"
   ]
  },
  {
   "cell_type": "code",
   "execution_count": 98,
   "metadata": {},
   "outputs": [
    {
     "data": {
      "text/plain": [
       "3.4648046f0"
      ]
     },
     "execution_count": 98,
     "metadata": {},
     "output_type": "execute_result"
    }
   ],
   "source": [
    "-sum(sum(labels.*kk_s2, dims=1)[1:32])/32"
   ]
  },
  {
   "cell_type": "code",
   "execution_count": null,
   "metadata": {},
   "outputs": [],
   "source": []
  },
  {
   "cell_type": "code",
   "execution_count": null,
   "metadata": {},
   "outputs": [],
   "source": []
  },
  {
   "cell_type": "code",
   "execution_count": null,
   "metadata": {},
   "outputs": [],
   "source": []
  },
  {
   "cell_type": "markdown",
   "metadata": {},
   "source": [
    "### Minimize loss"
   ]
  },
  {
   "cell_type": "code",
   "execution_count": null,
   "metadata": {},
   "outputs": [],
   "source": []
  }
 ],
 "metadata": {
  "kernelspec": {
   "display_name": "Julia 1.5.2",
   "language": "julia",
   "name": "julia-1.5"
  },
  "language_info": {
   "file_extension": ".jl",
   "mimetype": "application/julia",
   "name": "julia",
   "version": "1.5.2"
  }
 },
 "nbformat": 4,
 "nbformat_minor": 4
}
