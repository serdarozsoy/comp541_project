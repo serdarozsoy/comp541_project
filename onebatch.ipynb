{
 "cells": [
  {
   "cell_type": "code",
   "execution_count": 1,
   "metadata": {},
   "outputs": [
    {
     "data": {
      "text/plain": [
       "\"/home/admin2/miniconda3/bin/python\""
      ]
     },
     "execution_count": 1,
     "metadata": {},
     "output_type": "execute_result"
    }
   ],
   "source": [
    "ENV[\"PYTHON\"] =\"/home/admin2/miniconda3/bin/python\""
   ]
  },
  {
   "cell_type": "code",
   "execution_count": 2,
   "metadata": {},
   "outputs": [],
   "source": [
    "using MLDatasets\n",
    "using PyPlot\n",
    "using PyCall"
   ]
  },
  {
   "cell_type": "code",
   "execution_count": 3,
   "metadata": {},
   "outputs": [
    {
     "name": "stderr",
     "output_type": "stream",
     "text": [
      "2021-01-20 21:25:20.533655: I tensorflow/stream_executor/platform/default/dso_loader.cc:48] Successfully opened dynamic library libcudart.so.10.1\n"
     ]
    },
    {
     "data": {
      "text/plain": [
       "PyObject <module 'matplotlib.pyplot' from '/home/admin2/miniconda3/lib/python3.7/site-packages/matplotlib/pyplot.py'>"
      ]
     },
     "execution_count": 3,
     "metadata": {},
     "output_type": "execute_result"
    }
   ],
   "source": [
    "tf = pyimport(\"tensorflow\")\n",
    "tfds = pyimport(\"tensorflow_datasets\")\n",
    "np = pyimport(\"numpy\")\n",
    "plt = pyimport(\"matplotlib.pyplot\")"
   ]
  },
  {
   "cell_type": "code",
   "execution_count": 4,
   "metadata": {},
   "outputs": [
    {
     "data": {
      "text/plain": [
       "PyObject ['', '/home/admin2/miniconda3/lib/python37.zip', '/home/admin2/miniconda3/lib/python3.7', '/home/admin2/miniconda3/lib/python3.7/lib-dynload', '/home/admin2/miniconda3/lib/python3.7/site-packages', '/home/admin2/miniconda3/lib/python3.7/site-packages/IPython/extensions']"
      ]
     },
     "execution_count": 4,
     "metadata": {},
     "output_type": "execute_result"
    }
   ],
   "source": [
    "pushfirst!(PyVector(pyimport(\"sys\").\"path\"), \"\")"
   ]
  },
  {
   "cell_type": "code",
   "execution_count": 5,
   "metadata": {},
   "outputs": [
    {
     "data": {
      "text/plain": [
       "6-element PyVector{PyAny}:\n",
       " \"\"\n",
       " \"/home/admin2/miniconda3/lib/python37.zip\"\n",
       " \"/home/admin2/miniconda3/lib/python3.7\"\n",
       " \"/home/admin2/miniconda3/lib/python3.7/lib-dynload\"\n",
       " \"/home/admin2/miniconda3/lib/python3.7/site-packages\"\n",
       " \"/home/admin2/miniconda3/lib/python3.7/site-packages/IPython/extensions\""
      ]
     },
     "execution_count": 5,
     "metadata": {},
     "output_type": "execute_result"
    }
   ],
   "source": [
    "PyVector(pyimport(\"sys\").\"path\")"
   ]
  },
  {
   "cell_type": "markdown",
   "metadata": {},
   "source": [
    "###  Preprocessing"
   ]
  },
  {
   "cell_type": "code",
   "execution_count": 6,
   "metadata": {},
   "outputs": [
    {
     "data": {
      "text/plain": [
       "PyObject <module 'data_util2' from '/home/admin2/workspace/ku/comp541_project/data_util2.py'>"
      ]
     },
     "execution_count": 6,
     "metadata": {},
     "output_type": "execute_result"
    }
   ],
   "source": [
    "data_util = pyimport(\"data_util2\")\n",
    "#function_name = pyimport(\"data_util2\")[\"function_name\"]"
   ]
  },
  {
   "cell_type": "code",
   "execution_count": 7,
   "metadata": {
    "scrolled": true
   },
   "outputs": [],
   "source": [
    "# load full training set\n",
    "train_x, train_y = CIFAR10.traindata();\n",
    "\n",
    "# load full test set\n",
    "test_x,  test_y  = CIFAR10.testdata();"
   ]
  },
  {
   "cell_type": "code",
   "execution_count": 8,
   "metadata": {},
   "outputs": [],
   "source": [
    "# [height,weight,channel] --> [weight,height]\n",
    "train_x2 = permutedims(train_x, (2, 1, 3, 4));"
   ]
  },
  {
   "cell_type": "code",
   "execution_count": 9,
   "metadata": {},
   "outputs": [],
   "source": [
    "image2 = train_x2[:,:,:,17];"
   ]
  },
  {
   "cell_type": "markdown",
   "metadata": {},
   "source": [
    "Original image"
   ]
  },
  {
   "cell_type": "code",
   "execution_count": 10,
   "metadata": {},
   "outputs": [
    {
     "data": {
      "image/png": "[encoded data removed]",
      "text/plain": [
       "Figure(PyObject <Figure size 100x100 with 1 Axes>)"
      ]
     },
     "metadata": {},
     "output_type": "display_data"
    },
    {
     "data": {
      "text/plain": [
       "PyObject <matplotlib.image.AxesImage object at 0x7ff9af4d42d0>"
      ]
     },
     "execution_count": 10,
     "metadata": {},
     "output_type": "execute_result"
    }
   ],
   "source": [
    "plt.figure(figsize=(1,1))\n",
    "plt.imshow(image2)"
   ]
  },
  {
   "cell_type": "markdown",
   "metadata": {},
   "source": [
    "Transformed images "
   ]
  },
  {
   "cell_type": "code",
   "execution_count": 11,
   "metadata": {
    "scrolled": true
   },
   "outputs": [
    {
     "name": "stdout",
     "output_type": "stream",
     "text": [
      "WARNING:tensorflow:From /home/admin2/miniconda3/lib/python3.7/site-packages/tensorflow/python/util/dispatch.py:201: sample_distorted_bounding_box (from tensorflow.python.ops.image_ops_impl) is deprecated and will be removed in a future version.\n",
      "Instructions for updating:\n",
      "`seed2` arg is deprecated.Use sample_distorted_bounding_box_v2 instead.\n"
     ]
    },
    {
     "name": "stderr",
     "output_type": "stream",
     "text": [
      "2021-01-20 21:25:30.507102: I tensorflow/stream_executor/platform/default/dso_loader.cc:48] Successfully opened dynamic library libcuda.so.1\n",
      "2021-01-20 21:25:30.625350: I tensorflow/core/common_runtime/gpu/gpu_device.cc:1716] Found device 0 with properties: \n",
      "pciBusID: 0000:04:00.0 name: Tesla P100-SXM2-16GB computeCapability: 6.0\n",
      "coreClock: 1.4805GHz coreCount: 56 deviceMemorySize: 15.90GiB deviceMemoryBandwidth: 681.88GiB/s\n",
      "2021-01-20 21:25:30.627529: I tensorflow/core/common_runtime/gpu/gpu_device.cc:1716] Found device 1 with properties: \n",
      "pciBusID: 0000:06:00.0 name: Tesla P100-SXM2-16GB computeCapability: 6.0\n",
      "coreClock: 1.4805GHz coreCount: 56 deviceMemorySize: 15.90GiB deviceMemoryBandwidth: 681.88GiB/s\n",
      "2021-01-20 21:25:30.629553: I tensorflow/core/common_runtime/gpu/gpu_device.cc:1716] Found device 2 with properties: \n",
      "pciBusID: 0000:07:00.0 name: Tesla P100-SXM2-16GB computeCapability: 6.0\n",
      "coreClock: 1.4805GHz coreCount: 56 deviceMemorySize: 15.90GiB deviceMemoryBandwidth: 681.88GiB/s\n",
      "2021-01-20 21:25:30.631548: I tensorflow/core/common_runtime/gpu/gpu_device.cc:1716] Found device 3 with properties: \n",
      "pciBusID: 0000:08:00.0 name: Tesla P100-SXM2-16GB computeCapability: 6.0\n",
      "coreClock: 1.4805GHz coreCount: 56 deviceMemorySize: 15.90GiB deviceMemoryBandwidth: 681.88GiB/s\n",
      "2021-01-20 21:25:30.631592: I tensorflow/stream_executor/platform/default/dso_loader.cc:48] Successfully opened dynamic library libcudart.so.10.1\n",
      "2021-01-20 21:25:30.634851: I tensorflow/stream_executor/platform/default/dso_loader.cc:48] Successfully opened dynamic library libcublas.so.10\n",
      "2021-01-20 21:25:30.637520: I tensorflow/stream_executor/platform/default/dso_loader.cc:48] Successfully opened dynamic library libcufft.so.10\n",
      "2021-01-20 21:25:30.638085: I tensorflow/stream_executor/platform/default/dso_loader.cc:48] Successfully opened dynamic library libcurand.so.10\n",
      "2021-01-20 21:25:30.641193: I tensorflow/stream_executor/platform/default/dso_loader.cc:48] Successfully opened dynamic library libcusolver.so.10\n",
      "2021-01-20 21:25:30.642918: I tensorflow/stream_executor/platform/default/dso_loader.cc:48] Successfully opened dynamic library libcusparse.so.10\n",
      "2021-01-20 21:25:30.649070: I tensorflow/stream_executor/platform/default/dso_loader.cc:48] Successfully opened dynamic library libcudnn.so.7\n",
      "2021-01-20 21:25:30.663026: I tensorflow/core/common_runtime/gpu/gpu_device.cc:1858] Adding visible gpu devices: 0, 1, 2, 3\n",
      "2021-01-20 21:25:30.663832: I tensorflow/core/platform/cpu_feature_guard.cc:142] This TensorFlow binary is optimized with oneAPI Deep Neural Network Library (oneDNN)to use the following CPU instructions in performance-critical operations:  AVX2 FMA\n",
      "To enable them in other operations, rebuild TensorFlow with the appropriate compiler flags.\n",
      "2021-01-20 21:25:30.686067: I tensorflow/core/platform/profile_utils/cpu_utils.cc:104] CPU Frequency: 2600010000 Hz\n",
      "2021-01-20 21:25:30.695685: I tensorflow/compiler/xla/service/service.cc:168] XLA service 0x9d46ea0 initialized for platform Host (this does not guarantee that XLA will be used). Devices:\n",
      "2021-01-20 21:25:30.695709: I tensorflow/compiler/xla/service/service.cc:176]   StreamExecutor device (0): Host, Default Version\n",
      "2021-01-20 21:25:31.283934: I tensorflow/compiler/xla/service/service.cc:168] XLA service 0x94783d0 initialized for platform CUDA (this does not guarantee that XLA will be used). Devices:\n",
      "2021-01-20 21:25:31.283982: I tensorflow/compiler/xla/service/service.cc:176]   StreamExecutor device (0): Tesla P100-SXM2-16GB, Compute Capability 6.0\n",
      "2021-01-20 21:25:31.283994: I tensorflow/compiler/xla/service/service.cc:176]   StreamExecutor device (1): Tesla P100-SXM2-16GB, Compute Capability 6.0\n",
      "2021-01-20 21:25:31.284002: I tensorflow/compiler/xla/service/service.cc:176]   StreamExecutor device (2): Tesla P100-SXM2-16GB, Compute Capability 6.0\n",
      "2021-01-20 21:25:31.284011: I tensorflow/compiler/xla/service/service.cc:176]   StreamExecutor device (3): Tesla P100-SXM2-16GB, Compute Capability 6.0\n",
      "2021-01-20 21:25:31.286981: I tensorflow/core/common_runtime/gpu/gpu_device.cc:1716] Found device 0 with properties: \n",
      "pciBusID: 0000:04:00.0 name: Tesla P100-SXM2-16GB computeCapability: 6.0\n",
      "coreClock: 1.4805GHz coreCount: 56 deviceMemorySize: 15.90GiB deviceMemoryBandwidth: 681.88GiB/s\n",
      "2021-01-20 21:25:31.291981: I tensorflow/core/common_runtime/gpu/gpu_device.cc:1716] Found device 1 with properties: \n",
      "pciBusID: 0000:06:00.0 name: Tesla P100-SXM2-16GB computeCapability: 6.0\n",
      "coreClock: 1.4805GHz coreCount: 56 deviceMemorySize: 15.90GiB deviceMemoryBandwidth: 681.88GiB/s\n",
      "2021-01-20 21:25:31.294125: I tensorflow/core/common_runtime/gpu/gpu_device.cc:1716] Found device 2 with properties: \n",
      "pciBusID: 0000:07:00.0 name: Tesla P100-SXM2-16GB computeCapability: 6.0\n",
      "coreClock: 1.4805GHz coreCount: 56 deviceMemorySize: 15.90GiB deviceMemoryBandwidth: 681.88GiB/s\n",
      "2021-01-20 21:25:31.296237: I tensorflow/core/common_runtime/gpu/gpu_device.cc:1716] Found device 3 with properties: \n",
      "pciBusID: 0000:08:00.0 name: Tesla P100-SXM2-16GB computeCapability: 6.0\n",
      "coreClock: 1.4805GHz coreCount: 56 deviceMemorySize: 15.90GiB deviceMemoryBandwidth: 681.88GiB/s\n",
      "2021-01-20 21:25:31.296304: I tensorflow/stream_executor/platform/default/dso_loader.cc:48] Successfully opened dynamic library libcudart.so.10.1\n",
      "2021-01-20 21:25:31.296359: I tensorflow/stream_executor/platform/default/dso_loader.cc:48] Successfully opened dynamic library libcublas.so.10\n",
      "2021-01-20 21:25:31.296396: I tensorflow/stream_executor/platform/default/dso_loader.cc:48] Successfully opened dynamic library libcufft.so.10\n",
      "2021-01-20 21:25:31.296430: I tensorflow/stream_executor/platform/default/dso_loader.cc:48] Successfully opened dynamic library libcurand.so.10\n",
      "2021-01-20 21:25:31.296464: I tensorflow/stream_executor/platform/default/dso_loader.cc:48] Successfully opened dynamic library libcusolver.so.10\n",
      "2021-01-20 21:25:31.296496: I tensorflow/stream_executor/platform/default/dso_loader.cc:48] Successfully opened dynamic library libcusparse.so.10\n",
      "2021-01-20 21:25:31.296529: I tensorflow/stream_executor/platform/default/dso_loader.cc:48] Successfully opened dynamic library libcudnn.so.7\n",
      "2021-01-20 21:25:31.311614: I tensorflow/core/common_runtime/gpu/gpu_device.cc:1858] Adding visible gpu devices: 0, 1, 2, 3\n",
      "2021-01-20 21:25:31.311680: I tensorflow/stream_executor/platform/default/dso_loader.cc:48] Successfully opened dynamic library libcudart.so.10.1\n",
      "2021-01-20 21:25:32.793136: I tensorflow/core/common_runtime/gpu/gpu_device.cc:1257] Device interconnect StreamExecutor with strength 1 edge matrix:\n",
      "2021-01-20 21:25:32.793193: I tensorflow/core/common_runtime/gpu/gpu_device.cc:1263]      0 1 2 3 \n",
      "2021-01-20 21:25:32.793206: I tensorflow/core/common_runtime/gpu/gpu_device.cc:1276] 0:   N Y Y Y \n",
      "2021-01-20 21:25:32.793209: I tensorflow/core/common_runtime/gpu/gpu_device.cc:1276] 1:   Y N Y Y \n",
      "2021-01-20 21:25:32.793212: I tensorflow/core/common_runtime/gpu/gpu_device.cc:1276] 2:   Y Y N Y \n",
      "2021-01-20 21:25:32.793215: I tensorflow/core/common_runtime/gpu/gpu_device.cc:1276] 3:   Y Y Y N \n",
      "2021-01-20 21:25:32.797815: I tensorflow/core/common_runtime/gpu/gpu_device.cc:1402] Created TensorFlow device (/job:localhost/replica:0/task:0/device:GPU:0 with 14951 MB memory) -> physical GPU (device: 0, name: Tesla P100-SXM2-16GB, pci bus id: 0000:04:00.0, compute capability: 6.0)\n",
      "2021-01-20 21:25:32.799186: I tensorflow/core/common_runtime/gpu/gpu_device.cc:1402] Created TensorFlow device (/job:localhost/replica:0/task:0/device:GPU:1 with 14951 MB memory) -> physical GPU (device: 1, name: Tesla P100-SXM2-16GB, pci bus id: 0000:06:00.0, compute capability: 6.0)\n",
      "2021-01-20 21:25:32.800926: I tensorflow/core/common_runtime/gpu/gpu_device.cc:1402] Created TensorFlow device (/job:localhost/replica:0/task:0/device:GPU:2 with 14951 MB memory) -> physical GPU (device: 2, name: Tesla P100-SXM2-16GB, pci bus id: 0000:07:00.0, compute capability: 6.0)\n",
      "2021-01-20 21:25:32.802213: I tensorflow/core/common_runtime/gpu/gpu_device.cc:1402] Created TensorFlow device (/job:localhost/replica:0/task:0/device:GPU:3 with 14951 MB memory) -> physical GPU (device: 3, name: Tesla P100-SXM2-16GB, pci bus id: 0000:08:00.0, compute capability: 6.0)\n",
      "2021-01-20 21:25:33.000932: I tensorflow/stream_executor/platform/default/dso_loader.cc:48] Successfully opened dynamic library libcublas.so.10\n"
     ]
    }
   ],
   "source": [
    "image2_edit_a = data_util[:preprocess_image](image2, 32, 32,is_training=true).numpy();"
   ]
  },
  {
   "cell_type": "code",
   "execution_count": 12,
   "metadata": {},
   "outputs": [
    {
     "data": {
      "image/png": "[encoded data removed]",
      "text/plain": [
       "Figure(PyObject <Figure size 100x100 with 1 Axes>)"
      ]
     },
     "metadata": {},
     "output_type": "display_data"
    },
    {
     "data": {
      "text/plain": [
       "PyObject <matplotlib.image.AxesImage object at 0x7ff9af4d46d0>"
      ]
     },
     "execution_count": 12,
     "metadata": {},
     "output_type": "execute_result"
    }
   ],
   "source": [
    "plt.figure(figsize=(1,1))\n",
    "plt.imshow(image2_edit_a)"
   ]
  },
  {
   "cell_type": "code",
   "execution_count": 13,
   "metadata": {},
   "outputs": [],
   "source": [
    "image2_edit_b = data_util[:preprocess_image](image2, 32, 32,is_training=true).numpy();"
   ]
  },
  {
   "cell_type": "code",
   "execution_count": 14,
   "metadata": {
    "scrolled": true
   },
   "outputs": [
    {
     "data": {
      "image/png": "[encoded data removed]",
      "text/plain": [
       "Figure(PyObject <Figure size 100x100 with 1 Axes>)"
      ]
     },
     "metadata": {},
     "output_type": "display_data"
    },
    {
     "data": {
      "text/plain": [
       "PyObject <matplotlib.image.AxesImage object at 0x7ff9af4d4850>"
      ]
     },
     "execution_count": 14,
     "metadata": {},
     "output_type": "execute_result"
    }
   ],
   "source": [
    "plt.figure(figsize=(1,1))\n",
    "plt.imshow(image2_edit_b)"
   ]
  },
  {
   "cell_type": "markdown",
   "metadata": {},
   "source": [
    "Alternative way"
   ]
  },
  {
   "cell_type": "code",
   "execution_count": 11,
   "metadata": {
    "scrolled": true
   },
   "outputs": [
    {
     "name": "stdout",
     "output_type": "stream",
     "text": [
      "WARNING:tensorflow:From /home/admin2/miniconda3/lib/python3.7/site-packages/tensorflow/python/util/dispatch.py:201: sample_distorted_bounding_box (from tensorflow.python.ops.image_ops_impl) is deprecated and will be removed in a future version.\n",
      "Instructions for updating:\n",
      "`seed2` arg is deprecated.Use sample_distorted_bounding_box_v2 instead.\n"
     ]
    },
    {
     "name": "stderr",
     "output_type": "stream",
     "text": [
      "2021-01-20 14:08:47.254974: I tensorflow/stream_executor/platform/default/dso_loader.cc:48] Successfully opened dynamic library libcuda.so.1\n",
      "2021-01-20 14:08:47.404339: I tensorflow/core/common_runtime/gpu/gpu_device.cc:1716] Found device 0 with properties: \n",
      "pciBusID: 0000:04:00.0 name: Tesla P100-SXM2-16GB computeCapability: 6.0\n",
      "coreClock: 1.4805GHz coreCount: 56 deviceMemorySize: 15.90GiB deviceMemoryBandwidth: 681.88GiB/s\n",
      "2021-01-20 14:08:47.406519: I tensorflow/core/common_runtime/gpu/gpu_device.cc:1716] Found device 1 with properties: \n",
      "pciBusID: 0000:06:00.0 name: Tesla P100-SXM2-16GB computeCapability: 6.0\n",
      "coreClock: 1.4805GHz coreCount: 56 deviceMemorySize: 15.90GiB deviceMemoryBandwidth: 681.88GiB/s\n",
      "2021-01-20 14:08:47.408663: I tensorflow/core/common_runtime/gpu/gpu_device.cc:1716] Found device 2 with properties: \n",
      "pciBusID: 0000:07:00.0 name: Tesla P100-SXM2-16GB computeCapability: 6.0\n",
      "coreClock: 1.4805GHz coreCount: 56 deviceMemorySize: 15.90GiB deviceMemoryBandwidth: 681.88GiB/s\n",
      "2021-01-20 14:08:47.410647: I tensorflow/core/common_runtime/gpu/gpu_device.cc:1716] Found device 3 with properties: \n",
      "pciBusID: 0000:08:00.0 name: Tesla P100-SXM2-16GB computeCapability: 6.0\n",
      "coreClock: 1.4805GHz coreCount: 56 deviceMemorySize: 15.90GiB deviceMemoryBandwidth: 681.88GiB/s\n",
      "2021-01-20 14:08:47.410684: I tensorflow/stream_executor/platform/default/dso_loader.cc:48] Successfully opened dynamic library libcudart.so.10.1\n",
      "2021-01-20 14:08:47.413739: I tensorflow/stream_executor/platform/default/dso_loader.cc:48] Successfully opened dynamic library libcublas.so.10\n",
      "2021-01-20 14:08:47.416351: I tensorflow/stream_executor/platform/default/dso_loader.cc:48] Successfully opened dynamic library libcufft.so.10\n",
      "2021-01-20 14:08:47.416908: I tensorflow/stream_executor/platform/default/dso_loader.cc:48] Successfully opened dynamic library libcurand.so.10\n",
      "2021-01-20 14:08:47.419946: I tensorflow/stream_executor/platform/default/dso_loader.cc:48] Successfully opened dynamic library libcusolver.so.10\n",
      "2021-01-20 14:08:47.421608: I tensorflow/stream_executor/platform/default/dso_loader.cc:48] Successfully opened dynamic library libcusparse.so.10\n",
      "2021-01-20 14:08:47.427550: I tensorflow/stream_executor/platform/default/dso_loader.cc:48] Successfully opened dynamic library libcudnn.so.7\n",
      "2021-01-20 14:08:47.441653: I tensorflow/core/common_runtime/gpu/gpu_device.cc:1858] Adding visible gpu devices: 0, 1, 2, 3\n",
      "2021-01-20 14:08:47.442364: I tensorflow/core/platform/cpu_feature_guard.cc:142] This TensorFlow binary is optimized with oneAPI Deep Neural Network Library (oneDNN)to use the following CPU instructions in performance-critical operations:  AVX2 FMA\n",
      "To enable them in other operations, rebuild TensorFlow with the appropriate compiler flags.\n",
      "2021-01-20 14:08:47.467074: I tensorflow/core/platform/profile_utils/cpu_utils.cc:104] CPU Frequency: 2600010000 Hz\n",
      "2021-01-20 14:08:47.477535: I tensorflow/compiler/xla/service/service.cc:168] XLA service 0x9941720 initialized for platform Host (this does not guarantee that XLA will be used). Devices:\n",
      "2021-01-20 14:08:47.477565: I tensorflow/compiler/xla/service/service.cc:176]   StreamExecutor device (0): Host, Default Version\n",
      "2021-01-20 14:08:48.095099: I tensorflow/compiler/xla/service/service.cc:168] XLA service 0x8fc4050 initialized for platform CUDA (this does not guarantee that XLA will be used). Devices:\n",
      "2021-01-20 14:08:48.095143: I tensorflow/compiler/xla/service/service.cc:176]   StreamExecutor device (0): Tesla P100-SXM2-16GB, Compute Capability 6.0\n",
      "2021-01-20 14:08:48.095154: I tensorflow/compiler/xla/service/service.cc:176]   StreamExecutor device (1): Tesla P100-SXM2-16GB, Compute Capability 6.0\n",
      "2021-01-20 14:08:48.095162: I tensorflow/compiler/xla/service/service.cc:176]   StreamExecutor device (2): Tesla P100-SXM2-16GB, Compute Capability 6.0\n",
      "2021-01-20 14:08:48.095170: I tensorflow/compiler/xla/service/service.cc:176]   StreamExecutor device (3): Tesla P100-SXM2-16GB, Compute Capability 6.0\n",
      "2021-01-20 14:08:48.097902: I tensorflow/core/common_runtime/gpu/gpu_device.cc:1716] Found device 0 with properties: \n",
      "pciBusID: 0000:04:00.0 name: Tesla P100-SXM2-16GB computeCapability: 6.0\n",
      "coreClock: 1.4805GHz coreCount: 56 deviceMemorySize: 15.90GiB deviceMemoryBandwidth: 681.88GiB/s\n",
      "2021-01-20 14:08:48.099888: I tensorflow/core/common_runtime/gpu/gpu_device.cc:1716] Found device 1 with properties: \n",
      "pciBusID: 0000:06:00.0 name: Tesla P100-SXM2-16GB computeCapability: 6.0\n",
      "coreClock: 1.4805GHz coreCount: 56 deviceMemorySize: 15.90GiB deviceMemoryBandwidth: 681.88GiB/s\n",
      "2021-01-20 14:08:48.101842: I tensorflow/core/common_runtime/gpu/gpu_device.cc:1716] Found device 2 with properties: \n",
      "pciBusID: 0000:07:00.0 name: Tesla P100-SXM2-16GB computeCapability: 6.0\n",
      "coreClock: 1.4805GHz coreCount: 56 deviceMemorySize: 15.90GiB deviceMemoryBandwidth: 681.88GiB/s\n",
      "2021-01-20 14:08:48.103782: I tensorflow/core/common_runtime/gpu/gpu_device.cc:1716] Found device 3 with properties: \n",
      "pciBusID: 0000:08:00.0 name: Tesla P100-SXM2-16GB computeCapability: 6.0\n",
      "coreClock: 1.4805GHz coreCount: 56 deviceMemorySize: 15.90GiB deviceMemoryBandwidth: 681.88GiB/s\n",
      "2021-01-20 14:08:48.103833: I tensorflow/stream_executor/platform/default/dso_loader.cc:48] Successfully opened dynamic library libcudart.so.10.1\n",
      "2021-01-20 14:08:48.103869: I tensorflow/stream_executor/platform/default/dso_loader.cc:48] Successfully opened dynamic library libcublas.so.10\n",
      "2021-01-20 14:08:48.103895: I tensorflow/stream_executor/platform/default/dso_loader.cc:48] Successfully opened dynamic library libcufft.so.10\n",
      "2021-01-20 14:08:48.103918: I tensorflow/stream_executor/platform/default/dso_loader.cc:48] Successfully opened dynamic library libcurand.so.10\n",
      "2021-01-20 14:08:48.103942: I tensorflow/stream_executor/platform/default/dso_loader.cc:48] Successfully opened dynamic library libcusolver.so.10\n",
      "2021-01-20 14:08:48.103964: I tensorflow/stream_executor/platform/default/dso_loader.cc:48] Successfully opened dynamic library libcusparse.so.10\n",
      "2021-01-20 14:08:48.103988: I tensorflow/stream_executor/platform/default/dso_loader.cc:48] Successfully opened dynamic library libcudnn.so.7\n",
      "2021-01-20 14:08:48.118319: I tensorflow/core/common_runtime/gpu/gpu_device.cc:1858] Adding visible gpu devices: 0, 1, 2, 3\n",
      "2021-01-20 14:08:48.118367: I tensorflow/stream_executor/platform/default/dso_loader.cc:48] Successfully opened dynamic library libcudart.so.10.1\n",
      "2021-01-20 14:08:49.570875: I tensorflow/core/common_runtime/gpu/gpu_device.cc:1257] Device interconnect StreamExecutor with strength 1 edge matrix:\n",
      "2021-01-20 14:08:49.570925: I tensorflow/core/common_runtime/gpu/gpu_device.cc:1263]      0 1 2 3 \n",
      "2021-01-20 14:08:49.570931: I tensorflow/core/common_runtime/gpu/gpu_device.cc:1276] 0:   N Y Y Y \n",
      "2021-01-20 14:08:49.570934: I tensorflow/core/common_runtime/gpu/gpu_device.cc:1276] 1:   Y N Y Y \n",
      "2021-01-20 14:08:49.570937: I tensorflow/core/common_runtime/gpu/gpu_device.cc:1276] 2:   Y Y N Y \n",
      "2021-01-20 14:08:49.570940: I tensorflow/core/common_runtime/gpu/gpu_device.cc:1276] 3:   Y Y Y N \n",
      "2021-01-20 14:08:49.575550: I tensorflow/core/common_runtime/gpu/gpu_device.cc:1402] Created TensorFlow device (/job:localhost/replica:0/task:0/device:GPU:0 with 14951 MB memory) -> physical GPU (device: 0, name: Tesla P100-SXM2-16GB, pci bus id: 0000:04:00.0, compute capability: 6.0)\n",
      "2021-01-20 14:08:49.576913: I tensorflow/core/common_runtime/gpu/gpu_device.cc:1402] Created TensorFlow device (/job:localhost/replica:0/task:0/device:GPU:1 with 14951 MB memory) -> physical GPU (device: 1, name: Tesla P100-SXM2-16GB, pci bus id: 0000:06:00.0, compute capability: 6.0)\n",
      "2021-01-20 14:08:49.578605: I tensorflow/core/common_runtime/gpu/gpu_device.cc:1402] Created TensorFlow device (/job:localhost/replica:0/task:0/device:GPU:2 with 14951 MB memory) -> physical GPU (device: 2, name: Tesla P100-SXM2-16GB, pci bus id: 0000:07:00.0, compute capability: 6.0)\n",
      "2021-01-20 14:08:49.579921: I tensorflow/core/common_runtime/gpu/gpu_device.cc:1402] Created TensorFlow device (/job:localhost/replica:0/task:0/device:GPU:3 with 14951 MB memory) -> physical GPU (device: 3, name: Tesla P100-SXM2-16GB, pci bus id: 0000:08:00.0, compute capability: 6.0)\n",
      "2021-01-20 14:08:49.749842: I tensorflow/stream_executor/platform/default/dso_loader.cc:48] Successfully opened dynamic library libcublas.so.10\n"
     ]
    }
   ],
   "source": [
    "py\"\"\"\n",
    "from data_util2 import preprocess_image\n",
    "image2_edit = preprocess_image($image2, 32, 32,is_training=True)\n",
    "\"\"\""
   ]
  },
  {
   "cell_type": "code",
   "execution_count": null,
   "metadata": {},
   "outputs": [],
   "source": []
  },
  {
   "cell_type": "markdown",
   "metadata": {},
   "source": [
    "### Create a batch"
   ]
  },
  {
   "cell_type": "code",
   "execution_count": 15,
   "metadata": {},
   "outputs": [
    {
     "data": {
      "text/plain": [
       "(32, 32, 3, 50000)"
      ]
     },
     "execution_count": 15,
     "metadata": {},
     "output_type": "execute_result"
    }
   ],
   "source": [
    "size(train_x2)"
   ]
  },
  {
   "cell_type": "code",
   "execution_count": 16,
   "metadata": {},
   "outputs": [
    {
     "data": {
      "text/plain": [
       "(32, 32, 3, 256)"
      ]
     },
     "execution_count": 16,
     "metadata": {},
     "output_type": "execute_result"
    }
   ],
   "source": [
    "size(train_x2[:,:,:,1:256])"
   ]
  },
  {
   "cell_type": "code",
   "execution_count": 17,
   "metadata": {},
   "outputs": [],
   "source": [
    "n = size(train_x2)[end]\n",
    "bsize = min(32, n )\n",
    "cur, next = train_x2[:,:,:,1:bsize] , train_x2[:,:,:,bsize+1:end];"
   ]
  },
  {
   "cell_type": "code",
   "execution_count": 18,
   "metadata": {},
   "outputs": [
    {
     "data": {
      "text/plain": [
       "(32, 32, 3, 49968)"
      ]
     },
     "execution_count": 18,
     "metadata": {},
     "output_type": "execute_result"
    }
   ],
   "source": [
    "size(next)"
   ]
  },
  {
   "cell_type": "code",
   "execution_count": 19,
   "metadata": {},
   "outputs": [
    {
     "data": {
      "text/plain": [
       "(32, 32, 3, 32)"
      ]
     },
     "execution_count": 19,
     "metadata": {},
     "output_type": "execute_result"
    }
   ],
   "source": [
    "size(cur)"
   ]
  },
  {
   "cell_type": "code",
   "execution_count": 105,
   "metadata": {},
   "outputs": [
    {
     "data": {
      "text/plain": [
       "32×32×3 Array{Float32,3}:\n",
       "[:, :, 1] =\n",
       " 0.553128   0.553128    0.553128  …  0.0         0.0        0.0\n",
       " 0.553128   0.553128    0.553128     0.0551091   0.0898471  0.0948064\n",
       " 0.553128   0.553128    0.553128     0.212633    0.28628    0.304865\n",
       " 0.553128   0.553128    0.553128     0.11664     0.185293   0.202382\n",
       " 0.553128   0.553128    0.553128     0.0438398   0.0712077  0.0774384\n",
       " 0.553128   0.553128    0.553128  …  0.0427512   0.0281829  0.0236565\n",
       " 0.553128   0.553128    0.553128     0.160369    0.164865   0.166758\n",
       " 0.553128   0.553128    0.553128     0.205076    0.23695    0.246384\n",
       " 0.553128   0.553128    0.553128     0.0728092   0.101963   0.108631\n",
       " 0.553128   0.553128    0.553128     0.00264493  0.0171419  0.0196152\n",
       " 0.553128   0.553128    0.553128  …  0.0287805   0.0341918  0.0346959\n",
       " 0.361729   0.402171    0.452336     0.106878    0.106576   0.107376\n",
       " 0.103336   0.15932     0.208381     0.186649    0.18383    0.185887\n",
       " ⋮                                ⋱              ⋮          \n",
       " 0.214868   0.21011     0.193519  …  0.101882    0.0931556  0.0898686\n",
       " 0.211825   0.222099    0.162898     0.0218283   0.019493   0.0187774\n",
       " 0.229826   0.226602    0.108933     0.0         0.0        0.0\n",
       " 0.225245   0.141938    0.0          0.0         0.0        0.0\n",
       " 0.16022    0.0         0.0          0.0         0.0        0.0\n",
       " 0.0741993  0.0         0.0       …  0.0         0.0        0.0\n",
       " 0.0262951  0.0         0.0          0.0         0.0        0.0\n",
       " 0.0247275  0.0         0.0          0.0         0.0        0.0\n",
       " 0.0278296  0.0         0.0          0.0         0.0        0.0\n",
       " 0.0651001  0.0         0.0          0.0         0.0        0.0\n",
       " 0.117056   0.0         0.0       …  0.0         0.0        0.0\n",
       " 0.141382   0.00468611  0.0          0.0         0.0        0.0\n",
       "\n",
       "[:, :, 2] =\n",
       " 0.553128   0.553128    0.553128  …  0.0         0.0        0.0\n",
       " 0.553128   0.553128    0.553128     0.0551091   0.0898471  0.0948064\n",
       " 0.553128   0.553128    0.553128     0.212633    0.28628    0.304865\n",
       " 0.553128   0.553128    0.553128     0.11664     0.185293   0.202382\n",
       " 0.553128   0.553128    0.553128     0.0438398   0.0712077  0.0774384\n",
       " 0.553128   0.553128    0.553128  …  0.0427512   0.0281829  0.0236565\n",
       " 0.553128   0.553128    0.553128     0.160369    0.164865   0.166758\n",
       " 0.553128   0.553128    0.553128     0.205076    0.23695    0.246384\n",
       " 0.553128   0.553128    0.553128     0.0728092   0.101963   0.108631\n",
       " 0.553128   0.553128    0.553128     0.00264493  0.0171419  0.0196152\n",
       " 0.553128   0.553128    0.553128  …  0.0287805   0.0341918  0.0346959\n",
       " 0.361729   0.402171    0.452336     0.106878    0.106576   0.107376\n",
       " 0.103336   0.15932     0.208381     0.186649    0.18383    0.185887\n",
       " ⋮                                ⋱              ⋮          \n",
       " 0.214868   0.21011     0.193519  …  0.101882    0.0931556  0.0898686\n",
       " 0.211825   0.222099    0.162898     0.0218283   0.019493   0.0187774\n",
       " 0.229826   0.226602    0.108933     0.0         0.0        0.0\n",
       " 0.225245   0.141938    0.0          0.0         0.0        0.0\n",
       " 0.16022    0.0         0.0          0.0         0.0        0.0\n",
       " 0.0741993  0.0         0.0       …  0.0         0.0        0.0\n",
       " 0.0262951  0.0         0.0          0.0         0.0        0.0\n",
       " 0.0247275  0.0         0.0          0.0         0.0        0.0\n",
       " 0.0278296  0.0         0.0          0.0         0.0        0.0\n",
       " 0.0651001  0.0         0.0          0.0         0.0        0.0\n",
       " 0.117056   0.0         0.0       …  0.0         0.0        0.0\n",
       " 0.141382   0.00468611  0.0          0.0         0.0        0.0\n",
       "\n",
       "[:, :, 3] =\n",
       " 0.553128   0.553128    0.553128  …  0.0         0.0        0.0\n",
       " 0.553128   0.553128    0.553128     0.0551091   0.0898471  0.0948064\n",
       " 0.553128   0.553128    0.553128     0.212633    0.28628    0.304865\n",
       " 0.553128   0.553128    0.553128     0.11664     0.185293   0.202382\n",
       " 0.553128   0.553128    0.553128     0.0438398   0.0712077  0.0774384\n",
       " 0.553128   0.553128    0.553128  …  0.0427512   0.0281829  0.0236565\n",
       " 0.553128   0.553128    0.553128     0.160369    0.164865   0.166758\n",
       " 0.553128   0.553128    0.553128     0.205076    0.23695    0.246384\n",
       " 0.553128   0.553128    0.553128     0.0728092   0.101963   0.108631\n",
       " 0.553128   0.553128    0.553128     0.00264493  0.0171419  0.0196152\n",
       " 0.553128   0.553128    0.553128  …  0.0287805   0.0341918  0.0346959\n",
       " 0.361729   0.402171    0.452336     0.106878    0.106576   0.107376\n",
       " 0.103336   0.15932     0.208381     0.186649    0.18383    0.185887\n",
       " ⋮                                ⋱              ⋮          \n",
       " 0.214868   0.21011     0.193519  …  0.101882    0.0931556  0.0898686\n",
       " 0.211825   0.222099    0.162898     0.0218283   0.019493   0.0187774\n",
       " 0.229826   0.226602    0.108933     0.0         0.0        0.0\n",
       " 0.225245   0.141938    0.0          0.0         0.0        0.0\n",
       " 0.16022    0.0         0.0          0.0         0.0        0.0\n",
       " 0.0741993  0.0         0.0       …  0.0         0.0        0.0\n",
       " 0.0262951  0.0         0.0          0.0         0.0        0.0\n",
       " 0.0247275  0.0         0.0          0.0         0.0        0.0\n",
       " 0.0278296  0.0         0.0          0.0         0.0        0.0\n",
       " 0.0651001  0.0         0.0          0.0         0.0        0.0\n",
       " 0.117056   0.0         0.0       …  0.0         0.0        0.0\n",
       " 0.141382   0.00468611  0.0          0.0         0.0        0.0"
      ]
     },
     "execution_count": 105,
     "metadata": {},
     "output_type": "execute_result"
    }
   ],
   "source": [
    "data_util[:preprocess_image](cur[:,:,:,32], 32, 32,is_training=true).numpy()"
   ]
  },
  {
   "cell_type": "code",
   "execution_count": 20,
   "metadata": {
    "scrolled": true
   },
   "outputs": [],
   "source": [
    "new1 = cat( zeros(size(cur)), zeros(size(cur)); dims=4)\n",
    "for i in (1:bsize)\n",
    "    #print(i,\"\\n\")\n",
    "    image = cur[:,:,:,i]\n",
    "    for k in (1:2)\n",
    "        new1[:,:,:,2i+k-2] = data_util[:preprocess_image](image, 32, 32, is_training=true).numpy();\n",
    "        #new1[:,:,:,2i] = data_util[:preprocess_image](image, 32, 32, is_training=true).numpy();\n",
    "        #print(k,\"-\",2i+k-2,\".\",\"\\n\")\n",
    "    end\n",
    "end"
   ]
  },
  {
   "cell_type": "code",
   "execution_count": 21,
   "metadata": {},
   "outputs": [
    {
     "data": {
      "image/png": "[encoded data removed]",
      "text/plain": [
       "Figure(PyObject <Figure size 100x100 with 1 Axes>)"
      ]
     },
     "metadata": {},
     "output_type": "display_data"
    },
    {
     "data": {
      "text/plain": [
       "PyObject <matplotlib.image.AxesImage object at 0x7ff9af0429d0>"
      ]
     },
     "execution_count": 21,
     "metadata": {},
     "output_type": "execute_result"
    }
   ],
   "source": [
    "plt.figure(figsize=(1,1))\n",
    "plt.imshow(new1[:,:,:,17])"
   ]
  },
  {
   "cell_type": "code",
   "execution_count": 22,
   "metadata": {},
   "outputs": [
    {
     "data": {
      "image/png": "[encoded data removed]",
      "text/plain": [
       "Figure(PyObject <Figure size 100x100 with 1 Axes>)"
      ]
     },
     "metadata": {},
     "output_type": "display_data"
    },
    {
     "data": {
      "text/plain": [
       "PyObject <matplotlib.image.AxesImage object at 0x7ff8f8283d90>"
      ]
     },
     "execution_count": 22,
     "metadata": {},
     "output_type": "execute_result"
    }
   ],
   "source": [
    "plt.figure(figsize=(1,1))\n",
    "plt.imshow(new1[:,:,:,18])"
   ]
  },
  {
   "cell_type": "markdown",
   "metadata": {},
   "source": [
    "### ResNet "
   ]
  },
  {
   "cell_type": "code",
   "execution_count": 93,
   "metadata": {},
   "outputs": [
    {
     "name": "stderr",
     "output_type": "stream",
     "text": [
      "WARNING: replacing module ResNetLib.\n"
     ]
    },
    {
     "data": {
      "text/plain": [
       "Main.ResNetLib"
      ]
     },
     "execution_count": 93,
     "metadata": {},
     "output_type": "execute_result"
    }
   ],
   "source": [
    "include(\"resnetlib.jl\")"
   ]
  },
  {
   "cell_type": "code",
   "execution_count": 39,
   "metadata": {},
   "outputs": [
    {
     "name": "stderr",
     "output_type": "stream",
     "text": [
      "\u001b[32m\u001b[1m   Updating\u001b[22m\u001b[39m registry at `~/.julia/registries/General`\n",
      "######################################################################### 100.0%\n",
      "\u001b[32m\u001b[1m  Resolving\u001b[22m\u001b[39m package versions...\n",
      "\u001b[32m\u001b[1mNo Changes\u001b[22m\u001b[39m to `~/.julia/environments/v1.5/Project.toml`\n",
      "\u001b[32m\u001b[1mNo Changes\u001b[22m\u001b[39m to `~/.julia/environments/v1.5/Manifest.toml`\n",
      "\u001b[32m\u001b[1m  Resolving\u001b[22m\u001b[39m package versions...\n",
      "\u001b[32m\u001b[1mNo Changes\u001b[22m\u001b[39m to `~/.julia/environments/v1.5/Project.toml`\n",
      "\u001b[32m\u001b[1mNo Changes\u001b[22m\u001b[39m to `~/.julia/environments/v1.5/Manifest.toml`\n",
      "\u001b[32m\u001b[1m  Resolving\u001b[22m\u001b[39m package versions...\n",
      "\u001b[32m\u001b[1mNo Changes\u001b[22m\u001b[39m to `~/.julia/environments/v1.5/Project.toml`\n",
      "\u001b[32m\u001b[1mNo Changes\u001b[22m\u001b[39m to `~/.julia/environments/v1.5/Manifest.toml`\n",
      "\u001b[32m\u001b[1m  Resolving\u001b[22m\u001b[39m package versions...\n",
      "\u001b[32m\u001b[1mNo Changes\u001b[22m\u001b[39m to `~/.julia/environments/v1.5/Project.toml`\n",
      "\u001b[32m\u001b[1mNo Changes\u001b[22m\u001b[39m to `~/.julia/environments/v1.5/Manifest.toml`\n"
     ]
    }
   ],
   "source": [
    "using Pkg; for p in [\"IterTools\", \"Knet\",\"ArgParse\", \"CUDA\"]; Pkg.add(p); end\n",
    "using Printf, Dates, Random, CUDA, Knet, ArgParse, Test, Base.Iterators, IterTools"
   ]
  },
  {
   "cell_type": "code",
   "execution_count": 65,
   "metadata": {},
   "outputs": [
    {
     "data": {
      "text/plain": [
       "(KnetArray{Float32,N} where N[K32(3,3,3,16)[-0.17866468⋯], K32(32)[1.0⋯], K32(3,3,16,16)[0.16890442⋯], K32(32)[1.0⋯], K32(3,3,16,16)[0.05792898⋯], K32(32)[1.0⋯], K32(3,3,16,16)[-0.08146291⋯], K32(32)[1.0⋯], K32(3,3,16,16)[8.544644e-5⋯], K32(32)[1.0⋯]  …  K32(3,3,64,64)[0.051730298⋯], K32(128)[1.0⋯], K32(3,3,64,64)[-0.07257652⋯], K32(128)[1.0⋯], K32(3,3,64,64)[0.07376603⋯], K32(128)[1.0⋯], K32(3,3,64,64)[-0.0013677719⋯], K32(128)[1.0⋯], K32(10,64)[-0.20344615⋯], K32(10,1)[0.0⋯]], Any[Knet.Ops20.BNMoments(0.1, nothing, nothing, zeros, ones), Knet.Ops20.BNMoments(0.1, nothing, nothing, zeros, ones), Knet.Ops20.BNMoments(0.1, nothing, nothing, zeros, ones), Knet.Ops20.BNMoments(0.1, nothing, nothing, zeros, ones), Knet.Ops20.BNMoments(0.1, nothing, nothing, zeros, ones), Knet.Ops20.BNMoments(0.1, nothing, nothing, zeros, ones), Knet.Ops20.BNMoments(0.1, nothing, nothing, zeros, ones), Knet.Ops20.BNMoments(0.1, nothing, nothing, zeros, ones), Knet.Ops20.BNMoments(0.1, nothing, nothing, zeros, ones), Knet.Ops20.BNMoments(0.1, nothing, nothing, zeros, ones)  …  Knet.Ops20.BNMoments(0.1, nothing, nothing, zeros, ones), Knet.Ops20.BNMoments(0.1, nothing, nothing, zeros, ones), Knet.Ops20.BNMoments(0.1, nothing, nothing, zeros, ones), Knet.Ops20.BNMoments(0.1, nothing, nothing, zeros, ones), Knet.Ops20.BNMoments(0.1, nothing, nothing, zeros, ones), Knet.Ops20.BNMoments(0.1, nothing, nothing, zeros, ones), Knet.Ops20.BNMoments(0.1, nothing, nothing, zeros, ones), Knet.Ops20.BNMoments(0.1, nothing, nothing, zeros, ones), Knet.Ops20.BNMoments(0.1, nothing, nothing, zeros, ones), Knet.Ops20.BNMoments(0.1, nothing, nothing, zeros, ones)], nothing)"
      ]
     },
     "execution_count": 65,
     "metadata": {},
     "output_type": "execute_result"
    }
   ],
   "source": [
    "#w, m = ResNetLib.resnetcifarinit(50; nclasses=10)"
   ]
  },
  {
   "cell_type": "code",
   "execution_count": 144,
   "metadata": {},
   "outputs": [
    {
     "data": {
      "text/plain": [
       "(KnetArray{Float32,N} where N[K32(3,3,3,256)[0.029359616⋯], K32(512)[1.0⋯], K32(1,1,256,256)[0.07923682⋯], K32(512)[1.0⋯], K32(1,1,256,64)[-0.1722002⋯], K32(128)[1.0⋯], K32(3,3,64,64)[-0.008001351⋯], K32(128)[1.0⋯], K32(1,1,64,256)[-0.015322393⋯], K32(512)[1.0⋯]  …  K32(1,1,512,2048)[0.01174744⋯], K32(4096)[1.0⋯], K32(1,1,2048,512)[-0.036786355⋯], K32(1024)[1.0⋯], K32(3,3,512,512)[0.011518433⋯], K32(1024)[1.0⋯], K32(1,1,512,2048)[0.0031387133⋯], K32(4096)[1.0⋯], K32(10,2048)[-0.030797726⋯], K32(10,1)[0.0⋯]], Any[Knet.Ops20.BNMoments(0.1, nothing, nothing, zeros, ones), Knet.Ops20.BNMoments(0.1, nothing, nothing, zeros, ones), Knet.Ops20.BNMoments(0.1, nothing, nothing, zeros, ones), Knet.Ops20.BNMoments(0.1, nothing, nothing, zeros, ones), Knet.Ops20.BNMoments(0.1, nothing, nothing, zeros, ones), Knet.Ops20.BNMoments(0.1, nothing, nothing, zeros, ones), Knet.Ops20.BNMoments(0.1, nothing, nothing, zeros, ones), Knet.Ops20.BNMoments(0.1, nothing, nothing, zeros, ones), Knet.Ops20.BNMoments(0.1, nothing, nothing, zeros, ones), Knet.Ops20.BNMoments(0.1, nothing, nothing, zeros, ones)  …  Knet.Ops20.BNMoments(0.1, nothing, nothing, zeros, ones), Knet.Ops20.BNMoments(0.1, nothing, nothing, zeros, ones), Knet.Ops20.BNMoments(0.1, nothing, nothing, zeros, ones), Knet.Ops20.BNMoments(0.1, nothing, nothing, zeros, ones), Knet.Ops20.BNMoments(0.1, nothing, nothing, zeros, ones), Knet.Ops20.BNMoments(0.1, nothing, nothing, zeros, ones), Knet.Ops20.BNMoments(0.1, nothing, nothing, zeros, ones), Knet.Ops20.BNMoments(0.1, nothing, nothing, zeros, ones), Knet.Ops20.BNMoments(0.1, nothing, nothing, zeros, ones), Knet.Ops20.BNMoments(0.1, nothing, nothing, zeros, ones)], nothing)"
      ]
     },
     "execution_count": 144,
     "metadata": {},
     "output_type": "execute_result"
    }
   ],
   "source": [
    "w, m, _ = ResNetLib.resnet50init(;trained=false,dataset=:cifar10)"
   ]
  },
  {
   "cell_type": "code",
   "execution_count": 145,
   "metadata": {},
   "outputs": [
    {
     "data": {
      "text/plain": [
       "32×32×3×32 Array{Float64,4}:\n",
       "[:, :, 1, 1] =\n",
       " 0.486275  0.478782  0.473245  0.471192  …  0.553235  0.538265  0.526799\n",
       " 0.516376  0.505108  0.49827   0.497063     0.497087  0.533555  0.54781\n",
       " 0.53871   0.527752  0.513622  0.50233      0.462302  0.528034  0.56103\n",
       " 0.53466   0.52879   0.505462  0.47833      0.479517  0.525051  0.554402\n",
       " 0.532598  0.517019  0.507587  0.510899     0.473769  0.522125  0.555359\n",
       " 0.514827  0.496216  0.506508  0.540578  …  0.423191  0.487338  0.527642\n",
       " 0.477037  0.478718  0.493545  0.513049     0.33194   0.41221   0.459446\n",
       " 0.463702  0.47369   0.48498   0.491005     0.277167  0.36139   0.410926\n",
       " 0.482353  0.487203  0.492014  0.493942     0.295632  0.364097  0.407399\n",
       " 0.511056  0.518686  0.529443  0.535587     0.350741  0.388942  0.418794\n",
       " 0.517616  0.53023   0.539698  0.536225  …  0.426468  0.41637   0.423476\n",
       " 0.49527   0.510275  0.506571  0.479732     0.473439  0.424514  0.412519\n",
       " 0.540564  0.524335  0.463619  0.39357      0.486627  0.446083  0.435639\n",
       " ⋮                                       ⋱            ⋮         \n",
       " 0.526471  0.37489   0.306645  0.384242  …  0.944102  0.902787  0.864779\n",
       " 0.526327  0.44733   0.392676  0.41705      0.906179  0.895922  0.876704\n",
       " 0.500046  0.484175  0.406667  0.345046     0.919698  0.925037  0.919446\n",
       " 0.499236  0.508545  0.474144  0.449743     0.946656  0.928485  0.914323\n",
       " 0.517647  0.5099    0.558956  0.661494     0.939471  0.891225  0.862751\n",
       " 0.517197  0.498836  0.622764  0.831082  …  0.836895  0.83131   0.830595\n",
       " 0.500689  0.514259  0.640647  0.810549     0.680437  0.704322  0.721658\n",
       " 0.480919  0.55569   0.610683  0.614964     0.569956  0.574714  0.579628\n",
       " 0.501103  0.578914  0.582576  0.509312     0.556935  0.534101  0.52134\n",
       " 0.554414  0.588859  0.568447  0.505654     0.538419  0.499816  0.47785\n",
       " 0.609972  0.599292  0.576248  0.557198  …  0.401388  0.375649  0.363786\n",
       " 0.636929  0.604175  0.580739  0.584391     0.332356  0.313705  0.307311\n",
       "\n",
       "[:, :, 2, 1] =\n",
       " 0.301961  0.301525  0.303897  0.306133  …  0.384004  0.368256  0.358172\n",
       " 0.329553  0.322495  0.321754  0.325684     0.329489  0.364683  0.380504\n",
       " 0.349648  0.338759  0.327646  0.321544     0.279836  0.344904  0.380293\n",
       " 0.34554   0.336951  0.314065  0.290964     0.271502  0.318021  0.350847\n",
       " 0.347672  0.329708  0.317525  0.319733     0.248106  0.299765  0.337834\n",
       " 0.341908  0.321126  0.325928  0.354508  …  0.208368  0.276777  0.322118\n",
       " 0.320558  0.317028  0.324792  0.339132     0.155381  0.238753  0.28982\n",
       " 0.323093  0.323235  0.324988  0.328157     0.129274  0.21343   0.263742\n",
       " 0.34902   0.341092  0.334964  0.336815     0.150525  0.216422  0.257944\n",
       " 0.382127  0.376948  0.377426  0.384893     0.199399  0.235998  0.264179\n",
       " 0.387117  0.391156  0.394992  0.394748  …  0.258832  0.250514  0.258446\n",
       " 0.359438  0.371696  0.368445  0.346862     0.291335  0.247273  0.238976\n",
       " 0.399755  0.388704  0.33695   0.274905     0.296098  0.259602  0.253067\n",
       " ⋮                                       ⋱            ⋮         \n",
       " 0.341054  0.235223  0.198894  0.267063  …  0.901693  0.854133  0.811757\n",
       " 0.350483  0.29118   0.252326  0.276732     0.852686  0.829812  0.803537\n",
       " 0.356189  0.33414   0.255711  0.20191      0.861279  0.845793  0.828183\n",
       " 0.355674  0.353065  0.322811  0.322457     0.886823  0.839675  0.808915\n",
       " 0.34902   0.343105  0.416288  0.556835     0.879347  0.801284  0.756\n",
       " 0.343132  0.331897  0.488073  0.739266  …  0.774075  0.747832  0.73533\n",
       " 0.330331  0.354672  0.51075   0.714302     0.590854  0.611302  0.626318\n",
       " 0.317042  0.404251  0.479467  0.501089     0.441409  0.45699   0.46752\n",
       " 0.326471  0.421354  0.443029  0.37713      0.399206  0.396254  0.394758\n",
       " 0.36326   0.417829  0.4158    0.356139     0.380803  0.364197  0.355269\n",
       " 0.411811  0.419826  0.412166  0.393156  …  0.270866  0.26684   0.267821\n",
       " 0.435637  0.420751  0.411188  0.413487     0.215854  0.218645  0.224907\n",
       "\n",
       "[:, :, 3, 1] =\n",
       " 0.141176  0.139435  0.14596   0.15657    …  0.258093   0.218777   0.193469\n",
       " 0.164183  0.15797   0.161055  0.170101      0.273027   0.276254   0.270215\n",
       " 0.178753  0.17081   0.162136  0.156613      0.29869    0.321613   0.327181\n",
       " 0.172195  0.166976  0.14469   0.119225      0.317833   0.317027   0.316117\n",
       " 0.181495  0.164514  0.149724  0.147423      0.279031   0.279105   0.281549\n",
       " 0.18736   0.164128  0.163491  0.187059   …  0.195191   0.211599   0.22306\n",
       " 0.172932  0.164859  0.165869  0.175649      0.113471   0.146591   0.166972\n",
       " 0.1807    0.177752  0.173584  0.171663      0.0707238  0.110096   0.133393\n",
       " 0.207843  0.200786  0.191692  0.188071      0.0831361  0.112286   0.13028\n",
       " 0.240778  0.238481  0.239799  0.244737      0.0877139  0.0984982  0.108928\n",
       " 0.246967  0.258625  0.268102  0.266733   …  0.111404   0.092473   0.0909382\n",
       " 0.222055  0.248033  0.253981  0.229536      0.142589   0.0994553  0.0880569\n",
       " 0.259804  0.273547  0.240814  0.177062      0.158173   0.116631   0.103599\n",
       " ⋮                                        ⋱             ⋮          \n",
       " 0.213358  0.138354  0.118236  0.170804   …  0.77116    0.693028   0.627257\n",
       " 0.237033  0.18321   0.143444  0.15849       0.710654   0.669988   0.626477\n",
       " 0.227574  0.204389  0.135036  0.0974058     0.751315   0.709743   0.670335\n",
       " 0.209027  0.19682   0.177328  0.207376      0.813687   0.73397    0.679235\n",
       " 0.192157  0.171753  0.249753  0.417595      0.820249   0.711134   0.644893\n",
       " 0.182899  0.159266  0.320318  0.596855   …  0.701808   0.654809   0.62937\n",
       " 0.167969  0.185926  0.35056   0.577793      0.477433   0.488284   0.498518\n",
       " 0.152143  0.237712  0.32556   0.370812      0.286871   0.296627   0.305105\n",
       " 0.164216  0.260239  0.290613  0.238227      0.223838   0.212179   0.206129\n",
       " 0.20819   0.261199  0.257702  0.198462      0.222107   0.18747    0.166713\n",
       " 0.264323  0.263382  0.244177  0.218469   …  0.154414   0.12263    0.104533\n",
       " 0.291831  0.264261  0.238278  0.230619      0.120708   0.0910124  0.0746835\n",
       "\n",
       "[:, :, 1, 2] =\n",
       " 1.0  1.0  1.0  1.0  1.0  1.0  1.0  1.0  …  1.0  0.924205  0.827328  0.777067\n",
       " 1.0  1.0  1.0  1.0  1.0  1.0  1.0  1.0     1.0  1.0       0.908906  0.821029\n",
       " 1.0  1.0  1.0  1.0  1.0  1.0  1.0  1.0     1.0  1.0       1.0       0.886897\n",
       " 1.0  1.0  1.0  1.0  1.0  1.0  1.0  1.0     1.0  1.0       1.0       0.955017\n",
       " 1.0  1.0  1.0  1.0  1.0  1.0  1.0  1.0     1.0  1.0       1.0       1.0\n",
       " 1.0  1.0  1.0  1.0  1.0  1.0  1.0  1.0  …  1.0  1.0       1.0       1.0\n",
       " 1.0  1.0  1.0  1.0  1.0  1.0  1.0  1.0     1.0  1.0       1.0       1.0\n",
       " 1.0  1.0  1.0  1.0  1.0  1.0  1.0  1.0     1.0  1.0       1.0       1.0\n",
       " 1.0  1.0  1.0  1.0  1.0  1.0  1.0  1.0     1.0  1.0       1.0       1.0\n",
       " 1.0  1.0  1.0  1.0  1.0  1.0  1.0  1.0     1.0  1.0       1.0       1.0\n",
       " 1.0  1.0  1.0  1.0  1.0  1.0  1.0  1.0  …  1.0  1.0       1.0       1.0\n",
       " 1.0  1.0  1.0  1.0  1.0  1.0  1.0  1.0     1.0  1.0       1.0       1.0\n",
       " 1.0  1.0  1.0  1.0  1.0  1.0  1.0  1.0     1.0  1.0       1.0       1.0\n",
       " ⋮                        ⋮              ⋱                 ⋮         \n",
       " 1.0  1.0  1.0  1.0  1.0  1.0  1.0  1.0  …  1.0  1.0       1.0       1.0\n",
       " 1.0  1.0  1.0  1.0  1.0  1.0  1.0  1.0     1.0  1.0       1.0       1.0\n",
       " 1.0  1.0  1.0  1.0  1.0  1.0  1.0  1.0     1.0  1.0       1.0       1.0\n",
       " 1.0  1.0  1.0  1.0  1.0  1.0  1.0  1.0     1.0  1.0       1.0       1.0\n",
       " 1.0  1.0  1.0  1.0  1.0  1.0  1.0  1.0     1.0  1.0       1.0       1.0\n",
       " 1.0  1.0  1.0  1.0  1.0  1.0  1.0  1.0  …  1.0  1.0       1.0       1.0\n",
       " 1.0  1.0  1.0  1.0  1.0  1.0  1.0  1.0     1.0  1.0       1.0       1.0\n",
       " 1.0  1.0  1.0  1.0  1.0  1.0  1.0  1.0     1.0  1.0       1.0       1.0\n",
       " 1.0  1.0  1.0  1.0  1.0  1.0  1.0  1.0     1.0  1.0       1.0       1.0\n",
       " 1.0  1.0  1.0  1.0  1.0  1.0  1.0  1.0     1.0  1.0       1.0       1.0\n",
       " 1.0  1.0  1.0  1.0  1.0  1.0  1.0  1.0  …  1.0  1.0       1.0       1.0\n",
       " 1.0  1.0  1.0  1.0  1.0  1.0  1.0  1.0     1.0  1.0       1.0       1.0\n",
       "\n",
       "[:, :, 2, 2] =\n",
       " 1.0  1.0  1.0  1.0  1.0  1.0  1.0       …  1.0  0.90529   0.818393  0.774819\n",
       " 1.0  1.0  1.0  1.0  1.0  1.0  1.0          1.0  0.995143  0.892081  0.812846\n",
       " 1.0  1.0  1.0  1.0  1.0  1.0  1.0          1.0  1.0       1.0       0.872209\n",
       " 1.0  1.0  1.0  1.0  1.0  1.0  1.0          1.0  1.0       1.0       0.93325\n",
       " 1.0  1.0  1.0  1.0  1.0  1.0  1.0          1.0  1.0       1.0       1.0\n",
       " 1.0  1.0  1.0  1.0  1.0  1.0  1.0       …  1.0  1.0       1.0       1.0\n",
       " 1.0  1.0  1.0  1.0  1.0  1.0  1.0          1.0  1.0       1.0       1.0\n",
       " 1.0  1.0  1.0  1.0  1.0  1.0  1.0          1.0  1.0       1.0       1.0\n",
       " 1.0  1.0  1.0  1.0  1.0  1.0  1.0          1.0  1.0       1.0       1.0\n",
       " 1.0  1.0  1.0  1.0  1.0  1.0  0.991165     1.0  1.0       1.0       1.0\n",
       " 1.0  1.0  1.0  1.0  1.0  1.0  1.0       …  1.0  1.0       1.0       1.0\n",
       " 1.0  1.0  1.0  1.0  1.0  1.0  1.0          1.0  1.0       1.0       1.0\n",
       " 1.0  1.0  1.0  1.0  1.0  1.0  1.0          1.0  1.0       1.0       1.0\n",
       " ⋮                        ⋮              ⋱                 ⋮         \n",
       " 1.0  1.0  1.0  1.0  1.0  1.0  1.0       …  1.0  1.0       1.0       1.0\n",
       " 1.0  1.0  1.0  1.0  1.0  1.0  1.0          1.0  1.0       1.0       1.0\n",
       " 1.0  1.0  1.0  1.0  1.0  1.0  1.0          1.0  1.0       1.0       1.0\n",
       " 1.0  1.0  1.0  1.0  1.0  1.0  1.0          1.0  1.0       1.0       1.0\n",
       " 1.0  1.0  1.0  1.0  1.0  1.0  1.0          1.0  1.0       1.0       1.0\n",
       " 1.0  1.0  1.0  1.0  1.0  1.0  1.0       …  1.0  1.0       1.0       1.0\n",
       " 1.0  1.0  1.0  1.0  1.0  1.0  1.0          1.0  1.0       1.0       1.0\n",
       " 1.0  1.0  1.0  1.0  1.0  1.0  1.0          1.0  1.0       1.0       1.0\n",
       " 1.0  1.0  1.0  1.0  1.0  1.0  1.0          1.0  1.0       1.0       1.0\n",
       " 1.0  1.0  1.0  1.0  1.0  1.0  1.0          1.0  1.0       1.0       1.0\n",
       " 1.0  1.0  1.0  1.0  1.0  1.0  1.0       …  1.0  1.0       1.0       1.0\n",
       " 1.0  1.0  1.0  1.0  1.0  1.0  1.0          1.0  1.0       1.0       1.0\n",
       "\n",
       "[:, :, 3, 2] =\n",
       " 1.0  1.0  1.0  1.0  1.0  1.0  1.0       …  0.888084  0.810316  0.77217\n",
       " 1.0  1.0  1.0  1.0  1.0  1.0  1.0          0.970926  0.875595  0.805535\n",
       " 1.0  1.0  1.0  1.0  1.0  1.0  1.0          1.0       0.979732  0.857336\n",
       " 1.0  1.0  1.0  1.0  1.0  1.0  1.0          1.0       1.0       0.913222\n",
       " 1.0  1.0  1.0  1.0  1.0  1.0  1.0          1.0       1.0       0.976099\n",
       " 1.0  1.0  1.0  1.0  1.0  1.0  1.0       …  1.0       1.0       1.0\n",
       " 1.0  1.0  1.0  1.0  1.0  1.0  1.0          1.0       1.0       1.0\n",
       " 1.0  1.0  1.0  1.0  1.0  1.0  1.0          1.0       1.0       1.0\n",
       " 1.0  1.0  1.0  1.0  1.0  1.0  1.0          1.0       1.0       1.0\n",
       " 1.0  1.0  1.0  1.0  1.0  1.0  0.975433     1.0       1.0       1.0\n",
       " 1.0  1.0  1.0  1.0  1.0  1.0  1.0       …  1.0       1.0       1.0\n",
       " 1.0  1.0  1.0  1.0  1.0  1.0  1.0          1.0       1.0       1.0\n",
       " 1.0  1.0  1.0  1.0  1.0  1.0  1.0          1.0       1.0       1.0\n",
       " ⋮                        ⋮              ⋱            ⋮         \n",
       " 1.0  1.0  1.0  1.0  1.0  1.0  1.0       …  1.0       1.0       1.0\n",
       " 1.0  1.0  1.0  1.0  1.0  1.0  1.0          1.0       1.0       1.0\n",
       " 1.0  1.0  1.0  1.0  1.0  1.0  1.0          1.0       1.0       1.0\n",
       " 1.0  1.0  1.0  1.0  1.0  1.0  1.0          1.0       1.0       1.0\n",
       " 1.0  1.0  1.0  1.0  1.0  1.0  1.0          1.0       1.0       1.0\n",
       " 1.0  1.0  1.0  1.0  1.0  1.0  1.0       …  1.0       1.0       1.0\n",
       " 1.0  1.0  1.0  1.0  1.0  1.0  1.0          1.0       1.0       1.0\n",
       " 1.0  1.0  1.0  1.0  1.0  1.0  0.991215     1.0       1.0       1.0\n",
       " 1.0  1.0  1.0  1.0  1.0  1.0  1.0          1.0       1.0       1.0\n",
       " 1.0  1.0  1.0  1.0  1.0  1.0  1.0          1.0       1.0       1.0\n",
       " 1.0  1.0  1.0  1.0  1.0  1.0  1.0       …  1.0       1.0       1.0\n",
       " 1.0  1.0  1.0  1.0  1.0  1.0  1.0          1.0       1.0       1.0\n",
       "\n",
       "[:, :, 1, 3] =\n",
       " 0.603922  0.519737  0.435495  0.390875  …  0.315995  0.25764   0.230925\n",
       " 0.558007  0.565721  0.510899  0.456432     0.35253   0.315326  0.292334\n",
       " 0.547124  0.565897  0.491493  0.495663     0.376242  0.386435  0.358333\n",
       " 0.544494  0.546852  0.474227  0.484355     0.376156  0.378218  0.340488\n",
       " 0.524494  0.542262  0.504951  0.511748     0.367146  0.327841  0.293102\n",
       " 0.506008  0.546808  0.52223   0.608915  …  0.362986  0.329342  0.31103\n",
       " 0.527369  0.539411  0.509918  0.566503     0.351169  0.332589  0.305068\n",
       " 0.555515  0.523238  0.432635  0.393681     0.298859  0.283874  0.271984\n",
       " 0.620466  0.5104    0.344538  0.278594     0.328225  0.332218  0.334516\n",
       " 0.613175  0.433666  0.245548  0.195936     0.441945  0.393486  0.383493\n",
       " 0.466125  0.307526  0.179427  0.128646  …  0.570177  0.397365  0.33899\n",
       " 0.292519  0.287731  0.27146   0.269049     0.701005  0.512014  0.37399\n",
       " 0.199847  0.332007  0.38603   0.414635     0.797158  0.714715  0.599906\n",
       " ⋮                                       ⋱            ⋮         \n",
       " 0.799847  0.949676  0.972765  0.968279  …  0.778279  0.812401  0.780751\n",
       " 0.812692  0.962394  1.0       0.986387     0.778708  0.823178  0.804318\n",
       " 0.876377  0.997548  1.0       0.982777     0.761422  0.823218  0.808108\n",
       " 0.669361  0.69012   0.646796  0.605657     0.744647  0.809302  0.804308\n",
       " 0.349142  0.365674  0.355382  0.277365     0.782938  0.79829   0.791625\n",
       " 0.340605  0.399387  0.441294  0.270814  …  0.746814  0.802793  0.819682\n",
       " 0.63516   0.646332  0.661919  0.406497     0.550124  0.74063   0.815248\n",
       " 0.636946  0.531541  0.492581  0.320464     0.333483  0.476445  0.574112\n",
       " 0.586489  0.327111  0.187154  0.133342     0.169061  0.181387  0.211128\n",
       " 0.643427  0.342567  0.139085  0.108031     0.244253  0.224466  0.192577\n",
       " 0.667687  0.509322  0.390511  0.369363  …  0.389435  0.346424  0.259826\n",
       " 0.605212  0.609264  0.624223  0.648248     0.428545  0.322591  0.192964\n",
       "\n",
       "[:, :, 2, 3] =\n",
       " 0.694118  0.574947  0.445429  0.379851  …  0.308706   0.252192  0.231654\n",
       " 0.640184  0.61051   0.517659  0.457168     0.352141   0.315256  0.296038\n",
       " 0.613961  0.603673  0.497108  0.502306     0.376561   0.386656  0.362032\n",
       " 0.59549   0.577469  0.477005  0.484945     0.38108    0.383815  0.348364\n",
       " 0.563312  0.565344  0.507664  0.50543      0.382117   0.341571  0.305141\n",
       " 0.536895  0.570043  0.540755  0.617413  …  0.383311   0.340273  0.317202\n",
       " 0.558621  0.581612  0.577093  0.639748     0.367769   0.325316  0.298669\n",
       " 0.586019  0.570984  0.511267  0.483935     0.312011   0.267669  0.259973\n",
       " 0.65576   0.561308  0.410536  0.342913     0.332108   0.314827  0.324777\n",
       " 0.654445  0.495261  0.306209  0.234127     0.435646   0.37957   0.376373\n",
       " 0.503163  0.38359   0.255707  0.169114  …  0.559664   0.389135  0.332426\n",
       " 0.310506  0.369957  0.368073  0.323225     0.689357   0.50986   0.374648\n",
       " 0.192647  0.412528  0.493936  0.478613     0.784513   0.712721  0.597884\n",
       " ⋮                                       ⋱             ⋮         \n",
       " 0.763986  0.927826  0.955084  0.960108  …  0.684721   0.750137  0.735395\n",
       " 0.785932  0.933955  0.979203  0.97867      0.675876   0.741616  0.720186\n",
       " 0.855467  0.979716  0.998108  0.981981     0.657549   0.740827  0.720938\n",
       " 0.65396   0.693681  0.659543  0.616053     0.644006   0.734395  0.725966\n",
       " 0.344485  0.395168  0.393227  0.299069     0.686775   0.730284  0.720944\n",
       " 0.351048  0.454632  0.505862  0.304738  …  0.649211   0.734926  0.747901\n",
       " 0.655725  0.717755  0.74483   0.451282     0.4471     0.670823  0.74234\n",
       " 0.65384   0.595977  0.57222   0.365556     0.233959   0.412571  0.514961\n",
       " 0.584666  0.353057  0.235367  0.168583     0.0962459  0.136683  0.171053\n",
       " 0.630433  0.342182  0.161792  0.133778     0.222403   0.206881  0.163972\n",
       " 0.6469    0.500711  0.403719  0.391393  …  0.394408   0.341574  0.238304\n",
       " 0.576669  0.598823  0.636507  0.670534     0.425763   0.313909  0.177015\n",
       "\n",
       "[:, :, 3, 3] =\n",
       " 0.733333  0.580999  0.415581  0.349932  …  0.291651   0.254975  0.236303\n",
       " 0.67612   0.620969  0.492656  0.436838     0.333373   0.307861  0.285331\n",
       " 0.649428  0.619553  0.48272   0.495663     0.358514   0.369748  0.333417\n",
       " 0.629415  0.596248  0.473271  0.488822     0.3638     0.356031  0.300799\n",
       " 0.593658  0.585445  0.511967  0.513078     0.362931   0.302332  0.242802\n",
       " 0.563655  0.596898  0.559103  0.630648  …  0.363188   0.296108  0.252022\n",
       " 0.575348  0.630279  0.636059  0.68237      0.359858   0.291697  0.247383\n",
       " 0.640439  0.666817  0.624691  0.565677     0.319037   0.242899  0.21127\n",
       " 0.742034  0.681814  0.546309  0.443864     0.344419   0.290229  0.271319\n",
       " 0.713344  0.58347   0.407481  0.319748     0.430242   0.338791  0.313658\n",
       " 0.498506  0.415712  0.30778   0.233265  …  0.515508   0.319511  0.258213\n",
       " 0.286681  0.394309  0.429108  0.40612      0.602598   0.413556  0.290968\n",
       " 0.192969  0.470209  0.609059  0.614443     0.654974   0.589715  0.50535\n",
       " ⋮                                       ⋱             ⋮         \n",
       " 0.761091  0.942086  0.962828  0.959139  …  0.518308   0.552851  0.540304\n",
       " 0.786463  0.9491    0.983889  0.970553     0.501251   0.550543  0.550199\n",
       " 0.864595  0.999499  1.0       0.980101     0.471309   0.537766  0.541823\n",
       " 0.677152  0.736208  0.69427   0.6308       0.452842   0.51968   0.528084\n",
       " 0.389583  0.472513  0.459717  0.336724     0.506759   0.518009  0.515307\n",
       " 0.419435  0.56803   0.605248  0.365929  …  0.496988   0.539487  0.549162\n",
       " 0.734126  0.850493  0.863694  0.527211     0.330962   0.50592   0.567286\n",
       " 0.718226  0.713794  0.680145  0.437304     0.153719   0.300788  0.395255\n",
       " 0.630867  0.43546   0.314334  0.225404     0.0640366  0.11192   0.153166\n",
       " 0.675237  0.414146  0.233837  0.190114     0.256915   0.240984  0.193366\n",
       " 0.702981  0.583722  0.487256  0.459313  …  0.483322   0.402209  0.271353\n",
       " 0.640506  0.689989  0.727983  0.746362     0.533824   0.385625  0.212023\n",
       "\n",
       "...\n",
       "\n",
       "[:, :, 1, 30] =\n",
       " 0.558198  0.5842    0.627068  0.656278  …  0.332501  0.341433  0.343743\n",
       " 0.662895  0.703942  0.75025   0.763069     0.295859  0.295471  0.296091\n",
       " 0.776334  0.827195  0.87243   0.870025     0.295345  0.294839  0.294704\n",
       " 0.812796  0.855299  0.892631  0.890026     0.308478  0.30774   0.306935\n",
       " 0.841535  0.880128  0.912597  0.906858     0.346979  0.348302  0.347629\n",
       " 0.853465  0.896743  0.931026  0.919397  …  0.362137  0.36188   0.360464\n",
       " 0.857796  0.90043   0.933192  0.919315     0.370579  0.369231  0.367243\n",
       " 0.851926  0.88957   0.918597  0.90665      0.372177  0.371138  0.369111\n",
       " 0.859085  0.890708  0.914312  0.902639     0.391706  0.396905  0.396624\n",
       " 0.846902  0.87028   0.887871  0.880135     0.424046  0.426765  0.425341\n",
       " 0.79698   0.810152  0.822629  0.825679  …  0.429409  0.413027  0.404901\n",
       " 0.753614  0.760581  0.769762  0.778332     0.542837  0.50027   0.484502\n",
       " 0.747743  0.756296  0.765348  0.768883     0.70311   0.641658  0.620854\n",
       " ⋮                                       ⋱            ⋮         \n",
       " 0.376567  0.352016  0.338355  0.353892  …  0.75787   0.756399  0.750637\n",
       " 0.478128  0.401876  0.317033  0.293914     0.72218   0.719178  0.715041\n",
       " 0.54863   0.486157  0.385576  0.294693     0.659743  0.653273  0.650837\n",
       " 0.578067  0.573198  0.507214  0.361606     0.607679  0.593395  0.587453\n",
       " 0.629616  0.651618  0.595552  0.426988     0.653685  0.571815  0.550553\n",
       " 0.669863  0.696341  0.644199  0.479407  …  0.717107  0.56737   0.530858\n",
       " 0.698375  0.718278  0.665394  0.513335     0.707393  0.529927  0.486137\n",
       " 0.663988  0.678624  0.638395  0.52999      0.692169  0.561683  0.530373\n",
       " 0.572934  0.593504  0.578078  0.516191     0.660916  0.645411  0.641054\n",
       " 0.570525  0.576475  0.56869   0.554986     0.760809  0.837187  0.855155\n",
       " 0.649045  0.630333  0.610365  0.618537  …  0.900802  0.961101  0.968954\n",
       " 0.672923  0.645768  0.622554  0.64042      0.934491  0.97275   0.97337\n",
       "\n",
       "[:, :, 2, 30] =\n",
       " 0.558198  0.5842    0.627068  0.656278  …  0.332501  0.341433  0.343743\n",
       " 0.662895  0.703942  0.75025   0.763069     0.295859  0.295471  0.296091\n",
       " 0.776334  0.827195  0.87243   0.870025     0.295345  0.294839  0.294704\n",
       " 0.812796  0.855299  0.892631  0.890026     0.308478  0.30774   0.306935\n",
       " 0.841535  0.880128  0.912597  0.906858     0.346979  0.348302  0.347629\n",
       " 0.853465  0.896743  0.931026  0.919397  …  0.362137  0.36188   0.360464\n",
       " 0.857796  0.90043   0.933192  0.919315     0.370579  0.369231  0.367243\n",
       " 0.851926  0.88957   0.918597  0.90665      0.372177  0.371138  0.369111\n",
       " 0.859085  0.890708  0.914312  0.902639     0.391706  0.396905  0.396624\n",
       " 0.846902  0.87028   0.887871  0.880135     0.424046  0.426765  0.425341\n",
       " 0.79698   0.810152  0.822629  0.825679  …  0.429409  0.413027  0.404901\n",
       " 0.753614  0.760581  0.769762  0.778332     0.542837  0.50027   0.484502\n",
       " 0.747743  0.756296  0.765348  0.768883     0.70311   0.641658  0.620854\n",
       " ⋮                                       ⋱            ⋮         \n",
       " 0.376567  0.352016  0.338355  0.353892  …  0.75787   0.756399  0.750637\n",
       " 0.478128  0.401876  0.317033  0.293914     0.72218   0.719178  0.715041\n",
       " 0.54863   0.486157  0.385576  0.294693     0.659743  0.653273  0.650837\n",
       " 0.578067  0.573198  0.507214  0.361606     0.607679  0.593395  0.587453\n",
       " 0.629616  0.651618  0.595552  0.426988     0.653685  0.571815  0.550553\n",
       " 0.669863  0.696341  0.644199  0.479407  …  0.717107  0.56737   0.530858\n",
       " 0.698375  0.718278  0.665394  0.513335     0.707393  0.529927  0.486137\n",
       " 0.663988  0.678624  0.638395  0.52999      0.692169  0.561683  0.530373\n",
       " 0.572934  0.593504  0.578078  0.516191     0.660916  0.645411  0.641054\n",
       " 0.570525  0.576475  0.56869   0.554986     0.760809  0.837187  0.855155\n",
       " 0.649045  0.630333  0.610365  0.618537  …  0.900802  0.961101  0.968954\n",
       " 0.672923  0.645768  0.622554  0.64042      0.934491  0.97275   0.97337\n",
       "\n",
       "[:, :, 3, 30] =\n",
       " 0.558198  0.5842    0.627068  0.656278  …  0.332501  0.341433  0.343743\n",
       " 0.662895  0.703942  0.75025   0.763069     0.295859  0.295471  0.296091\n",
       " 0.776334  0.827195  0.87243   0.870025     0.295345  0.294839  0.294704\n",
       " 0.812796  0.855299  0.892631  0.890026     0.308478  0.30774   0.306935\n",
       " 0.841535  0.880128  0.912597  0.906858     0.346979  0.348302  0.347629\n",
       " 0.853465  0.896743  0.931026  0.919397  …  0.362137  0.36188   0.360464\n",
       " 0.857796  0.90043   0.933192  0.919315     0.370579  0.369231  0.367243\n",
       " 0.851926  0.88957   0.918597  0.90665      0.372177  0.371138  0.369111\n",
       " 0.859085  0.890708  0.914312  0.902639     0.391706  0.396905  0.396624\n",
       " 0.846902  0.87028   0.887871  0.880135     0.424046  0.426765  0.425341\n",
       " 0.79698   0.810152  0.822629  0.825679  …  0.429409  0.413027  0.404901\n",
       " 0.753614  0.760581  0.769762  0.778332     0.542837  0.50027   0.484502\n",
       " 0.747743  0.756296  0.765348  0.768883     0.70311   0.641658  0.620854\n",
       " ⋮                                       ⋱            ⋮         \n",
       " 0.376567  0.352016  0.338355  0.353892  …  0.75787   0.756399  0.750637\n",
       " 0.478128  0.401876  0.317033  0.293914     0.72218   0.719178  0.715041\n",
       " 0.54863   0.486157  0.385576  0.294693     0.659743  0.653273  0.650837\n",
       " 0.578067  0.573198  0.507214  0.361606     0.607679  0.593395  0.587453\n",
       " 0.629616  0.651618  0.595552  0.426988     0.653685  0.571815  0.550553\n",
       " 0.669863  0.696341  0.644199  0.479407  …  0.717107  0.56737   0.530858\n",
       " 0.698375  0.718278  0.665394  0.513335     0.707393  0.529927  0.486137\n",
       " 0.663988  0.678624  0.638395  0.52999      0.692169  0.561683  0.530373\n",
       " 0.572934  0.593504  0.578078  0.516191     0.660916  0.645411  0.641054\n",
       " 0.570525  0.576475  0.56869   0.554986     0.760809  0.837187  0.855155\n",
       " 0.649045  0.630333  0.610365  0.618537  …  0.900802  0.961101  0.968954\n",
       " 0.672923  0.645768  0.622554  0.64042      0.934491  0.97275   0.97337\n",
       "\n",
       "[:, :, 1, 31] =\n",
       " 1.0  1.0  1.0  1.0  1.0  1.0  1.0  1.0  …  1.0  1.0  1.0  1.0  1.0  1.0  1.0\n",
       " 1.0  1.0  1.0  1.0  1.0  1.0  1.0  1.0     1.0  1.0  1.0  1.0  1.0  1.0  1.0\n",
       " 1.0  1.0  1.0  1.0  1.0  1.0  1.0  1.0     1.0  1.0  1.0  1.0  1.0  1.0  1.0\n",
       " 1.0  1.0  1.0  1.0  1.0  1.0  1.0  1.0     1.0  1.0  1.0  1.0  1.0  1.0  1.0\n",
       " 1.0  1.0  1.0  1.0  1.0  1.0  1.0  1.0     1.0  1.0  1.0  1.0  1.0  1.0  1.0\n",
       " 1.0  1.0  1.0  1.0  1.0  1.0  1.0  1.0  …  1.0  1.0  1.0  1.0  1.0  1.0  1.0\n",
       " 1.0  1.0  1.0  1.0  1.0  1.0  1.0  1.0     1.0  1.0  1.0  1.0  1.0  1.0  1.0\n",
       " 1.0  1.0  1.0  1.0  1.0  1.0  1.0  1.0     1.0  1.0  1.0  1.0  1.0  1.0  1.0\n",
       " 1.0  1.0  1.0  1.0  1.0  1.0  1.0  1.0     1.0  1.0  1.0  1.0  1.0  1.0  1.0\n",
       " 1.0  1.0  1.0  1.0  1.0  1.0  1.0  1.0     1.0  1.0  1.0  1.0  1.0  1.0  1.0\n",
       " 1.0  1.0  1.0  1.0  1.0  1.0  1.0  1.0  …  1.0  1.0  1.0  1.0  1.0  1.0  1.0\n",
       " 1.0  1.0  1.0  1.0  1.0  1.0  1.0  1.0     1.0  1.0  1.0  1.0  1.0  1.0  1.0\n",
       " 1.0  1.0  1.0  1.0  1.0  1.0  1.0  1.0     1.0  1.0  1.0  1.0  1.0  1.0  1.0\n",
       " ⋮                        ⋮              ⋱  ⋮                        ⋮    \n",
       " 1.0  1.0  1.0  1.0  1.0  1.0  1.0  1.0  …  1.0  1.0  1.0  1.0  1.0  1.0  1.0\n",
       " 1.0  1.0  1.0  1.0  1.0  1.0  1.0  1.0     1.0  1.0  1.0  1.0  1.0  1.0  1.0\n",
       " 1.0  1.0  1.0  1.0  1.0  1.0  1.0  1.0     1.0  1.0  1.0  1.0  1.0  1.0  1.0\n",
       " 1.0  1.0  1.0  1.0  1.0  1.0  1.0  1.0     1.0  1.0  1.0  1.0  1.0  1.0  1.0\n",
       " 1.0  1.0  1.0  1.0  1.0  1.0  1.0  1.0     1.0  1.0  1.0  1.0  1.0  1.0  1.0\n",
       " 1.0  1.0  1.0  1.0  1.0  1.0  1.0  1.0  …  1.0  1.0  1.0  1.0  1.0  1.0  1.0\n",
       " 1.0  1.0  1.0  1.0  1.0  1.0  1.0  1.0     1.0  1.0  1.0  1.0  1.0  1.0  1.0\n",
       " 1.0  1.0  1.0  1.0  1.0  1.0  1.0  1.0     1.0  1.0  1.0  1.0  1.0  1.0  1.0\n",
       " 1.0  1.0  1.0  1.0  1.0  1.0  1.0  1.0     1.0  1.0  1.0  1.0  1.0  1.0  1.0\n",
       " 1.0  1.0  1.0  1.0  1.0  1.0  1.0  1.0     1.0  1.0  1.0  1.0  1.0  1.0  1.0\n",
       " 1.0  1.0  1.0  1.0  1.0  1.0  1.0  1.0  …  1.0  1.0  1.0  1.0  1.0  1.0  1.0\n",
       " 1.0  1.0  1.0  1.0  1.0  1.0  1.0  1.0     1.0  1.0  1.0  1.0  1.0  1.0  1.0\n",
       "\n",
       "[:, :, 2, 31] =\n",
       " 1.0  1.0  1.0  1.0  1.0  1.0  1.0  1.0  …  1.0  1.0  1.0  1.0  1.0  1.0  1.0\n",
       " 1.0  1.0  1.0  1.0  1.0  1.0  1.0  1.0     1.0  1.0  1.0  1.0  1.0  1.0  1.0\n",
       " 1.0  1.0  1.0  1.0  1.0  1.0  1.0  1.0     1.0  1.0  1.0  1.0  1.0  1.0  1.0\n",
       " 1.0  1.0  1.0  1.0  1.0  1.0  1.0  1.0     1.0  1.0  1.0  1.0  1.0  1.0  1.0\n",
       " 1.0  1.0  1.0  1.0  1.0  1.0  1.0  1.0     1.0  1.0  1.0  1.0  1.0  1.0  1.0\n",
       " 1.0  1.0  1.0  1.0  1.0  1.0  1.0  1.0  …  1.0  1.0  1.0  1.0  1.0  1.0  1.0\n",
       " 1.0  1.0  1.0  1.0  1.0  1.0  1.0  1.0     1.0  1.0  1.0  1.0  1.0  1.0  1.0\n",
       " 1.0  1.0  1.0  1.0  1.0  1.0  1.0  1.0     1.0  1.0  1.0  1.0  1.0  1.0  1.0\n",
       " 1.0  1.0  1.0  1.0  1.0  1.0  1.0  1.0     1.0  1.0  1.0  1.0  1.0  1.0  1.0\n",
       " 1.0  1.0  1.0  1.0  1.0  1.0  1.0  1.0     1.0  1.0  1.0  1.0  1.0  1.0  1.0\n",
       " 1.0  1.0  1.0  1.0  1.0  1.0  1.0  1.0  …  1.0  1.0  1.0  1.0  1.0  1.0  1.0\n",
       " 1.0  1.0  1.0  1.0  1.0  1.0  1.0  1.0     1.0  1.0  1.0  1.0  1.0  1.0  1.0\n",
       " 1.0  1.0  1.0  1.0  1.0  1.0  1.0  1.0     1.0  1.0  1.0  1.0  1.0  1.0  1.0\n",
       " ⋮                        ⋮              ⋱  ⋮                        ⋮    \n",
       " 1.0  1.0  1.0  1.0  1.0  1.0  1.0  1.0  …  1.0  1.0  1.0  1.0  1.0  1.0  1.0\n",
       " 1.0  1.0  1.0  1.0  1.0  1.0  1.0  1.0     1.0  1.0  1.0  1.0  1.0  1.0  1.0\n",
       " 1.0  1.0  1.0  1.0  1.0  1.0  1.0  1.0     1.0  1.0  1.0  1.0  1.0  1.0  1.0\n",
       " 1.0  1.0  1.0  1.0  1.0  1.0  1.0  1.0     1.0  1.0  1.0  1.0  1.0  1.0  1.0\n",
       " 1.0  1.0  1.0  1.0  1.0  1.0  1.0  1.0     1.0  1.0  1.0  1.0  1.0  1.0  1.0\n",
       " 1.0  1.0  1.0  1.0  1.0  1.0  1.0  1.0  …  1.0  1.0  1.0  1.0  1.0  1.0  1.0\n",
       " 1.0  1.0  1.0  1.0  1.0  1.0  1.0  1.0     1.0  1.0  1.0  1.0  1.0  1.0  1.0\n",
       " 1.0  1.0  1.0  1.0  1.0  1.0  1.0  1.0     1.0  1.0  1.0  1.0  1.0  1.0  1.0\n",
       " 1.0  1.0  1.0  1.0  1.0  1.0  1.0  1.0     1.0  1.0  1.0  1.0  1.0  1.0  1.0\n",
       " 1.0  1.0  1.0  1.0  1.0  1.0  1.0  1.0     1.0  1.0  1.0  1.0  1.0  1.0  1.0\n",
       " 1.0  1.0  1.0  1.0  1.0  1.0  1.0  1.0  …  1.0  1.0  1.0  1.0  1.0  1.0  1.0\n",
       " 1.0  1.0  1.0  1.0  1.0  1.0  1.0  1.0     1.0  1.0  1.0  1.0  1.0  1.0  1.0\n",
       "\n",
       "[:, :, 3, 31] =\n",
       " 1.0  1.0  1.0  1.0  1.0  1.0  1.0  1.0  …  1.0  1.0  1.0  1.0  1.0  1.0  1.0\n",
       " 1.0  1.0  1.0  1.0  1.0  1.0  1.0  1.0     1.0  1.0  1.0  1.0  1.0  1.0  1.0\n",
       " 1.0  1.0  1.0  1.0  1.0  1.0  1.0  1.0     1.0  1.0  1.0  1.0  1.0  1.0  1.0\n",
       " 1.0  1.0  1.0  1.0  1.0  1.0  1.0  1.0     1.0  1.0  1.0  1.0  1.0  1.0  1.0\n",
       " 1.0  1.0  1.0  1.0  1.0  1.0  1.0  1.0     1.0  1.0  1.0  1.0  1.0  1.0  1.0\n",
       " 1.0  1.0  1.0  1.0  1.0  1.0  1.0  1.0  …  1.0  1.0  1.0  1.0  1.0  1.0  1.0\n",
       " 1.0  1.0  1.0  1.0  1.0  1.0  1.0  1.0     1.0  1.0  1.0  1.0  1.0  1.0  1.0\n",
       " 1.0  1.0  1.0  1.0  1.0  1.0  1.0  1.0     1.0  1.0  1.0  1.0  1.0  1.0  1.0\n",
       " 1.0  1.0  1.0  1.0  1.0  1.0  1.0  1.0     1.0  1.0  1.0  1.0  1.0  1.0  1.0\n",
       " 1.0  1.0  1.0  1.0  1.0  1.0  1.0  1.0     1.0  1.0  1.0  1.0  1.0  1.0  1.0\n",
       " 1.0  1.0  1.0  1.0  1.0  1.0  1.0  1.0  …  1.0  1.0  1.0  1.0  1.0  1.0  1.0\n",
       " 1.0  1.0  1.0  1.0  1.0  1.0  1.0  1.0     1.0  1.0  1.0  1.0  1.0  1.0  1.0\n",
       " 1.0  1.0  1.0  1.0  1.0  1.0  1.0  1.0     1.0  1.0  1.0  1.0  1.0  1.0  1.0\n",
       " ⋮                        ⋮              ⋱  ⋮                        ⋮    \n",
       " 1.0  1.0  1.0  1.0  1.0  1.0  1.0  1.0  …  1.0  1.0  1.0  1.0  1.0  1.0  1.0\n",
       " 1.0  1.0  1.0  1.0  1.0  1.0  1.0  1.0     1.0  1.0  1.0  1.0  1.0  1.0  1.0\n",
       " 1.0  1.0  1.0  1.0  1.0  1.0  1.0  1.0     1.0  1.0  1.0  1.0  1.0  1.0  1.0\n",
       " 1.0  1.0  1.0  1.0  1.0  1.0  1.0  1.0     1.0  1.0  1.0  1.0  1.0  1.0  1.0\n",
       " 1.0  1.0  1.0  1.0  1.0  1.0  1.0  1.0     1.0  1.0  1.0  1.0  1.0  1.0  1.0\n",
       " 1.0  1.0  1.0  1.0  1.0  1.0  1.0  1.0  …  1.0  1.0  1.0  1.0  1.0  1.0  1.0\n",
       " 1.0  1.0  1.0  1.0  1.0  1.0  1.0  1.0     1.0  1.0  1.0  1.0  1.0  1.0  1.0\n",
       " 1.0  1.0  1.0  1.0  1.0  1.0  1.0  1.0     1.0  1.0  1.0  1.0  1.0  1.0  1.0\n",
       " 1.0  1.0  1.0  1.0  1.0  1.0  1.0  1.0     1.0  1.0  1.0  1.0  1.0  1.0  1.0\n",
       " 1.0  1.0  1.0  1.0  1.0  1.0  1.0  1.0     1.0  1.0  1.0  1.0  1.0  1.0  1.0\n",
       " 1.0  1.0  1.0  1.0  1.0  1.0  1.0  1.0  …  1.0  1.0  1.0  1.0  1.0  1.0  1.0\n",
       " 1.0  1.0  1.0  1.0  1.0  1.0  1.0  1.0     1.0  1.0  1.0  1.0  1.0  1.0  1.0\n",
       "\n",
       "[:, :, 1, 32] =\n",
       " 0.48884   0.504377  0.511412  0.507894  …  0.55357   0.508762  0.520865\n",
       " 0.49588   0.502447  0.505159  0.504039     0.526599  0.527117  0.530061\n",
       " 0.504479  0.504639  0.505772  0.507222     0.538482  0.553855  0.542016\n",
       " 0.51319   0.512424  0.515055  0.518375     0.577936  0.56817   0.545259\n",
       " 0.525976  0.522628  0.524549  0.531236     0.602251  0.583154  0.544214\n",
       " 0.543886  0.540157  0.540201  0.544164  …  0.69424   0.67305   0.592255\n",
       " 0.558846  0.555028  0.552929  0.552013     0.738211  0.766964  0.679849\n",
       " 0.566655  0.55933   0.555389  0.554961     0.768538  0.780637  0.71713\n",
       " 0.57032   0.564222  0.562848  0.563939     0.780747  0.79425   0.736098\n",
       " 0.573126  0.569183  0.572457  0.576256     0.773443  0.796535  0.750492\n",
       " 0.57912   0.573594  0.579434  0.586225  …  0.762759  0.785958  0.747891\n",
       " 0.596073  0.590613  0.58642   0.586648     0.773263  0.793414  0.744888\n",
       " 0.617929  0.618028  0.606526  0.599506     0.796382  0.817847  0.750447\n",
       " ⋮                                       ⋱            ⋮         \n",
       " 0.60477   0.568594  0.540916  0.544584  …  0.82592   0.87709   0.774647\n",
       " 0.647937  0.590148  0.539239  0.526943     0.827524  0.88264   0.778365\n",
       " 0.660252  0.584144  0.52561   0.515237     0.831577  0.890401  0.792727\n",
       " 0.628363  0.568652  0.523829  0.513478     0.817895  0.892477  0.800666\n",
       " 0.541323  0.537996  0.517441  0.504399     0.82142   0.89718   0.805325\n",
       " 0.464532  0.503237  0.497572  0.482882  …  0.837272  0.900545  0.808328\n",
       " 0.454314  0.479383  0.467744  0.455191     0.849728  0.899864  0.812888\n",
       " 0.447817  0.459395  0.445548  0.436845     0.854644  0.902326  0.815512\n",
       " 0.426682  0.439015  0.437806  0.434387     0.843679  0.907982  0.820996\n",
       " 0.379935  0.408947  0.432073  0.435769     0.829469  0.913304  0.829537\n",
       " 0.236755  0.267896  0.318279  0.35987   …  0.822937  0.909688  0.836622\n",
       " 0.147622  0.177124  0.241346  0.307531     0.821362  0.906023  0.839714\n",
       "\n",
       "[:, :, 2, 32] =\n",
       " 0.3112    0.315531  0.317611  0.317131  …  0.362816  0.34861   0.349981\n",
       " 0.321326  0.322592  0.323261  0.322842     0.346747  0.347386  0.343074\n",
       " 0.334772  0.334336  0.333679  0.334431     0.36605   0.364786  0.349077\n",
       " 0.345923  0.345891  0.34551   0.348302     0.435253  0.410107  0.376183\n",
       " 0.354899  0.354366  0.356855  0.362528     0.565524  0.512158  0.428755\n",
       " 0.373075  0.372666  0.37474   0.37814   …  0.734672  0.686063  0.562702\n",
       " 0.391761  0.391811  0.39156   0.390734     0.784662  0.818743  0.718334\n",
       " 0.400594  0.400663  0.400271  0.399489     0.8009    0.829146  0.751681\n",
       " 0.414652  0.414349  0.416117  0.41733      0.809427  0.838736  0.776968\n",
       " 0.432556  0.431868  0.435884  0.439104     0.804444  0.835805  0.788326\n",
       " 0.449402  0.448703  0.452783  0.456078  …  0.792574  0.820246  0.781813\n",
       " 0.468412  0.468497  0.468     0.466917     0.80596   0.826554  0.775064\n",
       " 0.490953  0.49162   0.486768  0.481758     0.830852  0.849863  0.781251\n",
       " ⋮                                       ⋱            ⋮         \n",
       " 0.559265  0.511172  0.48277   0.487134  …  0.86124   0.91844   0.81928\n",
       " 0.603886  0.533742  0.484831  0.479787     0.858082  0.924039  0.824423\n",
       " 0.618055  0.529863  0.470428  0.469792     0.857065  0.931513  0.838216\n",
       " 0.596943  0.517479  0.459169  0.457047     0.846704  0.932958  0.846155\n",
       " 0.524515  0.493778  0.450838  0.441403     0.853317  0.936599  0.850301\n",
       " 0.455536  0.462117  0.434607  0.423388  …  0.874259  0.941305  0.854714\n",
       " 0.442062  0.433405  0.406958  0.405776     0.897172  0.945003  0.86328\n",
       " 0.421328  0.406235  0.38393   0.386145     0.90319   0.948569  0.866918\n",
       " 0.380349  0.378254  0.374485  0.378822     0.892497  0.953713  0.87196\n",
       " 0.321214  0.344811  0.369484  0.38053      0.878271  0.95903   0.880501\n",
       " 0.187593  0.216924  0.268537  0.316057  …  0.866461  0.956036  0.887586\n",
       " 0.108002  0.136107  0.200363  0.271648     0.861236  0.952802  0.890678\n",
       "\n",
       "[:, :, 3, 32] =\n",
       " 1.0       1.0       1.0       1.0       …  1.0       1.0       1.0\n",
       " 1.0       1.0       1.0       1.0          1.0       1.0       1.0\n",
       " 1.0       1.0       1.0       1.0          1.0       1.0       1.0\n",
       " 1.0       1.0       1.0       1.0          0.979815  1.0       1.0\n",
       " 1.0       1.0       1.0       1.0          0.817811  0.885079  0.953729\n",
       " 1.0       1.0       1.0       1.0       …  0.752283  0.797088  0.803834\n",
       " 1.0       1.0       1.0       1.0          0.749898  0.79308   0.724292\n",
       " 1.0       1.0       1.0       1.0          0.784334  0.799731  0.739242\n",
       " 1.0       1.0       1.0       1.0          0.798284  0.810035  0.751314\n",
       " 1.0       1.0       1.0       1.0          0.787086  0.80866   0.772397\n",
       " 1.0       1.0       1.0       1.0       …  0.768159  0.789403  0.786477\n",
       " 1.0       1.0       1.0       1.0          0.779559  0.796328  0.783124\n",
       " 1.0       1.0       1.0       1.0          0.810307  0.826881  0.780392\n",
       " ⋮                                       ⋱            ⋮         \n",
       " 0.920839  0.81136   0.774345  0.802461  …  0.836447  0.897896  0.791893\n",
       " 0.917891  0.780267  0.730132  0.767665     0.825678  0.905152  0.797104\n",
       " 0.900171  0.745006  0.679823  0.724036     0.820854  0.914016  0.811024\n",
       " 0.845429  0.723171  0.6595    0.69478      0.800841  0.916884  0.818963\n",
       " 0.708228  0.691169  0.659724  0.672233     0.805231  0.921485  0.822196\n",
       " 0.594933  0.663141  0.665009  0.659646  …  0.829461  0.923941  0.829115\n",
       " 0.590057  0.649373  0.654779  0.650763     0.850091  0.922391  0.844806\n",
       " 0.58563   0.644753  0.659961  0.656862     0.865029  0.922955  0.849679\n",
       " 0.554032  0.624103  0.659022  0.660474     0.865343  0.929212  0.855744\n",
       " 0.485995  0.572264  0.630199  0.640875     0.859313  0.938016  0.868247\n",
       " 0.324808  0.382449  0.453355  0.504685  …  0.847115  0.935727  0.875965\n",
       " 0.227581  0.262122  0.337004  0.414469     0.839716  0.932312  0.878696"
      ]
     },
     "execution_count": 145,
     "metadata": {},
     "output_type": "execute_result"
    }
   ],
   "source": [
    "img = new1[:,:,:,1:32]"
   ]
  },
  {
   "cell_type": "code",
   "execution_count": 146,
   "metadata": {},
   "outputs": [
    {
     "data": {
      "text/plain": [
       "KnetArray{Float32,N} where N"
      ]
     },
     "execution_count": 146,
     "metadata": {},
     "output_type": "execute_result"
    }
   ],
   "source": [
    "_atype = CUDA.functional() ? KnetArray{Float32} : Array{Float32}"
   ]
  },
  {
   "cell_type": "code",
   "execution_count": 147,
   "metadata": {
    "scrolled": true
   },
   "outputs": [
    {
     "data": {
      "text/plain": [
       "32×32×3×32 KnetArray{Float32,4}:\n",
       "[:, :, 1, 1] =\n",
       " 0.486275  0.478782  0.473245  0.471192  …  0.553235  0.538265  0.526799\n",
       " 0.516376  0.505108  0.49827   0.497063     0.497087  0.533555  0.54781\n",
       " 0.53871   0.527752  0.513622  0.50233      0.462302  0.528034  0.56103\n",
       " 0.53466   0.52879   0.505462  0.47833      0.479517  0.525051  0.554402\n",
       " 0.532598  0.517019  0.507587  0.510899     0.473769  0.522125  0.555359\n",
       " 0.514827  0.496216  0.506508  0.540578  …  0.423191  0.487338  0.527642\n",
       " 0.477037  0.478718  0.493545  0.513049     0.33194   0.41221   0.459446\n",
       " 0.463702  0.47369   0.48498   0.491005     0.277167  0.36139   0.410926\n",
       " 0.482353  0.487203  0.492014  0.493942     0.295632  0.364097  0.407399\n",
       " 0.511056  0.518686  0.529443  0.535587     0.350741  0.388942  0.418794\n",
       " 0.517616  0.53023   0.539698  0.536225  …  0.426468  0.41637   0.423476\n",
       " 0.49527   0.510275  0.506571  0.479732     0.473439  0.424514  0.412519\n",
       " 0.540564  0.524335  0.463619  0.39357      0.486627  0.446083  0.435639\n",
       " ⋮                                       ⋱            ⋮         \n",
       " 0.526471  0.37489   0.306645  0.384242  …  0.944102  0.902787  0.864779\n",
       " 0.526327  0.44733   0.392676  0.41705      0.906179  0.895922  0.876704\n",
       " 0.500046  0.484175  0.406667  0.345046     0.919698  0.925037  0.919446\n",
       " 0.499236  0.508545  0.474144  0.449743     0.946656  0.928485  0.914323\n",
       " 0.517647  0.5099    0.558956  0.661494     0.939471  0.891225  0.862751\n",
       " 0.517197  0.498836  0.622764  0.831082  …  0.836895  0.83131   0.830595\n",
       " 0.500689  0.514259  0.640647  0.810549     0.680437  0.704322  0.721658\n",
       " 0.480919  0.55569   0.610683  0.614964     0.569956  0.574714  0.579628\n",
       " 0.501103  0.578914  0.582576  0.509312     0.556935  0.534101  0.52134\n",
       " 0.554414  0.588859  0.568447  0.505654     0.538419  0.499816  0.47785\n",
       " 0.609972  0.599292  0.576248  0.557198  …  0.401388  0.375649  0.363786\n",
       " 0.636929  0.604175  0.580739  0.584391     0.332356  0.313705  0.307311\n",
       "\n",
       "[:, :, 2, 1] =\n",
       " 0.301961  0.301525  0.303897  0.306133  …  0.384004  0.368256  0.358172\n",
       " 0.329553  0.322495  0.321754  0.325684     0.329489  0.364683  0.380504\n",
       " 0.349648  0.338759  0.327646  0.321544     0.279836  0.344904  0.380293\n",
       " 0.34554   0.336951  0.314065  0.290964     0.271502  0.318021  0.350847\n",
       " 0.347672  0.329708  0.317525  0.319733     0.248106  0.299765  0.337834\n",
       " 0.341908  0.321126  0.325928  0.354508  …  0.208368  0.276777  0.322118\n",
       " 0.320558  0.317028  0.324792  0.339132     0.155381  0.238753  0.28982\n",
       " 0.323093  0.323235  0.324988  0.328157     0.129274  0.21343   0.263742\n",
       " 0.34902   0.341092  0.334964  0.336815     0.150525  0.216422  0.257944\n",
       " 0.382127  0.376948  0.377426  0.384893     0.199399  0.235998  0.264179\n",
       " 0.387117  0.391156  0.394992  0.394748  …  0.258832  0.250514  0.258446\n",
       " 0.359438  0.371696  0.368445  0.346862     0.291335  0.247273  0.238976\n",
       " 0.399755  0.388704  0.33695   0.274905     0.296098  0.259602  0.253067\n",
       " ⋮                                       ⋱            ⋮         \n",
       " 0.341054  0.235223  0.198894  0.267063  …  0.901693  0.854133  0.811757\n",
       " 0.350483  0.29118   0.252326  0.276732     0.852686  0.829812  0.803537\n",
       " 0.356189  0.33414   0.255711  0.20191      0.861279  0.845793  0.828183\n",
       " 0.355674  0.353065  0.322811  0.322457     0.886823  0.839675  0.808915\n",
       " 0.34902   0.343105  0.416288  0.556835     0.879347  0.801284  0.756\n",
       " 0.343132  0.331897  0.488073  0.739266  …  0.774075  0.747832  0.73533\n",
       " 0.330331  0.354672  0.51075   0.714302     0.590854  0.611302  0.626318\n",
       " 0.317042  0.404251  0.479467  0.501089     0.441409  0.45699   0.46752\n",
       " 0.326471  0.421354  0.443029  0.37713      0.399206  0.396254  0.394758\n",
       " 0.36326   0.417829  0.4158    0.356139     0.380803  0.364197  0.355269\n",
       " 0.411811  0.419826  0.412166  0.393156  …  0.270866  0.26684   0.267821\n",
       " 0.435637  0.420751  0.411188  0.413487     0.215854  0.218645  0.224907\n",
       "\n",
       "[:, :, 3, 1] =\n",
       " 0.141176  0.139435  0.14596   0.15657    …  0.258093   0.218777   0.193469\n",
       " 0.164183  0.15797   0.161055  0.170101      0.273027   0.276254   0.270215\n",
       " 0.178753  0.17081   0.162136  0.156613      0.29869    0.321613   0.327181\n",
       " 0.172195  0.166976  0.14469   0.119225      0.317833   0.317027   0.316117\n",
       " 0.181495  0.164514  0.149724  0.147423      0.279031   0.279105   0.281549\n",
       " 0.18736   0.164128  0.163491  0.187059   …  0.195191   0.211599   0.22306\n",
       " 0.172932  0.164859  0.165869  0.175649      0.113471   0.146591   0.166972\n",
       " 0.1807    0.177752  0.173584  0.171663      0.0707238  0.110096   0.133393\n",
       " 0.207843  0.200786  0.191692  0.188071      0.0831361  0.112286   0.13028\n",
       " 0.240778  0.238481  0.239799  0.244737      0.0877139  0.0984982  0.108928\n",
       " 0.246967  0.258625  0.268102  0.266733   …  0.111404   0.092473   0.0909382\n",
       " 0.222055  0.248033  0.253981  0.229536      0.142589   0.0994553  0.0880569\n",
       " 0.259804  0.273547  0.240814  0.177062      0.158173   0.116631   0.103599\n",
       " ⋮                                        ⋱             ⋮          \n",
       " 0.213358  0.138354  0.118236  0.170804   …  0.77116    0.693028   0.627257\n",
       " 0.237033  0.18321   0.143444  0.15849       0.710654   0.669988   0.626477\n",
       " 0.227574  0.204389  0.135036  0.0974058     0.751315   0.709743   0.670335\n",
       " 0.209027  0.19682   0.177328  0.207376      0.813687   0.73397    0.679235\n",
       " 0.192157  0.171753  0.249753  0.417595      0.820249   0.711134   0.644893\n",
       " 0.182899  0.159266  0.320318  0.596855   …  0.701808   0.654809   0.62937\n",
       " 0.167969  0.185926  0.35056   0.577793      0.477433   0.488284   0.498518\n",
       " 0.152143  0.237712  0.32556   0.370812      0.286871   0.296627   0.305105\n",
       " 0.164216  0.260239  0.290613  0.238227      0.223838   0.212179   0.206129\n",
       " 0.20819   0.261199  0.257702  0.198462      0.222107   0.18747    0.166713\n",
       " 0.264323  0.263382  0.244177  0.218469   …  0.154414   0.12263    0.104533\n",
       " 0.291831  0.264261  0.238278  0.230619      0.120708   0.0910124  0.0746835\n",
       "\n",
       "[:, :, 1, 2] =\n",
       " 1.0  1.0  1.0  1.0  1.0  1.0  1.0  1.0  …  1.0  0.924205  0.827328  0.777067\n",
       " 1.0  1.0  1.0  1.0  1.0  1.0  1.0  1.0     1.0  1.0       0.908906  0.821029\n",
       " 1.0  1.0  1.0  1.0  1.0  1.0  1.0  1.0     1.0  1.0       1.0       0.886897\n",
       " 1.0  1.0  1.0  1.0  1.0  1.0  1.0  1.0     1.0  1.0       1.0       0.955017\n",
       " 1.0  1.0  1.0  1.0  1.0  1.0  1.0  1.0     1.0  1.0       1.0       1.0\n",
       " 1.0  1.0  1.0  1.0  1.0  1.0  1.0  1.0  …  1.0  1.0       1.0       1.0\n",
       " 1.0  1.0  1.0  1.0  1.0  1.0  1.0  1.0     1.0  1.0       1.0       1.0\n",
       " 1.0  1.0  1.0  1.0  1.0  1.0  1.0  1.0     1.0  1.0       1.0       1.0\n",
       " 1.0  1.0  1.0  1.0  1.0  1.0  1.0  1.0     1.0  1.0       1.0       1.0\n",
       " 1.0  1.0  1.0  1.0  1.0  1.0  1.0  1.0     1.0  1.0       1.0       1.0\n",
       " 1.0  1.0  1.0  1.0  1.0  1.0  1.0  1.0  …  1.0  1.0       1.0       1.0\n",
       " 1.0  1.0  1.0  1.0  1.0  1.0  1.0  1.0     1.0  1.0       1.0       1.0\n",
       " 1.0  1.0  1.0  1.0  1.0  1.0  1.0  1.0     1.0  1.0       1.0       1.0\n",
       " ⋮                        ⋮              ⋱                 ⋮         \n",
       " 1.0  1.0  1.0  1.0  1.0  1.0  1.0  1.0  …  1.0  1.0       1.0       1.0\n",
       " 1.0  1.0  1.0  1.0  1.0  1.0  1.0  1.0     1.0  1.0       1.0       1.0\n",
       " 1.0  1.0  1.0  1.0  1.0  1.0  1.0  1.0     1.0  1.0       1.0       1.0\n",
       " 1.0  1.0  1.0  1.0  1.0  1.0  1.0  1.0     1.0  1.0       1.0       1.0\n",
       " 1.0  1.0  1.0  1.0  1.0  1.0  1.0  1.0     1.0  1.0       1.0       1.0\n",
       " 1.0  1.0  1.0  1.0  1.0  1.0  1.0  1.0  …  1.0  1.0       1.0       1.0\n",
       " 1.0  1.0  1.0  1.0  1.0  1.0  1.0  1.0     1.0  1.0       1.0       1.0\n",
       " 1.0  1.0  1.0  1.0  1.0  1.0  1.0  1.0     1.0  1.0       1.0       1.0\n",
       " 1.0  1.0  1.0  1.0  1.0  1.0  1.0  1.0     1.0  1.0       1.0       1.0\n",
       " 1.0  1.0  1.0  1.0  1.0  1.0  1.0  1.0     1.0  1.0       1.0       1.0\n",
       " 1.0  1.0  1.0  1.0  1.0  1.0  1.0  1.0  …  1.0  1.0       1.0       1.0\n",
       " 1.0  1.0  1.0  1.0  1.0  1.0  1.0  1.0     1.0  1.0       1.0       1.0\n",
       "\n",
       "[:, :, 2, 2] =\n",
       " 1.0  1.0  1.0  1.0  1.0  1.0  1.0       …  1.0  0.90529   0.818393  0.774819\n",
       " 1.0  1.0  1.0  1.0  1.0  1.0  1.0          1.0  0.995143  0.892081  0.812846\n",
       " 1.0  1.0  1.0  1.0  1.0  1.0  1.0          1.0  1.0       1.0       0.872209\n",
       " 1.0  1.0  1.0  1.0  1.0  1.0  1.0          1.0  1.0       1.0       0.93325\n",
       " 1.0  1.0  1.0  1.0  1.0  1.0  1.0          1.0  1.0       1.0       1.0\n",
       " 1.0  1.0  1.0  1.0  1.0  1.0  1.0       …  1.0  1.0       1.0       1.0\n",
       " 1.0  1.0  1.0  1.0  1.0  1.0  1.0          1.0  1.0       1.0       1.0\n",
       " 1.0  1.0  1.0  1.0  1.0  1.0  1.0          1.0  1.0       1.0       1.0\n",
       " 1.0  1.0  1.0  1.0  1.0  1.0  1.0          1.0  1.0       1.0       1.0\n",
       " 1.0  1.0  1.0  1.0  1.0  1.0  0.991165     1.0  1.0       1.0       1.0\n",
       " 1.0  1.0  1.0  1.0  1.0  1.0  1.0       …  1.0  1.0       1.0       1.0\n",
       " 1.0  1.0  1.0  1.0  1.0  1.0  1.0          1.0  1.0       1.0       1.0\n",
       " 1.0  1.0  1.0  1.0  1.0  1.0  1.0          1.0  1.0       1.0       1.0\n",
       " ⋮                        ⋮              ⋱                 ⋮         \n",
       " 1.0  1.0  1.0  1.0  1.0  1.0  1.0       …  1.0  1.0       1.0       1.0\n",
       " 1.0  1.0  1.0  1.0  1.0  1.0  1.0          1.0  1.0       1.0       1.0\n",
       " 1.0  1.0  1.0  1.0  1.0  1.0  1.0          1.0  1.0       1.0       1.0\n",
       " 1.0  1.0  1.0  1.0  1.0  1.0  1.0          1.0  1.0       1.0       1.0\n",
       " 1.0  1.0  1.0  1.0  1.0  1.0  1.0          1.0  1.0       1.0       1.0\n",
       " 1.0  1.0  1.0  1.0  1.0  1.0  1.0       …  1.0  1.0       1.0       1.0\n",
       " 1.0  1.0  1.0  1.0  1.0  1.0  1.0          1.0  1.0       1.0       1.0\n",
       " 1.0  1.0  1.0  1.0  1.0  1.0  1.0          1.0  1.0       1.0       1.0\n",
       " 1.0  1.0  1.0  1.0  1.0  1.0  1.0          1.0  1.0       1.0       1.0\n",
       " 1.0  1.0  1.0  1.0  1.0  1.0  1.0          1.0  1.0       1.0       1.0\n",
       " 1.0  1.0  1.0  1.0  1.0  1.0  1.0       …  1.0  1.0       1.0       1.0\n",
       " 1.0  1.0  1.0  1.0  1.0  1.0  1.0          1.0  1.0       1.0       1.0\n",
       "\n",
       "[:, :, 3, 2] =\n",
       " 1.0  1.0  1.0  1.0  1.0  1.0  1.0       …  0.888084  0.810316  0.77217\n",
       " 1.0  1.0  1.0  1.0  1.0  1.0  1.0          0.970926  0.875595  0.805535\n",
       " 1.0  1.0  1.0  1.0  1.0  1.0  1.0          1.0       0.979732  0.857336\n",
       " 1.0  1.0  1.0  1.0  1.0  1.0  1.0          1.0       1.0       0.913222\n",
       " 1.0  1.0  1.0  1.0  1.0  1.0  1.0          1.0       1.0       0.976099\n",
       " 1.0  1.0  1.0  1.0  1.0  1.0  1.0       …  1.0       1.0       1.0\n",
       " 1.0  1.0  1.0  1.0  1.0  1.0  1.0          1.0       1.0       1.0\n",
       " 1.0  1.0  1.0  1.0  1.0  1.0  1.0          1.0       1.0       1.0\n",
       " 1.0  1.0  1.0  1.0  1.0  1.0  1.0          1.0       1.0       1.0\n",
       " 1.0  1.0  1.0  1.0  1.0  1.0  0.975433     1.0       1.0       1.0\n",
       " 1.0  1.0  1.0  1.0  1.0  1.0  1.0       …  1.0       1.0       1.0\n",
       " 1.0  1.0  1.0  1.0  1.0  1.0  1.0          1.0       1.0       1.0\n",
       " 1.0  1.0  1.0  1.0  1.0  1.0  1.0          1.0       1.0       1.0\n",
       " ⋮                        ⋮              ⋱            ⋮         \n",
       " 1.0  1.0  1.0  1.0  1.0  1.0  1.0       …  1.0       1.0       1.0\n",
       " 1.0  1.0  1.0  1.0  1.0  1.0  1.0          1.0       1.0       1.0\n",
       " 1.0  1.0  1.0  1.0  1.0  1.0  1.0          1.0       1.0       1.0\n",
       " 1.0  1.0  1.0  1.0  1.0  1.0  1.0          1.0       1.0       1.0\n",
       " 1.0  1.0  1.0  1.0  1.0  1.0  1.0          1.0       1.0       1.0\n",
       " 1.0  1.0  1.0  1.0  1.0  1.0  1.0       …  1.0       1.0       1.0\n",
       " 1.0  1.0  1.0  1.0  1.0  1.0  1.0          1.0       1.0       1.0\n",
       " 1.0  1.0  1.0  1.0  1.0  1.0  0.991215     1.0       1.0       1.0\n",
       " 1.0  1.0  1.0  1.0  1.0  1.0  1.0          1.0       1.0       1.0\n",
       " 1.0  1.0  1.0  1.0  1.0  1.0  1.0          1.0       1.0       1.0\n",
       " 1.0  1.0  1.0  1.0  1.0  1.0  1.0       …  1.0       1.0       1.0\n",
       " 1.0  1.0  1.0  1.0  1.0  1.0  1.0          1.0       1.0       1.0\n",
       "\n",
       "[:, :, 1, 3] =\n",
       " 0.603922  0.519737  0.435495  0.390875  …  0.315995  0.25764   0.230925\n",
       " 0.558007  0.565721  0.510899  0.456432     0.35253   0.315326  0.292334\n",
       " 0.547124  0.565897  0.491493  0.495663     0.376242  0.386435  0.358333\n",
       " 0.544494  0.546852  0.474227  0.484355     0.376156  0.378218  0.340488\n",
       " 0.524494  0.542262  0.504951  0.511748     0.367146  0.327841  0.293102\n",
       " 0.506008  0.546808  0.52223   0.608915  …  0.362986  0.329342  0.31103\n",
       " 0.527369  0.539411  0.509918  0.566503     0.351169  0.332589  0.305068\n",
       " 0.555515  0.523238  0.432635  0.393681     0.298859  0.283874  0.271984\n",
       " 0.620466  0.5104    0.344538  0.278594     0.328225  0.332218  0.334516\n",
       " 0.613175  0.433666  0.245548  0.195936     0.441945  0.393486  0.383493\n",
       " 0.466125  0.307526  0.179427  0.128646  …  0.570177  0.397365  0.33899\n",
       " 0.292519  0.287731  0.27146   0.269049     0.701005  0.512014  0.37399\n",
       " 0.199847  0.332007  0.38603   0.414635     0.797158  0.714715  0.599906\n",
       " ⋮                                       ⋱            ⋮         \n",
       " 0.799847  0.949676  0.972765  0.968279  …  0.778279  0.812401  0.780751\n",
       " 0.812692  0.962394  1.0       0.986387     0.778708  0.823178  0.804318\n",
       " 0.876377  0.997548  1.0       0.982777     0.761422  0.823218  0.808108\n",
       " 0.669361  0.69012   0.646796  0.605657     0.744647  0.809302  0.804308\n",
       " 0.349142  0.365674  0.355382  0.277365     0.782938  0.79829   0.791625\n",
       " 0.340605  0.399387  0.441294  0.270814  …  0.746814  0.802793  0.819682\n",
       " 0.63516   0.646332  0.661919  0.406497     0.550124  0.74063   0.815248\n",
       " 0.636946  0.531541  0.492581  0.320464     0.333483  0.476445  0.574112\n",
       " 0.586489  0.327111  0.187154  0.133342     0.169061  0.181387  0.211128\n",
       " 0.643427  0.342567  0.139085  0.108031     0.244253  0.224466  0.192577\n",
       " 0.667687  0.509322  0.390511  0.369363  …  0.389435  0.346424  0.259826\n",
       " 0.605212  0.609264  0.624223  0.648248     0.428545  0.322591  0.192964\n",
       "\n",
       "[:, :, 2, 3] =\n",
       " 0.694118  0.574947  0.445429  0.379851  …  0.308706   0.252192  0.231654\n",
       " 0.640184  0.61051   0.517659  0.457168     0.352141   0.315256  0.296038\n",
       " 0.613961  0.603673  0.497108  0.502306     0.376561   0.386656  0.362032\n",
       " 0.59549   0.577469  0.477005  0.484945     0.38108    0.383815  0.348364\n",
       " 0.563312  0.565344  0.507664  0.50543      0.382117   0.341571  0.305141\n",
       " 0.536895  0.570043  0.540755  0.617413  …  0.383311   0.340273  0.317202\n",
       " 0.558621  0.581612  0.577093  0.639748     0.367769   0.325316  0.298669\n",
       " 0.586019  0.570984  0.511267  0.483935     0.312011   0.267669  0.259973\n",
       " 0.65576   0.561308  0.410536  0.342913     0.332108   0.314827  0.324777\n",
       " 0.654445  0.495261  0.306209  0.234127     0.435646   0.37957   0.376373\n",
       " 0.503163  0.38359   0.255707  0.169114  …  0.559664   0.389135  0.332426\n",
       " 0.310506  0.369957  0.368073  0.323225     0.689357   0.50986   0.374648\n",
       " 0.192647  0.412528  0.493936  0.478613     0.784513   0.712721  0.597884\n",
       " ⋮                                       ⋱             ⋮         \n",
       " 0.763986  0.927826  0.955084  0.960108  …  0.684721   0.750137  0.735395\n",
       " 0.785932  0.933955  0.979203  0.97867      0.675876   0.741616  0.720186\n",
       " 0.855467  0.979716  0.998108  0.981981     0.657549   0.740827  0.720938\n",
       " 0.65396   0.693681  0.659543  0.616053     0.644006   0.734395  0.725966\n",
       " 0.344485  0.395168  0.393227  0.299069     0.686775   0.730284  0.720944\n",
       " 0.351048  0.454632  0.505862  0.304738  …  0.649211   0.734926  0.747901\n",
       " 0.655725  0.717755  0.74483   0.451282     0.4471     0.670823  0.74234\n",
       " 0.65384   0.595977  0.57222   0.365556     0.233959   0.412571  0.514961\n",
       " 0.584666  0.353057  0.235367  0.168583     0.0962459  0.136683  0.171053\n",
       " 0.630433  0.342182  0.161792  0.133778     0.222403   0.206881  0.163972\n",
       " 0.6469    0.500711  0.403719  0.391393  …  0.394408   0.341574  0.238304\n",
       " 0.576669  0.598823  0.636507  0.670534     0.425763   0.313909  0.177015\n",
       "\n",
       "[:, :, 3, 3] =\n",
       " 0.733333  0.580999  0.415581  0.349932  …  0.291651   0.254975  0.236303\n",
       " 0.67612   0.620969  0.492656  0.436838     0.333373   0.307861  0.285331\n",
       " 0.649428  0.619553  0.48272   0.495663     0.358514   0.369748  0.333417\n",
       " 0.629415  0.596248  0.473271  0.488822     0.3638     0.356031  0.300799\n",
       " 0.593658  0.585445  0.511967  0.513078     0.362931   0.302332  0.242802\n",
       " 0.563655  0.596898  0.559103  0.630648  …  0.363188   0.296108  0.252022\n",
       " 0.575348  0.630279  0.636059  0.68237      0.359858   0.291697  0.247383\n",
       " 0.640439  0.666817  0.624691  0.565677     0.319037   0.242899  0.21127\n",
       " 0.742034  0.681814  0.546309  0.443864     0.344419   0.290229  0.271319\n",
       " 0.713344  0.58347   0.407481  0.319748     0.430242   0.338791  0.313658\n",
       " 0.498506  0.415712  0.30778   0.233265  …  0.515508   0.319511  0.258213\n",
       " 0.286681  0.394309  0.429108  0.40612      0.602598   0.413556  0.290968\n",
       " 0.192969  0.470209  0.609059  0.614443     0.654974   0.589715  0.50535\n",
       " ⋮                                       ⋱             ⋮         \n",
       " 0.761091  0.942086  0.962828  0.959139  …  0.518308   0.552851  0.540304\n",
       " 0.786463  0.9491    0.983889  0.970553     0.501251   0.550543  0.550199\n",
       " 0.864595  0.999499  1.0       0.980101     0.471309   0.537766  0.541823\n",
       " 0.677152  0.736208  0.69427   0.6308       0.452842   0.51968   0.528084\n",
       " 0.389583  0.472513  0.459717  0.336724     0.506759   0.518009  0.515307\n",
       " 0.419435  0.56803   0.605248  0.365929  …  0.496988   0.539487  0.549162\n",
       " 0.734126  0.850493  0.863694  0.527211     0.330962   0.50592   0.567286\n",
       " 0.718226  0.713794  0.680145  0.437304     0.153719   0.300788  0.395255\n",
       " 0.630867  0.43546   0.314334  0.225404     0.0640366  0.11192   0.153166\n",
       " 0.675237  0.414146  0.233837  0.190114     0.256915   0.240984  0.193366\n",
       " 0.702981  0.583722  0.487256  0.459313  …  0.483322   0.402209  0.271353\n",
       " 0.640506  0.689989  0.727983  0.746362     0.533824   0.385625  0.212023\n",
       "\n",
       "...\n",
       "\n",
       "[:, :, 1, 30] =\n",
       " 0.558198  0.5842    0.627068  0.656278  …  0.332501  0.341433  0.343743\n",
       " 0.662895  0.703942  0.75025   0.763069     0.295859  0.295471  0.296091\n",
       " 0.776334  0.827195  0.87243   0.870025     0.295345  0.294839  0.294704\n",
       " 0.812796  0.855299  0.892631  0.890026     0.308478  0.30774   0.306935\n",
       " 0.841535  0.880128  0.912597  0.906858     0.346979  0.348302  0.347629\n",
       " 0.853465  0.896743  0.931026  0.919397  …  0.362137  0.36188   0.360464\n",
       " 0.857796  0.90043   0.933192  0.919315     0.370579  0.369231  0.367243\n",
       " 0.851926  0.88957   0.918597  0.90665      0.372177  0.371138  0.369111\n",
       " 0.859085  0.890708  0.914312  0.902639     0.391706  0.396905  0.396624\n",
       " 0.846902  0.87028   0.887871  0.880135     0.424046  0.426765  0.425341\n",
       " 0.79698   0.810152  0.822629  0.825679  …  0.429409  0.413027  0.404901\n",
       " 0.753614  0.760581  0.769762  0.778332     0.542837  0.50027   0.484502\n",
       " 0.747743  0.756296  0.765348  0.768883     0.70311   0.641658  0.620854\n",
       " ⋮                                       ⋱            ⋮         \n",
       " 0.376567  0.352016  0.338355  0.353892  …  0.75787   0.756399  0.750637\n",
       " 0.478128  0.401876  0.317033  0.293914     0.72218   0.719178  0.715041\n",
       " 0.54863   0.486157  0.385576  0.294693     0.659743  0.653273  0.650837\n",
       " 0.578067  0.573198  0.507214  0.361606     0.607679  0.593395  0.587453\n",
       " 0.629616  0.651618  0.595552  0.426988     0.653685  0.571815  0.550553\n",
       " 0.669863  0.696341  0.644199  0.479407  …  0.717107  0.56737   0.530858\n",
       " 0.698375  0.718278  0.665394  0.513335     0.707393  0.529927  0.486137\n",
       " 0.663988  0.678624  0.638395  0.52999      0.692169  0.561683  0.530373\n",
       " 0.572934  0.593504  0.578078  0.516191     0.660916  0.645411  0.641054\n",
       " 0.570525  0.576475  0.56869   0.554986     0.760809  0.837187  0.855155\n",
       " 0.649045  0.630333  0.610365  0.618537  …  0.900802  0.961101  0.968954\n",
       " 0.672923  0.645768  0.622554  0.64042      0.934491  0.97275   0.97337\n",
       "\n",
       "[:, :, 2, 30] =\n",
       " 0.558198  0.5842    0.627068  0.656278  …  0.332501  0.341433  0.343743\n",
       " 0.662895  0.703942  0.75025   0.763069     0.295859  0.295471  0.296091\n",
       " 0.776334  0.827195  0.87243   0.870025     0.295345  0.294839  0.294704\n",
       " 0.812796  0.855299  0.892631  0.890026     0.308478  0.30774   0.306935\n",
       " 0.841535  0.880128  0.912597  0.906858     0.346979  0.348302  0.347629\n",
       " 0.853465  0.896743  0.931026  0.919397  …  0.362137  0.36188   0.360464\n",
       " 0.857796  0.90043   0.933192  0.919315     0.370579  0.369231  0.367243\n",
       " 0.851926  0.88957   0.918597  0.90665      0.372177  0.371138  0.369111\n",
       " 0.859085  0.890708  0.914312  0.902639     0.391706  0.396905  0.396624\n",
       " 0.846902  0.87028   0.887871  0.880135     0.424046  0.426765  0.425341\n",
       " 0.79698   0.810152  0.822629  0.825679  …  0.429409  0.413027  0.404901\n",
       " 0.753614  0.760581  0.769762  0.778332     0.542837  0.50027   0.484502\n",
       " 0.747743  0.756296  0.765348  0.768883     0.70311   0.641658  0.620854\n",
       " ⋮                                       ⋱            ⋮         \n",
       " 0.376567  0.352016  0.338355  0.353892  …  0.75787   0.756399  0.750637\n",
       " 0.478128  0.401876  0.317033  0.293914     0.72218   0.719178  0.715041\n",
       " 0.54863   0.486157  0.385576  0.294693     0.659743  0.653273  0.650837\n",
       " 0.578067  0.573198  0.507214  0.361606     0.607679  0.593395  0.587453\n",
       " 0.629616  0.651618  0.595552  0.426988     0.653685  0.571815  0.550553\n",
       " 0.669863  0.696341  0.644199  0.479407  …  0.717107  0.56737   0.530858\n",
       " 0.698375  0.718278  0.665394  0.513335     0.707393  0.529927  0.486137\n",
       " 0.663988  0.678624  0.638395  0.52999      0.692169  0.561683  0.530373\n",
       " 0.572934  0.593504  0.578078  0.516191     0.660916  0.645411  0.641054\n",
       " 0.570525  0.576475  0.56869   0.554986     0.760809  0.837187  0.855155\n",
       " 0.649045  0.630333  0.610365  0.618537  …  0.900802  0.961101  0.968954\n",
       " 0.672923  0.645768  0.622554  0.64042      0.934491  0.97275   0.97337\n",
       "\n",
       "[:, :, 3, 30] =\n",
       " 0.558198  0.5842    0.627068  0.656278  …  0.332501  0.341433  0.343743\n",
       " 0.662895  0.703942  0.75025   0.763069     0.295859  0.295471  0.296091\n",
       " 0.776334  0.827195  0.87243   0.870025     0.295345  0.294839  0.294704\n",
       " 0.812796  0.855299  0.892631  0.890026     0.308478  0.30774   0.306935\n",
       " 0.841535  0.880128  0.912597  0.906858     0.346979  0.348302  0.347629\n",
       " 0.853465  0.896743  0.931026  0.919397  …  0.362137  0.36188   0.360464\n",
       " 0.857796  0.90043   0.933192  0.919315     0.370579  0.369231  0.367243\n",
       " 0.851926  0.88957   0.918597  0.90665      0.372177  0.371138  0.369111\n",
       " 0.859085  0.890708  0.914312  0.902639     0.391706  0.396905  0.396624\n",
       " 0.846902  0.87028   0.887871  0.880135     0.424046  0.426765  0.425341\n",
       " 0.79698   0.810152  0.822629  0.825679  …  0.429409  0.413027  0.404901\n",
       " 0.753614  0.760581  0.769762  0.778332     0.542837  0.50027   0.484502\n",
       " 0.747743  0.756296  0.765348  0.768883     0.70311   0.641658  0.620854\n",
       " ⋮                                       ⋱            ⋮         \n",
       " 0.376567  0.352016  0.338355  0.353892  …  0.75787   0.756399  0.750637\n",
       " 0.478128  0.401876  0.317033  0.293914     0.72218   0.719178  0.715041\n",
       " 0.54863   0.486157  0.385576  0.294693     0.659743  0.653273  0.650837\n",
       " 0.578067  0.573198  0.507214  0.361606     0.607679  0.593395  0.587453\n",
       " 0.629616  0.651618  0.595552  0.426988     0.653685  0.571815  0.550553\n",
       " 0.669863  0.696341  0.644199  0.479407  …  0.717107  0.56737   0.530858\n",
       " 0.698375  0.718278  0.665394  0.513335     0.707393  0.529927  0.486137\n",
       " 0.663988  0.678624  0.638395  0.52999      0.692169  0.561683  0.530373\n",
       " 0.572934  0.593504  0.578078  0.516191     0.660916  0.645411  0.641054\n",
       " 0.570525  0.576475  0.56869   0.554986     0.760809  0.837187  0.855155\n",
       " 0.649045  0.630333  0.610365  0.618537  …  0.900802  0.961101  0.968954\n",
       " 0.672923  0.645768  0.622554  0.64042      0.934491  0.97275   0.97337\n",
       "\n",
       "[:, :, 1, 31] =\n",
       " 1.0  1.0  1.0  1.0  1.0  1.0  1.0  1.0  …  1.0  1.0  1.0  1.0  1.0  1.0  1.0\n",
       " 1.0  1.0  1.0  1.0  1.0  1.0  1.0  1.0     1.0  1.0  1.0  1.0  1.0  1.0  1.0\n",
       " 1.0  1.0  1.0  1.0  1.0  1.0  1.0  1.0     1.0  1.0  1.0  1.0  1.0  1.0  1.0\n",
       " 1.0  1.0  1.0  1.0  1.0  1.0  1.0  1.0     1.0  1.0  1.0  1.0  1.0  1.0  1.0\n",
       " 1.0  1.0  1.0  1.0  1.0  1.0  1.0  1.0     1.0  1.0  1.0  1.0  1.0  1.0  1.0\n",
       " 1.0  1.0  1.0  1.0  1.0  1.0  1.0  1.0  …  1.0  1.0  1.0  1.0  1.0  1.0  1.0\n",
       " 1.0  1.0  1.0  1.0  1.0  1.0  1.0  1.0     1.0  1.0  1.0  1.0  1.0  1.0  1.0\n",
       " 1.0  1.0  1.0  1.0  1.0  1.0  1.0  1.0     1.0  1.0  1.0  1.0  1.0  1.0  1.0\n",
       " 1.0  1.0  1.0  1.0  1.0  1.0  1.0  1.0     1.0  1.0  1.0  1.0  1.0  1.0  1.0\n",
       " 1.0  1.0  1.0  1.0  1.0  1.0  1.0  1.0     1.0  1.0  1.0  1.0  1.0  1.0  1.0\n",
       " 1.0  1.0  1.0  1.0  1.0  1.0  1.0  1.0  …  1.0  1.0  1.0  1.0  1.0  1.0  1.0\n",
       " 1.0  1.0  1.0  1.0  1.0  1.0  1.0  1.0     1.0  1.0  1.0  1.0  1.0  1.0  1.0\n",
       " 1.0  1.0  1.0  1.0  1.0  1.0  1.0  1.0     1.0  1.0  1.0  1.0  1.0  1.0  1.0\n",
       " ⋮                        ⋮              ⋱  ⋮                        ⋮    \n",
       " 1.0  1.0  1.0  1.0  1.0  1.0  1.0  1.0  …  1.0  1.0  1.0  1.0  1.0  1.0  1.0\n",
       " 1.0  1.0  1.0  1.0  1.0  1.0  1.0  1.0     1.0  1.0  1.0  1.0  1.0  1.0  1.0\n",
       " 1.0  1.0  1.0  1.0  1.0  1.0  1.0  1.0     1.0  1.0  1.0  1.0  1.0  1.0  1.0\n",
       " 1.0  1.0  1.0  1.0  1.0  1.0  1.0  1.0     1.0  1.0  1.0  1.0  1.0  1.0  1.0\n",
       " 1.0  1.0  1.0  1.0  1.0  1.0  1.0  1.0     1.0  1.0  1.0  1.0  1.0  1.0  1.0\n",
       " 1.0  1.0  1.0  1.0  1.0  1.0  1.0  1.0  …  1.0  1.0  1.0  1.0  1.0  1.0  1.0\n",
       " 1.0  1.0  1.0  1.0  1.0  1.0  1.0  1.0     1.0  1.0  1.0  1.0  1.0  1.0  1.0\n",
       " 1.0  1.0  1.0  1.0  1.0  1.0  1.0  1.0     1.0  1.0  1.0  1.0  1.0  1.0  1.0\n",
       " 1.0  1.0  1.0  1.0  1.0  1.0  1.0  1.0     1.0  1.0  1.0  1.0  1.0  1.0  1.0\n",
       " 1.0  1.0  1.0  1.0  1.0  1.0  1.0  1.0     1.0  1.0  1.0  1.0  1.0  1.0  1.0\n",
       " 1.0  1.0  1.0  1.0  1.0  1.0  1.0  1.0  …  1.0  1.0  1.0  1.0  1.0  1.0  1.0\n",
       " 1.0  1.0  1.0  1.0  1.0  1.0  1.0  1.0     1.0  1.0  1.0  1.0  1.0  1.0  1.0\n",
       "\n",
       "[:, :, 2, 31] =\n",
       " 1.0  1.0  1.0  1.0  1.0  1.0  1.0  1.0  …  1.0  1.0  1.0  1.0  1.0  1.0  1.0\n",
       " 1.0  1.0  1.0  1.0  1.0  1.0  1.0  1.0     1.0  1.0  1.0  1.0  1.0  1.0  1.0\n",
       " 1.0  1.0  1.0  1.0  1.0  1.0  1.0  1.0     1.0  1.0  1.0  1.0  1.0  1.0  1.0\n",
       " 1.0  1.0  1.0  1.0  1.0  1.0  1.0  1.0     1.0  1.0  1.0  1.0  1.0  1.0  1.0\n",
       " 1.0  1.0  1.0  1.0  1.0  1.0  1.0  1.0     1.0  1.0  1.0  1.0  1.0  1.0  1.0\n",
       " 1.0  1.0  1.0  1.0  1.0  1.0  1.0  1.0  …  1.0  1.0  1.0  1.0  1.0  1.0  1.0\n",
       " 1.0  1.0  1.0  1.0  1.0  1.0  1.0  1.0     1.0  1.0  1.0  1.0  1.0  1.0  1.0\n",
       " 1.0  1.0  1.0  1.0  1.0  1.0  1.0  1.0     1.0  1.0  1.0  1.0  1.0  1.0  1.0\n",
       " 1.0  1.0  1.0  1.0  1.0  1.0  1.0  1.0     1.0  1.0  1.0  1.0  1.0  1.0  1.0\n",
       " 1.0  1.0  1.0  1.0  1.0  1.0  1.0  1.0     1.0  1.0  1.0  1.0  1.0  1.0  1.0\n",
       " 1.0  1.0  1.0  1.0  1.0  1.0  1.0  1.0  …  1.0  1.0  1.0  1.0  1.0  1.0  1.0\n",
       " 1.0  1.0  1.0  1.0  1.0  1.0  1.0  1.0     1.0  1.0  1.0  1.0  1.0  1.0  1.0\n",
       " 1.0  1.0  1.0  1.0  1.0  1.0  1.0  1.0     1.0  1.0  1.0  1.0  1.0  1.0  1.0\n",
       " ⋮                        ⋮              ⋱  ⋮                        ⋮    \n",
       " 1.0  1.0  1.0  1.0  1.0  1.0  1.0  1.0  …  1.0  1.0  1.0  1.0  1.0  1.0  1.0\n",
       " 1.0  1.0  1.0  1.0  1.0  1.0  1.0  1.0     1.0  1.0  1.0  1.0  1.0  1.0  1.0\n",
       " 1.0  1.0  1.0  1.0  1.0  1.0  1.0  1.0     1.0  1.0  1.0  1.0  1.0  1.0  1.0\n",
       " 1.0  1.0  1.0  1.0  1.0  1.0  1.0  1.0     1.0  1.0  1.0  1.0  1.0  1.0  1.0\n",
       " 1.0  1.0  1.0  1.0  1.0  1.0  1.0  1.0     1.0  1.0  1.0  1.0  1.0  1.0  1.0\n",
       " 1.0  1.0  1.0  1.0  1.0  1.0  1.0  1.0  …  1.0  1.0  1.0  1.0  1.0  1.0  1.0\n",
       " 1.0  1.0  1.0  1.0  1.0  1.0  1.0  1.0     1.0  1.0  1.0  1.0  1.0  1.0  1.0\n",
       " 1.0  1.0  1.0  1.0  1.0  1.0  1.0  1.0     1.0  1.0  1.0  1.0  1.0  1.0  1.0\n",
       " 1.0  1.0  1.0  1.0  1.0  1.0  1.0  1.0     1.0  1.0  1.0  1.0  1.0  1.0  1.0\n",
       " 1.0  1.0  1.0  1.0  1.0  1.0  1.0  1.0     1.0  1.0  1.0  1.0  1.0  1.0  1.0\n",
       " 1.0  1.0  1.0  1.0  1.0  1.0  1.0  1.0  …  1.0  1.0  1.0  1.0  1.0  1.0  1.0\n",
       " 1.0  1.0  1.0  1.0  1.0  1.0  1.0  1.0     1.0  1.0  1.0  1.0  1.0  1.0  1.0\n",
       "\n",
       "[:, :, 3, 31] =\n",
       " 1.0  1.0  1.0  1.0  1.0  1.0  1.0  1.0  …  1.0  1.0  1.0  1.0  1.0  1.0  1.0\n",
       " 1.0  1.0  1.0  1.0  1.0  1.0  1.0  1.0     1.0  1.0  1.0  1.0  1.0  1.0  1.0\n",
       " 1.0  1.0  1.0  1.0  1.0  1.0  1.0  1.0     1.0  1.0  1.0  1.0  1.0  1.0  1.0\n",
       " 1.0  1.0  1.0  1.0  1.0  1.0  1.0  1.0     1.0  1.0  1.0  1.0  1.0  1.0  1.0\n",
       " 1.0  1.0  1.0  1.0  1.0  1.0  1.0  1.0     1.0  1.0  1.0  1.0  1.0  1.0  1.0\n",
       " 1.0  1.0  1.0  1.0  1.0  1.0  1.0  1.0  …  1.0  1.0  1.0  1.0  1.0  1.0  1.0\n",
       " 1.0  1.0  1.0  1.0  1.0  1.0  1.0  1.0     1.0  1.0  1.0  1.0  1.0  1.0  1.0\n",
       " 1.0  1.0  1.0  1.0  1.0  1.0  1.0  1.0     1.0  1.0  1.0  1.0  1.0  1.0  1.0\n",
       " 1.0  1.0  1.0  1.0  1.0  1.0  1.0  1.0     1.0  1.0  1.0  1.0  1.0  1.0  1.0\n",
       " 1.0  1.0  1.0  1.0  1.0  1.0  1.0  1.0     1.0  1.0  1.0  1.0  1.0  1.0  1.0\n",
       " 1.0  1.0  1.0  1.0  1.0  1.0  1.0  1.0  …  1.0  1.0  1.0  1.0  1.0  1.0  1.0\n",
       " 1.0  1.0  1.0  1.0  1.0  1.0  1.0  1.0     1.0  1.0  1.0  1.0  1.0  1.0  1.0\n",
       " 1.0  1.0  1.0  1.0  1.0  1.0  1.0  1.0     1.0  1.0  1.0  1.0  1.0  1.0  1.0\n",
       " ⋮                        ⋮              ⋱  ⋮                        ⋮    \n",
       " 1.0  1.0  1.0  1.0  1.0  1.0  1.0  1.0  …  1.0  1.0  1.0  1.0  1.0  1.0  1.0\n",
       " 1.0  1.0  1.0  1.0  1.0  1.0  1.0  1.0     1.0  1.0  1.0  1.0  1.0  1.0  1.0\n",
       " 1.0  1.0  1.0  1.0  1.0  1.0  1.0  1.0     1.0  1.0  1.0  1.0  1.0  1.0  1.0\n",
       " 1.0  1.0  1.0  1.0  1.0  1.0  1.0  1.0     1.0  1.0  1.0  1.0  1.0  1.0  1.0\n",
       " 1.0  1.0  1.0  1.0  1.0  1.0  1.0  1.0     1.0  1.0  1.0  1.0  1.0  1.0  1.0\n",
       " 1.0  1.0  1.0  1.0  1.0  1.0  1.0  1.0  …  1.0  1.0  1.0  1.0  1.0  1.0  1.0\n",
       " 1.0  1.0  1.0  1.0  1.0  1.0  1.0  1.0     1.0  1.0  1.0  1.0  1.0  1.0  1.0\n",
       " 1.0  1.0  1.0  1.0  1.0  1.0  1.0  1.0     1.0  1.0  1.0  1.0  1.0  1.0  1.0\n",
       " 1.0  1.0  1.0  1.0  1.0  1.0  1.0  1.0     1.0  1.0  1.0  1.0  1.0  1.0  1.0\n",
       " 1.0  1.0  1.0  1.0  1.0  1.0  1.0  1.0     1.0  1.0  1.0  1.0  1.0  1.0  1.0\n",
       " 1.0  1.0  1.0  1.0  1.0  1.0  1.0  1.0  …  1.0  1.0  1.0  1.0  1.0  1.0  1.0\n",
       " 1.0  1.0  1.0  1.0  1.0  1.0  1.0  1.0     1.0  1.0  1.0  1.0  1.0  1.0  1.0\n",
       "\n",
       "[:, :, 1, 32] =\n",
       " 0.48884   0.504377  0.511412  0.507894  …  0.55357   0.508762  0.520865\n",
       " 0.49588   0.502447  0.505159  0.504039     0.526599  0.527117  0.530061\n",
       " 0.504479  0.504639  0.505772  0.507222     0.538482  0.553855  0.542016\n",
       " 0.51319   0.512424  0.515055  0.518375     0.577936  0.56817   0.545259\n",
       " 0.525976  0.522628  0.524549  0.531236     0.602251  0.583154  0.544214\n",
       " 0.543886  0.540157  0.540201  0.544164  …  0.69424   0.67305   0.592255\n",
       " 0.558846  0.555028  0.552929  0.552013     0.738211  0.766964  0.679849\n",
       " 0.566655  0.55933   0.555389  0.554961     0.768538  0.780637  0.71713\n",
       " 0.57032   0.564222  0.562848  0.563939     0.780747  0.79425   0.736098\n",
       " 0.573126  0.569183  0.572457  0.576256     0.773443  0.796535  0.750492\n",
       " 0.57912   0.573594  0.579434  0.586225  …  0.762759  0.785958  0.747891\n",
       " 0.596073  0.590613  0.58642   0.586648     0.773263  0.793414  0.744888\n",
       " 0.617929  0.618028  0.606526  0.599506     0.796382  0.817847  0.750447\n",
       " ⋮                                       ⋱            ⋮         \n",
       " 0.60477   0.568594  0.540916  0.544584  …  0.82592   0.87709   0.774647\n",
       " 0.647937  0.590148  0.539239  0.526943     0.827524  0.88264   0.778365\n",
       " 0.660252  0.584144  0.52561   0.515237     0.831577  0.890401  0.792727\n",
       " 0.628363  0.568652  0.523829  0.513478     0.817895  0.892477  0.800666\n",
       " 0.541323  0.537996  0.517441  0.504399     0.82142   0.89718   0.805325\n",
       " 0.464532  0.503237  0.497572  0.482882  …  0.837272  0.900545  0.808328\n",
       " 0.454314  0.479383  0.467744  0.455191     0.849728  0.899864  0.812888\n",
       " 0.447817  0.459395  0.445548  0.436845     0.854644  0.902326  0.815512\n",
       " 0.426682  0.439015  0.437806  0.434387     0.843679  0.907982  0.820996\n",
       " 0.379935  0.408947  0.432073  0.435769     0.829469  0.913304  0.829537\n",
       " 0.236755  0.267896  0.318279  0.35987   …  0.822937  0.909688  0.836622\n",
       " 0.147622  0.177124  0.241346  0.307531     0.821362  0.906023  0.839714\n",
       "\n",
       "[:, :, 2, 32] =\n",
       " 0.3112    0.315531  0.317611  0.317131  …  0.362816  0.34861   0.349981\n",
       " 0.321326  0.322592  0.323261  0.322842     0.346747  0.347386  0.343074\n",
       " 0.334772  0.334336  0.333679  0.334431     0.36605   0.364786  0.349077\n",
       " 0.345923  0.345891  0.34551   0.348302     0.435253  0.410107  0.376183\n",
       " 0.354899  0.354366  0.356855  0.362528     0.565524  0.512158  0.428755\n",
       " 0.373075  0.372666  0.37474   0.37814   …  0.734672  0.686063  0.562702\n",
       " 0.391761  0.391811  0.39156   0.390734     0.784662  0.818743  0.718334\n",
       " 0.400594  0.400663  0.400271  0.399489     0.8009    0.829146  0.751681\n",
       " 0.414652  0.414349  0.416117  0.41733      0.809427  0.838736  0.776968\n",
       " 0.432556  0.431868  0.435884  0.439104     0.804444  0.835805  0.788326\n",
       " 0.449402  0.448703  0.452783  0.456078  …  0.792574  0.820246  0.781813\n",
       " 0.468412  0.468497  0.468     0.466917     0.80596   0.826554  0.775064\n",
       " 0.490953  0.49162   0.486768  0.481758     0.830852  0.849863  0.781251\n",
       " ⋮                                       ⋱            ⋮         \n",
       " 0.559265  0.511172  0.48277   0.487134  …  0.86124   0.91844   0.81928\n",
       " 0.603886  0.533742  0.484831  0.479787     0.858082  0.924039  0.824423\n",
       " 0.618055  0.529863  0.470428  0.469792     0.857065  0.931513  0.838216\n",
       " 0.596943  0.517479  0.459169  0.457047     0.846704  0.932958  0.846155\n",
       " 0.524515  0.493778  0.450838  0.441403     0.853317  0.936599  0.850301\n",
       " 0.455536  0.462117  0.434607  0.423388  …  0.874259  0.941305  0.854714\n",
       " 0.442062  0.433405  0.406958  0.405776     0.897172  0.945003  0.86328\n",
       " 0.421328  0.406235  0.38393   0.386145     0.90319   0.948569  0.866918\n",
       " 0.380349  0.378254  0.374485  0.378822     0.892497  0.953713  0.87196\n",
       " 0.321214  0.344811  0.369484  0.38053      0.878271  0.95903   0.880501\n",
       " 0.187593  0.216924  0.268537  0.316057  …  0.866461  0.956036  0.887586\n",
       " 0.108002  0.136107  0.200363  0.271648     0.861236  0.952802  0.890678\n",
       "\n",
       "[:, :, 3, 32] =\n",
       " 1.0       1.0       1.0       1.0       …  1.0       1.0       1.0\n",
       " 1.0       1.0       1.0       1.0          1.0       1.0       1.0\n",
       " 1.0       1.0       1.0       1.0          1.0       1.0       1.0\n",
       " 1.0       1.0       1.0       1.0          0.979815  1.0       1.0\n",
       " 1.0       1.0       1.0       1.0          0.817811  0.885079  0.953729\n",
       " 1.0       1.0       1.0       1.0       …  0.752283  0.797088  0.803834\n",
       " 1.0       1.0       1.0       1.0          0.749898  0.79308   0.724292\n",
       " 1.0       1.0       1.0       1.0          0.784334  0.799731  0.739242\n",
       " 1.0       1.0       1.0       1.0          0.798284  0.810035  0.751314\n",
       " 1.0       1.0       1.0       1.0          0.787086  0.80866   0.772397\n",
       " 1.0       1.0       1.0       1.0       …  0.768159  0.789403  0.786477\n",
       " 1.0       1.0       1.0       1.0          0.779559  0.796328  0.783124\n",
       " 1.0       1.0       1.0       1.0          0.810307  0.826881  0.780392\n",
       " ⋮                                       ⋱            ⋮         \n",
       " 0.920839  0.81136   0.774345  0.802461  …  0.836447  0.897896  0.791893\n",
       " 0.917891  0.780267  0.730132  0.767665     0.825678  0.905152  0.797104\n",
       " 0.900171  0.745006  0.679823  0.724036     0.820854  0.914016  0.811024\n",
       " 0.845429  0.723171  0.6595    0.69478      0.800841  0.916884  0.818963\n",
       " 0.708228  0.691169  0.659724  0.672233     0.805231  0.921485  0.822196\n",
       " 0.594933  0.663141  0.665009  0.659646  …  0.829461  0.923941  0.829115\n",
       " 0.590057  0.649373  0.654779  0.650763     0.850091  0.922391  0.844806\n",
       " 0.58563   0.644753  0.659961  0.656862     0.865029  0.922955  0.849679\n",
       " 0.554032  0.624103  0.659022  0.660474     0.865343  0.929212  0.855744\n",
       " 0.485995  0.572264  0.630199  0.640875     0.859313  0.938016  0.868247\n",
       " 0.324808  0.382449  0.453355  0.504685  …  0.847115  0.935727  0.875965\n",
       " 0.227581  0.262122  0.337004  0.414469     0.839716  0.932312  0.878696"
      ]
     },
     "execution_count": 147,
     "metadata": {},
     "output_type": "execute_result"
    }
   ],
   "source": [
    "img = convert(_atype, img)"
   ]
  },
  {
   "cell_type": "code",
   "execution_count": 149,
   "metadata": {},
   "outputs": [
    {
     "data": {
      "text/plain": [
       "1×1×2048×32 KnetArray{Float32,4}:\n",
       "[:, :, 1, 1] =\n",
       " 5.7376394\n",
       "\n",
       "[:, :, 2, 1] =\n",
       " 3.1216986\n",
       "\n",
       "[:, :, 3, 1] =\n",
       " 3.0923169\n",
       "\n",
       "...\n",
       "\n",
       "[:, :, 2046, 1] =\n",
       " 1.43236\n",
       "\n",
       "[:, :, 2047, 1] =\n",
       " 3.4901326\n",
       "\n",
       "[:, :, 2048, 1] =\n",
       " 3.5952816\n",
       "\n",
       "[:, :, 1, 2] =\n",
       " 11.28745\n",
       "\n",
       "[:, :, 2, 2] =\n",
       " 5.98681\n",
       "\n",
       "[:, :, 3, 2] =\n",
       " 6.5865364\n",
       "\n",
       "...\n",
       "\n",
       "[:, :, 2046, 2] =\n",
       " 2.8557944\n",
       "\n",
       "[:, :, 2047, 2] =\n",
       " 9.070517\n",
       "\n",
       "[:, :, 2048, 2] =\n",
       " 7.113509\n",
       "\n",
       "[:, :, 1, 3] =\n",
       " 7.200091\n",
       "\n",
       "[:, :, 2, 3] =\n",
       " 3.8048763\n",
       "\n",
       "[:, :, 3, 3] =\n",
       " 4.4612355\n",
       "\n",
       "...\n",
       "\n",
       "[:, :, 2046, 3] =\n",
       " 2.0310864\n",
       "\n",
       "[:, :, 2047, 3] =\n",
       " 5.5378556\n",
       "\n",
       "[:, :, 2048, 3] =\n",
       " 4.7862144\n",
       "\n",
       "...\n",
       "\n",
       "[:, :, 1, 30] =\n",
       " 6.8085375\n",
       "\n",
       "[:, :, 2, 30] =\n",
       " 4.1058106\n",
       "\n",
       "[:, :, 3, 30] =\n",
       " 4.4884596\n",
       "\n",
       "...\n",
       "\n",
       "[:, :, 2046, 30] =\n",
       " 1.4292872\n",
       "\n",
       "[:, :, 2047, 30] =\n",
       " 5.404267\n",
       "\n",
       "[:, :, 2048, 30] =\n",
       " 4.440671\n",
       "\n",
       "[:, :, 1, 31] =\n",
       " 11.3108425\n",
       "\n",
       "[:, :, 2, 31] =\n",
       " 6.010627\n",
       "\n",
       "[:, :, 3, 31] =\n",
       " 6.6144543\n",
       "\n",
       "...\n",
       "\n",
       "[:, :, 2046, 31] =\n",
       " 2.8678782\n",
       "\n",
       "[:, :, 2047, 31] =\n",
       " 9.055251\n",
       "\n",
       "[:, :, 2048, 31] =\n",
       " 7.143904\n",
       "\n",
       "[:, :, 1, 32] =\n",
       " 7.750505\n",
       "\n",
       "[:, :, 2, 32] =\n",
       " 4.176904\n",
       "\n",
       "[:, :, 3, 32] =\n",
       " 5.020014\n",
       "\n",
       "...\n",
       "\n",
       "[:, :, 2046, 32] =\n",
       " 1.7020514\n",
       "\n",
       "[:, :, 2047, 32] =\n",
       " 6.4000316\n",
       "\n",
       "[:, :, 2048, 32] =\n",
       " 5.3412724"
      ]
     },
     "execution_count": 149,
     "metadata": {},
     "output_type": "execute_result"
    }
   ],
   "source": [
    "h = ResNetLib.resnet50(w ,m, img, dataset=:cifar10, stage=5)"
   ]
  },
  {
   "cell_type": "code",
   "execution_count": 163,
   "metadata": {},
   "outputs": [
    {
     "data": {
      "text/plain": [
       "1×2048 KnetArray{Float32,2}:\n",
       " 5.73764  3.1217  3.09232  7.7879  …  6.08126  1.43236  3.49013  3.59528"
      ]
     },
     "execution_count": 163,
     "metadata": {},
     "output_type": "execute_result"
    }
   ],
   "source": [
    "h_1 = mat(h[:,:,:,1])"
   ]
  },
  {
   "cell_type": "code",
   "execution_count": 179,
   "metadata": {},
   "outputs": [
    {
     "data": {
      "text/plain": [
       "1×2048 KnetArray{Float32,2}:\n",
       " 11.2874  5.98681  6.58654  15.3508  …  11.4138  2.85579  9.07052  7.11351"
      ]
     },
     "execution_count": 179,
     "metadata": {},
     "output_type": "execute_result"
    }
   ],
   "source": [
    "h_2 = mat(h[:,:,:,2])"
   ]
  },
  {
   "cell_type": "code",
   "execution_count": 186,
   "metadata": {},
   "outputs": [
    {
     "data": {
      "text/plain": [
       "(1, 2048)"
      ]
     },
     "execution_count": 186,
     "metadata": {},
     "output_type": "execute_result"
    }
   ],
   "source": [
    "size(mat(h_1))"
   ]
  },
  {
   "cell_type": "code",
   "execution_count": 188,
   "metadata": {},
   "outputs": [
    {
     "data": {
      "text/plain": [
       "2048×32 KnetArray{Float32,2}:\n",
       "  5.73764   11.2874     7.20009   …   6.80854    11.3108     7.7505\n",
       "  3.1217     5.98681    3.80488       4.10581     6.01063    4.1769\n",
       "  3.09232    6.58654    4.46124       4.48846     6.61445    5.02001\n",
       "  7.7879    15.3508    10.6036        9.96811    15.3949    10.1341\n",
       "  2.43096    4.24389    2.8083        2.57371     4.26712    3.26608\n",
       "  2.24695    4.64666    3.29986   …   3.24168     4.65583    3.45314\n",
       "  1.21969    2.33566    1.61404       1.78951     2.35482    1.90485\n",
       "  4.04906    8.10567    5.39003       5.07615     8.13039    5.49289\n",
       "  2.61751    5.83422    3.62429       3.13588     5.84773    3.81627\n",
       "  2.55506    5.3489     3.53155       3.30245     5.3378     3.78135\n",
       "  2.44093    6.22387    4.19558   …   4.14142     6.20104    4.88931\n",
       " 10.8809    22.7302    15.1447       14.5726     22.7502    16.0856\n",
       "  4.30079    9.28914    6.20882       6.18028     9.26344    6.68874\n",
       "  ⋮                               ⋱               ⋮         \n",
       "  2.13881    3.999      2.74416       2.54388     3.98331    2.83763\n",
       "  1.89586    4.81423    3.24214       2.97303     4.8323     3.71458\n",
       "  9.92815   19.8395    12.4115       11.7011     19.8438    13.6981\n",
       "  0.154172   0.348615   0.238675      0.0949846   0.345689   0.169266\n",
       "  2.80503    5.45948    3.77816   …   3.64135     5.48576    4.04721\n",
       "  0.0        0.0        0.0           0.0         0.0        0.0\n",
       "  1.64425    3.51709    2.2294        2.43848     3.51555    2.97559\n",
       "  1.34888    3.2107     2.10937       2.01897     3.24466    2.45008\n",
       "  6.08126   11.4138     7.414         7.70575    11.4293     8.41805\n",
       "  1.43236    2.85579    2.03109   …   1.42929     2.86788    1.70205\n",
       "  3.49013    9.07052    5.53786       5.40427     9.05525    6.40003\n",
       "  3.59528    7.11351    4.78621       4.44067     7.1439     5.34127"
      ]
     },
     "execution_count": 188,
     "metadata": {},
     "output_type": "execute_result"
    }
   ],
   "source": [
    "mat_h = mat(h)"
   ]
  },
  {
   "cell_type": "markdown",
   "metadata": {},
   "source": [
    "###  Projection"
   ]
  },
  {
   "cell_type": "code",
   "execution_count": 189,
   "metadata": {},
   "outputs": [
    {
     "data": {
      "text/plain": [
       "Dense"
      ]
     },
     "execution_count": 189,
     "metadata": {},
     "output_type": "execute_result"
    }
   ],
   "source": [
    "# dense layer:\n",
    "struct Dense; w; b; f; end\n",
    "(d::Dense)(x) = d.f.(d.w * mat(x) .+ d.b)\n",
    "Dense(i::Int,o::Int,f=Knet.relu) = Dense(param(o,i), param0(o), f)"
   ]
  },
  {
   "cell_type": "code",
   "execution_count": 176,
   "metadata": {},
   "outputs": [
    {
     "data": {
      "text/plain": [
       "Dense(P(KnetArray{Float32,2}(128,2048)), P(KnetArray{Float32,1}(128)), Knet.Ops20.relu)"
      ]
     },
     "execution_count": 176,
     "metadata": {},
     "output_type": "execute_result"
    }
   ],
   "source": [
    "projection = Dense(2048,128)"
   ]
  },
  {
   "cell_type": "code",
   "execution_count": 192,
   "metadata": {},
   "outputs": [
    {
     "data": {
      "text/plain": [
       "128×32 KnetArray{Float32,2}:\n",
       "  0.0        0.0        0.0       0.0       …   0.0       0.0        0.0\n",
       "  0.968208   4.34483    1.85906   2.18856       1.61333   4.34514    3.24974\n",
       "  0.0        0.0        0.0       0.0           0.0       0.0        0.0\n",
       "  0.0        0.0        0.0       0.0           0.0       0.0        0.0\n",
       " 10.607     22.9155    15.5366   10.3308       14.2167   22.9949    16.2636\n",
       "  0.0        0.0        0.0       0.0       …   0.0       0.0        0.0\n",
       "  0.0        0.0        0.0       0.0           0.0       0.0        0.0\n",
       "  7.6564    14.6435    10.3283    7.72381       9.61549  14.6816    10.8189\n",
       "  7.74042   17.0059    10.9711    7.69835      10.4689   17.0303    11.2738\n",
       "  0.810201   0.696032   0.0       1.27904       0.0       0.672003   0.556967\n",
       "  0.0        0.0        0.0       0.0       …   0.0       0.0        0.0\n",
       "  0.0        0.0        0.0       0.0           0.0       0.0        0.0\n",
       "  6.06222   12.7158     8.53055   7.07589       9.5487   12.7246     9.7746\n",
       "  ⋮                                         ⋱             ⋮         \n",
       "  0.0        0.0        0.0       0.0           0.0       0.0        0.0\n",
       "  0.0        0.0        0.0       0.0           0.0       0.0        0.0\n",
       "  3.23713    4.61643    2.96942   2.76678       2.70667   4.66604    3.10947\n",
       "  0.0        0.0        0.0       0.0           0.0       0.0        0.0\n",
       "  0.0        0.0        0.0       0.0       …   0.0       0.0        0.0\n",
       "  0.0        0.0        0.0       0.0           0.0       0.0        0.0\n",
       "  0.0        0.0        0.0       0.0           0.0       0.0        0.0\n",
       "  1.83568    3.43424    3.01234   0.881323      2.74667   3.39736    1.85579\n",
       "  0.0        0.0        0.0       0.0           0.0       0.0        0.0\n",
       "  0.0        0.0        0.0       0.0       …   0.0       0.0        0.0\n",
       "  3.24909    6.65901    4.21326   2.9033        3.84362   6.6575     4.63189\n",
       "  0.0        0.0        0.0       0.0           0.0       0.0        0.0"
      ]
     },
     "execution_count": 192,
     "metadata": {},
     "output_type": "execute_result"
    }
   ],
   "source": [
    "z = projection(mat_h)"
   ]
  },
  {
   "cell_type": "markdown",
   "metadata": {},
   "source": [
    "### Contrastive Loss"
   ]
  },
  {
   "cell_type": "code",
   "execution_count": null,
   "metadata": {},
   "outputs": [],
   "source": []
  },
  {
   "cell_type": "code",
   "execution_count": null,
   "metadata": {},
   "outputs": [],
   "source": []
  },
  {
   "cell_type": "code",
   "execution_count": null,
   "metadata": {},
   "outputs": [],
   "source": []
  },
  {
   "cell_type": "code",
   "execution_count": null,
   "metadata": {},
   "outputs": [],
   "source": []
  },
  {
   "cell_type": "code",
   "execution_count": null,
   "metadata": {},
   "outputs": [],
   "source": []
  },
  {
   "cell_type": "code",
   "execution_count": null,
   "metadata": {},
   "outputs": [],
   "source": []
  },
  {
   "cell_type": "markdown",
   "metadata": {},
   "source": [
    "### Minimize loss"
   ]
  },
  {
   "cell_type": "code",
   "execution_count": null,
   "metadata": {},
   "outputs": [],
   "source": []
  },
  {
   "cell_type": "code",
   "execution_count": null,
   "metadata": {},
   "outputs": [],
   "source": []
  },
  {
   "cell_type": "code",
   "execution_count": null,
   "metadata": {},
   "outputs": [],
   "source": []
  },
  {
   "cell_type": "code",
   "execution_count": 69,
   "metadata": {},
   "outputs": [
    {
     "data": {
      "text/plain": [
       "8×8×64×2 KnetArray{Float32,4}:\n",
       "[:, :, 1, 1] =\n",
       " 1885.49    1653.51   2009.73   2166.37   2181.56   2355.37  2328.89  2244.36\n",
       "  821.132   1645.42   1634.61   1714.45   1670.97   1890.16  2132.51  2238.56\n",
       "  876.596    894.287   809.253   886.549  1246.13   1487.28  2148.69  2915.76\n",
       " 1198.17     615.434   689.168   502.616   864.49   1071.13  1735.97  2751.02\n",
       "  613.747    559.453   601.728   260.997   471.728   816.92  1506.8   2650.9\n",
       "  456.628    136.609   129.232     0.0     219.312  1563.44  1517.07  2075.16\n",
       "  710.487      0.0     249.579   620.034  1050.67   3450.84  2814.07  2269.59\n",
       "   23.6124     0.0    1246.9    2051.81   3695.72   6915.49  6928.62  3530.52\n",
       "\n",
       "[:, :, 2, 1] =\n",
       "  5805.34  10148.8   12709.3   11178.2   …   8664.26   7947.46  6154.41\n",
       "  8599.06  14624.1   14331.5   13877.5      13517.3   11507.0   9780.07\n",
       "  8803.7   14313.8   13302.4   12125.1      11718.6   10537.8   8732.77\n",
       "  9316.16  15974.6   13777.4   12861.7      12618.8   10510.4   8117.54\n",
       " 10221.5   16696.2   13532.5   13435.3      11410.8    9271.76  8604.35\n",
       "  7918.43  13393.5   10990.3   11365.8   …   8905.95   8325.12  7494.09\n",
       "  5490.34   9505.37   7459.15   7092.01      5585.51   4606.73  5757.99\n",
       "  4247.62   5574.38   6203.61   5956.85      5349.45   3637.35  5194.89\n",
       "\n",
       "[:, :, 3, 1] =\n",
       " 6317.85  7251.02  10434.5   11701.9   11340.7   10417.9   7871.42  3734.27\n",
       " 7373.67  7918.35   8358.16   9923.0    8289.53   6241.69  3946.77  1198.99\n",
       " 8803.0   8521.86   7856.67   9127.04   7631.96   5720.94  3967.11   973.814\n",
       " 9618.0   8914.92   8439.46   8427.73   7437.73   5986.31  3552.34   991.57\n",
       " 9286.3   8782.39   8642.24   8483.95   6956.58   5298.72  3007.47   944.275\n",
       " 8512.36  7841.19   7953.28   7366.99   6402.3    5300.4   2785.12   939.44\n",
       " 6231.69  5483.04   5700.7    4828.62   3987.43   3345.54  1285.89   721.111\n",
       " 2852.73  1720.1    1525.43   1622.53   1697.48   1634.85  1146.6    613.374\n",
       "\n",
       "...\n",
       "\n",
       "[:, :, 62, 1] =\n",
       " 5003.69   3753.57   3849.76   2530.52  …   5382.43   5996.37   4165.18\n",
       " 2705.18   7427.54   7262.16   5601.73      5087.02   6893.3    6059.59\n",
       " 1611.96   7023.02   7868.63   7884.91      8697.59   9871.04   5606.21\n",
       " 2780.69   7511.7    8173.56   9913.94     10010.0    9544.21   5435.26\n",
       " 2329.97   6432.76   6872.45   9577.27      9325.81   8177.89   4809.29\n",
       " 2054.46   4052.48   2949.36   5173.23  …   6717.96   6107.06   4112.15\n",
       "  517.835   727.038  2261.18   2416.99      3199.05   2505.26   3063.25\n",
       "  246.091   343.962   411.636   402.8        595.884   659.992  1182.29\n",
       "\n",
       "[:, :, 63, 1] =\n",
       " 2938.48  5945.25  7248.02  7997.78  8566.17  7733.64  6005.37   7147.01\n",
       " 4302.55  6777.55  6821.3   7327.03  8350.28  9702.87  5584.64   5381.62\n",
       " 4925.31  7711.21  7974.56  8074.5   7386.38  7002.86  4600.63   3627.76\n",
       " 5475.22  7486.16  8372.47  8489.55  7551.37  6140.38  4514.96   2564.79\n",
       " 5383.77  6817.99  7263.9   8069.01  7251.88  6018.46  4438.14   2091.2\n",
       " 4644.73  5961.77  6225.98  6999.81  7084.97  7566.43  4988.88   2239.89\n",
       " 4035.07  4427.26  4496.83  4446.08  4268.73  5174.49  2662.67   1036.05\n",
       " 2584.36  1871.2   1950.92  2014.57  1949.59  2132.62   886.218  1040.82\n",
       "\n",
       "[:, :, 64, 1] =\n",
       " 1900.62  2914.47  5052.92   5534.86   5947.23   5334.14   6487.6    4708.17\n",
       " 1576.27  4818.22  6168.78   5853.7    6236.6    5194.55   6628.78   4354.12\n",
       " 1713.22  3973.81  5529.52   5196.83   6195.99   4867.64   5471.77   5480.62\n",
       " 1948.08  3968.3   5329.03   4653.5    5341.48   4498.85   3667.31   6418.94\n",
       " 2119.52  4310.05  5308.62   4873.05   4575.87   3817.79   3203.14   6943.9\n",
       " 1579.66  4438.27  5364.64   5900.46   5283.97   3845.22   3368.83   6762.26\n",
       " 1735.18  3936.35  4107.71   3550.67   3792.37   2387.19   3971.94   5717.71\n",
       " 1904.36  1108.04   388.801   352.015   331.094   329.282   296.679  3225.63\n",
       "\n",
       "[:, :, 1, 2] =\n",
       " 1622.43    1364.81    1680.73   1848.83   …  2023.98   1966.44  1932.83\n",
       "  630.822   1301.55    1290.49   1328.79      1604.12   1754.3   1889.96\n",
       "  604.135    638.029    476.67    529.833     1102.23   1677.95  2361.24\n",
       "  990.436    427.399    400.686   288.052      763.644  1313.15  2152.15\n",
       "  390.28     272.975    422.018   147.338      958.651  1077.49  1987.87\n",
       "  256.593     83.7143   115.799     0.0    …  1569.95   1391.58  1365.89\n",
       "  503.541      0.0      102.441   488.269     3024.67   2365.61  1534.62\n",
       "   10.5206     0.0      930.15   1905.57      5405.18   5074.25  2626.79\n",
       "\n",
       "[:, :, 2, 2] =\n",
       " 4802.85   8101.06  10436.6    9475.72   7787.88   7280.18  6754.59  5418.89\n",
       " 6750.45  11718.8   11741.0   11309.6   11167.2   11033.8   9638.18  8116.53\n",
       " 6935.43  11495.1   10765.1    9907.05   9219.52   9322.86  8348.68  6693.07\n",
       " 7172.87  12614.4   10464.9    9973.18   9217.55   9798.96  7994.67  6484.83\n",
       " 7791.22  12752.2   10543.0   10653.4    9396.81   8628.68  6728.04  6327.62\n",
       " 5968.12  10029.9    8224.44   8744.14   7158.71   6464.16  5883.43  5641.93\n",
       " 4127.7    7159.75   5713.81   5224.6    3987.28   3748.55  3020.82  4018.3\n",
       " 3168.55   4053.62   4514.69   4265.33   4058.14   3836.3   2649.16  3622.87\n",
       "\n",
       "[:, :, 3, 2] =\n",
       " 5018.19  5791.96  8452.96  9714.82  9508.02  8754.73  6667.84   3044.54\n",
       " 5922.83  6376.47  6795.23  8123.92  7139.29  5480.13  3242.38   1049.39\n",
       " 6975.06  6629.22  6246.98  7047.13  5959.06  4523.03  3084.36    723.47\n",
       " 7396.98  6847.21  6655.75  6612.44  5651.93  4484.49  2712.78    809.145\n",
       " 7041.12  6608.21  6617.15  6563.23  5202.92  4166.66  2366.18    824.536\n",
       " 6269.38  5778.73  5915.33  5511.45  4656.62  4053.44  2137.15    636.095\n",
       " 4559.55  4095.24  4253.78  3625.76  2801.48  2232.17   835.185   467.807\n",
       " 2112.96  1294.8   1130.06  1189.16  1206.15  1102.81   753.689   328.605\n",
       "\n",
       "...\n",
       "\n",
       "[:, :, 62, 2] =\n",
       " 4022.23   3080.08   3308.66   2400.08   …  4386.98   4898.39   3381.07\n",
       " 2018.48   6020.43   5942.17   4917.07      4454.69   5528.05   4883.0\n",
       " 1238.35   5348.45   6228.59   6349.18      7180.33   8123.99   4475.95\n",
       " 2172.72   5826.11   6245.41   7954.09      7953.71   7156.43   4280.43\n",
       " 1609.34   4603.42   4993.99   7226.14      7347.74   5886.9    3425.01\n",
       " 1515.99   2845.39   1796.5    3577.32   …  4891.95   4088.56   3018.72\n",
       "  365.172   417.052  1463.77   1805.41      2560.28   1831.36   2154.56\n",
       "  178.49    256.672   324.129   323.166      421.964   597.897  1010.31\n",
       "\n",
       "[:, :, 63, 2] =\n",
       " 2375.35  4727.95  5867.63  6606.63  7163.32  6390.29  5041.71   5898.45\n",
       " 3455.96  5515.3   5580.2   6047.46  6356.28  7637.67  4444.34   4256.8\n",
       " 3882.72  6173.35  6454.74  6567.62  6020.03  5564.11  3704.37   2835.61\n",
       " 4296.62  5808.32  6598.5   6686.11  5959.94  4818.87  3409.95   1641.2\n",
       " 4087.28  5041.57  5559.8   6019.67  5396.63  4468.76  3434.46   1564.26\n",
       " 3450.85  4443.02  4701.67  5216.39  5286.32  5839.3   3545.7    1719.75\n",
       " 2943.13  3295.36  3374.28  3336.67  3109.73  3497.01  1795.8     748.079\n",
       " 1953.44  1438.07  1467.15  1457.98  1244.13  1550.79   559.353   677.75\n",
       "\n",
       "[:, :, 64, 2] =\n",
       " 1563.73  2416.92   4165.73   4622.62   5054.04  4541.96  5627.29   4136.17\n",
       " 1370.66  4027.42   5169.75   4966.92   5316.03  4600.21  5613.87   3759.58\n",
       " 1440.24  3155.5    4250.08   3946.01   5043.12  3903.1   4148.94   4446.35\n",
       " 1502.76  3000.09   4134.18   3620.85   4163.31  3488.52  2676.53   5190.58\n",
       " 1633.46  3258.54   4126.91   3890.74   3322.33  2899.04  2378.44   5642.14\n",
       " 1238.01  3425.93   4183.86   4369.29   4058.52  2956.55  2936.14   5069.14\n",
       " 1300.3   2996.51   2988.54   2403.86   2483.89  1752.38  2978.21   4160.26\n",
       " 1444.56   808.752   282.386   254.123   225.35   235.07   167.037  2272.79"
      ]
     },
     "execution_count": 69,
     "metadata": {},
     "output_type": "execute_result"
    }
   ],
   "source": [
    "y = ResNetLib.resnetcifar(w, m, img)"
   ]
  },
  {
   "cell_type": "code",
   "execution_count": 56,
   "metadata": {},
   "outputs": [
    {
     "data": {
      "text/plain": [
       "1×2 Array{Int64,2}:\n",
       " 1  1"
      ]
     },
     "execution_count": 56,
     "metadata": {},
     "output_type": "execute_result"
    }
   ],
   "source": [
    "ypred = map( y -> y[1], argmax(y, dims=1))"
   ]
  },
  {
   "cell_type": "code",
   "execution_count": 57,
   "metadata": {},
   "outputs": [
    {
     "data": {
      "text/plain": [
       "1-element Array{Int64,1}:\n",
       " 9"
      ]
     },
     "execution_count": 57,
     "metadata": {},
     "output_type": "execute_result"
    }
   ],
   "source": [
    "train_y[17:17]"
   ]
  },
  {
   "cell_type": "code",
   "execution_count": null,
   "metadata": {},
   "outputs": [],
   "source": []
  },
  {
   "cell_type": "code",
   "execution_count": null,
   "metadata": {},
   "outputs": [],
   "source": []
  },
  {
   "cell_type": "code",
   "execution_count": 31,
   "metadata": {},
   "outputs": [
    {
     "ename": "LoadError",
     "evalue": "UndefVarError: Resnetlib not defined",
     "output_type": "error",
     "traceback": [
      "UndefVarError: Resnetlib not defined",
      "",
      "Stacktrace:",
      " [1] top-level scope at In[31]:1",
      " [2] include_string(::Function, ::Module, ::String, ::String) at ./loading.jl:1091",
      " [3] execute_code(::String, ::String) at /home/admin2/.julia/packages/IJulia/rWZ9e/src/execute_request.jl:27",
      " [4] execute_request(::ZMQ.Socket, ::IJulia.Msg) at /home/admin2/.julia/packages/IJulia/rWZ9e/src/execute_request.jl:86",
      " [5] #invokelatest#1 at ./essentials.jl:710 [inlined]",
      " [6] invokelatest at ./essentials.jl:709 [inlined]",
      " [7] eventloop(::ZMQ.Socket) at /home/admin2/.julia/packages/IJulia/rWZ9e/src/eventloop.jl:8",
      " [8] (::IJulia.var\"#15#18\")() at ./task.jl:356"
     ]
    }
   ],
   "source": [
    "Resnetlib.main(new1[:,:,:,18])"
   ]
  },
  {
   "cell_type": "code",
   "execution_count": 34,
   "metadata": {},
   "outputs": [
    {
     "ename": "LoadError",
     "evalue": "UndefVarError: resnet101init not defined",
     "output_type": "error",
     "traceback": [
      "UndefVarError: resnet101init not defined",
      "",
      "Stacktrace:",
      " [1] top-level scope at In[34]:1",
      " [2] include_string(::Function, ::Module, ::String, ::String) at ./loading.jl:1091",
      " [3] execute_code(::String, ::String) at /home/admin2/.julia/packages/IJulia/rWZ9e/src/execute_request.jl:27",
      " [4] execute_request(::ZMQ.Socket, ::IJulia.Msg) at /home/admin2/.julia/packages/IJulia/rWZ9e/src/execute_request.jl:86",
      " [5] #invokelatest#1 at ./essentials.jl:710 [inlined]",
      " [6] invokelatest at ./essentials.jl:709 [inlined]",
      " [7] eventloop(::ZMQ.Socket) at /home/admin2/.julia/packages/IJulia/rWZ9e/src/eventloop.jl:8",
      " [8] (::IJulia.var\"#15#18\")() at ./task.jl:356"
     ]
    }
   ],
   "source": [
    "w, m, meta = resnet101init()"
   ]
  },
  {
   "cell_type": "code",
   "execution_count": null,
   "metadata": {},
   "outputs": [],
   "source": []
  },
  {
   "cell_type": "code",
   "execution_count": null,
   "metadata": {},
   "outputs": [],
   "source": []
  },
  {
   "cell_type": "code",
   "execution_count": null,
   "metadata": {},
   "outputs": [],
   "source": []
  },
  {
   "cell_type": "code",
   "execution_count": null,
   "metadata": {},
   "outputs": [],
   "source": []
  },
  {
   "cell_type": "code",
   "execution_count": null,
   "metadata": {},
   "outputs": [],
   "source": []
  },
  {
   "cell_type": "code",
   "execution_count": 91,
   "metadata": {},
   "outputs": [
    {
     "ename": "LoadError",
     "evalue": "UndefVarError: image not defined",
     "output_type": "error",
     "traceback": [
      "UndefVarError: image not defined",
      "",
      "Stacktrace:",
      " [1] top-level scope",
      " [2] include_string(::Function, ::Module, ::String, ::String) at ./loading.jl:1091",
      " [3] execute_code(::String, ::String) at /home/admin2/.julia/packages/IJulia/rWZ9e/src/execute_request.jl:27",
      " [4] execute_request(::ZMQ.Socket, ::IJulia.Msg) at /home/admin2/.julia/packages/IJulia/rWZ9e/src/execute_request.jl:86",
      " [5] #invokelatest#1 at ./essentials.jl:710 [inlined]",
      " [6] invokelatest at ./essentials.jl:709 [inlined]",
      " [7] eventloop(::ZMQ.Socket) at /home/admin2/.julia/packages/IJulia/rWZ9e/src/eventloop.jl:8",
      " [8] (::IJulia.var\"#15#18\")() at ./task.jl:356"
     ]
    }
   ],
   "source": []
  },
  {
   "cell_type": "code",
   "execution_count": null,
   "metadata": {},
   "outputs": [],
   "source": [
    "    n = length(state)\n",
    "    n == 0 && return nothing\n",
    "    batchsize = min(d.batchsize, n)\n",
    "    indices, new_state = state[1:batchsize], state[batchsize+1:end]\n",
    "    words, tags = d.words[indices], d.tags[indices]\n",
    "    batchsizes = Int[]"
   ]
  },
  {
   "cell_type": "code",
   "execution_count": null,
   "metadata": {},
   "outputs": [],
   "source": [
    "function minibatch(x, y, bs=256)\n",
    "    data = Any[]\n",
    "    # Your code here\n",
    "    nx = size(x)[end]\n",
    "    for i in 1:bs:nx        \n",
    "        mini_x = x[:,:,i:i+bs-1]\n",
    "        mini_y = y[i:i+bs-1]   \n",
    "        push!(data, (mini_x, mini_y))\n",
    "    end\n",
    "    return data\n",
    "end\n"
   ]
  },
  {
   "cell_type": "code",
   "execution_count": 34,
   "metadata": {},
   "outputs": [
    {
     "data": {
      "text/plain": [
       "3670"
      ]
     },
     "execution_count": 34,
     "metadata": {},
     "output_type": "execute_result"
    }
   ],
   "source": [
    "num_images"
   ]
  },
  {
   "cell_type": "code",
   "execution_count": 38,
   "metadata": {},
   "outputs": [
    {
     "data": {
      "text/plain": [
       "PyObject <PrefetchDataset shapes: {image: (None, None, 3), label: ()}, types: {image: tf.uint8, label: tf.int64}>"
      ]
     },
     "execution_count": 38,
     "metadata": {},
     "output_type": "execute_result"
    }
   ],
   "source": [
    "tfds_dataset"
   ]
  },
  {
   "cell_type": "code",
   "execution_count": 51,
   "metadata": {},
   "outputs": [
    {
     "data": {
      "text/plain": [
       "PyObject <function preprocess_image at 0x7f1d2c58e560>"
      ]
     },
     "execution_count": 51,
     "metadata": {},
     "output_type": "execute_result"
    }
   ],
   "source": [
    "data_util[:preprocess_image]"
   ]
  },
  {
   "cell_type": "code",
   "execution_count": 52,
   "metadata": {},
   "outputs": [
    {
     "ename": "LoadError",
     "evalue": "UndefVarError: x not defined",
     "output_type": "error",
     "traceback": [
      "UndefVarError: x not defined",
      "",
      "Stacktrace:",
      " [1] top-level scope at In[52]:1",
      " [2] include_string(::Function, ::Module, ::String, ::String) at ./loading.jl:1091",
      " [3] execute_code(::String, ::String) at /home/admin2/.julia/packages/IJulia/rWZ9e/src/execute_request.jl:27",
      " [4] execute_request(::ZMQ.Socket, ::IJulia.Msg) at /home/admin2/.julia/packages/IJulia/rWZ9e/src/execute_request.jl:86",
      " [5] #invokelatest#1 at ./essentials.jl:710 [inlined]",
      " [6] invokelatest at ./essentials.jl:709 [inlined]",
      " [7] eventloop(::ZMQ.Socket) at /home/admin2/.julia/packages/IJulia/rWZ9e/src/eventloop.jl:8",
      " [8] (::IJulia.var\"#15#18\")() at ./task.jl:356"
     ]
    }
   ],
   "source": [
    "x[\"image\"] = data_util[:preprocess_image](x[\"image\"], 224,224, is_training=false, color_distort=false)"
   ]
  },
  {
   "cell_type": "code",
   "execution_count": 47,
   "metadata": {},
   "outputs": [
    {
     "ename": "LoadError",
     "evalue": "PyError ($(Expr(:escape, :(ccall(#= /home/admin2/.julia/packages/PyCall/tqyST/src/pyeval.jl:38 =# @pysym(:PyEval_EvalCode), PyPtr, (PyPtr, PyPtr, PyPtr), o, globals, locals))))) <class 'ModuleNotFoundError'>\nModuleNotFoundError(\"No module named 'data_util'\")\n  File \"/home/admin2/.julia/packages/PyCall/tqyST/src/pyeval.jl\", line 1, in <module>\n    const Py_single_input = 256  # from Python.h\n",
     "output_type": "error",
     "traceback": [
      "PyError ($(Expr(:escape, :(ccall(#= /home/admin2/.julia/packages/PyCall/tqyST/src/pyeval.jl:38 =# @pysym(:PyEval_EvalCode), PyPtr, (PyPtr, PyPtr, PyPtr), o, globals, locals))))) <class 'ModuleNotFoundError'>\nModuleNotFoundError(\"No module named 'data_util'\")\n  File \"/home/admin2/.julia/packages/PyCall/tqyST/src/pyeval.jl\", line 1, in <module>\n    const Py_single_input = 256  # from Python.h\n",
      "",
      "Stacktrace:",
      " [1] pyerr_check at /home/admin2/.julia/packages/PyCall/tqyST/src/exception.jl:62 [inlined]",
      " [2] pyerr_check at /home/admin2/.julia/packages/PyCall/tqyST/src/exception.jl:66 [inlined]",
      " [3] _handle_error(::String) at /home/admin2/.julia/packages/PyCall/tqyST/src/exception.jl:83",
      " [4] macro expansion at /home/admin2/.julia/packages/PyCall/tqyST/src/exception.jl:97 [inlined]",
      " [5] #119 at /home/admin2/.julia/packages/PyCall/tqyST/src/pyeval.jl:38 [inlined]",
      " [6] disable_sigint at ./c.jl:446 [inlined]",
      " [7] pyeval_(::String, ::PyDict{String,PyObject,true}, ::PyDict{String,PyObject,true}, ::Int64, ::String) at /home/admin2/.julia/packages/PyCall/tqyST/src/pyeval.jl:37",
      " [8] top-level scope at /home/admin2/.julia/packages/PyCall/tqyST/src/pyeval.jl:230",
      " [9] include_string(::Function, ::Module, ::String, ::String) at ./loading.jl:1091",
      " [10] execute_code(::String, ::String) at /home/admin2/.julia/packages/IJulia/rWZ9e/src/execute_request.jl:27",
      " [11] execute_request(::ZMQ.Socket, ::IJulia.Msg) at /home/admin2/.julia/packages/IJulia/rWZ9e/src/execute_request.jl:86",
      " [12] #invokelatest#1 at ./essentials.jl:710 [inlined]",
      " [13] invokelatest at ./essentials.jl:709 [inlined]",
      " [14] eventloop(::ZMQ.Socket) at /home/admin2/.julia/packages/IJulia/rWZ9e/src/eventloop.jl:8",
      " [15] (::IJulia.var\"#15#18\")() at ./task.jl:356"
     ]
    }
   ],
   "source": [
    "py\"\"\"\n",
    "import data_util\n",
    "def _preprocess(x):\n",
    "  x['image'] = data_util.preprocess_image(\n",
    "      x['image'], 224, 224, is_training=False, color_distort=False)\n",
    "  return x\n",
    "\"\"\"\n",
    "x = tfds_dataset.map(py\"_preprocess\").batch(batch_size)\n",
    "x = tf.data.make_one_shot_iterator(x).get_next()"
   ]
  },
  {
   "cell_type": "code",
   "execution_count": 43,
   "metadata": {},
   "outputs": [
    {
     "ename": "LoadError",
     "evalue": "UndefVarError: x not defined",
     "output_type": "error",
     "traceback": [
      "UndefVarError: x not defined",
      "",
      "Stacktrace:",
      " [1] top-level scope",
      " [2] include_string(::Function, ::Module, ::String, ::String) at ./loading.jl:1091",
      " [3] execute_code(::String, ::String) at /home/admin2/.julia/packages/IJulia/rWZ9e/src/execute_request.jl:27",
      " [4] execute_request(::ZMQ.Socket, ::IJulia.Msg) at /home/admin2/.julia/packages/IJulia/rWZ9e/src/execute_request.jl:86",
      " [5] #invokelatest#1 at ./essentials.jl:710 [inlined]",
      " [6] invokelatest at ./essentials.jl:709 [inlined]",
      " [7] eventloop(::ZMQ.Socket) at /home/admin2/.julia/packages/IJulia/rWZ9e/src/eventloop.jl:8",
      " [8] (::IJulia.var\"#15#18\")() at ./task.jl:356"
     ]
    }
   ],
   "source": [
    "x"
   ]
  },
  {
   "cell_type": "code",
   "execution_count": null,
   "metadata": {},
   "outputs": [],
   "source": [
    "reprocess_image(\n",
    "      x['image'], 224, 224, is_training=False, color_distort=False)"
   ]
  },
  {
   "cell_type": "code",
   "execution_count": null,
   "metadata": {},
   "outputs": [],
   "source": [
    "def _preprocess(x):\n",
    "  x['image'] = preprocess_image(\n",
    "      x['image'], 224, 224, is_training=False, color_distort=False)\n",
    "  return x"
   ]
  }
 ],
 "metadata": {
  "kernelspec": {
   "display_name": "Julia 1.5.2",
   "language": "julia",
   "name": "julia-1.5"
  },
  "language_info": {
   "file_extension": ".jl",
   "mimetype": "application/julia",
   "name": "julia",
   "version": "1.5.2"
  }
 },
 "nbformat": 4,
 "nbformat_minor": 4
}
